{
 "cells": [
  {
   "cell_type": "code",
   "execution_count": 1,
   "metadata": {
    "collapsed": true
   },
   "outputs": [],
   "source": [
    "%matplotlib inline\n",
    "\n",
    "import numpy as np\n",
    "import matplotlib.pyplot as plt"
   ]
  },
  {
   "cell_type": "code",
   "execution_count": 2,
   "metadata": {
    "collapsed": true
   },
   "outputs": [],
   "source": [
    "from ram.analysis.run_manager import RunManagerGCP\n",
    "from ram.analysis.combo_search import CombinationSearch\n",
    "from ram.analysis.statistics import get_stats, rollup_returns"
   ]
  },
  {
   "cell_type": "markdown",
   "metadata": {},
   "source": [
    "### List all Strategies available in Storage"
   ]
  },
  {
   "cell_type": "code",
   "execution_count": 3,
   "metadata": {},
   "outputs": [
    {
     "data": {
      "text/plain": [
       "[u'LongPeadStrategy']"
      ]
     },
     "execution_count": 3,
     "metadata": {},
     "output_type": "execute_result"
    }
   ],
   "source": [
    "RunManagerGCP.get_strategies()"
   ]
  },
  {
   "cell_type": "markdown",
   "metadata": {},
   "source": [
    "### List all Runs for specific Strategy in Storage"
   ]
  },
  {
   "cell_type": "code",
   "execution_count": 4,
   "metadata": {},
   "outputs": [
    {
     "data": {
      "text/html": [
       "<div>\n",
       "<table border=\"1\" class=\"dataframe\">\n",
       "  <thead>\n",
       "    <tr style=\"text-align: right;\">\n",
       "      <th></th>\n",
       "      <th>Run</th>\n",
       "      <th>RunDate</th>\n",
       "      <th>Completed</th>\n",
       "      <th>Description</th>\n",
       "    </tr>\n",
       "  </thead>\n",
       "  <tbody>\n",
       "    <tr>\n",
       "      <th>0</th>\n",
       "      <td>run_0006</td>\n",
       "      <td>2017-08-05</td>\n",
       "      <td>True</td>\n",
       "      <td>Version 57</td>\n",
       "    </tr>\n",
       "    <tr>\n",
       "      <th>1</th>\n",
       "      <td>run_0007</td>\n",
       "      <td>2017-08-05</td>\n",
       "      <td>True</td>\n",
       "      <td>Version 59</td>\n",
       "    </tr>\n",
       "    <tr>\n",
       "      <th>2</th>\n",
       "      <td>run_0013</td>\n",
       "      <td>2017-08-05</td>\n",
       "      <td>True</td>\n",
       "      <td>Version 65</td>\n",
       "    </tr>\n",
       "    <tr>\n",
       "      <th>3</th>\n",
       "      <td>run_0005</td>\n",
       "      <td>2017-08-05</td>\n",
       "      <td>True</td>\n",
       "      <td>Version 56</td>\n",
       "    </tr>\n",
       "    <tr>\n",
       "      <th>4</th>\n",
       "      <td>run_0008</td>\n",
       "      <td>2017-08-05</td>\n",
       "      <td>True</td>\n",
       "      <td>Version 60</td>\n",
       "    </tr>\n",
       "    <tr>\n",
       "      <th>5</th>\n",
       "      <td>run_0009</td>\n",
       "      <td>2017-08-05</td>\n",
       "      <td>True</td>\n",
       "      <td>Version 61</td>\n",
       "    </tr>\n",
       "    <tr>\n",
       "      <th>6</th>\n",
       "      <td>run_0012</td>\n",
       "      <td>2017-08-04</td>\n",
       "      <td>True</td>\n",
       "      <td>Version 64</td>\n",
       "    </tr>\n",
       "    <tr>\n",
       "      <th>7</th>\n",
       "      <td>run_0011</td>\n",
       "      <td>2017-08-05</td>\n",
       "      <td>True</td>\n",
       "      <td>Version 63</td>\n",
       "    </tr>\n",
       "    <tr>\n",
       "      <th>8</th>\n",
       "      <td>run_0010</td>\n",
       "      <td>2017-08-05</td>\n",
       "      <td>True</td>\n",
       "      <td>Version 62</td>\n",
       "    </tr>\n",
       "  </tbody>\n",
       "</table>\n",
       "</div>"
      ],
      "text/plain": [
       "        Run     RunDate Completed Description\n",
       "0  run_0006  2017-08-05      True  Version 57\n",
       "1  run_0007  2017-08-05      True  Version 59\n",
       "2  run_0013  2017-08-05      True  Version 65\n",
       "3  run_0005  2017-08-05      True  Version 56\n",
       "4  run_0008  2017-08-05      True  Version 60\n",
       "5  run_0009  2017-08-05      True  Version 61\n",
       "6  run_0012  2017-08-04      True  Version 64\n",
       "7  run_0011  2017-08-05      True  Version 63\n",
       "8  run_0010  2017-08-05      True  Version 62"
      ]
     },
     "execution_count": 4,
     "metadata": {},
     "output_type": "execute_result"
    }
   ],
   "source": [
    "RunManagerGCP.get_run_names('LongPeadStrategy')"
   ]
  },
  {
   "cell_type": "markdown",
   "metadata": {},
   "source": [
    "## Analysis of a Single Run"
   ]
  },
  {
   "cell_type": "code",
   "execution_count": 5,
   "metadata": {
    "collapsed": true
   },
   "outputs": [],
   "source": [
    "run1 = RunManagerGCP('LongPeadStrategy', 'run_0010', test_periods=6, start_year=2004)"
   ]
  },
  {
   "cell_type": "markdown",
   "metadata": {},
   "source": [
    "### Parameters"
   ]
  },
  {
   "cell_type": "code",
   "execution_count": 6,
   "metadata": {},
   "outputs": [
    {
     "data": {
      "text/html": [
       "<div>\n",
       "<table border=\"1\" class=\"dataframe\">\n",
       "  <thead>\n",
       "    <tr style=\"text-align: right;\">\n",
       "      <th></th>\n",
       "      <th>Param</th>\n",
       "      <th>Val</th>\n",
       "      <th>Count</th>\n",
       "      <th>MeanTotalRet</th>\n",
       "      <th>MeanSharpe</th>\n",
       "      <th>no_stat</th>\n",
       "    </tr>\n",
       "  </thead>\n",
       "  <tbody>\n",
       "    <tr>\n",
       "      <th>0</th>\n",
       "      <td>logistic_spread</td>\n",
       "      <td>0.01</td>\n",
       "      <td>36</td>\n",
       "      <td>0.490801</td>\n",
       "      <td>0.038609</td>\n",
       "      <td>-999.0</td>\n",
       "    </tr>\n",
       "    <tr>\n",
       "      <th>1</th>\n",
       "      <td>logistic_spread</td>\n",
       "      <td>0.1</td>\n",
       "      <td>36</td>\n",
       "      <td>0.490709</td>\n",
       "      <td>0.038605</td>\n",
       "      <td>-999.0</td>\n",
       "    </tr>\n",
       "    <tr>\n",
       "      <th>2</th>\n",
       "      <td>logistic_spread</td>\n",
       "      <td>0.5</td>\n",
       "      <td>36</td>\n",
       "      <td>0.488391</td>\n",
       "      <td>0.038511</td>\n",
       "      <td>-999.0</td>\n",
       "    </tr>\n",
       "    <tr>\n",
       "      <th>3</th>\n",
       "      <td>logistic_spread</td>\n",
       "      <td>1</td>\n",
       "      <td>36</td>\n",
       "      <td>0.481596</td>\n",
       "      <td>0.038231</td>\n",
       "      <td>-999.0</td>\n",
       "    </tr>\n",
       "    <tr>\n",
       "      <th>4</th>\n",
       "      <td>max_features</td>\n",
       "      <td>0.8</td>\n",
       "      <td>48</td>\n",
       "      <td>0.561804</td>\n",
       "      <td>0.044595</td>\n",
       "      <td>-999.0</td>\n",
       "    </tr>\n",
       "    <tr>\n",
       "      <th>5</th>\n",
       "      <td>max_features</td>\n",
       "      <td>log2</td>\n",
       "      <td>48</td>\n",
       "      <td>0.420192</td>\n",
       "      <td>0.033032</td>\n",
       "      <td>-999.0</td>\n",
       "    </tr>\n",
       "    <tr>\n",
       "      <th>6</th>\n",
       "      <td>max_features</td>\n",
       "      <td>sqrt</td>\n",
       "      <td>48</td>\n",
       "      <td>0.481627</td>\n",
       "      <td>0.037840</td>\n",
       "      <td>-999.0</td>\n",
       "    </tr>\n",
       "    <tr>\n",
       "      <th>7</th>\n",
       "      <td>min_samples_leaf</td>\n",
       "      <td>140</td>\n",
       "      <td>72</td>\n",
       "      <td>0.493726</td>\n",
       "      <td>0.039227</td>\n",
       "      <td>-999.0</td>\n",
       "    </tr>\n",
       "    <tr>\n",
       "      <th>8</th>\n",
       "      <td>min_samples_leaf</td>\n",
       "      <td>300</td>\n",
       "      <td>72</td>\n",
       "      <td>0.482022</td>\n",
       "      <td>0.037751</td>\n",
       "      <td>-999.0</td>\n",
       "    </tr>\n",
       "    <tr>\n",
       "      <th>9</th>\n",
       "      <td>n_estimators</td>\n",
       "      <td>160</td>\n",
       "      <td>72</td>\n",
       "      <td>0.500141</td>\n",
       "      <td>0.039246</td>\n",
       "      <td>-999.0</td>\n",
       "    </tr>\n",
       "    <tr>\n",
       "      <th>10</th>\n",
       "      <td>n_estimators</td>\n",
       "      <td>80</td>\n",
       "      <td>72</td>\n",
       "      <td>0.475607</td>\n",
       "      <td>0.037731</td>\n",
       "      <td>-999.0</td>\n",
       "    </tr>\n",
       "    <tr>\n",
       "      <th>11</th>\n",
       "      <td>response_days</td>\n",
       "      <td>[2, 4, 6]</td>\n",
       "      <td>48</td>\n",
       "      <td>0.497082</td>\n",
       "      <td>0.039866</td>\n",
       "      <td>-999.0</td>\n",
       "    </tr>\n",
       "    <tr>\n",
       "      <th>12</th>\n",
       "      <td>response_days</td>\n",
       "      <td>[2]</td>\n",
       "      <td>48</td>\n",
       "      <td>0.486141</td>\n",
       "      <td>0.037920</td>\n",
       "      <td>-999.0</td>\n",
       "    </tr>\n",
       "    <tr>\n",
       "      <th>13</th>\n",
       "      <td>response_days</td>\n",
       "      <td>[6]</td>\n",
       "      <td>48</td>\n",
       "      <td>0.480400</td>\n",
       "      <td>0.037681</td>\n",
       "      <td>-999.0</td>\n",
       "    </tr>\n",
       "    <tr>\n",
       "      <th>14</th>\n",
       "      <td>response_thresh</td>\n",
       "      <td>0.3</td>\n",
       "      <td>144</td>\n",
       "      <td>0.487874</td>\n",
       "      <td>0.038489</td>\n",
       "      <td>-999.0</td>\n",
       "    </tr>\n",
       "    <tr>\n",
       "      <th>15</th>\n",
       "      <td>training_qtrs</td>\n",
       "      <td>-99</td>\n",
       "      <td>144</td>\n",
       "      <td>0.487874</td>\n",
       "      <td>0.038489</td>\n",
       "      <td>-999.0</td>\n",
       "    </tr>\n",
       "  </tbody>\n",
       "</table>\n",
       "</div>"
      ],
      "text/plain": [
       "               Param        Val  Count  MeanTotalRet  MeanSharpe  no_stat\n",
       "0    logistic_spread       0.01     36      0.490801    0.038609   -999.0\n",
       "1    logistic_spread        0.1     36      0.490709    0.038605   -999.0\n",
       "2    logistic_spread        0.5     36      0.488391    0.038511   -999.0\n",
       "3    logistic_spread          1     36      0.481596    0.038231   -999.0\n",
       "4       max_features        0.8     48      0.561804    0.044595   -999.0\n",
       "5       max_features       log2     48      0.420192    0.033032   -999.0\n",
       "6       max_features       sqrt     48      0.481627    0.037840   -999.0\n",
       "7   min_samples_leaf        140     72      0.493726    0.039227   -999.0\n",
       "8   min_samples_leaf        300     72      0.482022    0.037751   -999.0\n",
       "9       n_estimators        160     72      0.500141    0.039246   -999.0\n",
       "10      n_estimators         80     72      0.475607    0.037731   -999.0\n",
       "11     response_days  [2, 4, 6]     48      0.497082    0.039866   -999.0\n",
       "12     response_days        [2]     48      0.486141    0.037920   -999.0\n",
       "13     response_days        [6]     48      0.480400    0.037681   -999.0\n",
       "14   response_thresh        0.3    144      0.487874    0.038489   -999.0\n",
       "15     training_qtrs        -99    144      0.487874    0.038489   -999.0"
      ]
     },
     "execution_count": 6,
     "metadata": {},
     "output_type": "execute_result"
    }
   ],
   "source": [
    "run1.analyze_parameters()"
   ]
  },
  {
   "cell_type": "markdown",
   "metadata": {},
   "source": [
    "### Plot results"
   ]
  },
  {
   "cell_type": "code",
   "execution_count": 7,
   "metadata": {},
   "outputs": [
    {
     "data": {
      "image/png": "[encoded data removed]",
      "text/plain": [
       "<matplotlib.figure.Figure at 0x7f2d1c79cb50>"
      ]
     },
     "metadata": {},
     "output_type": "display_data"
    }
   ],
   "source": [
    "run1.plot_results()"
   ]
  },
  {
   "cell_type": "markdown",
   "metadata": {},
   "source": [
    "### Returns Analysis\n",
    "\n",
    "Note, this uses a basic model selection technique on the back end"
   ]
  },
  {
   "cell_type": "code",
   "execution_count": 8,
   "metadata": {
    "collapsed": true
   },
   "outputs": [],
   "source": [
    "stats, returns = run1.analyze_returns()"
   ]
  },
  {
   "cell_type": "code",
   "execution_count": 9,
   "metadata": {},
   "outputs": [
    {
     "data": {
      "text/html": [
       "<div>\n",
       "<table border=\"1\" class=\"dataframe\">\n",
       "  <thead>\n",
       "    <tr style=\"text-align: right;\">\n",
       "      <th></th>\n",
       "      <th>ReturnOptim</th>\n",
       "      <th>SharpeOptim</th>\n",
       "    </tr>\n",
       "  </thead>\n",
       "  <tbody>\n",
       "    <tr>\n",
       "      <th>Total</th>\n",
       "      <td>0.4896</td>\n",
       "      <td>0.4502</td>\n",
       "    </tr>\n",
       "    <tr>\n",
       "      <th>Mean</th>\n",
       "      <td>0.0002</td>\n",
       "      <td>0.0002</td>\n",
       "    </tr>\n",
       "    <tr>\n",
       "      <th>Std</th>\n",
       "      <td>0.0039</td>\n",
       "      <td>0.0039</td>\n",
       "    </tr>\n",
       "    <tr>\n",
       "      <th>Skew</th>\n",
       "      <td>-0.6111</td>\n",
       "      <td>-0.5032</td>\n",
       "    </tr>\n",
       "    <tr>\n",
       "      <th>Kurt</th>\n",
       "      <td>31.6200</td>\n",
       "      <td>30.5000</td>\n",
       "    </tr>\n",
       "    <tr>\n",
       "      <th>Sharpe</th>\n",
       "      <td>0.6631</td>\n",
       "      <td>0.6190</td>\n",
       "    </tr>\n",
       "    <tr>\n",
       "      <th>Sortino</th>\n",
       "      <td>1.0492</td>\n",
       "      <td>0.9799</td>\n",
       "    </tr>\n",
       "    <tr>\n",
       "      <th>MinRet</th>\n",
       "      <td>-0.0601</td>\n",
       "      <td>-0.0579</td>\n",
       "    </tr>\n",
       "    <tr>\n",
       "      <th>WinP</th>\n",
       "      <td>0.5260</td>\n",
       "      <td>0.5190</td>\n",
       "    </tr>\n",
       "    <tr>\n",
       "      <th>DD%</th>\n",
       "      <td>-0.1868</td>\n",
       "      <td>-0.1727</td>\n",
       "    </tr>\n",
       "    <tr>\n",
       "      <th>DDDays</th>\n",
       "      <td>69.0000</td>\n",
       "      <td>63.0000</td>\n",
       "    </tr>\n",
       "    <tr>\n",
       "      <th>UnderwaterDays</th>\n",
       "      <td>846.0000</td>\n",
       "      <td>807.0000</td>\n",
       "    </tr>\n",
       "    <tr>\n",
       "      <th>Underwater%</th>\n",
       "      <td>-0.0923</td>\n",
       "      <td>-0.0972</td>\n",
       "    </tr>\n",
       "    <tr>\n",
       "      <th>TimeAtHighs</th>\n",
       "      <td>0.0560</td>\n",
       "      <td>0.0560</td>\n",
       "    </tr>\n",
       "    <tr>\n",
       "      <th>VaR_5perc</th>\n",
       "      <td>-0.0049</td>\n",
       "      <td>-0.0048</td>\n",
       "    </tr>\n",
       "    <tr>\n",
       "      <th>CVaR_5perc</th>\n",
       "      <td>-0.0089</td>\n",
       "      <td>-0.0088</td>\n",
       "    </tr>\n",
       "    <tr>\n",
       "      <th>LPM_2</th>\n",
       "      <td>0.0074</td>\n",
       "      <td>0.0072</td>\n",
       "    </tr>\n",
       "  </tbody>\n",
       "</table>\n",
       "</div>"
      ],
      "text/plain": [
       "                ReturnOptim  SharpeOptim\n",
       "Total                0.4896       0.4502\n",
       "Mean                 0.0002       0.0002\n",
       "Std                  0.0039       0.0039\n",
       "Skew                -0.6111      -0.5032\n",
       "Kurt                31.6200      30.5000\n",
       "Sharpe               0.6631       0.6190\n",
       "Sortino              1.0492       0.9799\n",
       "MinRet              -0.0601      -0.0579\n",
       "WinP                 0.5260       0.5190\n",
       "DD%                 -0.1868      -0.1727\n",
       "DDDays              69.0000      63.0000\n",
       "UnderwaterDays     846.0000     807.0000\n",
       "Underwater%         -0.0923      -0.0972\n",
       "TimeAtHighs          0.0560       0.0560\n",
       "VaR_5perc           -0.0049      -0.0048\n",
       "CVaR_5perc          -0.0089      -0.0088\n",
       "LPM_2                0.0074       0.0072"
      ]
     },
     "execution_count": 9,
     "metadata": {},
     "output_type": "execute_result"
    }
   ],
   "source": [
    "stats"
   ]
  },
  {
   "cell_type": "code",
   "execution_count": 10,
   "metadata": {},
   "outputs": [
    {
     "data": {
      "text/html": [
       "<div>\n",
       "<table border=\"1\" class=\"dataframe\">\n",
       "  <thead>\n",
       "    <tr style=\"text-align: right;\">\n",
       "      <th>qtr</th>\n",
       "      <th>1</th>\n",
       "      <th>2</th>\n",
       "      <th>3</th>\n",
       "      <th>4</th>\n",
       "    </tr>\n",
       "    <tr>\n",
       "      <th>year</th>\n",
       "      <th></th>\n",
       "      <th></th>\n",
       "      <th></th>\n",
       "      <th></th>\n",
       "    </tr>\n",
       "  </thead>\n",
       "  <tbody>\n",
       "    <tr>\n",
       "      <th>2004</th>\n",
       "      <td>NaN</td>\n",
       "      <td>-0.009792</td>\n",
       "      <td>-0.015958</td>\n",
       "      <td>0.029188</td>\n",
       "    </tr>\n",
       "    <tr>\n",
       "      <th>2005</th>\n",
       "      <td>-0.076735</td>\n",
       "      <td>0.002848</td>\n",
       "      <td>-0.005328</td>\n",
       "      <td>0.018115</td>\n",
       "    </tr>\n",
       "    <tr>\n",
       "      <th>2006</th>\n",
       "      <td>0.011566</td>\n",
       "      <td>0.007966</td>\n",
       "      <td>0.018964</td>\n",
       "      <td>0.012800</td>\n",
       "    </tr>\n",
       "    <tr>\n",
       "      <th>2007</th>\n",
       "      <td>-0.004484</td>\n",
       "      <td>0.005378</td>\n",
       "      <td>-0.002613</td>\n",
       "      <td>0.032005</td>\n",
       "    </tr>\n",
       "    <tr>\n",
       "      <th>2008</th>\n",
       "      <td>-0.004195</td>\n",
       "      <td>0.132438</td>\n",
       "      <td>-0.045087</td>\n",
       "      <td>0.166007</td>\n",
       "    </tr>\n",
       "    <tr>\n",
       "      <th>2009</th>\n",
       "      <td>0.076539</td>\n",
       "      <td>0.013115</td>\n",
       "      <td>-0.016966</td>\n",
       "      <td>0.022533</td>\n",
       "    </tr>\n",
       "    <tr>\n",
       "      <th>2010</th>\n",
       "      <td>-0.024400</td>\n",
       "      <td>0.046183</td>\n",
       "      <td>0.030452</td>\n",
       "      <td>-0.015350</td>\n",
       "    </tr>\n",
       "    <tr>\n",
       "      <th>2011</th>\n",
       "      <td>0.004776</td>\n",
       "      <td>0.008803</td>\n",
       "      <td>0.046183</td>\n",
       "      <td>0.034427</td>\n",
       "    </tr>\n",
       "    <tr>\n",
       "      <th>2012</th>\n",
       "      <td>0.012060</td>\n",
       "      <td>-0.000683</td>\n",
       "      <td>0.018813</td>\n",
       "      <td>-0.004346</td>\n",
       "    </tr>\n",
       "    <tr>\n",
       "      <th>2013</th>\n",
       "      <td>-0.011803</td>\n",
       "      <td>-0.024591</td>\n",
       "      <td>0.006432</td>\n",
       "      <td>0.001211</td>\n",
       "    </tr>\n",
       "    <tr>\n",
       "      <th>2014</th>\n",
       "      <td>-0.021672</td>\n",
       "      <td>0.021059</td>\n",
       "      <td>-0.002303</td>\n",
       "      <td>-0.009598</td>\n",
       "    </tr>\n",
       "    <tr>\n",
       "      <th>2015</th>\n",
       "      <td>0.024873</td>\n",
       "      <td>-0.035969</td>\n",
       "      <td>-0.010783</td>\n",
       "      <td>0.014165</td>\n",
       "    </tr>\n",
       "    <tr>\n",
       "      <th>2016</th>\n",
       "      <td>0.013331</td>\n",
       "      <td>NaN</td>\n",
       "      <td>NaN</td>\n",
       "      <td>NaN</td>\n",
       "    </tr>\n",
       "  </tbody>\n",
       "</table>\n",
       "</div>"
      ],
      "text/plain": [
       "qtr          1         2         3         4\n",
       "year                                        \n",
       "2004       NaN -0.009792 -0.015958  0.029188\n",
       "2005 -0.076735  0.002848 -0.005328  0.018115\n",
       "2006  0.011566  0.007966  0.018964  0.012800\n",
       "2007 -0.004484  0.005378 -0.002613  0.032005\n",
       "2008 -0.004195  0.132438 -0.045087  0.166007\n",
       "2009  0.076539  0.013115 -0.016966  0.022533\n",
       "2010 -0.024400  0.046183  0.030452 -0.015350\n",
       "2011  0.004776  0.008803  0.046183  0.034427\n",
       "2012  0.012060 -0.000683  0.018813 -0.004346\n",
       "2013 -0.011803 -0.024591  0.006432  0.001211\n",
       "2014 -0.021672  0.021059 -0.002303 -0.009598\n",
       "2015  0.024873 -0.035969 -0.010783  0.014165\n",
       "2016  0.013331       NaN       NaN       NaN"
      ]
     },
     "execution_count": 10,
     "metadata": {},
     "output_type": "execute_result"
    }
   ],
   "source": [
    "returns"
   ]
  },
  {
   "cell_type": "markdown",
   "metadata": {
    "collapsed": true
   },
   "source": [
    "## Combinations"
   ]
  },
  {
   "cell_type": "code",
   "execution_count": 11,
   "metadata": {},
   "outputs": [
    {
     "data": {
      "text/html": [
       "<div>\n",
       "<table border=\"1\" class=\"dataframe\">\n",
       "  <thead>\n",
       "    <tr style=\"text-align: right;\">\n",
       "      <th></th>\n",
       "      <th>Run</th>\n",
       "      <th>RunDate</th>\n",
       "      <th>Completed</th>\n",
       "      <th>Description</th>\n",
       "    </tr>\n",
       "  </thead>\n",
       "  <tbody>\n",
       "    <tr>\n",
       "      <th>0</th>\n",
       "      <td>run_0006</td>\n",
       "      <td>2017-08-05</td>\n",
       "      <td>True</td>\n",
       "      <td>Version 57</td>\n",
       "    </tr>\n",
       "    <tr>\n",
       "      <th>1</th>\n",
       "      <td>run_0007</td>\n",
       "      <td>2017-08-05</td>\n",
       "      <td>True</td>\n",
       "      <td>Version 59</td>\n",
       "    </tr>\n",
       "    <tr>\n",
       "      <th>2</th>\n",
       "      <td>run_0013</td>\n",
       "      <td>2017-08-05</td>\n",
       "      <td>True</td>\n",
       "      <td>Version 65</td>\n",
       "    </tr>\n",
       "    <tr>\n",
       "      <th>3</th>\n",
       "      <td>run_0005</td>\n",
       "      <td>2017-08-05</td>\n",
       "      <td>True</td>\n",
       "      <td>Version 56</td>\n",
       "    </tr>\n",
       "    <tr>\n",
       "      <th>4</th>\n",
       "      <td>run_0008</td>\n",
       "      <td>2017-08-05</td>\n",
       "      <td>True</td>\n",
       "      <td>Version 60</td>\n",
       "    </tr>\n",
       "    <tr>\n",
       "      <th>5</th>\n",
       "      <td>run_0009</td>\n",
       "      <td>2017-08-05</td>\n",
       "      <td>True</td>\n",
       "      <td>Version 61</td>\n",
       "    </tr>\n",
       "    <tr>\n",
       "      <th>6</th>\n",
       "      <td>run_0012</td>\n",
       "      <td>2017-08-04</td>\n",
       "      <td>True</td>\n",
       "      <td>Version 64</td>\n",
       "    </tr>\n",
       "    <tr>\n",
       "      <th>7</th>\n",
       "      <td>run_0011</td>\n",
       "      <td>2017-08-05</td>\n",
       "      <td>True</td>\n",
       "      <td>Version 63</td>\n",
       "    </tr>\n",
       "    <tr>\n",
       "      <th>8</th>\n",
       "      <td>run_0010</td>\n",
       "      <td>2017-08-05</td>\n",
       "      <td>True</td>\n",
       "      <td>Version 62</td>\n",
       "    </tr>\n",
       "  </tbody>\n",
       "</table>\n",
       "</div>"
      ],
      "text/plain": [
       "        Run     RunDate Completed Description\n",
       "0  run_0006  2017-08-05      True  Version 57\n",
       "1  run_0007  2017-08-05      True  Version 59\n",
       "2  run_0013  2017-08-05      True  Version 65\n",
       "3  run_0005  2017-08-05      True  Version 56\n",
       "4  run_0008  2017-08-05      True  Version 60\n",
       "5  run_0009  2017-08-05      True  Version 61\n",
       "6  run_0012  2017-08-04      True  Version 64\n",
       "7  run_0011  2017-08-05      True  Version 63\n",
       "8  run_0010  2017-08-05      True  Version 62"
      ]
     },
     "execution_count": 11,
     "metadata": {},
     "output_type": "execute_result"
    }
   ],
   "source": [
    "RunManagerGCP.get_run_names('LongPeadStrategy')"
   ]
  },
  {
   "cell_type": "code",
   "execution_count": 12,
   "metadata": {},
   "outputs": [
    {
     "name": "stderr",
     "output_type": "stream",
     "text": [
      "  0%|          | 0/20 [00:00<?, ?it/s]/usr/local/lib/python2.7/dist-packages/ram/analysis/combo_search.py:69: RuntimeWarning: divide by zero encountered in divide\n",
      "  return np.mean(ports, axis=1) / np.std(ports, axis=1)\n",
      "100%|██████████| 20/20 [05:04<00:00, 15.39s/it]\n"
     ]
    }
   ],
   "source": [
    "# These runs are not correctly labelled\n",
    "runs = {\n",
    "    'run_0006': 'Sector50',\n",
    "    'run_0007': 'Sector45',\n",
    "    'run_0008': 'Sector30',\n",
    "    'run_0009': 'Sector10',\n",
    "    'run_0010': 'Sector35',\n",
    "    'run_0011': 'Sector40',\n",
    "    'run_0012': 'Sector25',\n",
    "    'run_0013': 'Sector15'\n",
    "}\n",
    "\n",
    "comb = CombinationSearch()\n",
    "\n",
    "for run, sector in runs.iteritems():\n",
    "    comb.add_run(RunManagerGCP('LongPeadStrategy', run, start_year=2004,\n",
    "                               test_periods=6))\n",
    "\n",
    "comb.start(20, criteria='sharpe')"
   ]
  },
  {
   "cell_type": "code",
   "execution_count": 13,
   "metadata": {},
   "outputs": [
    {
     "ename": "AssertionError",
     "evalue": "",
     "output_type": "error",
     "traceback": [
      "\u001b[0;31m---------------------------------------------------------------------------\u001b[0m",
      "\u001b[0;31mAssertionError\u001b[0m                            Traceback (most recent call last)",
      "\u001b[0;32m<ipython-input-13-7c88ba45dfad>\u001b[0m in \u001b[0;36m<module>\u001b[0;34m()\u001b[0m\n\u001b[0;32m----> 1\u001b[0;31m \u001b[0mget_stats\u001b[0m\u001b[0;34m(\u001b[0m\u001b[0mcomb\u001b[0m\u001b[0;34m.\u001b[0m\u001b[0mbest_results_rets\u001b[0m\u001b[0;34m)\u001b[0m\u001b[0;34m\u001b[0m\u001b[0m\n\u001b[0m",
      "\u001b[0;32m/usr/local/lib/python2.7/dist-packages/ram/analysis/statistics.pyc\u001b[0m in \u001b[0;36mget_stats\u001b[0;34m(results)\u001b[0m\n\u001b[1;32m     16\u001b[0m     \u001b[0;31m# Check input!\u001b[0m\u001b[0;34m\u001b[0m\u001b[0;34m\u001b[0m\u001b[0m\n\u001b[1;32m     17\u001b[0m     \u001b[0;32massert\u001b[0m \u001b[0misinstance\u001b[0m\u001b[0;34m(\u001b[0m\u001b[0mresults\u001b[0m\u001b[0;34m,\u001b[0m \u001b[0mpd\u001b[0m\u001b[0;34m.\u001b[0m\u001b[0mDataFrame\u001b[0m\u001b[0;34m)\u001b[0m\u001b[0;34m\u001b[0m\u001b[0m\n\u001b[0;32m---> 18\u001b[0;31m     \u001b[0;32massert\u001b[0m \u001b[0mresults\u001b[0m\u001b[0;34m.\u001b[0m\u001b[0misnull\u001b[0m\u001b[0;34m(\u001b[0m\u001b[0;34m)\u001b[0m\u001b[0;34m.\u001b[0m\u001b[0msum\u001b[0m\u001b[0;34m(\u001b[0m\u001b[0;34m)\u001b[0m\u001b[0;34m.\u001b[0m\u001b[0msum\u001b[0m\u001b[0;34m(\u001b[0m\u001b[0;34m)\u001b[0m \u001b[0;34m==\u001b[0m \u001b[0;36m0\u001b[0m\u001b[0;34m\u001b[0m\u001b[0m\n\u001b[0m\u001b[1;32m     19\u001b[0m     \u001b[0;32mif\u001b[0m \u001b[0misinstance\u001b[0m\u001b[0;34m(\u001b[0m\u001b[0mresults\u001b[0m\u001b[0;34m.\u001b[0m\u001b[0mindex\u001b[0m\u001b[0;34m[\u001b[0m\u001b[0;36m0\u001b[0m\u001b[0;34m]\u001b[0m\u001b[0;34m,\u001b[0m \u001b[0mdt\u001b[0m\u001b[0;34m.\u001b[0m\u001b[0mdate\u001b[0m\u001b[0;34m)\u001b[0m\u001b[0;34m:\u001b[0m\u001b[0;34m\u001b[0m\u001b[0m\n\u001b[1;32m     20\u001b[0m         \u001b[0mresults\u001b[0m\u001b[0;34m.\u001b[0m\u001b[0mindex\u001b[0m \u001b[0;34m=\u001b[0m \u001b[0mpd\u001b[0m\u001b[0;34m.\u001b[0m\u001b[0mto_datetime\u001b[0m\u001b[0;34m(\u001b[0m\u001b[0mresults\u001b[0m\u001b[0;34m.\u001b[0m\u001b[0mindex\u001b[0m\u001b[0;34m)\u001b[0m\u001b[0;34m\u001b[0m\u001b[0m\n",
      "\u001b[0;31mAssertionError\u001b[0m: "
     ]
    }
   ],
   "source": [
    "get_stats(comb.best_results_rets)"
   ]
  },
  {
   "cell_type": "code",
   "execution_count": 14,
   "metadata": {},
   "outputs": [
    {
     "data": {
      "text/plain": [
       "Year\n",
       "2004         NaN\n",
       "2005    0.088792\n",
       "2006    0.103179\n",
       "2007    0.066998\n",
       "2008    0.125690\n",
       "2009    0.067726\n",
       "2010    0.033047\n",
       "2011    0.046198\n",
       "2012    0.040165\n",
       "2013    0.040385\n",
       "2014   -0.016393\n",
       "2015    0.040858\n",
       "2016    0.010809\n",
       "dtype: float64"
      ]
     },
     "execution_count": 14,
     "metadata": {},
     "output_type": "execute_result"
    }
   ],
   "source": [
    "rollup_returns(comb.best_results_rets, 0).sum(axis=1)"
   ]
  },
  {
   "cell_type": "code",
   "execution_count": 15,
   "metadata": {},
   "outputs": [
    {
     "data": {
      "image/png": "[encoded data removed]",
      "text/plain": [
       "<matplotlib.figure.Figure at 0x7f2d1d004210>"
      ]
     },
     "metadata": {},
     "output_type": "display_data"
    }
   ],
   "source": [
    "plt.figure()\n",
    "plt.plot(comb.best_results_rets.cumsum())\n",
    "plt.show()"
   ]
  },
  {
   "cell_type": "code",
   "execution_count": null,
   "metadata": {
    "collapsed": true
   },
   "outputs": [],
   "source": []
  }
 ],
 "metadata": {
  "kernelspec": {
   "display_name": "Python 2",
   "language": "python",
   "name": "python2"
  },
  "language_info": {
   "codemirror_mode": {
    "name": "ipython",
    "version": 2
   },
   "file_extension": ".py",
   "mimetype": "text/x-python",
   "name": "python",
   "nbconvert_exporter": "python",
   "pygments_lexer": "ipython2",
   "version": "2.7.13"
  }
 },
 "nbformat": 4,
 "nbformat_minor": 2
}
