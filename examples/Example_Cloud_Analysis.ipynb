{
 "cells": [
  {
   "cell_type": "code",
   "execution_count": 1,
   "metadata": {
    "collapsed": true
   },
   "outputs": [],
   "source": [
    "%matplotlib inline\n",
    "\n",
    "import numpy as np\n",
    "import pandas as pd\n",
    "import datetime as dt\n",
    "import matplotlib.pyplot as plt"
   ]
  },
  {
   "cell_type": "code",
   "execution_count": 2,
   "metadata": {},
   "outputs": [
    {
     "name": "stderr",
     "output_type": "stream",
     "text": [
      "/usr/local/lib/python2.7/dist-packages/matplotlib/__init__.py:1405: UserWarning: \n",
      "This call to matplotlib.use() has no effect because the backend has already\n",
      "been chosen; matplotlib.use() must be called *before* pylab, matplotlib.pyplot,\n",
      "or matplotlib.backends is imported for the first time.\n",
      "\n",
      "  warnings.warn(_use_error_msg)\n"
     ]
    }
   ],
   "source": [
    "from ram.analysis.run_manager import RunManagerGCP, make_correlation_heatmap\n",
    "from ram.analysis.combo_search import CombinationSearch\n",
    "from ram.analysis.statistics import get_stats, rollup_returns"
   ]
  },
  {
   "cell_type": "markdown",
   "metadata": {},
   "source": [
    "### List all Strategies available in Storage"
   ]
  },
  {
   "cell_type": "code",
   "execution_count": 3,
   "metadata": {},
   "outputs": [
    {
     "data": {
      "text/plain": [
       "[u'StatArbStrategy2', u'StatArbStrategy', u'LongPeadStrategy']"
      ]
     },
     "execution_count": 3,
     "metadata": {},
     "output_type": "execute_result"
    }
   ],
   "source": [
    "RunManagerGCP.get_strategies()"
   ]
  },
  {
   "cell_type": "markdown",
   "metadata": {},
   "source": [
    "### List all Runs for specific Strategy in Storage"
   ]
  },
  {
   "cell_type": "code",
   "execution_count": 4,
   "metadata": {},
   "outputs": [
    {
     "data": {
      "text/html": [
       "<div>\n",
       "<table border=\"1\" class=\"dataframe\">\n",
       "  <thead>\n",
       "    <tr style=\"text-align: right;\">\n",
       "      <th></th>\n",
       "      <th>Run</th>\n",
       "      <th>RunDate</th>\n",
       "      <th>Completed</th>\n",
       "      <th>Description</th>\n",
       "      <th>Starred</th>\n",
       "    </tr>\n",
       "  </thead>\n",
       "  <tbody>\n",
       "    <tr>\n",
       "      <th>0</th>\n",
       "      <td>run_0001</td>\n",
       "      <td>2018-02-15</td>\n",
       "      <td>True</td>\n",
       "      <td>Smart factor, sector 20</td>\n",
       "      <td></td>\n",
       "    </tr>\n",
       "    <tr>\n",
       "      <th>1</th>\n",
       "      <td>run_0002</td>\n",
       "      <td>2018-02-15</td>\n",
       "      <td>True</td>\n",
       "      <td>Smart factor, all sectors</td>\n",
       "      <td></td>\n",
       "    </tr>\n",
       "    <tr>\n",
       "      <th>2</th>\n",
       "      <td>run_0003</td>\n",
       "      <td>2018-02-22</td>\n",
       "      <td>True</td>\n",
       "      <td>New run with smart factor, sector 20</td>\n",
       "      <td></td>\n",
       "    </tr>\n",
       "    <tr>\n",
       "      <th>3</th>\n",
       "      <td>run_0004</td>\n",
       "      <td>2018-02-20</td>\n",
       "      <td>False</td>\n",
       "      <td>New run with smart factor, sector 25</td>\n",
       "      <td></td>\n",
       "    </tr>\n",
       "    <tr>\n",
       "      <th>4</th>\n",
       "      <td>run_0005</td>\n",
       "      <td>2018-02-20</td>\n",
       "      <td>False</td>\n",
       "      <td>New run with smart factor, sector 45</td>\n",
       "      <td></td>\n",
       "    </tr>\n",
       "    <tr>\n",
       "      <th>5</th>\n",
       "      <td>run_0007</td>\n",
       "      <td>2018-02-23</td>\n",
       "      <td>True</td>\n",
       "      <td>Sector 20, new params, more features for sort</td>\n",
       "      <td></td>\n",
       "    </tr>\n",
       "    <tr>\n",
       "      <th>6</th>\n",
       "      <td>run_0009</td>\n",
       "      <td>2018-02-24</td>\n",
       "      <td>True</td>\n",
       "      <td>Bayes, Sector 20</td>\n",
       "      <td></td>\n",
       "    </tr>\n",
       "    <tr>\n",
       "      <th>7</th>\n",
       "      <td>run_0012</td>\n",
       "      <td>2018-02-27</td>\n",
       "      <td>False</td>\n",
       "      <td>Sector20, mult</td>\n",
       "      <td></td>\n",
       "    </tr>\n",
       "  </tbody>\n",
       "</table>\n",
       "</div>"
      ],
      "text/plain": [
       "        Run     RunDate Completed  \\\n",
       "0  run_0001  2018-02-15      True   \n",
       "1  run_0002  2018-02-15      True   \n",
       "2  run_0003  2018-02-22      True   \n",
       "3  run_0004  2018-02-20     False   \n",
       "4  run_0005  2018-02-20     False   \n",
       "5  run_0007  2018-02-23      True   \n",
       "6  run_0009  2018-02-24      True   \n",
       "7  run_0012  2018-02-27     False   \n",
       "\n",
       "                                     Description Starred  \n",
       "0                        Smart factor, sector 20          \n",
       "1                      Smart factor, all sectors          \n",
       "2           New run with smart factor, sector 20          \n",
       "3           New run with smart factor, sector 25          \n",
       "4           New run with smart factor, sector 45          \n",
       "5  Sector 20, new params, more features for sort          \n",
       "6                               Bayes, Sector 20          \n",
       "7                                 Sector20, mult          "
      ]
     },
     "execution_count": 4,
     "metadata": {},
     "output_type": "execute_result"
    }
   ],
   "source": [
    "RunManagerGCP.get_run_names('StatArbStrategy2')"
   ]
  },
  {
   "cell_type": "code",
   "execution_count": 5,
   "metadata": {
    "collapsed": true
   },
   "outputs": [],
   "source": [
    "run1 = RunManagerGCP('StatArbStrategy2', 'run_0012', test_periods=0)"
   ]
  },
  {
   "cell_type": "code",
   "execution_count": 6,
   "metadata": {},
   "outputs": [
    {
     "name": "stderr",
     "output_type": "stream",
     "text": [
      "\r",
      "  0%|          | 0/1 [00:00<?, ?it/s]"
     ]
    },
    {
     "name": "stdout",
     "output_type": "stream",
     "text": [
      "Reading and aggregating runs...\n"
     ]
    },
    {
     "name": "stderr",
     "output_type": "stream",
     "text": [
      "100%|██████████| 1/1 [00:44<00:00, 44.96s/it]\n"
     ]
    },
    {
     "name": "stdout",
     "output_type": "stream",
     "text": [
      "Finished aggregating runs...\n"
     ]
    },
    {
     "name": "stderr",
     "output_type": "stream",
     "text": [
      "100%|██████████| 10/10 [01:40<00:00,  9.96s/it]\n"
     ]
    }
   ],
   "source": [
    "comb1 = CombinationSearch(write_flag=True)\n",
    "comb1.add_run(run1)\n",
    "comb1.start(10, 'mean')"
   ]
  },
  {
   "cell_type": "code",
   "execution_count": 7,
   "metadata": {},
   "outputs": [
    {
     "data": {
      "image/png": "[encoded data removed]",
      "text/plain": [
       "<matplotlib.figure.Figure at 0x7f6cf5c80e10>"
      ]
     },
     "metadata": {},
     "output_type": "display_data"
    }
   ],
   "source": [
    "plt.figure()\n",
    "plt.plot(comb1.best_results_rets.dropna().cumsum())\n",
    "plt.show()"
   ]
  },
  {
   "cell_type": "code",
   "execution_count": 8,
   "metadata": {},
   "outputs": [
    {
     "data": {
      "text/html": [
       "<div>\n",
       "<table border=\"1\" class=\"dataframe\">\n",
       "  <thead>\n",
       "    <tr style=\"text-align: right;\">\n",
       "      <th></th>\n",
       "      <th>Param</th>\n",
       "      <th>Val</th>\n",
       "      <th>Count</th>\n",
       "      <th>MeanTotalRet</th>\n",
       "      <th>MeanSharpe</th>\n",
       "      <th>no_stat</th>\n",
       "    </tr>\n",
       "  </thead>\n",
       "  <tbody>\n",
       "    <tr>\n",
       "      <th>0</th>\n",
       "      <td>holding_period</td>\n",
       "      <td>3</td>\n",
       "      <td>378</td>\n",
       "      <td>0.667858</td>\n",
       "      <td>0.052023</td>\n",
       "      <td>-999.0</td>\n",
       "    </tr>\n",
       "    <tr>\n",
       "      <th>1</th>\n",
       "      <td>holding_period</td>\n",
       "      <td>5</td>\n",
       "      <td>378</td>\n",
       "      <td>0.669198</td>\n",
       "      <td>0.056120</td>\n",
       "      <td>-999.0</td>\n",
       "    </tr>\n",
       "    <tr>\n",
       "      <th>2</th>\n",
       "      <td>holding_period</td>\n",
       "      <td>7</td>\n",
       "      <td>378</td>\n",
       "      <td>0.600380</td>\n",
       "      <td>0.055286</td>\n",
       "      <td>-999.0</td>\n",
       "    </tr>\n",
       "    <tr>\n",
       "      <th>3</th>\n",
       "      <td>holding_period</td>\n",
       "      <td>9</td>\n",
       "      <td>378</td>\n",
       "      <td>0.534446</td>\n",
       "      <td>0.052257</td>\n",
       "      <td>-999.0</td>\n",
       "    </tr>\n",
       "    <tr>\n",
       "      <th>4</th>\n",
       "      <td>model</td>\n",
       "      <td>{u'max_features': 0.5, u'type': u'tree', u'min...</td>\n",
       "      <td>504</td>\n",
       "      <td>0.658084</td>\n",
       "      <td>0.058381</td>\n",
       "      <td>-999.0</td>\n",
       "    </tr>\n",
       "    <tr>\n",
       "      <th>5</th>\n",
       "      <td>model</td>\n",
       "      <td>{u'max_features': 0.8, u'type': u'tree', u'min...</td>\n",
       "      <td>504</td>\n",
       "      <td>0.669449</td>\n",
       "      <td>0.059415</td>\n",
       "      <td>-999.0</td>\n",
       "    </tr>\n",
       "    <tr>\n",
       "      <th>6</th>\n",
       "      <td>model</td>\n",
       "      <td>{u'type': u'reg'}</td>\n",
       "      <td>504</td>\n",
       "      <td>0.526377</td>\n",
       "      <td>0.043968</td>\n",
       "      <td>-999.0</td>\n",
       "    </tr>\n",
       "    <tr>\n",
       "      <th>7</th>\n",
       "      <td>mult_vals</td>\n",
       "      <td>False</td>\n",
       "      <td>504</td>\n",
       "      <td>0.678318</td>\n",
       "      <td>0.062748</td>\n",
       "      <td>-999.0</td>\n",
       "    </tr>\n",
       "    <tr>\n",
       "      <th>8</th>\n",
       "      <td>mult_vals</td>\n",
       "      <td>[0.002, -0.001]</td>\n",
       "      <td>504</td>\n",
       "      <td>0.599668</td>\n",
       "      <td>0.050092</td>\n",
       "      <td>-999.0</td>\n",
       "    </tr>\n",
       "    <tr>\n",
       "      <th>9</th>\n",
       "      <td>mult_vals</td>\n",
       "      <td>[0.002, 0]</td>\n",
       "      <td>504</td>\n",
       "      <td>0.575925</td>\n",
       "      <td>0.048924</td>\n",
       "      <td>-999.0</td>\n",
       "    </tr>\n",
       "    <tr>\n",
       "      <th>10</th>\n",
       "      <td>per_side_count</td>\n",
       "      <td>10</td>\n",
       "      <td>504</td>\n",
       "      <td>0.702167</td>\n",
       "      <td>0.050842</td>\n",
       "      <td>-999.0</td>\n",
       "    </tr>\n",
       "    <tr>\n",
       "      <th>11</th>\n",
       "      <td>per_side_count</td>\n",
       "      <td>20</td>\n",
       "      <td>504</td>\n",
       "      <td>0.606281</td>\n",
       "      <td>0.054631</td>\n",
       "      <td>-999.0</td>\n",
       "    </tr>\n",
       "    <tr>\n",
       "      <th>12</th>\n",
       "      <td>per_side_count</td>\n",
       "      <td>30</td>\n",
       "      <td>504</td>\n",
       "      <td>0.545463</td>\n",
       "      <td>0.056291</td>\n",
       "      <td>-999.0</td>\n",
       "    </tr>\n",
       "    <tr>\n",
       "      <th>13</th>\n",
       "      <td>response_days</td>\n",
       "      <td>10</td>\n",
       "      <td>756</td>\n",
       "      <td>0.632884</td>\n",
       "      <td>0.055335</td>\n",
       "      <td>-999.0</td>\n",
       "    </tr>\n",
       "    <tr>\n",
       "      <th>14</th>\n",
       "      <td>response_days</td>\n",
       "      <td>5</td>\n",
       "      <td>756</td>\n",
       "      <td>0.603056</td>\n",
       "      <td>0.052507</td>\n",
       "      <td>-999.0</td>\n",
       "    </tr>\n",
       "    <tr>\n",
       "      <th>15</th>\n",
       "      <td>response_type</td>\n",
       "      <td>Simple</td>\n",
       "      <td>1512</td>\n",
       "      <td>0.617970</td>\n",
       "      <td>0.053921</td>\n",
       "      <td>-999.0</td>\n",
       "    </tr>\n",
       "    <tr>\n",
       "      <th>16</th>\n",
       "      <td>score_var</td>\n",
       "      <td>boll_10</td>\n",
       "      <td>216</td>\n",
       "      <td>0.510190</td>\n",
       "      <td>0.063139</td>\n",
       "      <td>-999.0</td>\n",
       "    </tr>\n",
       "    <tr>\n",
       "      <th>17</th>\n",
       "      <td>score_var</td>\n",
       "      <td>boll_20</td>\n",
       "      <td>216</td>\n",
       "      <td>0.650292</td>\n",
       "      <td>0.071378</td>\n",
       "      <td>-999.0</td>\n",
       "    </tr>\n",
       "    <tr>\n",
       "      <th>18</th>\n",
       "      <td>score_var</td>\n",
       "      <td>prma_10</td>\n",
       "      <td>216</td>\n",
       "      <td>0.630764</td>\n",
       "      <td>0.048503</td>\n",
       "      <td>-999.0</td>\n",
       "    </tr>\n",
       "    <tr>\n",
       "      <th>19</th>\n",
       "      <td>score_var</td>\n",
       "      <td>prma_15</td>\n",
       "      <td>216</td>\n",
       "      <td>0.707495</td>\n",
       "      <td>0.050401</td>\n",
       "      <td>-999.0</td>\n",
       "    </tr>\n",
       "    <tr>\n",
       "      <th>20</th>\n",
       "      <td>score_var</td>\n",
       "      <td>prma_20</td>\n",
       "      <td>216</td>\n",
       "      <td>0.716478</td>\n",
       "      <td>0.048542</td>\n",
       "      <td>-999.0</td>\n",
       "    </tr>\n",
       "    <tr>\n",
       "      <th>21</th>\n",
       "      <td>score_var</td>\n",
       "      <td>ret_10d</td>\n",
       "      <td>216</td>\n",
       "      <td>0.610594</td>\n",
       "      <td>0.044430</td>\n",
       "      <td>-999.0</td>\n",
       "    </tr>\n",
       "    <tr>\n",
       "      <th>22</th>\n",
       "      <td>score_var</td>\n",
       "      <td>rsi_15</td>\n",
       "      <td>216</td>\n",
       "      <td>0.499979</td>\n",
       "      <td>0.051055</td>\n",
       "      <td>-999.0</td>\n",
       "    </tr>\n",
       "  </tbody>\n",
       "</table>\n",
       "</div>"
      ],
      "text/plain": [
       "             Param                                                Val  Count  \\\n",
       "0   holding_period                                                  3    378   \n",
       "1   holding_period                                                  5    378   \n",
       "2   holding_period                                                  7    378   \n",
       "3   holding_period                                                  9    378   \n",
       "4            model  {u'max_features': 0.5, u'type': u'tree', u'min...    504   \n",
       "5            model  {u'max_features': 0.8, u'type': u'tree', u'min...    504   \n",
       "6            model                                  {u'type': u'reg'}    504   \n",
       "7        mult_vals                                              False    504   \n",
       "8        mult_vals                                    [0.002, -0.001]    504   \n",
       "9        mult_vals                                         [0.002, 0]    504   \n",
       "10  per_side_count                                                 10    504   \n",
       "11  per_side_count                                                 20    504   \n",
       "12  per_side_count                                                 30    504   \n",
       "13   response_days                                                 10    756   \n",
       "14   response_days                                                  5    756   \n",
       "15   response_type                                             Simple   1512   \n",
       "16       score_var                                            boll_10    216   \n",
       "17       score_var                                            boll_20    216   \n",
       "18       score_var                                            prma_10    216   \n",
       "19       score_var                                            prma_15    216   \n",
       "20       score_var                                            prma_20    216   \n",
       "21       score_var                                            ret_10d    216   \n",
       "22       score_var                                             rsi_15    216   \n",
       "\n",
       "    MeanTotalRet  MeanSharpe  no_stat  \n",
       "0       0.667858    0.052023   -999.0  \n",
       "1       0.669198    0.056120   -999.0  \n",
       "2       0.600380    0.055286   -999.0  \n",
       "3       0.534446    0.052257   -999.0  \n",
       "4       0.658084    0.058381   -999.0  \n",
       "5       0.669449    0.059415   -999.0  \n",
       "6       0.526377    0.043968   -999.0  \n",
       "7       0.678318    0.062748   -999.0  \n",
       "8       0.599668    0.050092   -999.0  \n",
       "9       0.575925    0.048924   -999.0  \n",
       "10      0.702167    0.050842   -999.0  \n",
       "11      0.606281    0.054631   -999.0  \n",
       "12      0.545463    0.056291   -999.0  \n",
       "13      0.632884    0.055335   -999.0  \n",
       "14      0.603056    0.052507   -999.0  \n",
       "15      0.617970    0.053921   -999.0  \n",
       "16      0.510190    0.063139   -999.0  \n",
       "17      0.650292    0.071378   -999.0  \n",
       "18      0.630764    0.048503   -999.0  \n",
       "19      0.707495    0.050401   -999.0  \n",
       "20      0.716478    0.048542   -999.0  \n",
       "21      0.610594    0.044430   -999.0  \n",
       "22      0.499979    0.051055   -999.0  "
      ]
     },
     "execution_count": 8,
     "metadata": {},
     "output_type": "execute_result"
    }
   ],
   "source": [
    "run1.analyze_parameters()"
   ]
  },
  {
   "cell_type": "code",
   "execution_count": null,
   "metadata": {
    "collapsed": true
   },
   "outputs": [],
   "source": []
  },
  {
   "cell_type": "code",
   "execution_count": null,
   "metadata": {
    "collapsed": true
   },
   "outputs": [],
   "source": []
  },
  {
   "cell_type": "code",
   "execution_count": null,
   "metadata": {
    "collapsed": true
   },
   "outputs": [],
   "source": []
  },
  {
   "cell_type": "code",
   "execution_count": null,
   "metadata": {
    "collapsed": true
   },
   "outputs": [],
   "source": []
  },
  {
   "cell_type": "code",
   "execution_count": 5,
   "metadata": {
    "collapsed": true
   },
   "outputs": [],
   "source": [
    "run1 = RunManagerGCP('StatArbStrategy2', 'run_0007', test_periods=0)\n",
    "run2 = RunManagerGCP('StatArbStrategy2', 'run_0012', test_periods=0)"
   ]
  },
  {
   "cell_type": "code",
   "execution_count": 25,
   "metadata": {
    "collapsed": true
   },
   "outputs": [],
   "source": [
    "run1.import_return_frame()\n",
    "run2.import_return_frame()"
   ]
  },
  {
   "cell_type": "code",
   "execution_count": 26,
   "metadata": {
    "collapsed": true
   },
   "outputs": [],
   "source": [
    "inds = run2.returns.index"
   ]
  },
  {
   "cell_type": "code",
   "execution_count": 28,
   "metadata": {},
   "outputs": [
    {
     "data": {
      "image/png": "[encoded data removed]",
      "text/plain": [
       "<matplotlib.figure.Figure at 0x7f9beb919a90>"
      ]
     },
     "metadata": {},
     "output_type": "display_data"
    }
   ],
   "source": [
    "plt.figure()\n",
    "plt.plot(run2.returns.dropna().cumsum(), 'c', alpha=0.3)\n",
    "plt.plot(run1.returns.loc[inds].dropna().cumsum(), 'b', alpha=0.3)\n",
    "\n",
    "plt.show()"
   ]
  },
  {
   "cell_type": "code",
   "execution_count": null,
   "metadata": {
    "collapsed": true
   },
   "outputs": [],
   "source": []
  },
  {
   "cell_type": "code",
   "execution_count": null,
   "metadata": {
    "collapsed": true
   },
   "outputs": [],
   "source": []
  },
  {
   "cell_type": "code",
   "execution_count": null,
   "metadata": {
    "collapsed": true
   },
   "outputs": [],
   "source": []
  },
  {
   "cell_type": "markdown",
   "metadata": {},
   "source": [
    "## Look at correlations between strategies and returns"
   ]
  },
  {
   "cell_type": "code",
   "execution_count": 21,
   "metadata": {
    "collapsed": true
   },
   "outputs": [],
   "source": [
    "run1 = RunManagerGCP('StatArbStrategy2', 'run_0007')"
   ]
  },
  {
   "cell_type": "code",
   "execution_count": 22,
   "metadata": {},
   "outputs": [
    {
     "name": "stderr",
     "output_type": "stream",
     "text": [
      "\r",
      "  0%|          | 0/1 [00:00<?, ?it/s]"
     ]
    },
    {
     "name": "stdout",
     "output_type": "stream",
     "text": [
      "Reading and aggregating runs...\n"
     ]
    },
    {
     "name": "stderr",
     "output_type": "stream",
     "text": [
      "100%|██████████| 1/1 [00:37<00:00, 37.41s/it]\n",
      "  0%|          | 0/10 [00:00<?, ?it/s]"
     ]
    },
    {
     "name": "stdout",
     "output_type": "stream",
     "text": [
      "Finished aggregating runs...\n"
     ]
    },
    {
     "name": "stderr",
     "output_type": "stream",
     "text": [
      "100%|██████████| 10/10 [01:30<00:00,  9.14s/it]\n"
     ]
    }
   ],
   "source": [
    "comb1 = CombinationSearch()\n",
    "comb1.add_run(run1)\n",
    "comb1.start(10, 'mean')"
   ]
  },
  {
   "cell_type": "code",
   "execution_count": 130,
   "metadata": {
    "collapsed": true
   },
   "outputs": [],
   "source": [
    "## Iterate over date periods\n",
    "returns = run1.returns.dropna()"
   ]
  },
  {
   "cell_type": "code",
   "execution_count": 186,
   "metadata": {
    "collapsed": true
   },
   "outputs": [],
   "source": [
    "def get_returns(train_dates, test_dates, returns, corr_filter_val=0.05):\n",
    "    train = returns.loc[train_dates]\n",
    "    test = returns.loc[test_dates]\n",
    "    # Get correlations and filter redundant information\n",
    "    correlations = train.corr().abs().unstack().reset_index()\n",
    "    correlations.columns = ['ColA', 'ColB', 'Correlation']\n",
    "    correlations.ColA = correlations.ColA.astype(int)\n",
    "    correlations.ColB = correlations.ColB.astype(int)\n",
    "    correlations = correlations[correlations.ColA < correlations.ColB]\n",
    "\n",
    "    # Filter by correlation rank\n",
    "    corr2 = correlations.copy()\n",
    "    corr2['CorrRank'] = corr2.Correlation.rank(pct=True)\n",
    "    corr2 = corr2.sort_values('CorrRank')\n",
    "    corr2 = corr2[corr2.CorrRank < corr_filter_val]\n",
    "\n",
    "    # Add combined returns\n",
    "    corr2.loc[:, 'Rets'] = ((train.iloc[:, corr2.ColA].values + train.iloc[:, corr2.ColB].values) / 2.).sum(axis=0)\n",
    "    corr2['RetsRank'] = corr2.Rets.rank(pct=True)\n",
    "    corr2 = corr2.sort_values('RetsRank', ascending=False)\n",
    "\n",
    "    # Get a set of the top 5\n",
    "    new_cols = set(corr2.ColA.iloc[:5]).union(corr2.ColB.iloc[:5])\n",
    "    return test.iloc[:, list(new_cols)].mean(axis=1)"
   ]
  },
  {
   "cell_type": "code",
   "execution_count": 189,
   "metadata": {},
   "outputs": [
    {
     "name": "stdout",
     "output_type": "stream",
     "text": [
      "2009-09-09 00:00:00\n",
      "2009-09-23 00:00:00\n",
      "2009-10-07 00:00:00\n",
      "2009-10-21 00:00:00\n",
      "2009-11-04 00:00:00\n",
      "2009-11-18 00:00:00\n",
      "2009-12-03 00:00:00\n",
      "2009-12-17 00:00:00\n",
      "2010-01-04 00:00:00\n",
      "2010-01-19 00:00:00\n",
      "2010-02-02 00:00:00\n",
      "2010-02-17 00:00:00\n",
      "2010-03-03 00:00:00\n",
      "2010-03-17 00:00:00\n",
      "2010-03-31 00:00:00\n",
      "2010-04-15 00:00:00\n",
      "2010-04-29 00:00:00\n",
      "2010-05-13 00:00:00\n",
      "2010-05-27 00:00:00\n",
      "2010-06-11 00:00:00\n",
      "2010-06-25 00:00:00\n",
      "2010-07-12 00:00:00\n",
      "2010-07-26 00:00:00\n",
      "2010-08-09 00:00:00\n",
      "2010-08-23 00:00:00\n",
      "2010-09-07 00:00:00\n",
      "2010-09-21 00:00:00\n",
      "2010-10-05 00:00:00\n",
      "2010-10-19 00:00:00\n",
      "2010-11-02 00:00:00\n",
      "2010-11-16 00:00:00\n",
      "2010-12-01 00:00:00\n",
      "2010-12-15 00:00:00\n",
      "2010-12-30 00:00:00\n",
      "2011-01-13 00:00:00\n",
      "2011-01-28 00:00:00\n",
      "2011-02-11 00:00:00\n",
      "2011-02-28 00:00:00\n",
      "2011-03-14 00:00:00\n",
      "2011-03-28 00:00:00\n",
      "2011-04-11 00:00:00\n",
      "2011-04-26 00:00:00\n",
      "2011-05-10 00:00:00\n",
      "2011-05-24 00:00:00\n",
      "2011-06-08 00:00:00\n",
      "2011-06-22 00:00:00\n",
      "2011-07-07 00:00:00\n",
      "2011-07-21 00:00:00\n",
      "2011-08-04 00:00:00\n",
      "2011-08-18 00:00:00\n",
      "2011-09-01 00:00:00\n",
      "2011-09-16 00:00:00\n",
      "2011-09-30 00:00:00\n",
      "2011-10-14 00:00:00\n",
      "2011-10-28 00:00:00\n",
      "2011-11-11 00:00:00\n",
      "2011-11-28 00:00:00\n",
      "2011-12-12 00:00:00\n",
      "2011-12-27 00:00:00\n",
      "2012-01-11 00:00:00\n",
      "2012-01-26 00:00:00\n",
      "2012-02-09 00:00:00\n",
      "2012-02-24 00:00:00\n",
      "2012-03-09 00:00:00\n",
      "2012-03-23 00:00:00\n",
      "2012-04-09 00:00:00\n",
      "2012-04-23 00:00:00\n",
      "2012-05-07 00:00:00\n",
      "2012-05-21 00:00:00\n",
      "2012-06-05 00:00:00\n",
      "2012-06-19 00:00:00\n",
      "2012-07-03 00:00:00\n",
      "2012-07-18 00:00:00\n",
      "2012-08-01 00:00:00\n",
      "2012-08-15 00:00:00\n",
      "2012-08-29 00:00:00\n",
      "2012-09-13 00:00:00\n",
      "2012-09-27 00:00:00\n",
      "2012-10-11 00:00:00\n",
      "2012-10-25 00:00:00\n",
      "2012-11-12 00:00:00\n",
      "2012-11-27 00:00:00\n",
      "2012-12-11 00:00:00\n",
      "2012-12-26 00:00:00\n",
      "2013-01-10 00:00:00\n",
      "2013-01-25 00:00:00\n",
      "2013-02-08 00:00:00\n",
      "2013-02-25 00:00:00\n",
      "2013-03-11 00:00:00\n",
      "2013-03-25 00:00:00\n",
      "2013-04-09 00:00:00\n",
      "2013-04-23 00:00:00\n",
      "2013-05-07 00:00:00\n",
      "2013-05-21 00:00:00\n",
      "2013-06-05 00:00:00\n",
      "2013-06-19 00:00:00\n",
      "2013-07-03 00:00:00\n",
      "2013-07-18 00:00:00\n",
      "2013-08-01 00:00:00\n",
      "2013-08-15 00:00:00\n",
      "2013-08-29 00:00:00\n",
      "2013-09-13 00:00:00\n",
      "2013-09-27 00:00:00\n",
      "2013-10-11 00:00:00\n",
      "2013-10-25 00:00:00\n",
      "2013-11-08 00:00:00\n",
      "2013-11-22 00:00:00\n",
      "2013-12-09 00:00:00\n",
      "2013-12-23 00:00:00\n",
      "2014-01-08 00:00:00\n",
      "2014-01-23 00:00:00\n",
      "2014-02-06 00:00:00\n",
      "2014-02-21 00:00:00\n",
      "2014-03-07 00:00:00\n",
      "2014-03-21 00:00:00\n",
      "2014-04-04 00:00:00\n",
      "2014-04-21 00:00:00\n",
      "2014-05-05 00:00:00\n",
      "2014-05-19 00:00:00\n",
      "2014-06-03 00:00:00\n",
      "2014-06-17 00:00:00\n",
      "2014-07-01 00:00:00\n",
      "2014-07-16 00:00:00\n",
      "2014-07-30 00:00:00\n",
      "2014-08-13 00:00:00\n",
      "2014-08-27 00:00:00\n",
      "2014-09-11 00:00:00\n",
      "2014-09-25 00:00:00\n",
      "2014-10-09 00:00:00\n",
      "2014-10-23 00:00:00\n",
      "2014-11-06 00:00:00\n",
      "2014-11-20 00:00:00\n",
      "2014-12-05 00:00:00\n",
      "2014-12-19 00:00:00\n",
      "2015-01-06 00:00:00\n",
      "2015-01-21 00:00:00\n",
      "2015-02-04 00:00:00\n",
      "2015-02-19 00:00:00\n",
      "2015-03-05 00:00:00\n",
      "2015-03-19 00:00:00\n",
      "2015-04-02 00:00:00\n",
      "2015-04-17 00:00:00\n",
      "2015-05-01 00:00:00\n",
      "2015-05-15 00:00:00\n",
      "2015-06-01 00:00:00\n",
      "2015-06-15 00:00:00\n",
      "2015-06-29 00:00:00\n",
      "2015-07-14 00:00:00\n",
      "2015-07-28 00:00:00\n",
      "2015-08-11 00:00:00\n",
      "2015-08-25 00:00:00\n",
      "2015-09-09 00:00:00\n",
      "2015-09-23 00:00:00\n",
      "2015-10-07 00:00:00\n",
      "2015-10-21 00:00:00\n",
      "2015-11-04 00:00:00\n",
      "2015-11-18 00:00:00\n",
      "2015-12-03 00:00:00\n",
      "2015-12-17 00:00:00\n",
      "2016-01-04 00:00:00\n",
      "2016-01-19 00:00:00\n",
      "2016-02-02 00:00:00\n",
      "2016-02-17 00:00:00\n",
      "2016-03-02 00:00:00\n",
      "2016-03-16 00:00:00\n",
      "2016-03-31 00:00:00\n",
      "2016-04-14 00:00:00\n",
      "2016-04-28 00:00:00\n",
      "2016-05-12 00:00:00\n",
      "2016-05-26 00:00:00\n",
      "2016-06-10 00:00:00\n",
      "2016-06-24 00:00:00\n",
      "2016-07-11 00:00:00\n",
      "2016-07-25 00:00:00\n",
      "2016-08-08 00:00:00\n",
      "2016-08-22 00:00:00\n",
      "2016-09-06 00:00:00\n",
      "2016-09-20 00:00:00\n",
      "2016-10-04 00:00:00\n",
      "2016-10-18 00:00:00\n",
      "2016-11-01 00:00:00\n",
      "2016-11-15 00:00:00\n",
      "2016-11-30 00:00:00\n",
      "2016-12-14 00:00:00\n",
      "2016-12-29 00:00:00\n",
      "2017-01-13 00:00:00\n",
      "2017-01-30 00:00:00\n",
      "2017-02-13 00:00:00\n",
      "2017-02-28 00:00:00\n",
      "2017-03-14 00:00:00\n",
      "2017-03-28 00:00:00\n",
      "2017-04-11 00:00:00\n",
      "2017-04-26 00:00:00\n",
      "2017-05-10 00:00:00\n",
      "2017-05-24 00:00:00\n",
      "2017-06-08 00:00:00\n",
      "2017-06-22 00:00:00\n"
     ]
    },
    {
     "ename": "IndexError",
     "evalue": "index 0 is out of bounds for axis 0 with size 0",
     "output_type": "error",
     "traceback": [
      "\u001b[0;31m---------------------------------------------------------------------------\u001b[0m",
      "\u001b[0;31mIndexError\u001b[0m                                Traceback (most recent call last)",
      "\u001b[0;32m<ipython-input-189-47e69a783eca>\u001b[0m in \u001b[0;36m<module>\u001b[0;34m()\u001b[0m\n\u001b[1;32m     12\u001b[0m     \u001b[0mtrain_dates\u001b[0m \u001b[0;34m=\u001b[0m \u001b[0mall_dates\u001b[0m\u001b[0;34m[\u001b[0m\u001b[0;34m:\u001b[0m\u001b[0mx1\u001b[0m\u001b[0;34m]\u001b[0m\u001b[0;34m\u001b[0m\u001b[0m\n\u001b[1;32m     13\u001b[0m     \u001b[0mtest_dates\u001b[0m \u001b[0;34m=\u001b[0m \u001b[0mall_dates\u001b[0m\u001b[0;34m[\u001b[0m\u001b[0mx1\u001b[0m\u001b[0;34m:\u001b[0m\u001b[0mx2\u001b[0m\u001b[0;34m]\u001b[0m\u001b[0;34m\u001b[0m\u001b[0m\n\u001b[0;32m---> 14\u001b[0;31m     \u001b[0;32mprint\u001b[0m\u001b[0;34m(\u001b[0m\u001b[0mtest_dates\u001b[0m\u001b[0;34m[\u001b[0m\u001b[0;36m0\u001b[0m\u001b[0;34m]\u001b[0m\u001b[0;34m)\u001b[0m\u001b[0;34m\u001b[0m\u001b[0m\n\u001b[0m\u001b[1;32m     15\u001b[0m \u001b[0;34m\u001b[0m\u001b[0m\n\u001b[1;32m     16\u001b[0m     \u001b[0moutput2\u001b[0m \u001b[0;34m=\u001b[0m \u001b[0moutput2\u001b[0m\u001b[0;34m.\u001b[0m\u001b[0mappend\u001b[0m\u001b[0;34m(\u001b[0m\u001b[0mget_returns\u001b[0m\u001b[0;34m(\u001b[0m\u001b[0mtrain_dates\u001b[0m\u001b[0;34m,\u001b[0m \u001b[0mtest_dates\u001b[0m\u001b[0;34m,\u001b[0m \u001b[0mreturns\u001b[0m\u001b[0;34m)\u001b[0m\u001b[0;34m)\u001b[0m\u001b[0;34m\u001b[0m\u001b[0m\n",
      "\u001b[0;32m/usr/local/lib/python2.7/dist-packages/pandas/tseries/base.pyc\u001b[0m in \u001b[0;36m__getitem__\u001b[0;34m(self, key)\u001b[0m\n\u001b[1;32m    249\u001b[0m         \u001b[0mgetitem\u001b[0m \u001b[0;34m=\u001b[0m \u001b[0mself\u001b[0m\u001b[0;34m.\u001b[0m\u001b[0m_data\u001b[0m\u001b[0;34m.\u001b[0m\u001b[0m__getitem__\u001b[0m\u001b[0;34m\u001b[0m\u001b[0m\n\u001b[1;32m    250\u001b[0m         \u001b[0;32mif\u001b[0m \u001b[0mis_int\u001b[0m\u001b[0;34m:\u001b[0m\u001b[0;34m\u001b[0m\u001b[0m\n\u001b[0;32m--> 251\u001b[0;31m             \u001b[0mval\u001b[0m \u001b[0;34m=\u001b[0m \u001b[0mgetitem\u001b[0m\u001b[0;34m(\u001b[0m\u001b[0mkey\u001b[0m\u001b[0;34m)\u001b[0m\u001b[0;34m\u001b[0m\u001b[0m\n\u001b[0m\u001b[1;32m    252\u001b[0m             \u001b[0;32mreturn\u001b[0m \u001b[0mself\u001b[0m\u001b[0;34m.\u001b[0m\u001b[0m_box_func\u001b[0m\u001b[0;34m(\u001b[0m\u001b[0mval\u001b[0m\u001b[0;34m)\u001b[0m\u001b[0;34m\u001b[0m\u001b[0m\n\u001b[1;32m    253\u001b[0m         \u001b[0;32melse\u001b[0m\u001b[0;34m:\u001b[0m\u001b[0;34m\u001b[0m\u001b[0m\n",
      "\u001b[0;31mIndexError\u001b[0m: index 0 is out of bounds for axis 0 with size 0"
     ]
    }
   ],
   "source": [
    "start_index = 300\n",
    "test_period_len = 10\n",
    "\n",
    "all_dates = returns.index\n",
    "\n",
    "output2 = pd.Series()\n",
    "\n",
    "x1 = start_index\n",
    "x2 = x1 + test_period_len\n",
    "\n",
    "while True:\n",
    "    train_dates = all_dates[:x1]\n",
    "    test_dates = all_dates[x1:x2]\n",
    "    print(test_dates[0])\n",
    "\n",
    "    output2 = output2.append(get_returns(train_dates, test_dates, returns))\n",
    "    \n",
    "    x1 = int(x2)\n",
    "    x2 = x2 + test_period_len\n",
    "\n",
    "    if x1 > len(all_dates):\n",
    "        break"
   ]
  },
  {
   "cell_type": "code",
   "execution_count": 192,
   "metadata": {},
   "outputs": [
    {
     "data": {
      "image/png": "[encoded data removed]",
      "text/plain": [
       "<matplotlib.figure.Figure at 0x7ff5c102b850>"
      ]
     },
     "metadata": {},
     "output_type": "display_data"
    }
   ],
   "source": [
    "start_date = dt.date(2011, 1, 1)\n",
    "plt.figure()\n",
    "plt.plot(comb1.best_results_rets.loc[start_date:].dropna().cumsum(), 'b', alpha=0.3)\n",
    "plt.plot(output.loc[start_date:].cumsum(), 'r')\n",
    "plt.plot(output2.loc[start_date:].cumsum(), 'g')\n",
    "plt.plot(output3.loc[start_date:].cumsum(), 'y')\n",
    "plt.show()"
   ]
  },
  {
   "cell_type": "code",
   "execution_count": 166,
   "metadata": {},
   "outputs": [
    {
     "data": {
      "text/plain": [
       "0.068425901508523443"
      ]
     },
     "execution_count": 166,
     "metadata": {},
     "output_type": "execute_result"
    }
   ],
   "source": [
    "output.mean() / output.std()"
   ]
  },
  {
   "cell_type": "code",
   "execution_count": 183,
   "metadata": {},
   "outputs": [
    {
     "data": {
      "text/html": [
       "<div>\n",
       "<table border=\"1\" class=\"dataframe\">\n",
       "  <thead>\n",
       "    <tr style=\"text-align: right;\">\n",
       "      <th>Qtr</th>\n",
       "      <th>1</th>\n",
       "      <th>2</th>\n",
       "      <th>3</th>\n",
       "      <th>4</th>\n",
       "      <th>year</th>\n",
       "    </tr>\n",
       "    <tr>\n",
       "      <th>Year</th>\n",
       "      <th></th>\n",
       "      <th></th>\n",
       "      <th></th>\n",
       "      <th></th>\n",
       "      <th></th>\n",
       "    </tr>\n",
       "  </thead>\n",
       "  <tbody>\n",
       "    <tr>\n",
       "      <th>2009</th>\n",
       "      <td>NaN</td>\n",
       "      <td>NaN</td>\n",
       "      <td>-0.040312</td>\n",
       "      <td>0.016159</td>\n",
       "      <td>-0.024153</td>\n",
       "    </tr>\n",
       "    <tr>\n",
       "      <th>2010</th>\n",
       "      <td>0.068816</td>\n",
       "      <td>-0.005065</td>\n",
       "      <td>0.070645</td>\n",
       "      <td>-0.013370</td>\n",
       "      <td>0.121027</td>\n",
       "    </tr>\n",
       "    <tr>\n",
       "      <th>2011</th>\n",
       "      <td>0.044237</td>\n",
       "      <td>0.011423</td>\n",
       "      <td>-0.017711</td>\n",
       "      <td>0.078239</td>\n",
       "      <td>0.116188</td>\n",
       "    </tr>\n",
       "    <tr>\n",
       "      <th>2012</th>\n",
       "      <td>-0.023788</td>\n",
       "      <td>-0.003973</td>\n",
       "      <td>0.019205</td>\n",
       "      <td>0.057194</td>\n",
       "      <td>0.048638</td>\n",
       "    </tr>\n",
       "    <tr>\n",
       "      <th>2013</th>\n",
       "      <td>-0.006856</td>\n",
       "      <td>0.051572</td>\n",
       "      <td>0.024483</td>\n",
       "      <td>0.016985</td>\n",
       "      <td>0.086184</td>\n",
       "    </tr>\n",
       "    <tr>\n",
       "      <th>2014</th>\n",
       "      <td>0.042699</td>\n",
       "      <td>-0.005395</td>\n",
       "      <td>-0.020146</td>\n",
       "      <td>-0.011250</td>\n",
       "      <td>0.005908</td>\n",
       "    </tr>\n",
       "    <tr>\n",
       "      <th>2015</th>\n",
       "      <td>0.013321</td>\n",
       "      <td>0.036602</td>\n",
       "      <td>-0.025292</td>\n",
       "      <td>0.072080</td>\n",
       "      <td>0.096711</td>\n",
       "    </tr>\n",
       "    <tr>\n",
       "      <th>2016</th>\n",
       "      <td>-0.005185</td>\n",
       "      <td>0.000361</td>\n",
       "      <td>0.007288</td>\n",
       "      <td>0.036665</td>\n",
       "      <td>0.039129</td>\n",
       "    </tr>\n",
       "    <tr>\n",
       "      <th>2017</th>\n",
       "      <td>0.017957</td>\n",
       "      <td>0.016503</td>\n",
       "      <td>0.003533</td>\n",
       "      <td>NaN</td>\n",
       "      <td>0.037994</td>\n",
       "    </tr>\n",
       "  </tbody>\n",
       "</table>\n",
       "</div>"
      ],
      "text/plain": [
       "Qtr          1         2         3         4      year\n",
       "Year                                                  \n",
       "2009       NaN       NaN -0.040312  0.016159 -0.024153\n",
       "2010  0.068816 -0.005065  0.070645 -0.013370  0.121027\n",
       "2011  0.044237  0.011423 -0.017711  0.078239  0.116188\n",
       "2012 -0.023788 -0.003973  0.019205  0.057194  0.048638\n",
       "2013 -0.006856  0.051572  0.024483  0.016985  0.086184\n",
       "2014  0.042699 -0.005395 -0.020146 -0.011250  0.005908\n",
       "2015  0.013321  0.036602 -0.025292  0.072080  0.096711\n",
       "2016 -0.005185  0.000361  0.007288  0.036665  0.039129\n",
       "2017  0.017957  0.016503  0.003533       NaN  0.037994"
      ]
     },
     "execution_count": 183,
     "metadata": {},
     "output_type": "execute_result"
    }
   ],
   "source": [
    "x = rollup_returns(comb1.best_results_rets.dropna())\n",
    "x['year'] = x.sum(axis=1)\n",
    "x"
   ]
  },
  {
   "cell_type": "code",
   "execution_count": 184,
   "metadata": {},
   "outputs": [
    {
     "data": {
      "text/html": [
       "<div>\n",
       "<table border=\"1\" class=\"dataframe\">\n",
       "  <thead>\n",
       "    <tr style=\"text-align: right;\">\n",
       "      <th>Qtr</th>\n",
       "      <th>1</th>\n",
       "      <th>2</th>\n",
       "      <th>3</th>\n",
       "      <th>4</th>\n",
       "      <th>year</th>\n",
       "    </tr>\n",
       "    <tr>\n",
       "      <th>Year</th>\n",
       "      <th></th>\n",
       "      <th></th>\n",
       "      <th></th>\n",
       "      <th></th>\n",
       "      <th></th>\n",
       "    </tr>\n",
       "  </thead>\n",
       "  <tbody>\n",
       "    <tr>\n",
       "      <th>2009</th>\n",
       "      <td>NaN</td>\n",
       "      <td>NaN</td>\n",
       "      <td>-0.006913</td>\n",
       "      <td>0.010743</td>\n",
       "      <td>0.003830</td>\n",
       "    </tr>\n",
       "    <tr>\n",
       "      <th>2010</th>\n",
       "      <td>0.052998</td>\n",
       "      <td>-0.019496</td>\n",
       "      <td>0.068198</td>\n",
       "      <td>-0.027882</td>\n",
       "      <td>0.073817</td>\n",
       "    </tr>\n",
       "    <tr>\n",
       "      <th>2011</th>\n",
       "      <td>0.036973</td>\n",
       "      <td>0.018595</td>\n",
       "      <td>-0.013254</td>\n",
       "      <td>0.073107</td>\n",
       "      <td>0.115421</td>\n",
       "    </tr>\n",
       "    <tr>\n",
       "      <th>2012</th>\n",
       "      <td>-0.015796</td>\n",
       "      <td>0.014823</td>\n",
       "      <td>0.007639</td>\n",
       "      <td>0.061590</td>\n",
       "      <td>0.068255</td>\n",
       "    </tr>\n",
       "    <tr>\n",
       "      <th>2013</th>\n",
       "      <td>-0.009182</td>\n",
       "      <td>0.024542</td>\n",
       "      <td>0.020989</td>\n",
       "      <td>0.008014</td>\n",
       "      <td>0.044362</td>\n",
       "    </tr>\n",
       "    <tr>\n",
       "      <th>2014</th>\n",
       "      <td>0.049802</td>\n",
       "      <td>0.001636</td>\n",
       "      <td>-0.019364</td>\n",
       "      <td>-0.005369</td>\n",
       "      <td>0.026705</td>\n",
       "    </tr>\n",
       "    <tr>\n",
       "      <th>2015</th>\n",
       "      <td>0.015937</td>\n",
       "      <td>0.039467</td>\n",
       "      <td>-0.016223</td>\n",
       "      <td>0.060211</td>\n",
       "      <td>0.099392</td>\n",
       "    </tr>\n",
       "    <tr>\n",
       "      <th>2016</th>\n",
       "      <td>0.000864</td>\n",
       "      <td>0.011515</td>\n",
       "      <td>-0.000230</td>\n",
       "      <td>0.041643</td>\n",
       "      <td>0.053792</td>\n",
       "    </tr>\n",
       "    <tr>\n",
       "      <th>2017</th>\n",
       "      <td>0.042559</td>\n",
       "      <td>0.027334</td>\n",
       "      <td>0.003395</td>\n",
       "      <td>NaN</td>\n",
       "      <td>0.073288</td>\n",
       "    </tr>\n",
       "  </tbody>\n",
       "</table>\n",
       "</div>"
      ],
      "text/plain": [
       "Qtr          1         2         3         4      year\n",
       "Year                                                  \n",
       "2009       NaN       NaN -0.006913  0.010743  0.003830\n",
       "2010  0.052998 -0.019496  0.068198 -0.027882  0.073817\n",
       "2011  0.036973  0.018595 -0.013254  0.073107  0.115421\n",
       "2012 -0.015796  0.014823  0.007639  0.061590  0.068255\n",
       "2013 -0.009182  0.024542  0.020989  0.008014  0.044362\n",
       "2014  0.049802  0.001636 -0.019364 -0.005369  0.026705\n",
       "2015  0.015937  0.039467 -0.016223  0.060211  0.099392\n",
       "2016  0.000864  0.011515 -0.000230  0.041643  0.053792\n",
       "2017  0.042559  0.027334  0.003395       NaN  0.073288"
      ]
     },
     "execution_count": 184,
     "metadata": {},
     "output_type": "execute_result"
    }
   ],
   "source": [
    "x = rollup_returns(pd.DataFrame(output))\n",
    "x['year'] = x.sum(axis=1)\n",
    "x"
   ]
  },
  {
   "cell_type": "code",
   "execution_count": null,
   "metadata": {
    "collapsed": true
   },
   "outputs": [],
   "source": []
  },
  {
   "cell_type": "code",
   "execution_count": 208,
   "metadata": {
    "collapsed": true
   },
   "outputs": [],
   "source": [
    "dd = returns.unstack().reset_index()\n",
    "dd.columns = ['Col', 'Date', 'Ret']\n",
    "dd['NextRet'] = dd.Ret.shift(1).dropna()\n",
    "dd = dd[dd.Col == dd.Col.shift(1)]"
   ]
  },
  {
   "cell_type": "code",
   "execution_count": 206,
   "metadata": {
    "collapsed": true
   },
   "outputs": [],
   "source": [
    "from gearbox import find_quantiles"
   ]
  },
  {
   "cell_type": "code",
   "execution_count": 209,
   "metadata": {},
   "outputs": [
    {
     "data": {
      "text/html": [
       "<div>\n",
       "<table border=\"1\" class=\"dataframe\">\n",
       "  <thead>\n",
       "    <tr style=\"text-align: right;\">\n",
       "      <th></th>\n",
       "      <th>Min</th>\n",
       "      <th>Max</th>\n",
       "      <th>Mean</th>\n",
       "      <th>Median</th>\n",
       "      <th>SD</th>\n",
       "      <th>Obs</th>\n",
       "    </tr>\n",
       "  </thead>\n",
       "  <tbody>\n",
       "    <tr>\n",
       "      <th>0</th>\n",
       "      <td>-0.056290</td>\n",
       "      <td>-0.004531</td>\n",
       "      <td>0.000038</td>\n",
       "      <td>-0.000197</td>\n",
       "      <td>0.007349</td>\n",
       "      <td>114358</td>\n",
       "    </tr>\n",
       "    <tr>\n",
       "      <th>1</th>\n",
       "      <td>-0.004531</td>\n",
       "      <td>-0.002553</td>\n",
       "      <td>0.000008</td>\n",
       "      <td>-0.000028</td>\n",
       "      <td>0.004541</td>\n",
       "      <td>114358</td>\n",
       "    </tr>\n",
       "    <tr>\n",
       "      <th>2</th>\n",
       "      <td>-0.002553</td>\n",
       "      <td>-0.001409</td>\n",
       "      <td>0.000134</td>\n",
       "      <td>0.000100</td>\n",
       "      <td>0.003945</td>\n",
       "      <td>114357</td>\n",
       "    </tr>\n",
       "    <tr>\n",
       "      <th>3</th>\n",
       "      <td>-0.001409</td>\n",
       "      <td>-0.000544</td>\n",
       "      <td>0.000186</td>\n",
       "      <td>0.000158</td>\n",
       "      <td>0.003707</td>\n",
       "      <td>114358</td>\n",
       "    </tr>\n",
       "    <tr>\n",
       "      <th>4</th>\n",
       "      <td>-0.000544</td>\n",
       "      <td>0.000216</td>\n",
       "      <td>0.000227</td>\n",
       "      <td>0.000207</td>\n",
       "      <td>0.003596</td>\n",
       "      <td>114357</td>\n",
       "    </tr>\n",
       "    <tr>\n",
       "      <th>5</th>\n",
       "      <td>0.000216</td>\n",
       "      <td>0.000978</td>\n",
       "      <td>0.000261</td>\n",
       "      <td>0.000233</td>\n",
       "      <td>0.003650</td>\n",
       "      <td>114358</td>\n",
       "    </tr>\n",
       "    <tr>\n",
       "      <th>6</th>\n",
       "      <td>0.000978</td>\n",
       "      <td>0.001852</td>\n",
       "      <td>0.000263</td>\n",
       "      <td>0.000235</td>\n",
       "      <td>0.003747</td>\n",
       "      <td>114357</td>\n",
       "    </tr>\n",
       "    <tr>\n",
       "      <th>7</th>\n",
       "      <td>0.001852</td>\n",
       "      <td>0.003031</td>\n",
       "      <td>0.000374</td>\n",
       "      <td>0.000332</td>\n",
       "      <td>0.004051</td>\n",
       "      <td>114358</td>\n",
       "    </tr>\n",
       "    <tr>\n",
       "      <th>8</th>\n",
       "      <td>0.003031</td>\n",
       "      <td>0.005163</td>\n",
       "      <td>0.000618</td>\n",
       "      <td>0.000480</td>\n",
       "      <td>0.004741</td>\n",
       "      <td>114357</td>\n",
       "    </tr>\n",
       "    <tr>\n",
       "      <th>9</th>\n",
       "      <td>0.005163</td>\n",
       "      <td>0.088292</td>\n",
       "      <td>0.000947</td>\n",
       "      <td>0.000626</td>\n",
       "      <td>0.008383</td>\n",
       "      <td>114358</td>\n",
       "    </tr>\n",
       "  </tbody>\n",
       "</table>\n",
       "</div>"
      ],
      "text/plain": [
       "        Min       Max      Mean    Median        SD     Obs\n",
       "0 -0.056290 -0.004531  0.000038 -0.000197  0.007349  114358\n",
       "1 -0.004531 -0.002553  0.000008 -0.000028  0.004541  114358\n",
       "2 -0.002553 -0.001409  0.000134  0.000100  0.003945  114357\n",
       "3 -0.001409 -0.000544  0.000186  0.000158  0.003707  114358\n",
       "4 -0.000544  0.000216  0.000227  0.000207  0.003596  114357\n",
       "5  0.000216  0.000978  0.000261  0.000233  0.003650  114358\n",
       "6  0.000978  0.001852  0.000263  0.000235  0.003747  114357\n",
       "7  0.001852  0.003031  0.000374  0.000332  0.004051  114358\n",
       "8  0.003031  0.005163  0.000618  0.000480  0.004741  114357\n",
       "9  0.005163  0.088292  0.000947  0.000626  0.008383  114358"
      ]
     },
     "execution_count": 209,
     "metadata": {},
     "output_type": "execute_result"
    }
   ],
   "source": [
    "find_quantiles(dd.Ret, dd.NextRet, 10)"
   ]
  },
  {
   "cell_type": "code",
   "execution_count": 224,
   "metadata": {
    "collapsed": true
   },
   "outputs": [],
   "source": [
    "z = pd.DataFrame(output)\n",
    "z.columns = ['ret']\n",
    "z['alloc'] = np.where(output >= 0.002, 1.50, np.where(output < -0.1, 0.85, 1))\n",
    "z['alloc'] = z.alloc.shift(1).fillna(1)\n",
    "z['ret2'] = z.ret * z.alloc"
   ]
  },
  {
   "cell_type": "code",
   "execution_count": 225,
   "metadata": {},
   "outputs": [
    {
     "data": {
      "image/png": "[encoded data removed]",
      "text/plain": [
       "<matplotlib.figure.Figure at 0x7ff5c29666d0>"
      ]
     },
     "metadata": {},
     "output_type": "display_data"
    }
   ],
   "source": [
    "plt.figure()\n",
    "plt.plot(z.ret.cumsum())\n",
    "plt.plot(z.ret2.cumsum())\n",
    "plt.show()"
   ]
  },
  {
   "cell_type": "code",
   "execution_count": 226,
   "metadata": {},
   "outputs": [
    {
     "data": {
      "text/html": [
       "<div>\n",
       "<table border=\"1\" class=\"dataframe\">\n",
       "  <thead>\n",
       "    <tr style=\"text-align: right;\">\n",
       "      <th>Qtr</th>\n",
       "      <th>1</th>\n",
       "      <th>2</th>\n",
       "      <th>3</th>\n",
       "      <th>4</th>\n",
       "      <th>year</th>\n",
       "    </tr>\n",
       "    <tr>\n",
       "      <th>Year</th>\n",
       "      <th></th>\n",
       "      <th></th>\n",
       "      <th></th>\n",
       "      <th></th>\n",
       "      <th></th>\n",
       "    </tr>\n",
       "  </thead>\n",
       "  <tbody>\n",
       "    <tr>\n",
       "      <th>2009</th>\n",
       "      <td>NaN</td>\n",
       "      <td>NaN</td>\n",
       "      <td>-0.006913</td>\n",
       "      <td>0.010743</td>\n",
       "      <td>0.003830</td>\n",
       "    </tr>\n",
       "    <tr>\n",
       "      <th>2010</th>\n",
       "      <td>0.052998</td>\n",
       "      <td>-0.019496</td>\n",
       "      <td>0.068198</td>\n",
       "      <td>-0.027882</td>\n",
       "      <td>0.073817</td>\n",
       "    </tr>\n",
       "    <tr>\n",
       "      <th>2011</th>\n",
       "      <td>0.036973</td>\n",
       "      <td>0.018595</td>\n",
       "      <td>-0.013254</td>\n",
       "      <td>0.073107</td>\n",
       "      <td>0.115421</td>\n",
       "    </tr>\n",
       "    <tr>\n",
       "      <th>2012</th>\n",
       "      <td>-0.015796</td>\n",
       "      <td>0.014823</td>\n",
       "      <td>0.007639</td>\n",
       "      <td>0.061590</td>\n",
       "      <td>0.068255</td>\n",
       "    </tr>\n",
       "    <tr>\n",
       "      <th>2013</th>\n",
       "      <td>-0.009182</td>\n",
       "      <td>0.024542</td>\n",
       "      <td>0.020989</td>\n",
       "      <td>0.008014</td>\n",
       "      <td>0.044362</td>\n",
       "    </tr>\n",
       "    <tr>\n",
       "      <th>2014</th>\n",
       "      <td>0.049802</td>\n",
       "      <td>0.001636</td>\n",
       "      <td>-0.019364</td>\n",
       "      <td>-0.005369</td>\n",
       "      <td>0.026705</td>\n",
       "    </tr>\n",
       "    <tr>\n",
       "      <th>2015</th>\n",
       "      <td>0.015937</td>\n",
       "      <td>0.039467</td>\n",
       "      <td>-0.016223</td>\n",
       "      <td>0.060211</td>\n",
       "      <td>0.099392</td>\n",
       "    </tr>\n",
       "    <tr>\n",
       "      <th>2016</th>\n",
       "      <td>0.000864</td>\n",
       "      <td>0.011515</td>\n",
       "      <td>-0.000230</td>\n",
       "      <td>0.041643</td>\n",
       "      <td>0.053792</td>\n",
       "    </tr>\n",
       "    <tr>\n",
       "      <th>2017</th>\n",
       "      <td>0.042559</td>\n",
       "      <td>0.027334</td>\n",
       "      <td>0.003395</td>\n",
       "      <td>NaN</td>\n",
       "      <td>0.073288</td>\n",
       "    </tr>\n",
       "  </tbody>\n",
       "</table>\n",
       "</div>"
      ],
      "text/plain": [
       "Qtr          1         2         3         4      year\n",
       "Year                                                  \n",
       "2009       NaN       NaN -0.006913  0.010743  0.003830\n",
       "2010  0.052998 -0.019496  0.068198 -0.027882  0.073817\n",
       "2011  0.036973  0.018595 -0.013254  0.073107  0.115421\n",
       "2012 -0.015796  0.014823  0.007639  0.061590  0.068255\n",
       "2013 -0.009182  0.024542  0.020989  0.008014  0.044362\n",
       "2014  0.049802  0.001636 -0.019364 -0.005369  0.026705\n",
       "2015  0.015937  0.039467 -0.016223  0.060211  0.099392\n",
       "2016  0.000864  0.011515 -0.000230  0.041643  0.053792\n",
       "2017  0.042559  0.027334  0.003395       NaN  0.073288"
      ]
     },
     "execution_count": 226,
     "metadata": {},
     "output_type": "execute_result"
    }
   ],
   "source": [
    "z1 = rollup_returns(z, 0)\n",
    "z1['year'] = z1.sum(axis=1)\n",
    "z1"
   ]
  },
  {
   "cell_type": "code",
   "execution_count": 227,
   "metadata": {},
   "outputs": [
    {
     "data": {
      "text/html": [
       "<div>\n",
       "<table border=\"1\" class=\"dataframe\">\n",
       "  <thead>\n",
       "    <tr style=\"text-align: right;\">\n",
       "      <th>Qtr</th>\n",
       "      <th>1</th>\n",
       "      <th>2</th>\n",
       "      <th>3</th>\n",
       "      <th>4</th>\n",
       "      <th>year</th>\n",
       "    </tr>\n",
       "    <tr>\n",
       "      <th>Year</th>\n",
       "      <th></th>\n",
       "      <th></th>\n",
       "      <th></th>\n",
       "      <th></th>\n",
       "      <th></th>\n",
       "    </tr>\n",
       "  </thead>\n",
       "  <tbody>\n",
       "    <tr>\n",
       "      <th>2009</th>\n",
       "      <td>NaN</td>\n",
       "      <td>NaN</td>\n",
       "      <td>-0.007902</td>\n",
       "      <td>0.006581</td>\n",
       "      <td>-0.001321</td>\n",
       "    </tr>\n",
       "    <tr>\n",
       "      <th>2010</th>\n",
       "      <td>0.070479</td>\n",
       "      <td>-0.018306</td>\n",
       "      <td>0.075367</td>\n",
       "      <td>-0.041499</td>\n",
       "      <td>0.086041</td>\n",
       "    </tr>\n",
       "    <tr>\n",
       "      <th>2011</th>\n",
       "      <td>0.043341</td>\n",
       "      <td>0.030170</td>\n",
       "      <td>0.000810</td>\n",
       "      <td>0.087717</td>\n",
       "      <td>0.162038</td>\n",
       "    </tr>\n",
       "    <tr>\n",
       "      <th>2012</th>\n",
       "      <td>-0.020537</td>\n",
       "      <td>0.020699</td>\n",
       "      <td>0.017678</td>\n",
       "      <td>0.066776</td>\n",
       "      <td>0.084615</td>\n",
       "    </tr>\n",
       "    <tr>\n",
       "      <th>2013</th>\n",
       "      <td>-0.016161</td>\n",
       "      <td>0.030781</td>\n",
       "      <td>0.024784</td>\n",
       "      <td>0.010326</td>\n",
       "      <td>0.049730</td>\n",
       "    </tr>\n",
       "    <tr>\n",
       "      <th>2014</th>\n",
       "      <td>0.049701</td>\n",
       "      <td>0.014506</td>\n",
       "      <td>-0.020848</td>\n",
       "      <td>0.012919</td>\n",
       "      <td>0.056279</td>\n",
       "    </tr>\n",
       "    <tr>\n",
       "      <th>2015</th>\n",
       "      <td>0.023097</td>\n",
       "      <td>0.049047</td>\n",
       "      <td>-0.006971</td>\n",
       "      <td>0.084080</td>\n",
       "      <td>0.149252</td>\n",
       "    </tr>\n",
       "    <tr>\n",
       "      <th>2016</th>\n",
       "      <td>-0.006055</td>\n",
       "      <td>0.020807</td>\n",
       "      <td>0.004579</td>\n",
       "      <td>0.052721</td>\n",
       "      <td>0.072053</td>\n",
       "    </tr>\n",
       "    <tr>\n",
       "      <th>2017</th>\n",
       "      <td>0.047924</td>\n",
       "      <td>0.038959</td>\n",
       "      <td>0.003395</td>\n",
       "      <td>NaN</td>\n",
       "      <td>0.090277</td>\n",
       "    </tr>\n",
       "  </tbody>\n",
       "</table>\n",
       "</div>"
      ],
      "text/plain": [
       "Qtr          1         2         3         4      year\n",
       "Year                                                  \n",
       "2009       NaN       NaN -0.007902  0.006581 -0.001321\n",
       "2010  0.070479 -0.018306  0.075367 -0.041499  0.086041\n",
       "2011  0.043341  0.030170  0.000810  0.087717  0.162038\n",
       "2012 -0.020537  0.020699  0.017678  0.066776  0.084615\n",
       "2013 -0.016161  0.030781  0.024784  0.010326  0.049730\n",
       "2014  0.049701  0.014506 -0.020848  0.012919  0.056279\n",
       "2015  0.023097  0.049047 -0.006971  0.084080  0.149252\n",
       "2016 -0.006055  0.020807  0.004579  0.052721  0.072053\n",
       "2017  0.047924  0.038959  0.003395       NaN  0.090277"
      ]
     },
     "execution_count": 227,
     "metadata": {},
     "output_type": "execute_result"
    }
   ],
   "source": [
    "z2 = rollup_returns(z, 2)\n",
    "z2['year'] = z2.sum(axis=1)\n",
    "z2"
   ]
  },
  {
   "cell_type": "code",
   "execution_count": null,
   "metadata": {
    "collapsed": true
   },
   "outputs": [],
   "source": []
  },
  {
   "cell_type": "code",
   "execution_count": null,
   "metadata": {
    "collapsed": true
   },
   "outputs": [],
   "source": []
  },
  {
   "cell_type": "code",
   "execution_count": 7,
   "metadata": {},
   "outputs": [
    {
     "data": {
      "text/html": [
       "<div>\n",
       "<table border=\"1\" class=\"dataframe\">\n",
       "  <thead>\n",
       "    <tr style=\"text-align: right;\">\n",
       "      <th></th>\n",
       "      <th>Run</th>\n",
       "      <th>RunDate</th>\n",
       "      <th>Completed</th>\n",
       "      <th>Description</th>\n",
       "      <th>Starred</th>\n",
       "    </tr>\n",
       "  </thead>\n",
       "  <tbody>\n",
       "    <tr>\n",
       "      <th>0</th>\n",
       "      <td>run_0001</td>\n",
       "      <td>2018-02-15</td>\n",
       "      <td>True</td>\n",
       "      <td>Smart factor, sector 20</td>\n",
       "      <td></td>\n",
       "    </tr>\n",
       "    <tr>\n",
       "      <th>1</th>\n",
       "      <td>run_0002</td>\n",
       "      <td>2018-02-15</td>\n",
       "      <td>True</td>\n",
       "      <td>Smart factor, all sectors</td>\n",
       "      <td></td>\n",
       "    </tr>\n",
       "    <tr>\n",
       "      <th>2</th>\n",
       "      <td>run_0003</td>\n",
       "      <td>2018-02-22</td>\n",
       "      <td>True</td>\n",
       "      <td>New run with smart factor, sector 20</td>\n",
       "      <td></td>\n",
       "    </tr>\n",
       "    <tr>\n",
       "      <th>3</th>\n",
       "      <td>run_0004</td>\n",
       "      <td>2018-02-20</td>\n",
       "      <td>False</td>\n",
       "      <td>New run with smart factor, sector 25</td>\n",
       "      <td></td>\n",
       "    </tr>\n",
       "    <tr>\n",
       "      <th>4</th>\n",
       "      <td>run_0005</td>\n",
       "      <td>2018-02-20</td>\n",
       "      <td>False</td>\n",
       "      <td>New run with smart factor, sector 45</td>\n",
       "      <td></td>\n",
       "    </tr>\n",
       "    <tr>\n",
       "      <th>5</th>\n",
       "      <td>run_0007</td>\n",
       "      <td>2018-02-23</td>\n",
       "      <td>True</td>\n",
       "      <td>Sector 20, new params, more features for sort</td>\n",
       "      <td></td>\n",
       "    </tr>\n",
       "    <tr>\n",
       "      <th>6</th>\n",
       "      <td>run_0009</td>\n",
       "      <td>2018-02-24</td>\n",
       "      <td>True</td>\n",
       "      <td>Bayes, Sector 20</td>\n",
       "      <td></td>\n",
       "    </tr>\n",
       "  </tbody>\n",
       "</table>\n",
       "</div>"
      ],
      "text/plain": [
       "        Run     RunDate Completed  \\\n",
       "0  run_0001  2018-02-15      True   \n",
       "1  run_0002  2018-02-15      True   \n",
       "2  run_0003  2018-02-22      True   \n",
       "3  run_0004  2018-02-20     False   \n",
       "4  run_0005  2018-02-20     False   \n",
       "5  run_0007  2018-02-23      True   \n",
       "6  run_0009  2018-02-24      True   \n",
       "\n",
       "                                     Description Starred  \n",
       "0                        Smart factor, sector 20          \n",
       "1                      Smart factor, all sectors          \n",
       "2           New run with smart factor, sector 20          \n",
       "3           New run with smart factor, sector 25          \n",
       "4           New run with smart factor, sector 45          \n",
       "5  Sector 20, new params, more features for sort          \n",
       "6                               Bayes, Sector 20          "
      ]
     },
     "execution_count": 7,
     "metadata": {},
     "output_type": "execute_result"
    }
   ],
   "source": [
    "RunManagerGCP.get_run_names('StatArbStrategy2')"
   ]
  },
  {
   "cell_type": "code",
   "execution_count": 6,
   "metadata": {
    "collapsed": true
   },
   "outputs": [],
   "source": [
    "#drop_params = [('holding_period', 5), ('holding_period', 7), ('holding_period', 9), ('model', \"{u'type': u'reg'}\")]\n",
    "drop_params = []"
   ]
  },
  {
   "cell_type": "code",
   "execution_count": 8,
   "metadata": {
    "collapsed": true
   },
   "outputs": [],
   "source": [
    "run1 = RunManagerGCP('StatArbStrategy2', 'run_0007', start_year=2011)\n",
    "run2 = RunManagerGCP('StatArbStrategy2', 'run_0009', start_year=2011)\n",
    "\n",
    "run1.import_return_frame()\n",
    "run2.import_return_frame()"
   ]
  },
  {
   "cell_type": "code",
   "execution_count": 9,
   "metadata": {},
   "outputs": [
    {
     "data": {
      "image/png": "[encoded data removed]",
      "text/plain": [
       "<matplotlib.figure.Figure at 0x7f6312c86e90>"
      ]
     },
     "metadata": {},
     "output_type": "display_data"
    }
   ],
   "source": [
    "plt.figure()\n",
    "plt.plot(run2.returns.dropna().cumsum(), 'b', alpha=0.3)\n",
    "plt.plot(run1.returns.dropna().cumsum(), 'c', alpha=0.3)\n",
    "plt.show()"
   ]
  },
  {
   "cell_type": "code",
   "execution_count": 30,
   "metadata": {},
   "outputs": [
    {
     "name": "stderr",
     "output_type": "stream",
     "text": [
      "\r",
      "  0%|          | 0/1 [00:00<?, ?it/s]"
     ]
    },
    {
     "name": "stdout",
     "output_type": "stream",
     "text": [
      "Reading and aggregating runs...\n"
     ]
    },
    {
     "name": "stderr",
     "output_type": "stream",
     "text": [
      "100%|██████████| 1/1 [00:08<00:00,  8.26s/it]\n",
      "  0%|          | 0/10 [00:00<?, ?it/s]"
     ]
    },
    {
     "name": "stdout",
     "output_type": "stream",
     "text": [
      "Finished aggregating runs...\n"
     ]
    },
    {
     "name": "stderr",
     "output_type": "stream",
     "text": [
      "100%|██████████| 10/10 [01:04<00:00,  6.61s/it]\n"
     ]
    }
   ],
   "source": [
    "comb1 = CombinationSearch()\n",
    "comb1.add_run(run1)\n",
    "comb1.start(10, 'mean')"
   ]
  },
  {
   "cell_type": "code",
   "execution_count": 31,
   "metadata": {},
   "outputs": [
    {
     "name": "stderr",
     "output_type": "stream",
     "text": [
      "\r",
      "  0%|          | 0/1 [00:00<?, ?it/s]"
     ]
    },
    {
     "name": "stdout",
     "output_type": "stream",
     "text": [
      "Reading and aggregating runs...\n"
     ]
    },
    {
     "name": "stderr",
     "output_type": "stream",
     "text": [
      "100%|██████████| 1/1 [00:07<00:00,  7.99s/it]\n",
      "  0%|          | 0/10 [00:00<?, ?it/s]"
     ]
    },
    {
     "name": "stdout",
     "output_type": "stream",
     "text": [
      "Finished aggregating runs...\n"
     ]
    },
    {
     "name": "stderr",
     "output_type": "stream",
     "text": [
      "100%|██████████| 10/10 [01:01<00:00,  6.10s/it]\n"
     ]
    }
   ],
   "source": [
    "comb2 = CombinationSearch()\n",
    "comb2.add_run(run2)\n",
    "comb2.start(10, 'mean')"
   ]
  },
  {
   "cell_type": "code",
   "execution_count": 32,
   "metadata": {},
   "outputs": [
    {
     "data": {
      "image/png": "[encoded data removed]",
      "text/plain": [
       "<matplotlib.figure.Figure at 0x7fea06874d90>"
      ]
     },
     "metadata": {},
     "output_type": "display_data"
    }
   ],
   "source": [
    "r = (comb1.best_results_rets + comb2.best_results_rets) / 2.\n",
    "\n",
    "plt.figure()\n",
    "plt.plot(comb1.best_results_rets.dropna().cumsum(), 'c')\n",
    "plt.plot(comb2.best_results_rets.dropna().cumsum(), 'b')\n",
    "plt.plot(r, 'y')\n",
    "plt.show()"
   ]
  },
  {
   "cell_type": "code",
   "execution_count": 23,
   "metadata": {},
   "outputs": [
    {
     "data": {
      "text/html": [
       "<div>\n",
       "<table border=\"1\" class=\"dataframe\">\n",
       "  <thead>\n",
       "    <tr style=\"text-align: right;\">\n",
       "      <th></th>\n",
       "      <th>0</th>\n",
       "      <th>1</th>\n",
       "      <th>2</th>\n",
       "      <th>3</th>\n",
       "      <th>4</th>\n",
       "    </tr>\n",
       "  </thead>\n",
       "  <tbody>\n",
       "    <tr>\n",
       "      <th>Total</th>\n",
       "      <td>0.1966</td>\n",
       "      <td>0.2379</td>\n",
       "      <td>0.1869</td>\n",
       "      <td>0.2200</td>\n",
       "      <td>0.1894</td>\n",
       "    </tr>\n",
       "    <tr>\n",
       "      <th>Mean</th>\n",
       "      <td>0.0001</td>\n",
       "      <td>0.0002</td>\n",
       "      <td>0.0001</td>\n",
       "      <td>0.0002</td>\n",
       "      <td>0.0001</td>\n",
       "    </tr>\n",
       "    <tr>\n",
       "      <th>Std</th>\n",
       "      <td>0.0041</td>\n",
       "      <td>0.0041</td>\n",
       "      <td>0.0040</td>\n",
       "      <td>0.0041</td>\n",
       "      <td>0.0040</td>\n",
       "    </tr>\n",
       "    <tr>\n",
       "      <th>Skew</th>\n",
       "      <td>0.2379</td>\n",
       "      <td>0.3283</td>\n",
       "      <td>0.2679</td>\n",
       "      <td>0.2194</td>\n",
       "      <td>0.2679</td>\n",
       "    </tr>\n",
       "    <tr>\n",
       "      <th>Kurt</th>\n",
       "      <td>3.3900</td>\n",
       "      <td>3.7600</td>\n",
       "      <td>3.4000</td>\n",
       "      <td>3.6500</td>\n",
       "      <td>3.5900</td>\n",
       "    </tr>\n",
       "    <tr>\n",
       "      <th>Sharpe</th>\n",
       "      <td>0.5523</td>\n",
       "      <td>0.6664</td>\n",
       "      <td>0.5282</td>\n",
       "      <td>0.6167</td>\n",
       "      <td>0.5460</td>\n",
       "    </tr>\n",
       "    <tr>\n",
       "      <th>Sortino</th>\n",
       "      <td>0.9427</td>\n",
       "      <td>1.1487</td>\n",
       "      <td>0.9052</td>\n",
       "      <td>1.0468</td>\n",
       "      <td>0.9320</td>\n",
       "    </tr>\n",
       "    <tr>\n",
       "      <th>MinRet</th>\n",
       "      <td>-0.0170</td>\n",
       "      <td>-0.0174</td>\n",
       "      <td>-0.0178</td>\n",
       "      <td>-0.0178</td>\n",
       "      <td>-0.0155</td>\n",
       "    </tr>\n",
       "    <tr>\n",
       "      <th>WinP</th>\n",
       "      <td>0.5122</td>\n",
       "      <td>0.5251</td>\n",
       "      <td>0.5101</td>\n",
       "      <td>0.5259</td>\n",
       "      <td>0.5165</td>\n",
       "    </tr>\n",
       "    <tr>\n",
       "      <th>DD%</th>\n",
       "      <td>-0.0715</td>\n",
       "      <td>-0.0787</td>\n",
       "      <td>-0.0717</td>\n",
       "      <td>-0.0758</td>\n",
       "      <td>-0.0838</td>\n",
       "    </tr>\n",
       "    <tr>\n",
       "      <th>DDDays</th>\n",
       "      <td>223.0000</td>\n",
       "      <td>277.0000</td>\n",
       "      <td>222.0000</td>\n",
       "      <td>326.0000</td>\n",
       "      <td>379.0000</td>\n",
       "    </tr>\n",
       "    <tr>\n",
       "      <th>UnderwaterDays</th>\n",
       "      <td>223.0000</td>\n",
       "      <td>277.0000</td>\n",
       "      <td>222.0000</td>\n",
       "      <td>326.0000</td>\n",
       "      <td>379.0000</td>\n",
       "    </tr>\n",
       "    <tr>\n",
       "      <th>Underwater%</th>\n",
       "      <td>-0.0715</td>\n",
       "      <td>-0.0787</td>\n",
       "      <td>-0.0717</td>\n",
       "      <td>-0.0758</td>\n",
       "      <td>-0.0838</td>\n",
       "    </tr>\n",
       "    <tr>\n",
       "      <th>TimeAtHighs</th>\n",
       "      <td>0.0780</td>\n",
       "      <td>0.0960</td>\n",
       "      <td>0.0680</td>\n",
       "      <td>0.0880</td>\n",
       "      <td>0.0750</td>\n",
       "    </tr>\n",
       "    <tr>\n",
       "      <th>VaR_5perc</th>\n",
       "      <td>-0.0059</td>\n",
       "      <td>-0.0063</td>\n",
       "      <td>-0.0062</td>\n",
       "      <td>-0.0063</td>\n",
       "      <td>-0.0060</td>\n",
       "    </tr>\n",
       "    <tr>\n",
       "      <th>CVaR_5perc</th>\n",
       "      <td>-0.0093</td>\n",
       "      <td>-0.0093</td>\n",
       "      <td>-0.0092</td>\n",
       "      <td>-0.0094</td>\n",
       "      <td>-0.0091</td>\n",
       "    </tr>\n",
       "    <tr>\n",
       "      <th>LPM_2</th>\n",
       "      <td>0.0075</td>\n",
       "      <td>0.0074</td>\n",
       "      <td>0.0074</td>\n",
       "      <td>0.0076</td>\n",
       "      <td>0.0071</td>\n",
       "    </tr>\n",
       "  </tbody>\n",
       "</table>\n",
       "</div>"
      ],
      "text/plain": [
       "                       0         1         2         3         4\n",
       "Total             0.1966    0.2379    0.1869    0.2200    0.1894\n",
       "Mean              0.0001    0.0002    0.0001    0.0002    0.0001\n",
       "Std               0.0041    0.0041    0.0040    0.0041    0.0040\n",
       "Skew              0.2379    0.3283    0.2679    0.2194    0.2679\n",
       "Kurt              3.3900    3.7600    3.4000    3.6500    3.5900\n",
       "Sharpe            0.5523    0.6664    0.5282    0.6167    0.5460\n",
       "Sortino           0.9427    1.1487    0.9052    1.0468    0.9320\n",
       "MinRet           -0.0170   -0.0174   -0.0178   -0.0178   -0.0155\n",
       "WinP              0.5122    0.5251    0.5101    0.5259    0.5165\n",
       "DD%              -0.0715   -0.0787   -0.0717   -0.0758   -0.0838\n",
       "DDDays          223.0000  277.0000  222.0000  326.0000  379.0000\n",
       "UnderwaterDays  223.0000  277.0000  222.0000  326.0000  379.0000\n",
       "Underwater%      -0.0715   -0.0787   -0.0717   -0.0758   -0.0838\n",
       "TimeAtHighs       0.0780    0.0960    0.0680    0.0880    0.0750\n",
       "VaR_5perc        -0.0059   -0.0063   -0.0062   -0.0063   -0.0060\n",
       "CVaR_5perc       -0.0093   -0.0093   -0.0092   -0.0094   -0.0091\n",
       "LPM_2             0.0075    0.0074    0.0074    0.0076    0.0071"
      ]
     },
     "execution_count": 23,
     "metadata": {},
     "output_type": "execute_result"
    }
   ],
   "source": [
    "get_stats(comb1.best_results_rets.dropna())"
   ]
  },
  {
   "cell_type": "code",
   "execution_count": 24,
   "metadata": {},
   "outputs": [
    {
     "data": {
      "text/html": [
       "<div>\n",
       "<table border=\"1\" class=\"dataframe\">\n",
       "  <thead>\n",
       "    <tr style=\"text-align: right;\">\n",
       "      <th></th>\n",
       "      <th>0</th>\n",
       "      <th>1</th>\n",
       "      <th>2</th>\n",
       "      <th>3</th>\n",
       "      <th>4</th>\n",
       "    </tr>\n",
       "  </thead>\n",
       "  <tbody>\n",
       "    <tr>\n",
       "      <th>Total</th>\n",
       "      <td>0.3662</td>\n",
       "      <td>0.3024</td>\n",
       "      <td>0.3362</td>\n",
       "      <td>0.3063</td>\n",
       "      <td>0.3232</td>\n",
       "    </tr>\n",
       "    <tr>\n",
       "      <th>Mean</th>\n",
       "      <td>0.0003</td>\n",
       "      <td>0.0002</td>\n",
       "      <td>0.0002</td>\n",
       "      <td>0.0002</td>\n",
       "      <td>0.0002</td>\n",
       "    </tr>\n",
       "    <tr>\n",
       "      <th>Std</th>\n",
       "      <td>0.0037</td>\n",
       "      <td>0.0037</td>\n",
       "      <td>0.0037</td>\n",
       "      <td>0.0037</td>\n",
       "      <td>0.0036</td>\n",
       "    </tr>\n",
       "    <tr>\n",
       "      <th>Skew</th>\n",
       "      <td>-0.0006</td>\n",
       "      <td>-0.0197</td>\n",
       "      <td>-0.0032</td>\n",
       "      <td>0.0097</td>\n",
       "      <td>0.0317</td>\n",
       "    </tr>\n",
       "    <tr>\n",
       "      <th>Kurt</th>\n",
       "      <td>2.2600</td>\n",
       "      <td>1.9500</td>\n",
       "      <td>2.5500</td>\n",
       "      <td>2.3000</td>\n",
       "      <td>2.0700</td>\n",
       "    </tr>\n",
       "    <tr>\n",
       "      <th>Sharpe</th>\n",
       "      <td>1.1246</td>\n",
       "      <td>0.9428</td>\n",
       "      <td>1.0406</td>\n",
       "      <td>0.9560</td>\n",
       "      <td>1.0264</td>\n",
       "    </tr>\n",
       "    <tr>\n",
       "      <th>Sortino</th>\n",
       "      <td>1.9498</td>\n",
       "      <td>1.6237</td>\n",
       "      <td>1.7982</td>\n",
       "      <td>1.6477</td>\n",
       "      <td>1.7814</td>\n",
       "    </tr>\n",
       "    <tr>\n",
       "      <th>MinRet</th>\n",
       "      <td>-0.0194</td>\n",
       "      <td>-0.0186</td>\n",
       "      <td>-0.0197</td>\n",
       "      <td>-0.0176</td>\n",
       "      <td>-0.0176</td>\n",
       "    </tr>\n",
       "    <tr>\n",
       "      <th>WinP</th>\n",
       "      <td>0.5287</td>\n",
       "      <td>0.5115</td>\n",
       "      <td>0.5316</td>\n",
       "      <td>0.5187</td>\n",
       "      <td>0.5251</td>\n",
       "    </tr>\n",
       "    <tr>\n",
       "      <th>DD%</th>\n",
       "      <td>-0.0762</td>\n",
       "      <td>-0.0794</td>\n",
       "      <td>-0.0669</td>\n",
       "      <td>-0.0786</td>\n",
       "      <td>-0.0667</td>\n",
       "    </tr>\n",
       "    <tr>\n",
       "      <th>DDDays</th>\n",
       "      <td>291.0000</td>\n",
       "      <td>208.0000</td>\n",
       "      <td>277.0000</td>\n",
       "      <td>161.0000</td>\n",
       "      <td>278.0000</td>\n",
       "    </tr>\n",
       "    <tr>\n",
       "      <th>UnderwaterDays</th>\n",
       "      <td>291.0000</td>\n",
       "      <td>268.0000</td>\n",
       "      <td>277.0000</td>\n",
       "      <td>244.0000</td>\n",
       "      <td>278.0000</td>\n",
       "    </tr>\n",
       "    <tr>\n",
       "      <th>Underwater%</th>\n",
       "      <td>-0.0762</td>\n",
       "      <td>-0.0567</td>\n",
       "      <td>-0.0669</td>\n",
       "      <td>-0.0754</td>\n",
       "      <td>-0.0667</td>\n",
       "    </tr>\n",
       "    <tr>\n",
       "      <th>TimeAtHighs</th>\n",
       "      <td>0.1160</td>\n",
       "      <td>0.1030</td>\n",
       "      <td>0.1160</td>\n",
       "      <td>0.1060</td>\n",
       "      <td>0.1130</td>\n",
       "    </tr>\n",
       "    <tr>\n",
       "      <th>VaR_5perc</th>\n",
       "      <td>-0.0054</td>\n",
       "      <td>-0.0055</td>\n",
       "      <td>-0.0056</td>\n",
       "      <td>-0.0055</td>\n",
       "      <td>-0.0054</td>\n",
       "    </tr>\n",
       "    <tr>\n",
       "      <th>CVaR_5perc</th>\n",
       "      <td>-0.0080</td>\n",
       "      <td>-0.0079</td>\n",
       "      <td>-0.0079</td>\n",
       "      <td>-0.0079</td>\n",
       "      <td>-0.0077</td>\n",
       "    </tr>\n",
       "    <tr>\n",
       "      <th>LPM_2</th>\n",
       "      <td>0.0061</td>\n",
       "      <td>0.0060</td>\n",
       "      <td>0.0061</td>\n",
       "      <td>0.0060</td>\n",
       "      <td>0.0058</td>\n",
       "    </tr>\n",
       "  </tbody>\n",
       "</table>\n",
       "</div>"
      ],
      "text/plain": [
       "                       0         1         2         3         4\n",
       "Total             0.3662    0.3024    0.3362    0.3063    0.3232\n",
       "Mean              0.0003    0.0002    0.0002    0.0002    0.0002\n",
       "Std               0.0037    0.0037    0.0037    0.0037    0.0036\n",
       "Skew             -0.0006   -0.0197   -0.0032    0.0097    0.0317\n",
       "Kurt              2.2600    1.9500    2.5500    2.3000    2.0700\n",
       "Sharpe            1.1246    0.9428    1.0406    0.9560    1.0264\n",
       "Sortino           1.9498    1.6237    1.7982    1.6477    1.7814\n",
       "MinRet           -0.0194   -0.0186   -0.0197   -0.0176   -0.0176\n",
       "WinP              0.5287    0.5115    0.5316    0.5187    0.5251\n",
       "DD%              -0.0762   -0.0794   -0.0669   -0.0786   -0.0667\n",
       "DDDays          291.0000  208.0000  277.0000  161.0000  278.0000\n",
       "UnderwaterDays  291.0000  268.0000  277.0000  244.0000  278.0000\n",
       "Underwater%      -0.0762   -0.0567   -0.0669   -0.0754   -0.0667\n",
       "TimeAtHighs       0.1160    0.1030    0.1160    0.1060    0.1130\n",
       "VaR_5perc        -0.0054   -0.0055   -0.0056   -0.0055   -0.0054\n",
       "CVaR_5perc       -0.0080   -0.0079   -0.0079   -0.0079   -0.0077\n",
       "LPM_2             0.0061    0.0060    0.0061    0.0060    0.0058"
      ]
     },
     "execution_count": 24,
     "metadata": {},
     "output_type": "execute_result"
    }
   ],
   "source": [
    "get_stats(comb2.best_results_rets.dropna())"
   ]
  },
  {
   "cell_type": "code",
   "execution_count": 27,
   "metadata": {},
   "outputs": [
    {
     "data": {
      "text/html": [
       "<div>\n",
       "<table border=\"1\" class=\"dataframe\">\n",
       "  <thead>\n",
       "    <tr style=\"text-align: right;\">\n",
       "      <th></th>\n",
       "      <th>0</th>\n",
       "      <th>1</th>\n",
       "      <th>2</th>\n",
       "      <th>3</th>\n",
       "      <th>4</th>\n",
       "    </tr>\n",
       "  </thead>\n",
       "  <tbody>\n",
       "    <tr>\n",
       "      <th>Total</th>\n",
       "      <td>0.2814</td>\n",
       "      <td>0.2702</td>\n",
       "      <td>0.2615</td>\n",
       "      <td>0.2631</td>\n",
       "      <td>0.2563</td>\n",
       "    </tr>\n",
       "    <tr>\n",
       "      <th>Mean</th>\n",
       "      <td>0.0002</td>\n",
       "      <td>0.0002</td>\n",
       "      <td>0.0002</td>\n",
       "      <td>0.0002</td>\n",
       "      <td>0.0002</td>\n",
       "    </tr>\n",
       "    <tr>\n",
       "      <th>Std</th>\n",
       "      <td>0.0032</td>\n",
       "      <td>0.0032</td>\n",
       "      <td>0.0032</td>\n",
       "      <td>0.0032</td>\n",
       "      <td>0.0031</td>\n",
       "    </tr>\n",
       "    <tr>\n",
       "      <th>Skew</th>\n",
       "      <td>0.2359</td>\n",
       "      <td>0.2320</td>\n",
       "      <td>0.2294</td>\n",
       "      <td>0.1595</td>\n",
       "      <td>0.2105</td>\n",
       "    </tr>\n",
       "    <tr>\n",
       "      <th>Kurt</th>\n",
       "      <td>3.8400</td>\n",
       "      <td>3.8900</td>\n",
       "      <td>3.8900</td>\n",
       "      <td>3.8100</td>\n",
       "      <td>3.8600</td>\n",
       "    </tr>\n",
       "    <tr>\n",
       "      <th>Sharpe</th>\n",
       "      <td>1.0040</td>\n",
       "      <td>0.9581</td>\n",
       "      <td>0.9300</td>\n",
       "      <td>0.9348</td>\n",
       "      <td>0.9307</td>\n",
       "    </tr>\n",
       "    <tr>\n",
       "      <th>Sortino</th>\n",
       "      <td>1.7487</td>\n",
       "      <td>1.6607</td>\n",
       "      <td>1.6145</td>\n",
       "      <td>1.6022</td>\n",
       "      <td>1.6060</td>\n",
       "    </tr>\n",
       "    <tr>\n",
       "      <th>MinRet</th>\n",
       "      <td>-0.0160</td>\n",
       "      <td>-0.0158</td>\n",
       "      <td>-0.0172</td>\n",
       "      <td>-0.0158</td>\n",
       "      <td>-0.0149</td>\n",
       "    </tr>\n",
       "    <tr>\n",
       "      <th>WinP</th>\n",
       "      <td>0.5237</td>\n",
       "      <td>0.5201</td>\n",
       "      <td>0.5208</td>\n",
       "      <td>0.5259</td>\n",
       "      <td>0.5287</td>\n",
       "    </tr>\n",
       "    <tr>\n",
       "      <th>DD%</th>\n",
       "      <td>-0.0607</td>\n",
       "      <td>-0.0713</td>\n",
       "      <td>-0.0629</td>\n",
       "      <td>-0.0713</td>\n",
       "      <td>-0.0634</td>\n",
       "    </tr>\n",
       "    <tr>\n",
       "      <th>DDDays</th>\n",
       "      <td>185.0000</td>\n",
       "      <td>238.0000</td>\n",
       "      <td>218.0000</td>\n",
       "      <td>240.0000</td>\n",
       "      <td>164.0000</td>\n",
       "    </tr>\n",
       "    <tr>\n",
       "      <th>UnderwaterDays</th>\n",
       "      <td>228.0000</td>\n",
       "      <td>238.0000</td>\n",
       "      <td>221.0000</td>\n",
       "      <td>240.0000</td>\n",
       "      <td>211.0000</td>\n",
       "    </tr>\n",
       "    <tr>\n",
       "      <th>Underwater%</th>\n",
       "      <td>-0.0594</td>\n",
       "      <td>-0.0713</td>\n",
       "      <td>-0.0618</td>\n",
       "      <td>-0.0713</td>\n",
       "      <td>-0.0601</td>\n",
       "    </tr>\n",
       "    <tr>\n",
       "      <th>TimeAtHighs</th>\n",
       "      <td>0.0990</td>\n",
       "      <td>0.1130</td>\n",
       "      <td>0.1060</td>\n",
       "      <td>0.1110</td>\n",
       "      <td>0.1070</td>\n",
       "    </tr>\n",
       "    <tr>\n",
       "      <th>VaR_5perc</th>\n",
       "      <td>-0.0045</td>\n",
       "      <td>-0.0048</td>\n",
       "      <td>-0.0047</td>\n",
       "      <td>-0.0047</td>\n",
       "      <td>-0.0046</td>\n",
       "    </tr>\n",
       "    <tr>\n",
       "      <th>CVaR_5perc</th>\n",
       "      <td>-0.0070</td>\n",
       "      <td>-0.0071</td>\n",
       "      <td>-0.0070</td>\n",
       "      <td>-0.0072</td>\n",
       "      <td>-0.0070</td>\n",
       "    </tr>\n",
       "    <tr>\n",
       "      <th>LPM_2</th>\n",
       "      <td>0.0045</td>\n",
       "      <td>0.0046</td>\n",
       "      <td>0.0045</td>\n",
       "      <td>0.0046</td>\n",
       "      <td>0.0044</td>\n",
       "    </tr>\n",
       "  </tbody>\n",
       "</table>\n",
       "</div>"
      ],
      "text/plain": [
       "                       0         1         2         3         4\n",
       "Total             0.2814    0.2702    0.2615    0.2631    0.2563\n",
       "Mean              0.0002    0.0002    0.0002    0.0002    0.0002\n",
       "Std               0.0032    0.0032    0.0032    0.0032    0.0031\n",
       "Skew              0.2359    0.2320    0.2294    0.1595    0.2105\n",
       "Kurt              3.8400    3.8900    3.8900    3.8100    3.8600\n",
       "Sharpe            1.0040    0.9581    0.9300    0.9348    0.9307\n",
       "Sortino           1.7487    1.6607    1.6145    1.6022    1.6060\n",
       "MinRet           -0.0160   -0.0158   -0.0172   -0.0158   -0.0149\n",
       "WinP              0.5237    0.5201    0.5208    0.5259    0.5287\n",
       "DD%              -0.0607   -0.0713   -0.0629   -0.0713   -0.0634\n",
       "DDDays          185.0000  238.0000  218.0000  240.0000  164.0000\n",
       "UnderwaterDays  228.0000  238.0000  221.0000  240.0000  211.0000\n",
       "Underwater%      -0.0594   -0.0713   -0.0618   -0.0713   -0.0601\n",
       "TimeAtHighs       0.0990    0.1130    0.1060    0.1110    0.1070\n",
       "VaR_5perc        -0.0045   -0.0048   -0.0047   -0.0047   -0.0046\n",
       "CVaR_5perc       -0.0070   -0.0071   -0.0070   -0.0072   -0.0070\n",
       "LPM_2             0.0045    0.0046    0.0045    0.0046    0.0044"
      ]
     },
     "execution_count": 27,
     "metadata": {},
     "output_type": "execute_result"
    }
   ],
   "source": [
    "get_stats(r.dropna())"
   ]
  },
  {
   "cell_type": "code",
   "execution_count": null,
   "metadata": {
    "collapsed": true
   },
   "outputs": [],
   "source": []
  },
  {
   "cell_type": "code",
   "execution_count": 8,
   "metadata": {},
   "outputs": [
    {
     "data": {
      "text/html": [
       "<div>\n",
       "<table border=\"1\" class=\"dataframe\">\n",
       "  <thead>\n",
       "    <tr style=\"text-align: right;\">\n",
       "      <th></th>\n",
       "      <th>Param</th>\n",
       "      <th>Val</th>\n",
       "      <th>Count</th>\n",
       "      <th>MeanTotalRet</th>\n",
       "      <th>MeanSharpe</th>\n",
       "      <th>no_stat</th>\n",
       "    </tr>\n",
       "  </thead>\n",
       "  <tbody>\n",
       "    <tr>\n",
       "      <th>0</th>\n",
       "      <td>holding_period</td>\n",
       "      <td>3</td>\n",
       "      <td>126</td>\n",
       "      <td>0.714483</td>\n",
       "      <td>0.057783</td>\n",
       "      <td>-999.0</td>\n",
       "    </tr>\n",
       "    <tr>\n",
       "      <th>1</th>\n",
       "      <td>holding_period</td>\n",
       "      <td>5</td>\n",
       "      <td>126</td>\n",
       "      <td>0.740677</td>\n",
       "      <td>0.064534</td>\n",
       "      <td>-999.0</td>\n",
       "    </tr>\n",
       "    <tr>\n",
       "      <th>2</th>\n",
       "      <td>holding_period</td>\n",
       "      <td>7</td>\n",
       "      <td>126</td>\n",
       "      <td>0.707251</td>\n",
       "      <td>0.066481</td>\n",
       "      <td>-999.0</td>\n",
       "    </tr>\n",
       "    <tr>\n",
       "      <th>3</th>\n",
       "      <td>holding_period</td>\n",
       "      <td>9</td>\n",
       "      <td>126</td>\n",
       "      <td>0.660230</td>\n",
       "      <td>0.065659</td>\n",
       "      <td>-999.0</td>\n",
       "    </tr>\n",
       "    <tr>\n",
       "      <th>4</th>\n",
       "      <td>model</td>\n",
       "      <td>{u'max_features': 0.5, u'type': u'tree', u'min...</td>\n",
       "      <td>168</td>\n",
       "      <td>0.738919</td>\n",
       "      <td>0.067894</td>\n",
       "      <td>-999.0</td>\n",
       "    </tr>\n",
       "    <tr>\n",
       "      <th>5</th>\n",
       "      <td>model</td>\n",
       "      <td>{u'max_features': 0.8, u'type': u'tree', u'min...</td>\n",
       "      <td>168</td>\n",
       "      <td>0.770677</td>\n",
       "      <td>0.070665</td>\n",
       "      <td>-999.0</td>\n",
       "    </tr>\n",
       "    <tr>\n",
       "      <th>6</th>\n",
       "      <td>model</td>\n",
       "      <td>{u'type': u'reg'}</td>\n",
       "      <td>168</td>\n",
       "      <td>0.607384</td>\n",
       "      <td>0.052284</td>\n",
       "      <td>-999.0</td>\n",
       "    </tr>\n",
       "    <tr>\n",
       "      <th>7</th>\n",
       "      <td>per_side_count</td>\n",
       "      <td>10</td>\n",
       "      <td>168</td>\n",
       "      <td>0.785889</td>\n",
       "      <td>0.058984</td>\n",
       "      <td>-999.0</td>\n",
       "    </tr>\n",
       "    <tr>\n",
       "      <th>8</th>\n",
       "      <td>per_side_count</td>\n",
       "      <td>20</td>\n",
       "      <td>168</td>\n",
       "      <td>0.699404</td>\n",
       "      <td>0.065104</td>\n",
       "      <td>-999.0</td>\n",
       "    </tr>\n",
       "    <tr>\n",
       "      <th>9</th>\n",
       "      <td>per_side_count</td>\n",
       "      <td>30</td>\n",
       "      <td>168</td>\n",
       "      <td>0.631687</td>\n",
       "      <td>0.066756</td>\n",
       "      <td>-999.0</td>\n",
       "    </tr>\n",
       "    <tr>\n",
       "      <th>10</th>\n",
       "      <td>response_days</td>\n",
       "      <td>10</td>\n",
       "      <td>252</td>\n",
       "      <td>0.721076</td>\n",
       "      <td>0.065128</td>\n",
       "      <td>-999.0</td>\n",
       "    </tr>\n",
       "    <tr>\n",
       "      <th>11</th>\n",
       "      <td>response_days</td>\n",
       "      <td>5</td>\n",
       "      <td>252</td>\n",
       "      <td>0.690244</td>\n",
       "      <td>0.062101</td>\n",
       "      <td>-999.0</td>\n",
       "    </tr>\n",
       "    <tr>\n",
       "      <th>12</th>\n",
       "      <td>response_type</td>\n",
       "      <td>Simple</td>\n",
       "      <td>504</td>\n",
       "      <td>0.705660</td>\n",
       "      <td>0.063614</td>\n",
       "      <td>-999.0</td>\n",
       "    </tr>\n",
       "    <tr>\n",
       "      <th>13</th>\n",
       "      <td>score_var</td>\n",
       "      <td>boll_10</td>\n",
       "      <td>72</td>\n",
       "      <td>0.557195</td>\n",
       "      <td>0.069880</td>\n",
       "      <td>-999.0</td>\n",
       "    </tr>\n",
       "    <tr>\n",
       "      <th>14</th>\n",
       "      <td>score_var</td>\n",
       "      <td>boll_20</td>\n",
       "      <td>72</td>\n",
       "      <td>0.680139</td>\n",
       "      <td>0.077122</td>\n",
       "      <td>-999.0</td>\n",
       "    </tr>\n",
       "    <tr>\n",
       "      <th>15</th>\n",
       "      <td>score_var</td>\n",
       "      <td>prma_10</td>\n",
       "      <td>72</td>\n",
       "      <td>0.734456</td>\n",
       "      <td>0.058227</td>\n",
       "      <td>-999.0</td>\n",
       "    </tr>\n",
       "    <tr>\n",
       "      <th>16</th>\n",
       "      <td>score_var</td>\n",
       "      <td>prma_15</td>\n",
       "      <td>72</td>\n",
       "      <td>0.813210</td>\n",
       "      <td>0.061208</td>\n",
       "      <td>-999.0</td>\n",
       "    </tr>\n",
       "    <tr>\n",
       "      <th>17</th>\n",
       "      <td>score_var</td>\n",
       "      <td>prma_20</td>\n",
       "      <td>72</td>\n",
       "      <td>0.828937</td>\n",
       "      <td>0.059698</td>\n",
       "      <td>-999.0</td>\n",
       "    </tr>\n",
       "    <tr>\n",
       "      <th>18</th>\n",
       "      <td>score_var</td>\n",
       "      <td>ret_10d</td>\n",
       "      <td>72</td>\n",
       "      <td>0.725771</td>\n",
       "      <td>0.055891</td>\n",
       "      <td>-999.0</td>\n",
       "    </tr>\n",
       "    <tr>\n",
       "      <th>19</th>\n",
       "      <td>score_var</td>\n",
       "      <td>rsi_15</td>\n",
       "      <td>72</td>\n",
       "      <td>0.599912</td>\n",
       "      <td>0.063275</td>\n",
       "      <td>-999.0</td>\n",
       "    </tr>\n",
       "  </tbody>\n",
       "</table>\n",
       "</div>"
      ],
      "text/plain": [
       "             Param                                                Val  Count  \\\n",
       "0   holding_period                                                  3    126   \n",
       "1   holding_period                                                  5    126   \n",
       "2   holding_period                                                  7    126   \n",
       "3   holding_period                                                  9    126   \n",
       "4            model  {u'max_features': 0.5, u'type': u'tree', u'min...    168   \n",
       "5            model  {u'max_features': 0.8, u'type': u'tree', u'min...    168   \n",
       "6            model                                  {u'type': u'reg'}    168   \n",
       "7   per_side_count                                                 10    168   \n",
       "8   per_side_count                                                 20    168   \n",
       "9   per_side_count                                                 30    168   \n",
       "10   response_days                                                 10    252   \n",
       "11   response_days                                                  5    252   \n",
       "12   response_type                                             Simple    504   \n",
       "13       score_var                                            boll_10     72   \n",
       "14       score_var                                            boll_20     72   \n",
       "15       score_var                                            prma_10     72   \n",
       "16       score_var                                            prma_15     72   \n",
       "17       score_var                                            prma_20     72   \n",
       "18       score_var                                            ret_10d     72   \n",
       "19       score_var                                             rsi_15     72   \n",
       "\n",
       "    MeanTotalRet  MeanSharpe  no_stat  \n",
       "0       0.714483    0.057783   -999.0  \n",
       "1       0.740677    0.064534   -999.0  \n",
       "2       0.707251    0.066481   -999.0  \n",
       "3       0.660230    0.065659   -999.0  \n",
       "4       0.738919    0.067894   -999.0  \n",
       "5       0.770677    0.070665   -999.0  \n",
       "6       0.607384    0.052284   -999.0  \n",
       "7       0.785889    0.058984   -999.0  \n",
       "8       0.699404    0.065104   -999.0  \n",
       "9       0.631687    0.066756   -999.0  \n",
       "10      0.721076    0.065128   -999.0  \n",
       "11      0.690244    0.062101   -999.0  \n",
       "12      0.705660    0.063614   -999.0  \n",
       "13      0.557195    0.069880   -999.0  \n",
       "14      0.680139    0.077122   -999.0  \n",
       "15      0.734456    0.058227   -999.0  \n",
       "16      0.813210    0.061208   -999.0  \n",
       "17      0.828937    0.059698   -999.0  \n",
       "18      0.725771    0.055891   -999.0  \n",
       "19      0.599912    0.063275   -999.0  "
      ]
     },
     "execution_count": 8,
     "metadata": {},
     "output_type": "execute_result"
    }
   ],
   "source": [
    "params = run1.analyze_parameters()\n",
    "params"
   ]
  },
  {
   "cell_type": "code",
   "execution_count": 9,
   "metadata": {},
   "outputs": [
    {
     "data": {
      "image/png": "[encoded data removed]",
      "text/plain": [
       "<matplotlib.figure.Figure at 0x7fea02190650>"
      ]
     },
     "metadata": {},
     "output_type": "display_data"
    }
   ],
   "source": [
    "plt.figure()\n",
    "plt.plot(run1.returns.dropna().cumsum())\n",
    "plt.show()"
   ]
  },
  {
   "cell_type": "code",
   "execution_count": 10,
   "metadata": {},
   "outputs": [
    {
     "name": "stderr",
     "output_type": "stream",
     "text": [
      "\r",
      "  0%|          | 0/1 [00:00<?, ?it/s]"
     ]
    },
    {
     "name": "stdout",
     "output_type": "stream",
     "text": [
      "Reading and aggregating runs...\n"
     ]
    },
    {
     "name": "stderr",
     "output_type": "stream",
     "text": [
      "100%|██████████| 1/1 [00:04<00:00,  4.09s/it]\n",
      "  0%|          | 0/10 [00:00<?, ?it/s]"
     ]
    },
    {
     "name": "stdout",
     "output_type": "stream",
     "text": [
      "Finished aggregating runs...\n"
     ]
    },
    {
     "name": "stderr",
     "output_type": "stream",
     "text": [
      "100%|██████████| 10/10 [01:40<00:00, 10.05s/it]\n"
     ]
    }
   ],
   "source": [
    "comb1 = CombinationSearch()\n",
    "comb1.add_run(run1)\n",
    "comb1.start(10, 'mean')"
   ]
  },
  {
   "cell_type": "code",
   "execution_count": 11,
   "metadata": {},
   "outputs": [
    {
     "data": {
      "image/png": "[encoded data removed]",
      "text/plain": [
       "<matplotlib.figure.Figure at 0x7fe9fd3b9290>"
      ]
     },
     "metadata": {},
     "output_type": "display_data"
    }
   ],
   "source": [
    "plt.figure()\n",
    "plt.plot(comb.best_results_rets.dropna().cumsum())\n",
    "plt.show()"
   ]
  },
  {
   "cell_type": "code",
   "execution_count": 12,
   "metadata": {},
   "outputs": [
    {
     "data": {
      "text/html": [
       "<div>\n",
       "<table border=\"1\" class=\"dataframe\">\n",
       "  <thead>\n",
       "    <tr style=\"text-align: right;\">\n",
       "      <th>Qtr</th>\n",
       "      <th>1</th>\n",
       "      <th>2</th>\n",
       "      <th>3</th>\n",
       "      <th>4</th>\n",
       "      <th>year</th>\n",
       "    </tr>\n",
       "    <tr>\n",
       "      <th>Year</th>\n",
       "      <th></th>\n",
       "      <th></th>\n",
       "      <th></th>\n",
       "      <th></th>\n",
       "      <th></th>\n",
       "    </tr>\n",
       "  </thead>\n",
       "  <tbody>\n",
       "    <tr>\n",
       "      <th>2008</th>\n",
       "      <td>NaN</td>\n",
       "      <td>NaN</td>\n",
       "      <td>NaN</td>\n",
       "      <td>NaN</td>\n",
       "      <td>NaN</td>\n",
       "    </tr>\n",
       "    <tr>\n",
       "      <th>2009</th>\n",
       "      <td>NaN</td>\n",
       "      <td>NaN</td>\n",
       "      <td>-0.035035</td>\n",
       "      <td>0.002374</td>\n",
       "      <td>-0.032660</td>\n",
       "    </tr>\n",
       "    <tr>\n",
       "      <th>2010</th>\n",
       "      <td>0.060349</td>\n",
       "      <td>-0.018950</td>\n",
       "      <td>0.074671</td>\n",
       "      <td>-0.009509</td>\n",
       "      <td>0.106561</td>\n",
       "    </tr>\n",
       "    <tr>\n",
       "      <th>2011</th>\n",
       "      <td>0.048116</td>\n",
       "      <td>0.019280</td>\n",
       "      <td>-0.023417</td>\n",
       "      <td>0.085801</td>\n",
       "      <td>0.129780</td>\n",
       "    </tr>\n",
       "    <tr>\n",
       "      <th>2012</th>\n",
       "      <td>-0.016201</td>\n",
       "      <td>0.005943</td>\n",
       "      <td>0.016505</td>\n",
       "      <td>0.053475</td>\n",
       "      <td>0.059722</td>\n",
       "    </tr>\n",
       "    <tr>\n",
       "      <th>2013</th>\n",
       "      <td>0.007962</td>\n",
       "      <td>0.043971</td>\n",
       "      <td>0.032185</td>\n",
       "      <td>0.011777</td>\n",
       "      <td>0.095895</td>\n",
       "    </tr>\n",
       "    <tr>\n",
       "      <th>2014</th>\n",
       "      <td>0.043623</td>\n",
       "      <td>-0.002558</td>\n",
       "      <td>-0.022871</td>\n",
       "      <td>0.003104</td>\n",
       "      <td>0.021298</td>\n",
       "    </tr>\n",
       "    <tr>\n",
       "      <th>2015</th>\n",
       "      <td>0.018353</td>\n",
       "      <td>0.037376</td>\n",
       "      <td>-0.014505</td>\n",
       "      <td>0.060559</td>\n",
       "      <td>0.101782</td>\n",
       "    </tr>\n",
       "    <tr>\n",
       "      <th>2016</th>\n",
       "      <td>0.002590</td>\n",
       "      <td>-0.006851</td>\n",
       "      <td>0.010940</td>\n",
       "      <td>0.036472</td>\n",
       "      <td>0.043150</td>\n",
       "    </tr>\n",
       "    <tr>\n",
       "      <th>2017</th>\n",
       "      <td>0.015377</td>\n",
       "      <td>0.029460</td>\n",
       "      <td>-0.003462</td>\n",
       "      <td>0.020617</td>\n",
       "      <td>0.061993</td>\n",
       "    </tr>\n",
       "    <tr>\n",
       "      <th>2018</th>\n",
       "      <td>-0.000236</td>\n",
       "      <td>NaN</td>\n",
       "      <td>NaN</td>\n",
       "      <td>NaN</td>\n",
       "      <td>-0.000236</td>\n",
       "    </tr>\n",
       "  </tbody>\n",
       "</table>\n",
       "</div>"
      ],
      "text/plain": [
       "Qtr          1         2         3         4      year\n",
       "Year                                                  \n",
       "2008       NaN       NaN       NaN       NaN       NaN\n",
       "2009       NaN       NaN -0.035035  0.002374 -0.032660\n",
       "2010  0.060349 -0.018950  0.074671 -0.009509  0.106561\n",
       "2011  0.048116  0.019280 -0.023417  0.085801  0.129780\n",
       "2012 -0.016201  0.005943  0.016505  0.053475  0.059722\n",
       "2013  0.007962  0.043971  0.032185  0.011777  0.095895\n",
       "2014  0.043623 -0.002558 -0.022871  0.003104  0.021298\n",
       "2015  0.018353  0.037376 -0.014505  0.060559  0.101782\n",
       "2016  0.002590 -0.006851  0.010940  0.036472  0.043150\n",
       "2017  0.015377  0.029460 -0.003462  0.020617  0.061993\n",
       "2018 -0.000236       NaN       NaN       NaN -0.000236"
      ]
     },
     "execution_count": 12,
     "metadata": {},
     "output_type": "execute_result"
    }
   ],
   "source": [
    "df = rollup_returns(comb.best_results_rets)\n",
    "df['year'] = df.sum(axis=1)\n",
    "df"
   ]
  },
  {
   "cell_type": "code",
   "execution_count": null,
   "metadata": {
    "collapsed": true
   },
   "outputs": [],
   "source": []
  },
  {
   "cell_type": "code",
   "execution_count": null,
   "metadata": {
    "collapsed": true
   },
   "outputs": [],
   "source": []
  },
  {
   "cell_type": "code",
   "execution_count": null,
   "metadata": {
    "collapsed": true
   },
   "outputs": [],
   "source": []
  },
  {
   "cell_type": "code",
   "execution_count": null,
   "metadata": {
    "collapsed": true
   },
   "outputs": [],
   "source": []
  },
  {
   "cell_type": "markdown",
   "metadata": {},
   "source": [
    "# Analysis of Stats in All Output"
   ]
  },
  {
   "cell_type": "code",
   "execution_count": 8,
   "metadata": {
    "collapsed": true
   },
   "outputs": [],
   "source": [
    "run1.import_all_output()"
   ]
  },
  {
   "cell_type": "code",
   "execution_count": 32,
   "metadata": {
    "collapsed": true
   },
   "outputs": [],
   "source": [
    "# Exposure columns\n",
    "expcols = [x for x in run1.all_output.columns if x.find('Exp') > -1]\n",
    "turncols = [x for x in run1.all_output.columns if x.find('Turnover') > -1]\n",
    "opencols = [x for x in run1.all_output.columns if x.find('OpenPositions') > -1]\n",
    "longpl = [x for x in run1.all_output.columns if x.find('LongPL') > -1]\n",
    "shortpl = [x for x in run1.all_output.columns if x.find('ShortPL') > -1]"
   ]
  },
  {
   "cell_type": "code",
   "execution_count": 36,
   "metadata": {},
   "outputs": [
    {
     "data": {
      "image/png": "[encoded data removed]",
      "text/plain": [
       "<matplotlib.figure.Figure at 0x7f4a36eee310>"
      ]
     },
     "metadata": {},
     "output_type": "display_data"
    }
   ],
   "source": [
    "plt.figure()\n",
    "plt.plot(run1.all_output[expcols].mean(axis=1))\n",
    "plt.show()"
   ]
  },
  {
   "cell_type": "code",
   "execution_count": 34,
   "metadata": {},
   "outputs": [
    {
     "data": {
      "image/png": "[encoded data removed]",
      "text/plain": [
       "<matplotlib.figure.Figure at 0x7f4a2d739f50>"
      ]
     },
     "metadata": {},
     "output_type": "display_data"
    }
   ],
   "source": [
    "plt.figure()\n",
    "plt.plot(run1.all_output[longpl].mean(axis=1).cumsum())\n",
    "plt.plot(run1.all_output[shortpl].mean(axis=1).cumsum())\n",
    "plt.plot(run1.all_output[longpl].mean(axis=1).cumsum() + run1.all_output[shortpl].mean(axis=1).cumsum())\n",
    "plt.show()"
   ]
  },
  {
   "cell_type": "code",
   "execution_count": null,
   "metadata": {
    "collapsed": true
   },
   "outputs": [],
   "source": []
  },
  {
   "cell_type": "code",
   "execution_count": null,
   "metadata": {
    "collapsed": true
   },
   "outputs": [],
   "source": []
  },
  {
   "cell_type": "code",
   "execution_count": null,
   "metadata": {
    "collapsed": true
   },
   "outputs": [],
   "source": []
  },
  {
   "cell_type": "code",
   "execution_count": null,
   "metadata": {
    "collapsed": true
   },
   "outputs": [],
   "source": []
  },
  {
   "cell_type": "code",
   "execution_count": null,
   "metadata": {
    "collapsed": true
   },
   "outputs": [],
   "source": []
  },
  {
   "cell_type": "code",
   "execution_count": null,
   "metadata": {
    "collapsed": true
   },
   "outputs": [],
   "source": []
  },
  {
   "cell_type": "code",
   "execution_count": null,
   "metadata": {
    "collapsed": true
   },
   "outputs": [],
   "source": []
  },
  {
   "cell_type": "code",
   "execution_count": null,
   "metadata": {
    "collapsed": true
   },
   "outputs": [],
   "source": []
  },
  {
   "cell_type": "code",
   "execution_count": null,
   "metadata": {
    "collapsed": true
   },
   "outputs": [],
   "source": []
  }
 ],
 "metadata": {
  "kernelspec": {
   "display_name": "Python 2",
   "language": "python",
   "name": "python2"
  },
  "language_info": {
   "codemirror_mode": {
    "name": "ipython",
    "version": 2
   },
   "file_extension": ".py",
   "mimetype": "text/x-python",
   "name": "python",
   "nbconvert_exporter": "python",
   "pygments_lexer": "ipython2",
   "version": "2.7.13"
  }
 },
 "nbformat": 4,
 "nbformat_minor": 2
}
