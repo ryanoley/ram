{
 "cells": [
  {
   "cell_type": "code",
   "execution_count": 1,
   "metadata": {
    "collapsed": true
   },
   "outputs": [],
   "source": [
    "from ram.analysis.parameters import *"
   ]
  },
  {
   "cell_type": "code",
   "execution_count": 2,
   "metadata": {
    "collapsed": true
   },
   "outputs": [],
   "source": [
    "ddir = '/Users/mitchellsuter/Desktop/StatArbStrategy'\n",
    "run_dirs = find_results_csv_directories(ddir)"
   ]
  },
  {
   "cell_type": "code",
   "execution_count": 6,
   "metadata": {
    "collapsed": false
   },
   "outputs": [
    {
     "name": "stdout",
     "output_type": "stream",
     "text": [
      "Description from meta stats:  No description \n",
      "\n",
      "\n",
      "                 Param    Val  Count  MeanTotalRet  MeanSharpe  \\\n",
      "0            max_pairs   3000    288      0.541958    0.055549   \n",
      "1            max_pairs   6000    288      0.497350    0.049461   \n",
      "2         max_pos_prop   0.07    576      0.519654    0.052505   \n",
      "3              n_pairs    100    144      0.488414    0.047077   \n",
      "4              n_pairs    200    144      0.522738    0.051869   \n",
      "5              n_pairs    300    144      0.530954    0.054292   \n",
      "6              n_pairs    400    144      0.536509    0.056781   \n",
      "7   pos_perc_deviation   0.03    288      0.520749    0.052524   \n",
      "8   pos_perc_deviation   0.07    288      0.518559    0.052485   \n",
      "9          same_sector  False    288      0.577835    0.059730   \n",
      "10         same_sector   True    288      0.461473    0.045279   \n",
      "11    vol_ratio_filter    0.3    288      0.541434    0.056532   \n",
      "12    vol_ratio_filter    0.6    288      0.497874    0.048478   \n",
      "13              z_exit    0.5    192      0.436924    0.046274   \n",
      "14              z_exit    0.7    192      0.505688    0.051614   \n",
      "15              z_exit      1    192      0.616350    0.059626   \n",
      "16            z_window     20    192      0.581810    0.060085   \n",
      "17            z_window     30    192      0.543207    0.054732   \n",
      "18            z_window     40    192      0.433945    0.042697   \n",
      "\n",
      "    avg_holding_days  avg_perc_gain  avg_rebalance_count  max_holding_days  \\\n",
      "0          12.162719       0.001306             1.061871         51.334877   \n",
      "1          12.687283       0.001152             1.125835         51.502315   \n",
      "2          12.425001       0.001229             1.093853         51.418596   \n",
      "3          12.778011       0.001116             1.125080         48.666409   \n",
      "4          12.513139       0.001239             1.100291         51.173354   \n",
      "5          12.301371       0.001267             1.082242         52.527263   \n",
      "6          12.107484       0.001295             1.067801         53.307356   \n",
      "7          12.425001       0.001241             1.774960         51.418596   \n",
      "8          12.425001       0.001217             0.412746         51.418596   \n",
      "9          12.271225       0.001506             1.001833         51.174897   \n",
      "10         12.578778       0.000953             1.185873         51.662294   \n",
      "11         12.437972       0.001282             1.100237         51.431456   \n",
      "12         12.412030       0.001176             1.087469         51.405736   \n",
      "13         14.979602       0.001118             1.366396         58.061343   \n",
      "14         12.690556       0.001253             1.118411         53.702546   \n",
      "15          9.604845       0.001318             0.796753         42.491898   \n",
      "16          9.136655       0.001233             0.746483         43.368827   \n",
      "17         12.546417       0.001384             1.101075         52.913387   \n",
      "18         15.591932       0.001070             1.434002         57.973573   \n",
      "\n",
      "    max_perc_gain  max_rebalance_count  min_perc_gain  total_trades  \n",
      "0        0.176831            10.305813      -0.237230   1405.514275  \n",
      "1        0.192405            10.788387      -0.254635   1341.564429  \n",
      "2        0.184618            10.547100      -0.245932   1373.539352  \n",
      "3        0.154561             9.353395      -0.213224    529.248714  \n",
      "4        0.180130            10.313915      -0.242510   1080.644547  \n",
      "5        0.196324            10.985725      -0.258653   1649.287809  \n",
      "6        0.207456            11.535365      -0.269343   2234.976337  \n",
      "7        0.184428            14.844457      -0.245728   1373.539352  \n",
      "8        0.184807             6.249743      -0.246137   1373.539352  \n",
      "9        0.170452             9.724923      -0.227147   1388.775463  \n",
      "10       0.198783            11.369277      -0.264718   1358.303241  \n",
      "11       0.188867            10.663837      -0.249053   1371.735468  \n",
      "12       0.180368            10.430363      -0.242812   1375.343236  \n",
      "13       0.196601            12.179012      -0.254699   1091.817515  \n",
      "14       0.184677            10.834105      -0.248908   1297.672068  \n",
      "15       0.172575             8.628183      -0.234191   1731.128472  \n",
      "16       0.179269             8.612172      -0.229891   1786.799769  \n",
      "17       0.186833            10.753569      -0.245943   1294.645255  \n",
      "18       0.187751            12.275559      -0.261963   1039.173032  \n"
     ]
    }
   ],
   "source": [
    "stats = analyze_run(run_dirs[2])\n",
    "print 'Description from meta stats: ', stats[1], '\\n\\n'\n",
    "print stats[0]"
   ]
  },
  {
   "cell_type": "code",
   "execution_count": null,
   "metadata": {
    "collapsed": true
   },
   "outputs": [],
   "source": []
  }
 ],
 "metadata": {
  "anaconda-cloud": {},
  "kernelspec": {
   "display_name": "Python 2",
   "language": "python",
   "name": "python2"
  },
  "language_info": {
   "codemirror_mode": {
    "name": "ipython",
    "version": 2
   },
   "file_extension": ".py",
   "mimetype": "text/x-python",
   "name": "python",
   "nbconvert_exporter": "python",
   "pygments_lexer": "ipython2",
   "version": "2.7.12"
  }
 },
 "nbformat": 4,
 "nbformat_minor": 1
}
