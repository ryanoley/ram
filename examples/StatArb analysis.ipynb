{
 "cells": [
  {
   "cell_type": "code",
   "execution_count": 24,
   "metadata": {},
   "outputs": [],
   "source": [
    "%matplotlib inline\n",
    "\n",
    "import os\n",
    "import pandas as pd\n",
    "\n",
    "from ram import config\n",
    "\n",
    "import matplotlib.pyplot as plt\n",
    "\n",
    "from ram.analysis.run_manager import RunManager\n",
    "from ram.analysis.run_aggregator import RunAggregator\n",
    "from ram.analysis.combo_search import CombinationSearch\n",
    "from ram.analysis.statistics import get_stats, rollup_returns"
   ]
  },
  {
   "cell_type": "code",
   "execution_count": 49,
   "metadata": {},
   "outputs": [
    {
     "name": "stdout",
     "output_type": "stream",
     "text": [
      "         Run  RunDate  Completed  \\\n",
      "0   run_0021      NaN        NaN   \n",
      "1   run_0022      NaN        NaN   \n",
      "2   run_0023      NaN        NaN   \n",
      "3   run_0024      NaN        NaN   \n",
      "4   run_0026      NaN        NaN   \n",
      "5   run_0027      NaN        NaN   \n",
      "6   run_0028      NaN        NaN   \n",
      "7   run_0029      NaN        NaN   \n",
      "8   run_0030      NaN        NaN   \n",
      "9   run_0031      NaN        NaN   \n",
      "10  run_0032      NaN        NaN   \n",
      "11  run_0033      NaN        NaN   \n",
      "12  run_0034      NaN        NaN   \n",
      "13  run_0035      NaN        NaN   \n",
      "14  run_0036      NaN        NaN   \n",
      "15  run_0037      NaN        NaN   \n",
      "16  run_0038      NaN        NaN   \n",
      "17  run_0039      NaN        NaN   \n",
      "18  run_0040      NaN        NaN   \n",
      "19  run_0042      NaN        NaN   \n",
      "20  run_0043      NaN        NaN   \n",
      "\n",
      "                                          Description Starred  \n",
      "0   First run with new implementation of StrategyB...          \n",
      "1   quarterly univ creation but with the new strat...          \n",
      "2   Takes and stops for returns on individual pair...          \n",
      "3   removed takes also testing bigger z score smoo...          \n",
      "4   removed z exit score and only rely on takes an...          \n",
      "5   First run with completely overhauled construct...          \n",
      "6   same as 27 just updated a handful of construct...          \n",
      "7   Pairs2 with distance for returns averaged over...          \n",
      "8   pairs2 but using returns instead of ranks for ...          \n",
      "9                      tech only, pairs1 constructor1          \n",
      "10              industrials only, pairs1 constructor1          \n",
      "11                             consumer discretionary          \n",
      "12                                             energy          \n",
      "13                                          materials          \n",
      "14  consumer discretionary (sector 25) with avgdol...          \n",
      "15                healthcare with min avgdolvol of 10          \n",
      "16               consumer staples above 10M avgdolvol          \n",
      "17                      financials over 10M avgdolvol          \n",
      "18                                   telecom over 10M          \n",
      "19                first run with pairs3, constructor1          \n",
      "20                      pairs3 constructor3 first run          \n"
     ]
    }
   ],
   "source": [
    "# View all available strategies\n",
    "print(RunManager.get_run_names('StatArbStrategy'))"
   ]
  },
  {
   "cell_type": "code",
   "execution_count": 83,
   "metadata": {},
   "outputs": [
    {
     "data": {
      "image/png": "[encoded data removed]",
      "text/plain": [
       "<matplotlib.figure.Figure at 0x11b974050>"
      ]
     },
     "metadata": {},
     "output_type": "display_data"
    }
   ],
   "source": [
    "rm1 = RunManager('StatArbStrategy', 'run_0042', 2009)\n",
    "#rm2 = RunManager('StatArbStrategy', 'run_0028', 2009)\n",
    "\n",
    "rm1.import_return_frame()\n",
    "#rm2.import_return_frame()\n",
    "\n",
    "plt.figure()\n",
    "plt.plot(rm1.returns.cumsum(), 'b', alpha=.5)\n",
    "#plt.plot(rm2.returns.cumsum(), 'g', alpha=.5)\n",
    "\n",
    "plt.grid()\n",
    "plt.show()"
   ]
  },
  {
   "cell_type": "code",
   "execution_count": 84,
   "metadata": {},
   "outputs": [
    {
     "data": {
      "text/plain": [
       "{u'description': u'first run with pairs3, constructor1',\n",
       " u'git_branch': u'master',\n",
       " u'latest_git_commit': u'419cbfa2478c96035481423d8ad266eda67ac6df',\n",
       " u'prepped_data_version': u'version_0017'}"
      ]
     },
     "execution_count": 84,
     "metadata": {},
     "output_type": "execute_result"
    }
   ],
   "source": [
    "rm1.import_meta()\n",
    "rm1.meta"
   ]
  },
  {
   "cell_type": "code",
   "execution_count": 72,
   "metadata": {
    "collapsed": true
   },
   "outputs": [],
   "source": [
    "#rm1.add_star()"
   ]
  },
  {
   "cell_type": "code",
   "execution_count": 80,
   "metadata": {},
   "outputs": [
    {
     "data": {
      "text/html": [
       "<div>\n",
       "<style>\n",
       "    .dataframe thead tr:only-child th {\n",
       "        text-align: right;\n",
       "    }\n",
       "\n",
       "    .dataframe thead th {\n",
       "        text-align: left;\n",
       "    }\n",
       "\n",
       "    .dataframe tbody tr th {\n",
       "        vertical-align: top;\n",
       "    }\n",
       "</style>\n",
       "<table border=\"1\" class=\"dataframe\">\n",
       "  <thead>\n",
       "    <tr style=\"text-align: right;\">\n",
       "      <th></th>\n",
       "      <th>Param</th>\n",
       "      <th>Val</th>\n",
       "      <th>Count</th>\n",
       "      <th>MeanTotalRet</th>\n",
       "      <th>MeanSharpe</th>\n",
       "      <th>avg_holding_days</th>\n",
       "      <th>avg_perc_gain</th>\n",
       "      <th>avg_rebalance_count</th>\n",
       "      <th>max_holding_days</th>\n",
       "      <th>max_perc_gain</th>\n",
       "      <th>max_rebalance_count</th>\n",
       "      <th>min_perc_gain</th>\n",
       "      <th>total_trades</th>\n",
       "    </tr>\n",
       "  </thead>\n",
       "  <tbody>\n",
       "    <tr>\n",
       "      <th>0</th>\n",
       "      <td>max_holding_days</td>\n",
       "      <td>10</td>\n",
       "      <td>96</td>\n",
       "      <td>0.366190</td>\n",
       "      <td>0.082050</td>\n",
       "      <td>6.242380</td>\n",
       "      <td>0.001464</td>\n",
       "      <td>0.041297</td>\n",
       "      <td>10.000000</td>\n",
       "      <td>0.162915</td>\n",
       "      <td>1.536616</td>\n",
       "      <td>-0.175078</td>\n",
       "      <td>1597.467803</td>\n",
       "    </tr>\n",
       "    <tr>\n",
       "      <th>1</th>\n",
       "      <td>max_holding_days</td>\n",
       "      <td>30</td>\n",
       "      <td>96</td>\n",
       "      <td>0.360437</td>\n",
       "      <td>0.080969</td>\n",
       "      <td>7.640942</td>\n",
       "      <td>0.001596</td>\n",
       "      <td>0.067047</td>\n",
       "      <td>27.898990</td>\n",
       "      <td>0.166236</td>\n",
       "      <td>2.062500</td>\n",
       "      <td>-0.190059</td>\n",
       "      <td>1376.094697</td>\n",
       "    </tr>\n",
       "    <tr>\n",
       "      <th>2</th>\n",
       "      <td>max_pos_prop</td>\n",
       "      <td>0.03</td>\n",
       "      <td>96</td>\n",
       "      <td>0.344128</td>\n",
       "      <td>0.084034</td>\n",
       "      <td>6.668792</td>\n",
       "      <td>0.001462</td>\n",
       "      <td>0.051113</td>\n",
       "      <td>18.966540</td>\n",
       "      <td>0.166108</td>\n",
       "      <td>1.804924</td>\n",
       "      <td>-0.182477</td>\n",
       "      <td>1497.675189</td>\n",
       "    </tr>\n",
       "    <tr>\n",
       "      <th>3</th>\n",
       "      <td>max_pos_prop</td>\n",
       "      <td>0.06</td>\n",
       "      <td>96</td>\n",
       "      <td>0.382498</td>\n",
       "      <td>0.078984</td>\n",
       "      <td>7.214531</td>\n",
       "      <td>0.001598</td>\n",
       "      <td>0.057231</td>\n",
       "      <td>18.932449</td>\n",
       "      <td>0.163042</td>\n",
       "      <td>1.794192</td>\n",
       "      <td>-0.182659</td>\n",
       "      <td>1475.887311</td>\n",
       "    </tr>\n",
       "    <tr>\n",
       "      <th>4</th>\n",
       "      <td>n_pairs</td>\n",
       "      <td>100</td>\n",
       "      <td>64</td>\n",
       "      <td>0.392243</td>\n",
       "      <td>0.083320</td>\n",
       "      <td>7.119692</td>\n",
       "      <td>0.001598</td>\n",
       "      <td>0.055856</td>\n",
       "      <td>18.767045</td>\n",
       "      <td>0.144554</td>\n",
       "      <td>1.692235</td>\n",
       "      <td>-0.170745</td>\n",
       "      <td>823.766572</td>\n",
       "    </tr>\n",
       "    <tr>\n",
       "      <th>5</th>\n",
       "      <td>n_pairs</td>\n",
       "      <td>200</td>\n",
       "      <td>64</td>\n",
       "      <td>0.360245</td>\n",
       "      <td>0.081119</td>\n",
       "      <td>6.910531</td>\n",
       "      <td>0.001513</td>\n",
       "      <td>0.053952</td>\n",
       "      <td>18.994318</td>\n",
       "      <td>0.168264</td>\n",
       "      <td>1.822917</td>\n",
       "      <td>-0.184365</td>\n",
       "      <td>1522.618371</td>\n",
       "    </tr>\n",
       "    <tr>\n",
       "      <th>6</th>\n",
       "      <td>n_pairs</td>\n",
       "      <td>300</td>\n",
       "      <td>64</td>\n",
       "      <td>0.337452</td>\n",
       "      <td>0.080089</td>\n",
       "      <td>6.794762</td>\n",
       "      <td>0.001479</td>\n",
       "      <td>0.052707</td>\n",
       "      <td>19.087121</td>\n",
       "      <td>0.180908</td>\n",
       "      <td>1.883523</td>\n",
       "      <td>-0.192595</td>\n",
       "      <td>2113.958807</td>\n",
       "    </tr>\n",
       "    <tr>\n",
       "      <th>7</th>\n",
       "      <td>pos_perc_deviation</td>\n",
       "      <td>0.1</td>\n",
       "      <td>192</td>\n",
       "      <td>0.363313</td>\n",
       "      <td>0.081509</td>\n",
       "      <td>6.941661</td>\n",
       "      <td>0.001530</td>\n",
       "      <td>0.054172</td>\n",
       "      <td>18.949495</td>\n",
       "      <td>0.164575</td>\n",
       "      <td>1.799558</td>\n",
       "      <td>-0.182568</td>\n",
       "      <td>1486.781250</td>\n",
       "    </tr>\n",
       "    <tr>\n",
       "      <th>8</th>\n",
       "      <td>remove_earnings</td>\n",
       "      <td>False</td>\n",
       "      <td>96</td>\n",
       "      <td>0.369058</td>\n",
       "      <td>0.080095</td>\n",
       "      <td>7.434427</td>\n",
       "      <td>0.001667</td>\n",
       "      <td>0.065889</td>\n",
       "      <td>19.195707</td>\n",
       "      <td>0.177284</td>\n",
       "      <td>1.884154</td>\n",
       "      <td>-0.188726</td>\n",
       "      <td>1414.853220</td>\n",
       "    </tr>\n",
       "    <tr>\n",
       "      <th>9</th>\n",
       "      <td>remove_earnings</td>\n",
       "      <td>True</td>\n",
       "      <td>96</td>\n",
       "      <td>0.357568</td>\n",
       "      <td>0.082923</td>\n",
       "      <td>6.448895</td>\n",
       "      <td>0.001393</td>\n",
       "      <td>0.042454</td>\n",
       "      <td>18.703283</td>\n",
       "      <td>0.151866</td>\n",
       "      <td>1.714962</td>\n",
       "      <td>-0.176410</td>\n",
       "      <td>1558.709280</td>\n",
       "    </tr>\n",
       "    <tr>\n",
       "      <th>10</th>\n",
       "      <td>same_group</td>\n",
       "      <td>False</td>\n",
       "      <td>96</td>\n",
       "      <td>0.392077</td>\n",
       "      <td>0.081048</td>\n",
       "      <td>7.148693</td>\n",
       "      <td>0.001668</td>\n",
       "      <td>0.055830</td>\n",
       "      <td>18.938131</td>\n",
       "      <td>0.169078</td>\n",
       "      <td>1.844066</td>\n",
       "      <td>-0.183047</td>\n",
       "      <td>1573.101010</td>\n",
       "    </tr>\n",
       "    <tr>\n",
       "      <th>11</th>\n",
       "      <td>same_group</td>\n",
       "      <td>True</td>\n",
       "      <td>96</td>\n",
       "      <td>0.334550</td>\n",
       "      <td>0.081970</td>\n",
       "      <td>6.734630</td>\n",
       "      <td>0.001392</td>\n",
       "      <td>0.052513</td>\n",
       "      <td>18.960859</td>\n",
       "      <td>0.160073</td>\n",
       "      <td>1.755051</td>\n",
       "      <td>-0.182090</td>\n",
       "      <td>1400.461490</td>\n",
       "    </tr>\n",
       "    <tr>\n",
       "      <th>12</th>\n",
       "      <td>stop_perc</td>\n",
       "      <td>-0.1</td>\n",
       "      <td>96</td>\n",
       "      <td>0.361894</td>\n",
       "      <td>0.081531</td>\n",
       "      <td>6.888542</td>\n",
       "      <td>0.001526</td>\n",
       "      <td>0.045906</td>\n",
       "      <td>18.632576</td>\n",
       "      <td>0.164965</td>\n",
       "      <td>1.684975</td>\n",
       "      <td>-0.163970</td>\n",
       "      <td>1495.828283</td>\n",
       "    </tr>\n",
       "    <tr>\n",
       "      <th>13</th>\n",
       "      <td>stop_perc</td>\n",
       "      <td>-0.2</td>\n",
       "      <td>96</td>\n",
       "      <td>0.364733</td>\n",
       "      <td>0.081488</td>\n",
       "      <td>6.994781</td>\n",
       "      <td>0.001534</td>\n",
       "      <td>0.062437</td>\n",
       "      <td>19.266414</td>\n",
       "      <td>0.164186</td>\n",
       "      <td>1.914141</td>\n",
       "      <td>-0.201166</td>\n",
       "      <td>1477.734217</td>\n",
       "    </tr>\n",
       "    <tr>\n",
       "      <th>14</th>\n",
       "      <td>z_exit</td>\n",
       "      <td>1.4</td>\n",
       "      <td>96</td>\n",
       "      <td>0.352746</td>\n",
       "      <td>0.077626</td>\n",
       "      <td>7.784506</td>\n",
       "      <td>0.001581</td>\n",
       "      <td>0.065505</td>\n",
       "      <td>19.881629</td>\n",
       "      <td>0.177636</td>\n",
       "      <td>1.924242</td>\n",
       "      <td>-0.186785</td>\n",
       "      <td>1438.189710</td>\n",
       "    </tr>\n",
       "    <tr>\n",
       "      <th>15</th>\n",
       "      <td>z_exit</td>\n",
       "      <td>1.7</td>\n",
       "      <td>96</td>\n",
       "      <td>0.373881</td>\n",
       "      <td>0.085393</td>\n",
       "      <td>6.098817</td>\n",
       "      <td>0.001479</td>\n",
       "      <td>0.042838</td>\n",
       "      <td>18.017361</td>\n",
       "      <td>0.151515</td>\n",
       "      <td>1.674874</td>\n",
       "      <td>-0.178351</td>\n",
       "      <td>1535.372790</td>\n",
       "    </tr>\n",
       "  </tbody>\n",
       "</table>\n",
       "</div>"
      ],
      "text/plain": [
       "                 Param    Val  Count  MeanTotalRet  MeanSharpe  \\\n",
       "0     max_holding_days     10     96      0.366190    0.082050   \n",
       "1     max_holding_days     30     96      0.360437    0.080969   \n",
       "2         max_pos_prop   0.03     96      0.344128    0.084034   \n",
       "3         max_pos_prop   0.06     96      0.382498    0.078984   \n",
       "4              n_pairs    100     64      0.392243    0.083320   \n",
       "5              n_pairs    200     64      0.360245    0.081119   \n",
       "6              n_pairs    300     64      0.337452    0.080089   \n",
       "7   pos_perc_deviation    0.1    192      0.363313    0.081509   \n",
       "8      remove_earnings  False     96      0.369058    0.080095   \n",
       "9      remove_earnings   True     96      0.357568    0.082923   \n",
       "10          same_group  False     96      0.392077    0.081048   \n",
       "11          same_group   True     96      0.334550    0.081970   \n",
       "12           stop_perc   -0.1     96      0.361894    0.081531   \n",
       "13           stop_perc   -0.2     96      0.364733    0.081488   \n",
       "14              z_exit    1.4     96      0.352746    0.077626   \n",
       "15              z_exit    1.7     96      0.373881    0.085393   \n",
       "\n",
       "    avg_holding_days  avg_perc_gain  avg_rebalance_count  max_holding_days  \\\n",
       "0           6.242380       0.001464             0.041297         10.000000   \n",
       "1           7.640942       0.001596             0.067047         27.898990   \n",
       "2           6.668792       0.001462             0.051113         18.966540   \n",
       "3           7.214531       0.001598             0.057231         18.932449   \n",
       "4           7.119692       0.001598             0.055856         18.767045   \n",
       "5           6.910531       0.001513             0.053952         18.994318   \n",
       "6           6.794762       0.001479             0.052707         19.087121   \n",
       "7           6.941661       0.001530             0.054172         18.949495   \n",
       "8           7.434427       0.001667             0.065889         19.195707   \n",
       "9           6.448895       0.001393             0.042454         18.703283   \n",
       "10          7.148693       0.001668             0.055830         18.938131   \n",
       "11          6.734630       0.001392             0.052513         18.960859   \n",
       "12          6.888542       0.001526             0.045906         18.632576   \n",
       "13          6.994781       0.001534             0.062437         19.266414   \n",
       "14          7.784506       0.001581             0.065505         19.881629   \n",
       "15          6.098817       0.001479             0.042838         18.017361   \n",
       "\n",
       "    max_perc_gain  max_rebalance_count  min_perc_gain  total_trades  \n",
       "0        0.162915             1.536616      -0.175078   1597.467803  \n",
       "1        0.166236             2.062500      -0.190059   1376.094697  \n",
       "2        0.166108             1.804924      -0.182477   1497.675189  \n",
       "3        0.163042             1.794192      -0.182659   1475.887311  \n",
       "4        0.144554             1.692235      -0.170745    823.766572  \n",
       "5        0.168264             1.822917      -0.184365   1522.618371  \n",
       "6        0.180908             1.883523      -0.192595   2113.958807  \n",
       "7        0.164575             1.799558      -0.182568   1486.781250  \n",
       "8        0.177284             1.884154      -0.188726   1414.853220  \n",
       "9        0.151866             1.714962      -0.176410   1558.709280  \n",
       "10       0.169078             1.844066      -0.183047   1573.101010  \n",
       "11       0.160073             1.755051      -0.182090   1400.461490  \n",
       "12       0.164965             1.684975      -0.163970   1495.828283  \n",
       "13       0.164186             1.914141      -0.201166   1477.734217  \n",
       "14       0.177636             1.924242      -0.186785   1438.189710  \n",
       "15       0.151515             1.674874      -0.178351   1535.372790  "
      ]
     },
     "execution_count": 80,
     "metadata": {},
     "output_type": "execute_result"
    }
   ],
   "source": [
    "rm1.analyze_parameters()"
   ]
  },
  {
   "cell_type": "code",
   "execution_count": null,
   "metadata": {
    "collapsed": true
   },
   "outputs": [],
   "source": []
  },
  {
   "cell_type": "code",
   "execution_count": null,
   "metadata": {
    "collapsed": true
   },
   "outputs": [],
   "source": []
  },
  {
   "cell_type": "code",
   "execution_count": 40,
   "metadata": {},
   "outputs": [
    {
     "name": "stderr",
     "output_type": "stream",
     "text": [
      "\n",
      "\n",
      "  0%|          | 0/1 [00:00<?, ?it/s]\u001b[A\u001b[A\n",
      "\n",
      "100%|██████████| 1/1 [00:00<00:00, 57.39it/s]\u001b[A\u001b[A\n",
      "\n",
      "  0%|          | 0/10 [00:00<?, ?it/s]"
     ]
    },
    {
     "name": "stdout",
     "output_type": "stream",
     "text": [
      "Reading and aggregating runs...\n",
      "Finished aggregating runs...\n"
     ]
    },
    {
     "name": "stderr",
     "output_type": "stream",
     "text": [
      "\u001b[A\u001b[A\n",
      "\u001b[A\n",
      "\n",
      " 10%|█         | 1/10 [00:06<01:00,  6.67s/it]\u001b[A\u001b[A\n",
      "\n",
      " 20%|██        | 2/10 [00:13<00:52,  6.58s/it]\u001b[A\u001b[A\n",
      "\n",
      " 30%|███       | 3/10 [00:19<00:44,  6.41s/it]\u001b[A\u001b[A\n",
      "\n",
      " 40%|████      | 4/10 [00:25<00:37,  6.30s/it]\u001b[A\u001b[A\n",
      "\n",
      " 50%|█████     | 5/10 [00:30<00:30,  6.12s/it]\u001b[A\u001b[A\n",
      "\n",
      " 60%|██████    | 6/10 [00:36<00:23,  6.00s/it]\u001b[A\u001b[A\n",
      "\n",
      " 70%|███████   | 7/10 [00:42<00:17,  5.89s/it]\u001b[A\u001b[A\n",
      "\n",
      " 80%|████████  | 8/10 [00:47<00:11,  5.74s/it]\u001b[A\u001b[A\n",
      "\n",
      " 90%|█████████ | 9/10 [00:52<00:05,  5.59s/it]\u001b[A\u001b[A\n",
      "\n",
      "100%|██████████| 10/10 [00:58<00:00,  5.69s/it]\u001b[A\u001b[A\n",
      "\n",
      "\u001b[A\u001b[A"
     ]
    }
   ],
   "source": [
    "comb = CombinationSearch()\n",
    "comb.add_run(rm1)\n",
    "comb.start(10, criteria='mean')"
   ]
  },
  {
   "cell_type": "code",
   "execution_count": 41,
   "metadata": {},
   "outputs": [
    {
     "data": {
      "image/png": "[encoded data removed]",
      "text/plain": [
       "<matplotlib.figure.Figure at 0x11c144a50>"
      ]
     },
     "metadata": {},
     "output_type": "display_data"
    }
   ],
   "source": [
    "x2 = comb.best_results_rets.dropna()\n",
    "plt.figure()\n",
    "plt.plot(x2.cumsum(), 'b')\n",
    "plt.show()\n"
   ]
  },
  {
   "cell_type": "code",
   "execution_count": 43,
   "metadata": {},
   "outputs": [
    {
     "data": {
      "text/html": [
       "<div>\n",
       "<style>\n",
       "    .dataframe thead tr:only-child th {\n",
       "        text-align: right;\n",
       "    }\n",
       "\n",
       "    .dataframe thead th {\n",
       "        text-align: left;\n",
       "    }\n",
       "\n",
       "    .dataframe tbody tr th {\n",
       "        vertical-align: top;\n",
       "    }\n",
       "</style>\n",
       "<table border=\"1\" class=\"dataframe\">\n",
       "  <thead>\n",
       "    <tr style=\"text-align: right;\">\n",
       "      <th>Qtr</th>\n",
       "      <th>1</th>\n",
       "      <th>2</th>\n",
       "      <th>3</th>\n",
       "      <th>4</th>\n",
       "      <th>year</th>\n",
       "    </tr>\n",
       "    <tr>\n",
       "      <th>Year</th>\n",
       "      <th></th>\n",
       "      <th></th>\n",
       "      <th></th>\n",
       "      <th></th>\n",
       "      <th></th>\n",
       "    </tr>\n",
       "  </thead>\n",
       "  <tbody>\n",
       "    <tr>\n",
       "      <th>2010</th>\n",
       "      <td>0.011603</td>\n",
       "      <td>0.001564</td>\n",
       "      <td>0.015403</td>\n",
       "      <td>0.005988</td>\n",
       "      <td>0.034558</td>\n",
       "    </tr>\n",
       "    <tr>\n",
       "      <th>2011</th>\n",
       "      <td>0.024008</td>\n",
       "      <td>0.023623</td>\n",
       "      <td>-0.010133</td>\n",
       "      <td>0.036138</td>\n",
       "      <td>0.073637</td>\n",
       "    </tr>\n",
       "    <tr>\n",
       "      <th>2012</th>\n",
       "      <td>0.023419</td>\n",
       "      <td>-0.001318</td>\n",
       "      <td>0.011379</td>\n",
       "      <td>0.001844</td>\n",
       "      <td>0.035324</td>\n",
       "    </tr>\n",
       "    <tr>\n",
       "      <th>2013</th>\n",
       "      <td>-0.000535</td>\n",
       "      <td>0.018823</td>\n",
       "      <td>0.022220</td>\n",
       "      <td>0.010817</td>\n",
       "      <td>0.051326</td>\n",
       "    </tr>\n",
       "    <tr>\n",
       "      <th>2014</th>\n",
       "      <td>0.001033</td>\n",
       "      <td>0.023174</td>\n",
       "      <td>-0.005925</td>\n",
       "      <td>0.012247</td>\n",
       "      <td>0.030528</td>\n",
       "    </tr>\n",
       "    <tr>\n",
       "      <th>2015</th>\n",
       "      <td>0.026080</td>\n",
       "      <td>0.010877</td>\n",
       "      <td>-0.018611</td>\n",
       "      <td>NaN</td>\n",
       "      <td>0.018346</td>\n",
       "    </tr>\n",
       "  </tbody>\n",
       "</table>\n",
       "</div>"
      ],
      "text/plain": [
       "Qtr          1         2         3         4      year\n",
       "Year                                                  \n",
       "2010  0.011603  0.001564  0.015403  0.005988  0.034558\n",
       "2011  0.024008  0.023623 -0.010133  0.036138  0.073637\n",
       "2012  0.023419 -0.001318  0.011379  0.001844  0.035324\n",
       "2013 -0.000535  0.018823  0.022220  0.010817  0.051326\n",
       "2014  0.001033  0.023174 -0.005925  0.012247  0.030528\n",
       "2015  0.026080  0.010877 -0.018611       NaN  0.018346"
      ]
     },
     "execution_count": 43,
     "metadata": {},
     "output_type": "execute_result"
    }
   ],
   "source": [
    "df = rollup_returns(x2)\n",
    "df['year'] = df.sum(axis=1)\n",
    "df"
   ]
  },
  {
   "cell_type": "code",
   "execution_count": null,
   "metadata": {
    "collapsed": true
   },
   "outputs": [],
   "source": []
  },
  {
   "cell_type": "code",
   "execution_count": null,
   "metadata": {
    "collapsed": true
   },
   "outputs": [],
   "source": []
  },
  {
   "cell_type": "code",
   "execution_count": null,
   "metadata": {
    "collapsed": true
   },
   "outputs": [],
   "source": []
  },
  {
   "cell_type": "code",
   "execution_count": null,
   "metadata": {
    "collapsed": true
   },
   "outputs": [],
   "source": []
  },
  {
   "cell_type": "code",
   "execution_count": null,
   "metadata": {
    "collapsed": true
   },
   "outputs": [],
   "source": []
  },
  {
   "cell_type": "code",
   "execution_count": null,
   "metadata": {
    "collapsed": true
   },
   "outputs": [],
   "source": []
  },
  {
   "cell_type": "code",
   "execution_count": 17,
   "metadata": {
    "collapsed": true
   },
   "outputs": [],
   "source": [
    "# ~~~~~~ RunAggregator ~~~~~~~~~~~~~~~~~~~~~~~~~~~~~~~~~~~~~~~~~~~~~~~~~~~~~~~~\n",
    "ra = RunAggregator()\n",
    "\n",
    "# ra.add_run(rm1)\n",
    "ra.add_run(rm1)\n",
    "ra.add_run(rm3)\n",
    "\n",
    "returns = ra.aggregate_returns()"
   ]
  },
  {
   "cell_type": "code",
   "execution_count": 24,
   "metadata": {},
   "outputs": [
    {
     "data": {
      "text/plain": [
       "StatArbStrategy_run_0028_0      0.029027\n",
       "StatArbStrategy_run_0028_1      0.030036\n",
       "StatArbStrategy_run_0028_2      0.027379\n",
       "StatArbStrategy_run_0028_3      0.030215\n",
       "StatArbStrategy_run_0028_4      0.026101\n",
       "StatArbStrategy_run_0028_5      0.027883\n",
       "StatArbStrategy_run_0028_6      0.028664\n",
       "StatArbStrategy_run_0028_7      0.029015\n",
       "StatArbStrategy_run_0028_8      0.029033\n",
       "StatArbStrategy_run_0028_9      0.033658\n",
       "StatArbStrategy_run_0028_10     0.029184\n",
       "StatArbStrategy_run_0028_11     0.032883\n",
       "StatArbStrategy_run_0028_12     0.027350\n",
       "StatArbStrategy_run_0028_13     0.033926\n",
       "StatArbStrategy_run_0028_14     0.028921\n",
       "StatArbStrategy_run_0028_15     0.034886\n",
       "StatArbStrategy_run_0028_16     0.029530\n",
       "StatArbStrategy_run_0028_17     0.035710\n",
       "StatArbStrategy_run_0028_18     0.029372\n",
       "StatArbStrategy_run_0028_19     0.035463\n",
       "StatArbStrategy_run_0028_20     0.028476\n",
       "StatArbStrategy_run_0028_21     0.034875\n",
       "StatArbStrategy_run_0028_22     0.029201\n",
       "StatArbStrategy_run_0028_23     0.034815\n",
       "StatArbStrategy_run_0028_24     0.032407\n",
       "StatArbStrategy_run_0028_25     0.037294\n",
       "StatArbStrategy_run_0028_26     0.030824\n",
       "StatArbStrategy_run_0028_27     0.036815\n",
       "StatArbStrategy_run_0028_28     0.034388\n",
       "StatArbStrategy_run_0028_29     0.040378\n",
       "                                  ...   \n",
       "StatArbStrategy_run_0030_162    0.022712\n",
       "StatArbStrategy_run_0030_163    0.028183\n",
       "StatArbStrategy_run_0030_164    0.022557\n",
       "StatArbStrategy_run_0030_165    0.027284\n",
       "StatArbStrategy_run_0030_166    0.022508\n",
       "StatArbStrategy_run_0030_167    0.027441\n",
       "StatArbStrategy_run_0030_168    0.021551\n",
       "StatArbStrategy_run_0030_169    0.030066\n",
       "StatArbStrategy_run_0030_170    0.021574\n",
       "StatArbStrategy_run_0030_171    0.029805\n",
       "StatArbStrategy_run_0030_172    0.026169\n",
       "StatArbStrategy_run_0030_173    0.031535\n",
       "StatArbStrategy_run_0030_174    0.025899\n",
       "StatArbStrategy_run_0030_175    0.031974\n",
       "StatArbStrategy_run_0030_176    0.025766\n",
       "StatArbStrategy_run_0030_177    0.031589\n",
       "StatArbStrategy_run_0030_178    0.025704\n",
       "StatArbStrategy_run_0030_179    0.031424\n",
       "StatArbStrategy_run_0030_180    0.028308\n",
       "StatArbStrategy_run_0030_181    0.033371\n",
       "StatArbStrategy_run_0030_182    0.028431\n",
       "StatArbStrategy_run_0030_183    0.033301\n",
       "StatArbStrategy_run_0030_184    0.024643\n",
       "StatArbStrategy_run_0030_185    0.029892\n",
       "StatArbStrategy_run_0030_186    0.024547\n",
       "StatArbStrategy_run_0030_187    0.029873\n",
       "StatArbStrategy_run_0030_188    0.027944\n",
       "StatArbStrategy_run_0030_189    0.031221\n",
       "StatArbStrategy_run_0030_190    0.027901\n",
       "StatArbStrategy_run_0030_191    0.031318\n",
       "dtype: float64"
      ]
     },
     "execution_count": 24,
     "metadata": {},
     "output_type": "execute_result"
    }
   ],
   "source": [
    "returns.iloc[700:].mean() * 252"
   ]
  },
  {
   "cell_type": "code",
   "execution_count": 42,
   "metadata": {
    "collapsed": true
   },
   "outputs": [],
   "source": [
    "df = pd.DataFrame({'Rets': rm3.returns['26']}).reset_index()\n",
    "df.columns = ['Date', 'Rets']"
   ]
  },
  {
   "cell_type": "code",
   "execution_count": 43,
   "metadata": {
    "collapsed": true
   },
   "outputs": [],
   "source": [
    "df['TIndex'] = ['{}{}'.format(x.year, (x.month-1)/3+1) for x in df.Date]\n",
    "df['Year'] = [x.year for x in df.Date]"
   ]
  },
  {
   "cell_type": "code",
   "execution_count": 44,
   "metadata": {},
   "outputs": [
    {
     "data": {
      "text/plain": [
       "Year\n",
       "2009    0.114857\n",
       "2010    0.016594\n",
       "2011    0.060064\n",
       "2012    0.040255\n",
       "2013    0.037326\n",
       "2014    0.021170\n",
       "2015    0.040347\n",
       "2016    0.021810\n",
       "2017    0.017267\n",
       "Name: Rets, dtype: float64"
      ]
     },
     "execution_count": 44,
     "metadata": {},
     "output_type": "execute_result"
    }
   ],
   "source": [
    "df.groupby('Year')['Rets'].sum()"
   ]
  },
  {
   "cell_type": "code",
   "execution_count": 47,
   "metadata": {},
   "outputs": [
    {
     "data": {
      "text/plain": [
       "[<matplotlib.lines.Line2D at 0x1a6ccb70>]"
      ]
     },
     "execution_count": 47,
     "metadata": {},
     "output_type": "execute_result"
    },
    {
     "data": {
      "image/png": "[encoded data removed]",
      "text/plain": [
       "<matplotlib.figure.Figure at 0xf9c8a90>"
      ]
     },
     "metadata": {},
     "output_type": "display_data"
    }
   ],
   "source": [
    "df2 = df.set_index('Date')\n",
    "\n",
    "plt.figure()\n",
    "plt.plot(df2.Rets.cumsum())"
   ]
  },
  {
   "cell_type": "code",
   "execution_count": null,
   "metadata": {
    "collapsed": true
   },
   "outputs": [],
   "source": []
  }
 ],
 "metadata": {
  "kernelspec": {
   "display_name": "Python 2",
   "language": "python",
   "name": "python2"
  },
  "language_info": {
   "codemirror_mode": {
    "name": "ipython",
    "version": 2
   },
   "file_extension": ".py",
   "mimetype": "text/x-python",
   "name": "python",
   "nbconvert_exporter": "python",
   "pygments_lexer": "ipython2",
   "version": "2.7.13"
  }
 },
 "nbformat": 4,
 "nbformat_minor": 2
}
