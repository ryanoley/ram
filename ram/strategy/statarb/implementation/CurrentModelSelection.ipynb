{
 "cells": [
  {
   "cell_type": "code",
   "execution_count": 1,
   "metadata": {
    "collapsed": true
   },
   "outputs": [],
   "source": [
    "%matplotlib inline\n",
    "\n",
    "import numpy as np\n",
    "import pandas as pd\n",
    "import datetime as dt\n",
    "import matplotlib.pyplot as plt"
   ]
  },
  {
   "cell_type": "code",
   "execution_count": 2,
   "metadata": {},
   "outputs": [
    {
     "name": "stderr",
     "output_type": "stream",
     "text": [
      "/usr/local/lib/python2.7/dist-packages/matplotlib/__init__.py:1405: UserWarning: \n",
      "This call to matplotlib.use() has no effect because the backend has already\n",
      "been chosen; matplotlib.use() must be called *before* pylab, matplotlib.pyplot,\n",
      "or matplotlib.backends is imported for the first time.\n",
      "\n",
      "  warnings.warn(_use_error_msg)\n"
     ]
    }
   ],
   "source": [
    "from ram.analysis.run_manager import RunManagerGCP\n",
    "from ram.analysis.combo_search import CombinationSearch\n",
    "from ram.analysis.statistics import get_stats, rollup_returns"
   ]
  },
  {
   "cell_type": "code",
   "execution_count": 3,
   "metadata": {},
   "outputs": [
    {
     "data": {
      "text/html": [
       "<div>\n",
       "<table border=\"1\" class=\"dataframe\">\n",
       "  <thead>\n",
       "    <tr style=\"text-align: right;\">\n",
       "      <th></th>\n",
       "      <th>Run</th>\n",
       "      <th>RunDate</th>\n",
       "      <th>Completed</th>\n",
       "      <th>Description</th>\n",
       "      <th>Starred</th>\n",
       "    </tr>\n",
       "  </thead>\n",
       "  <tbody>\n",
       "    <tr>\n",
       "      <th>0</th>\n",
       "      <td>run_0025</td>\n",
       "      <td>2017-08-09</td>\n",
       "      <td>True</td>\n",
       "      <td>Version 65</td>\n",
       "      <td></td>\n",
       "    </tr>\n",
       "    <tr>\n",
       "      <th>1</th>\n",
       "      <td>run_0031</td>\n",
       "      <td>2017-08-15</td>\n",
       "      <td>True</td>\n",
       "      <td>Market vars and stats</td>\n",
       "      <td></td>\n",
       "    </tr>\n",
       "    <tr>\n",
       "      <th>2</th>\n",
       "      <td>run_0034</td>\n",
       "      <td>2017-08-16</td>\n",
       "      <td>True</td>\n",
       "      <td>Constructor2 first run</td>\n",
       "      <td></td>\n",
       "    </tr>\n",
       "    <tr>\n",
       "      <th>3</th>\n",
       "      <td>run_0038</td>\n",
       "      <td>2017-08-18</td>\n",
       "      <td>False</td>\n",
       "      <td>Top 800 fixed bug in market data</td>\n",
       "      <td></td>\n",
       "    </tr>\n",
       "    <tr>\n",
       "      <th>4</th>\n",
       "      <td>run_0041</td>\n",
       "      <td>2017-08-21</td>\n",
       "      <td>True</td>\n",
       "      <td>Trees have log2 max features</td>\n",
       "      <td></td>\n",
       "    </tr>\n",
       "    <tr>\n",
       "      <th>5</th>\n",
       "      <td>run_0050</td>\n",
       "      <td>2017-08-28</td>\n",
       "      <td>False</td>\n",
       "      <td>500 estimators</td>\n",
       "      <td>*</td>\n",
       "    </tr>\n",
       "    <tr>\n",
       "      <th>6</th>\n",
       "      <td>run_0053</td>\n",
       "      <td>2017-08-29</td>\n",
       "      <td>False</td>\n",
       "      <td>Fewer signal hyperparameters to get full run w...</td>\n",
       "      <td></td>\n",
       "    </tr>\n",
       "    <tr>\n",
       "      <th>7</th>\n",
       "      <td>run_0070</td>\n",
       "      <td>2017-09-14</td>\n",
       "      <td>False</td>\n",
       "      <td>new response, fewer models, constrained market</td>\n",
       "      <td></td>\n",
       "    </tr>\n",
       "    <tr>\n",
       "      <th>8</th>\n",
       "      <td>run_0072</td>\n",
       "      <td>2017-09-15</td>\n",
       "      <td>False</td>\n",
       "      <td>rerun of sector 20</td>\n",
       "      <td></td>\n",
       "    </tr>\n",
       "    <tr>\n",
       "      <th>9</th>\n",
       "      <td>run_0073</td>\n",
       "      <td>2017-09-15</td>\n",
       "      <td>False</td>\n",
       "      <td>rerun of sector 25</td>\n",
       "      <td></td>\n",
       "    </tr>\n",
       "    <tr>\n",
       "      <th>10</th>\n",
       "      <td>run_0074</td>\n",
       "      <td>2017-09-15</td>\n",
       "      <td>False</td>\n",
       "      <td>Sector 35</td>\n",
       "      <td></td>\n",
       "    </tr>\n",
       "    <tr>\n",
       "      <th>11</th>\n",
       "      <td>run_0075</td>\n",
       "      <td>2017-09-15</td>\n",
       "      <td>False</td>\n",
       "      <td>Sector 40</td>\n",
       "      <td></td>\n",
       "    </tr>\n",
       "    <tr>\n",
       "      <th>12</th>\n",
       "      <td>run_0076</td>\n",
       "      <td>2017-09-18</td>\n",
       "      <td>False</td>\n",
       "      <td>Sector 45 rerun</td>\n",
       "      <td></td>\n",
       "    </tr>\n",
       "    <tr>\n",
       "      <th>13</th>\n",
       "      <td>run_0086</td>\n",
       "      <td>2017-09-20</td>\n",
       "      <td>False</td>\n",
       "      <td>Sector 20 with booksizing</td>\n",
       "      <td></td>\n",
       "    </tr>\n",
       "    <tr>\n",
       "      <th>14</th>\n",
       "      <td>run_0087</td>\n",
       "      <td>2017-09-20</td>\n",
       "      <td>False</td>\n",
       "      <td>Sector 25 with booksizing</td>\n",
       "      <td></td>\n",
       "    </tr>\n",
       "    <tr>\n",
       "      <th>15</th>\n",
       "      <td>run_0088</td>\n",
       "      <td>2017-09-20</td>\n",
       "      <td>False</td>\n",
       "      <td>Sector 45 with booksizing</td>\n",
       "      <td></td>\n",
       "    </tr>\n",
       "    <tr>\n",
       "      <th>16</th>\n",
       "      <td>run_0089</td>\n",
       "      <td>2017-09-22</td>\n",
       "      <td>False</td>\n",
       "      <td>Sector 20, pairs logic</td>\n",
       "      <td></td>\n",
       "    </tr>\n",
       "    <tr>\n",
       "      <th>17</th>\n",
       "      <td>run_0091</td>\n",
       "      <td>2017-09-22</td>\n",
       "      <td>False</td>\n",
       "      <td>Sector 25 pairs approach</td>\n",
       "      <td></td>\n",
       "    </tr>\n",
       "    <tr>\n",
       "      <th>18</th>\n",
       "      <td>run_0092</td>\n",
       "      <td>2017-09-27</td>\n",
       "      <td>False</td>\n",
       "      <td>Sector 20, pairs filter</td>\n",
       "      <td></td>\n",
       "    </tr>\n",
       "    <tr>\n",
       "      <th>19</th>\n",
       "      <td>run_0093</td>\n",
       "      <td>2017-09-27</td>\n",
       "      <td>False</td>\n",
       "      <td>Sector 25, pairs filter</td>\n",
       "      <td></td>\n",
       "    </tr>\n",
       "    <tr>\n",
       "      <th>20</th>\n",
       "      <td>run_0094</td>\n",
       "      <td>2017-09-27</td>\n",
       "      <td>False</td>\n",
       "      <td>Sector 45, pairs filter</td>\n",
       "      <td></td>\n",
       "    </tr>\n",
       "    <tr>\n",
       "      <th>21</th>\n",
       "      <td>run_0095</td>\n",
       "      <td>2017-09-28</td>\n",
       "      <td>False</td>\n",
       "      <td>sector 40</td>\n",
       "      <td></td>\n",
       "    </tr>\n",
       "    <tr>\n",
       "      <th>22</th>\n",
       "      <td>run_0096</td>\n",
       "      <td>2017-09-28</td>\n",
       "      <td>False</td>\n",
       "      <td>sector 35</td>\n",
       "      <td></td>\n",
       "    </tr>\n",
       "    <tr>\n",
       "      <th>23</th>\n",
       "      <td>run_0097</td>\n",
       "      <td>2017-09-28</td>\n",
       "      <td>False</td>\n",
       "      <td>sector 20, pure pairs vs tree reg</td>\n",
       "      <td></td>\n",
       "    </tr>\n",
       "    <tr>\n",
       "      <th>24</th>\n",
       "      <td>run_0098</td>\n",
       "      <td>2017-09-28</td>\n",
       "      <td>False</td>\n",
       "      <td>sector 25, pure pairs vs tree reg</td>\n",
       "      <td></td>\n",
       "    </tr>\n",
       "    <tr>\n",
       "      <th>25</th>\n",
       "      <td>run_0099</td>\n",
       "      <td>2017-09-28</td>\n",
       "      <td>False</td>\n",
       "      <td>sector 45, pure pairs vs tree reg</td>\n",
       "      <td></td>\n",
       "    </tr>\n",
       "    <tr>\n",
       "      <th>26</th>\n",
       "      <td>run_0103</td>\n",
       "      <td>2017-09-29</td>\n",
       "      <td>False</td>\n",
       "      <td>Sector 20, pairs LONG</td>\n",
       "      <td></td>\n",
       "    </tr>\n",
       "    <tr>\n",
       "      <th>27</th>\n",
       "      <td>run_0104</td>\n",
       "      <td>2017-09-29</td>\n",
       "      <td>False</td>\n",
       "      <td>Sector 25, pairs LONG</td>\n",
       "      <td></td>\n",
       "    </tr>\n",
       "    <tr>\n",
       "      <th>28</th>\n",
       "      <td>run_0105</td>\n",
       "      <td>2017-09-29</td>\n",
       "      <td>False</td>\n",
       "      <td>Sector 45, pairs LONG</td>\n",
       "      <td></td>\n",
       "    </tr>\n",
       "    <tr>\n",
       "      <th>29</th>\n",
       "      <td>run_0106</td>\n",
       "      <td>2017-11-08</td>\n",
       "      <td>True</td>\n",
       "      <td>Sector 20 IBES</td>\n",
       "      <td>*</td>\n",
       "    </tr>\n",
       "    <tr>\n",
       "      <th>30</th>\n",
       "      <td>run_0107</td>\n",
       "      <td>2017-11-08</td>\n",
       "      <td>True</td>\n",
       "      <td>Sector 25 IBES</td>\n",
       "      <td>*</td>\n",
       "    </tr>\n",
       "    <tr>\n",
       "      <th>31</th>\n",
       "      <td>run_0108</td>\n",
       "      <td>2017-11-08</td>\n",
       "      <td>True</td>\n",
       "      <td>Sector 45 IBES</td>\n",
       "      <td>*</td>\n",
       "    </tr>\n",
       "    <tr>\n",
       "      <th>32</th>\n",
       "      <td>run_0109</td>\n",
       "      <td>2017-10-18</td>\n",
       "      <td>False</td>\n",
       "      <td>Sector 20, FebMayAugNov cycle</td>\n",
       "      <td>*</td>\n",
       "    </tr>\n",
       "    <tr>\n",
       "      <th>33</th>\n",
       "      <td>run_0110</td>\n",
       "      <td>2017-11-08</td>\n",
       "      <td>True</td>\n",
       "      <td>Sector 20, MarJuneSepDec cycle</td>\n",
       "      <td>*</td>\n",
       "    </tr>\n",
       "    <tr>\n",
       "      <th>34</th>\n",
       "      <td>run_0111</td>\n",
       "      <td>2017-10-18</td>\n",
       "      <td>False</td>\n",
       "      <td>TOP 800 run, no ibes, no accounting</td>\n",
       "      <td></td>\n",
       "    </tr>\n",
       "    <tr>\n",
       "      <th>35</th>\n",
       "      <td>run_0112</td>\n",
       "      <td>2017-10-23</td>\n",
       "      <td>False</td>\n",
       "      <td>Sector 25, FebMayAugNov cycle</td>\n",
       "      <td>*</td>\n",
       "    </tr>\n",
       "    <tr>\n",
       "      <th>36</th>\n",
       "      <td>run_0113</td>\n",
       "      <td>2017-10-23</td>\n",
       "      <td>False</td>\n",
       "      <td>Sector 45, FebMayAugNov cycle</td>\n",
       "      <td>*</td>\n",
       "    </tr>\n",
       "    <tr>\n",
       "      <th>37</th>\n",
       "      <td>run_0114</td>\n",
       "      <td>2017-11-08</td>\n",
       "      <td>True</td>\n",
       "      <td>Sector 25, MarJunSepDec cycle</td>\n",
       "      <td>*</td>\n",
       "    </tr>\n",
       "    <tr>\n",
       "      <th>38</th>\n",
       "      <td>run_0115</td>\n",
       "      <td>2017-11-08</td>\n",
       "      <td>True</td>\n",
       "      <td>Sector 45, MarJunSepDec cycle</td>\n",
       "      <td>*</td>\n",
       "    </tr>\n",
       "  </tbody>\n",
       "</table>\n",
       "</div>"
      ],
      "text/plain": [
       "         Run     RunDate Completed  \\\n",
       "0   run_0025  2017-08-09      True   \n",
       "1   run_0031  2017-08-15      True   \n",
       "2   run_0034  2017-08-16      True   \n",
       "3   run_0038  2017-08-18     False   \n",
       "4   run_0041  2017-08-21      True   \n",
       "5   run_0050  2017-08-28     False   \n",
       "6   run_0053  2017-08-29     False   \n",
       "7   run_0070  2017-09-14     False   \n",
       "8   run_0072  2017-09-15     False   \n",
       "9   run_0073  2017-09-15     False   \n",
       "10  run_0074  2017-09-15     False   \n",
       "11  run_0075  2017-09-15     False   \n",
       "12  run_0076  2017-09-18     False   \n",
       "13  run_0086  2017-09-20     False   \n",
       "14  run_0087  2017-09-20     False   \n",
       "15  run_0088  2017-09-20     False   \n",
       "16  run_0089  2017-09-22     False   \n",
       "17  run_0091  2017-09-22     False   \n",
       "18  run_0092  2017-09-27     False   \n",
       "19  run_0093  2017-09-27     False   \n",
       "20  run_0094  2017-09-27     False   \n",
       "21  run_0095  2017-09-28     False   \n",
       "22  run_0096  2017-09-28     False   \n",
       "23  run_0097  2017-09-28     False   \n",
       "24  run_0098  2017-09-28     False   \n",
       "25  run_0099  2017-09-28     False   \n",
       "26  run_0103  2017-09-29     False   \n",
       "27  run_0104  2017-09-29     False   \n",
       "28  run_0105  2017-09-29     False   \n",
       "29  run_0106  2017-11-08      True   \n",
       "30  run_0107  2017-11-08      True   \n",
       "31  run_0108  2017-11-08      True   \n",
       "32  run_0109  2017-10-18     False   \n",
       "33  run_0110  2017-11-08      True   \n",
       "34  run_0111  2017-10-18     False   \n",
       "35  run_0112  2017-10-23     False   \n",
       "36  run_0113  2017-10-23     False   \n",
       "37  run_0114  2017-11-08      True   \n",
       "38  run_0115  2017-11-08      True   \n",
       "\n",
       "                                          Description Starred  \n",
       "0                                          Version 65          \n",
       "1                               Market vars and stats          \n",
       "2                              Constructor2 first run          \n",
       "3                    Top 800 fixed bug in market data          \n",
       "4                        Trees have log2 max features          \n",
       "5                                      500 estimators       *  \n",
       "6   Fewer signal hyperparameters to get full run w...          \n",
       "7      new response, fewer models, constrained market          \n",
       "8                                  rerun of sector 20          \n",
       "9                                  rerun of sector 25          \n",
       "10                                          Sector 35          \n",
       "11                                          Sector 40          \n",
       "12                                    Sector 45 rerun          \n",
       "13                          Sector 20 with booksizing          \n",
       "14                          Sector 25 with booksizing          \n",
       "15                          Sector 45 with booksizing          \n",
       "16                             Sector 20, pairs logic          \n",
       "17                           Sector 25 pairs approach          \n",
       "18                            Sector 20, pairs filter          \n",
       "19                            Sector 25, pairs filter          \n",
       "20                            Sector 45, pairs filter          \n",
       "21                                          sector 40          \n",
       "22                                          sector 35          \n",
       "23                  sector 20, pure pairs vs tree reg          \n",
       "24                  sector 25, pure pairs vs tree reg          \n",
       "25                  sector 45, pure pairs vs tree reg          \n",
       "26                              Sector 20, pairs LONG          \n",
       "27                              Sector 25, pairs LONG          \n",
       "28                              Sector 45, pairs LONG          \n",
       "29                                     Sector 20 IBES       *  \n",
       "30                                     Sector 25 IBES       *  \n",
       "31                                     Sector 45 IBES       *  \n",
       "32                      Sector 20, FebMayAugNov cycle       *  \n",
       "33                     Sector 20, MarJuneSepDec cycle       *  \n",
       "34                TOP 800 run, no ibes, no accounting          \n",
       "35                      Sector 25, FebMayAugNov cycle       *  \n",
       "36                      Sector 45, FebMayAugNov cycle       *  \n",
       "37                      Sector 25, MarJunSepDec cycle       *  \n",
       "38                      Sector 45, MarJunSepDec cycle       *  "
      ]
     },
     "execution_count": 3,
     "metadata": {},
     "output_type": "execute_result"
    }
   ],
   "source": [
    "RunManagerGCP.get_run_names('LongPeadStrategy')"
   ]
  },
  {
   "cell_type": "markdown",
   "metadata": {},
   "source": [
    "#### Document last run date"
   ]
  },
  {
   "cell_type": "code",
   "execution_count": 4,
   "metadata": {},
   "outputs": [
    {
     "name": "stdout",
     "output_type": "stream",
     "text": [
      "TIMESTAMP for last run of this script:\n",
      "2017-11-09 15:58:37.002645\n"
     ]
    }
   ],
   "source": [
    "print('TIMESTAMP for last run of this script:')\n",
    "print(dt.datetime.utcnow())"
   ]
  },
  {
   "cell_type": "markdown",
   "metadata": {},
   "source": [
    "#### Current runs for implementation"
   ]
  },
  {
   "cell_type": "code",
   "execution_count": 5,
   "metadata": {
    "collapsed": true
   },
   "outputs": [],
   "source": [
    "runs = [\n",
    "    'run_0106', 'run_0109', 'run_0110',\n",
    "    'run_0107', 'run_0112', 'run_0114',\n",
    "    'run_0108', 'run_0113', 'run_0115',\n",
    "]"
   ]
  },
  {
   "cell_type": "markdown",
   "metadata": {},
   "source": [
    "#### Check that all run files are up-to-date"
   ]
  },
  {
   "cell_type": "code",
   "execution_count": 6,
   "metadata": {},
   "outputs": [
    {
     "name": "stdout",
     "output_type": "stream",
     "text": [
      "run_0106 - 2017-10-31 00:00:00\n",
      "run_0109 - 2017-10-31 00:00:00\n",
      "run_0110 - 2017-10-31 00:00:00\n",
      "run_0107 - 2017-10-31 00:00:00\n",
      "run_0112 - 2017-10-31 00:00:00\n",
      "run_0114 - 2017-10-31 00:00:00\n",
      "run_0108 - 2017-10-31 00:00:00\n",
      "run_0113 - 2017-10-31 00:00:00\n",
      "run_0115 - 2017-10-31 00:00:00\n"
     ]
    }
   ],
   "source": [
    "for r in runs:\n",
    "    run = RunManagerGCP('LongPeadStrategy', r, test_periods=0)\n",
    "    run.import_return_frame()\n",
    "    print('{} - {}'.format(r, run.returns.index[-1]))"
   ]
  },
  {
   "cell_type": "markdown",
   "metadata": {},
   "source": [
    "#### Import"
   ]
  },
  {
   "cell_type": "code",
   "execution_count": 7,
   "metadata": {},
   "outputs": [
    {
     "name": "stderr",
     "output_type": "stream",
     "text": [
      "\r",
      "  0%|          | 0/9 [00:00<?, ?it/s]"
     ]
    },
    {
     "name": "stdout",
     "output_type": "stream",
     "text": [
      "Reading and aggregating runs...\n"
     ]
    },
    {
     "name": "stderr",
     "output_type": "stream",
     "text": [
      "100%|██████████| 9/9 [01:51<00:00, 11.94s/it]\n"
     ]
    },
    {
     "name": "stdout",
     "output_type": "stream",
     "text": [
      "Finished aggregating runs...\n"
     ]
    },
    {
     "name": "stderr",
     "output_type": "stream",
     "text": [
      " 52%|█████▏    | 26/50 [08:57<09:34, 23.94s/it]"
     ]
    },
    {
     "ename": "KeyboardInterrupt",
     "evalue": "",
     "output_type": "error",
     "traceback": [
      "\u001b[0;31m---------------------------------------------------------------------------\u001b[0m",
      "\u001b[0;31mKeyboardInterrupt\u001b[0m                         Traceback (most recent call last)",
      "\u001b[0;32m<ipython-input-7-f9677ec4e3fa>\u001b[0m in \u001b[0;36m<module>\u001b[0;34m()\u001b[0m\n\u001b[1;32m      6\u001b[0m                                   test_periods=0, start_year=2009, drop_params=drop_params))\n\u001b[1;32m      7\u001b[0m \u001b[0;34m\u001b[0m\u001b[0m\n\u001b[0;32m----> 8\u001b[0;31m \u001b[0mcombAll\u001b[0m\u001b[0;34m.\u001b[0m\u001b[0mstart\u001b[0m\u001b[0;34m(\u001b[0m\u001b[0;36m50\u001b[0m\u001b[0;34m,\u001b[0m \u001b[0mcriteria\u001b[0m\u001b[0;34m=\u001b[0m\u001b[0;34m'sharpe'\u001b[0m\u001b[0;34m)\u001b[0m\u001b[0;34m\u001b[0m\u001b[0m\n\u001b[0m",
      "\u001b[0;32m/usr/local/lib/python2.7/dist-packages/ram/analysis/combo_search.pyc\u001b[0m in \u001b[0;36mstart\u001b[0;34m(self, epochs, criteria)\u001b[0m\n\u001b[1;32m     70\u001b[0m                 \u001b[0mtest_results\u001b[0m\u001b[0;34m,\u001b[0m \u001b[0mtrain_scores\u001b[0m\u001b[0;34m,\u001b[0m \u001b[0mcombs\u001b[0m \u001b[0;34m=\u001b[0m\u001b[0;31m \u001b[0m\u001b[0;31m\\\u001b[0m\u001b[0;34m\u001b[0m\u001b[0m\n\u001b[1;32m     71\u001b[0m                     self._fit_top_combinations(\n\u001b[0;32m---> 72\u001b[0;31m                         t2, train_data, test_data, criteria)\n\u001b[0m\u001b[1;32m     73\u001b[0m                 self._process_results(\n\u001b[1;32m     74\u001b[0m                     t2, test_results, train_scores, combs)\n",
      "\u001b[0;32m/usr/local/lib/python2.7/dist-packages/ram/analysis/combo_search.pyc\u001b[0m in \u001b[0;36m_fit_top_combinations\u001b[0;34m(self, time_index, train_data, test_data, criteria)\u001b[0m\n\u001b[1;32m     87\u001b[0m         \u001b[0;31m# Calculate sharpes\u001b[0m\u001b[0;34m\u001b[0m\u001b[0;34m\u001b[0m\u001b[0m\n\u001b[1;32m     88\u001b[0m         \u001b[0;32mif\u001b[0m \u001b[0mcriteria\u001b[0m \u001b[0;34m==\u001b[0m \u001b[0;34m'sharpe'\u001b[0m\u001b[0;34m:\u001b[0m\u001b[0;34m\u001b[0m\u001b[0m\n\u001b[0;32m---> 89\u001b[0;31m             \u001b[0mscores\u001b[0m \u001b[0;34m=\u001b[0m \u001b[0mself\u001b[0m\u001b[0;34m.\u001b[0m\u001b[0m_get_sharpes\u001b[0m\u001b[0;34m(\u001b[0m\u001b[0mtrain_data\u001b[0m\u001b[0;34m,\u001b[0m \u001b[0mcombs\u001b[0m\u001b[0;34m)\u001b[0m\u001b[0;34m\u001b[0m\u001b[0m\n\u001b[0m\u001b[1;32m     90\u001b[0m \u001b[0;34m\u001b[0m\u001b[0m\n\u001b[1;32m     91\u001b[0m         \u001b[0;32melif\u001b[0m \u001b[0mcriteria\u001b[0m \u001b[0;34m==\u001b[0m \u001b[0;34m'mean'\u001b[0m\u001b[0;34m:\u001b[0m\u001b[0;34m\u001b[0m\u001b[0m\n",
      "\u001b[0;32m/usr/local/lib/python2.7/dist-packages/ram/analysis/combo_search.pyc\u001b[0m in \u001b[0;36m_get_sharpes\u001b[0;34m(self, data, combs)\u001b[0m\n\u001b[1;32m    101\u001b[0m     \u001b[0;32mdef\u001b[0m \u001b[0m_get_sharpes\u001b[0m\u001b[0;34m(\u001b[0m\u001b[0mself\u001b[0m\u001b[0;34m,\u001b[0m \u001b[0mdata\u001b[0m\u001b[0;34m,\u001b[0m \u001b[0mcombs\u001b[0m\u001b[0;34m)\u001b[0m\u001b[0;34m:\u001b[0m\u001b[0;34m\u001b[0m\u001b[0m\n\u001b[1;32m    102\u001b[0m         \u001b[0mports\u001b[0m \u001b[0;34m=\u001b[0m \u001b[0mself\u001b[0m\u001b[0;34m.\u001b[0m\u001b[0m_get_ports\u001b[0m\u001b[0;34m(\u001b[0m\u001b[0mdata\u001b[0m\u001b[0;34m,\u001b[0m \u001b[0mcombs\u001b[0m\u001b[0;34m)\u001b[0m\u001b[0;34m\u001b[0m\u001b[0m\n\u001b[0;32m--> 103\u001b[0;31m         \u001b[0;32mreturn\u001b[0m \u001b[0mnp\u001b[0m\u001b[0;34m.\u001b[0m\u001b[0mmean\u001b[0m\u001b[0;34m(\u001b[0m\u001b[0mports\u001b[0m\u001b[0;34m,\u001b[0m \u001b[0maxis\u001b[0m\u001b[0;34m=\u001b[0m\u001b[0;36m1\u001b[0m\u001b[0;34m)\u001b[0m \u001b[0;34m/\u001b[0m \u001b[0mnp\u001b[0m\u001b[0;34m.\u001b[0m\u001b[0mstd\u001b[0m\u001b[0;34m(\u001b[0m\u001b[0mports\u001b[0m\u001b[0;34m,\u001b[0m \u001b[0maxis\u001b[0m\u001b[0;34m=\u001b[0m\u001b[0;36m1\u001b[0m\u001b[0;34m)\u001b[0m\u001b[0;34m\u001b[0m\u001b[0m\n\u001b[0m\u001b[1;32m    104\u001b[0m \u001b[0;34m\u001b[0m\u001b[0m\n\u001b[1;32m    105\u001b[0m     \u001b[0;32mdef\u001b[0m \u001b[0m_get_means\u001b[0m\u001b[0;34m(\u001b[0m\u001b[0mself\u001b[0m\u001b[0;34m,\u001b[0m \u001b[0mdata\u001b[0m\u001b[0;34m,\u001b[0m \u001b[0mcombs\u001b[0m\u001b[0;34m)\u001b[0m\u001b[0;34m:\u001b[0m\u001b[0;34m\u001b[0m\u001b[0m\n",
      "\u001b[0;32m/usr/local/lib/python2.7/dist-packages/numpy/core/fromnumeric.pyc\u001b[0m in \u001b[0;36mmean\u001b[0;34m(a, axis, dtype, out, keepdims)\u001b[0m\n\u001b[1;32m   2907\u001b[0m \u001b[0;34m\u001b[0m\u001b[0m\n\u001b[1;32m   2908\u001b[0m     return _methods._mean(a, axis=axis, dtype=dtype,\n\u001b[0;32m-> 2909\u001b[0;31m                           out=out, **kwargs)\n\u001b[0m\u001b[1;32m   2910\u001b[0m \u001b[0;34m\u001b[0m\u001b[0m\n\u001b[1;32m   2911\u001b[0m \u001b[0;34m\u001b[0m\u001b[0m\n",
      "\u001b[0;32m/usr/local/lib/python2.7/dist-packages/numpy/core/_methods.pyc\u001b[0m in \u001b[0;36m_mean\u001b[0;34m(a, axis, dtype, out, keepdims)\u001b[0m\n\u001b[1;32m     68\u001b[0m             \u001b[0mis_float16_result\u001b[0m \u001b[0;34m=\u001b[0m \u001b[0mTrue\u001b[0m\u001b[0;34m\u001b[0m\u001b[0m\n\u001b[1;32m     69\u001b[0m \u001b[0;34m\u001b[0m\u001b[0m\n\u001b[0;32m---> 70\u001b[0;31m     \u001b[0mret\u001b[0m \u001b[0;34m=\u001b[0m \u001b[0mumr_sum\u001b[0m\u001b[0;34m(\u001b[0m\u001b[0marr\u001b[0m\u001b[0;34m,\u001b[0m \u001b[0maxis\u001b[0m\u001b[0;34m,\u001b[0m \u001b[0mdtype\u001b[0m\u001b[0;34m,\u001b[0m \u001b[0mout\u001b[0m\u001b[0;34m,\u001b[0m \u001b[0mkeepdims\u001b[0m\u001b[0;34m)\u001b[0m\u001b[0;34m\u001b[0m\u001b[0m\n\u001b[0m\u001b[1;32m     71\u001b[0m     \u001b[0;32mif\u001b[0m \u001b[0misinstance\u001b[0m\u001b[0;34m(\u001b[0m\u001b[0mret\u001b[0m\u001b[0;34m,\u001b[0m \u001b[0mmu\u001b[0m\u001b[0;34m.\u001b[0m\u001b[0mndarray\u001b[0m\u001b[0;34m)\u001b[0m\u001b[0;34m:\u001b[0m\u001b[0;34m\u001b[0m\u001b[0m\n\u001b[1;32m     72\u001b[0m         ret = um.true_divide(\n",
      "\u001b[0;31mKeyboardInterrupt\u001b[0m: "
     ]
    }
   ],
   "source": [
    "drop_params = [('drop_ibes', True)]\n",
    "\n",
    "combAll = CombinationSearch(gcp_implementation=True, write_flag=True)\n",
    "for r in runs:\n",
    "    combAll.add_run(RunManagerGCP('LongPeadStrategy', r, \n",
    "                                  test_periods=0, start_year=2009, drop_params=drop_params))\n",
    "\n",
    "combAll.start(50, criteria='sharpe')"
   ]
  },
  {
   "cell_type": "code",
   "execution_count": null,
   "metadata": {},
   "outputs": [
    {
     "name": "stderr",
     "output_type": "stream",
     "text": [
      " 33%|███▎      | 3/9 [00:00<00:00, 18.55it/s]"
     ]
    },
    {
     "name": "stdout",
     "output_type": "stream",
     "text": [
      "Reading and aggregating runs...\n"
     ]
    },
    {
     "name": "stderr",
     "output_type": "stream",
     "text": [
      "100%|██████████| 9/9 [00:00<00:00, 36.24it/s]\n"
     ]
    },
    {
     "name": "stdout",
     "output_type": "stream",
     "text": [
      "Finished aggregating runs...\n"
     ]
    },
    {
     "name": "stderr",
     "output_type": "stream",
     "text": [
      " 88%|████████▊ | 132/150 [52:55<07:25, 24.74s/it]"
     ]
    }
   ],
   "source": [
    "combAll.start(150, criteria='sharpe')"
   ]
  },
  {
   "cell_type": "code",
   "execution_count": 19,
   "metadata": {},
   "outputs": [
    {
     "data": {
      "text/plain": [
       "[<matplotlib.lines.Line2D at 0x7fc2db43a490>]"
      ]
     },
     "execution_count": 19,
     "metadata": {},
     "output_type": "execute_result"
    },
    {
     "data": {
      "image/png": "[encoded data removed]",
      "text/plain": [
       "<matplotlib.figure.Figure at 0x7fc2e502c810>"
      ]
     },
     "metadata": {},
     "output_type": "display_data"
    }
   ],
   "source": [
    "plt.figure()\n",
    "plt.plot(combAll.epoch_stats.Mean)"
   ]
  },
  {
   "cell_type": "code",
   "execution_count": 20,
   "metadata": {},
   "outputs": [
    {
     "data": {
      "text/plain": [
       "[<matplotlib.lines.Line2D at 0x7fc2dd033fd0>,\n",
       " <matplotlib.lines.Line2D at 0x7fc2e539afd0>,\n",
       " <matplotlib.lines.Line2D at 0x7fc2dd058250>,\n",
       " <matplotlib.lines.Line2D at 0x7fc2dd058390>,\n",
       " <matplotlib.lines.Line2D at 0x7fc2dd0584d0>]"
      ]
     },
     "execution_count": 20,
     "metadata": {},
     "output_type": "execute_result"
    },
    {
     "data": {
      "image/png": "[encoded data removed]",
      "text/plain": [
       "<matplotlib.figure.Figure at 0x7fc2e47f4b50>"
      ]
     },
     "metadata": {},
     "output_type": "display_data"
    }
   ],
   "source": [
    "plt.figure()\n",
    "plt.plot(combAll.best_results_rets.cumsum())"
   ]
  },
  {
   "cell_type": "code",
   "execution_count": null,
   "metadata": {
    "collapsed": true
   },
   "outputs": [],
   "source": []
  }
 ],
 "metadata": {
  "kernelspec": {
   "display_name": "Python 2",
   "language": "python",
   "name": "python2"
  },
  "language_info": {
   "codemirror_mode": {
    "name": "ipython",
    "version": 2
   },
   "file_extension": ".py",
   "mimetype": "text/x-python",
   "name": "python",
   "nbconvert_exporter": "python",
   "pygments_lexer": "ipython2",
   "version": "2.7.13"
  }
 },
 "nbformat": 4,
 "nbformat_minor": 2
}
