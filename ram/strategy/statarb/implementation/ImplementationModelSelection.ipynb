{
 "cells": [
  {
   "cell_type": "code",
   "execution_count": 1,
   "metadata": {
    "collapsed": true
   },
   "outputs": [],
   "source": [
    "%matplotlib inline\n",
    "\n",
    "import numpy as np\n",
    "import pandas as pd\n",
    "import datetime as dt\n",
    "import matplotlib.pyplot as plt"
   ]
  },
  {
   "cell_type": "code",
   "execution_count": 2,
   "metadata": {
    "collapsed": true
   },
   "outputs": [],
   "source": [
    "from ram.analysis.run_manager import RunManager\n",
    "from ram.analysis.model_selection.combo_search import CombinationSearch\n",
    "from ram.analysis.statistics import get_stats, rollup_returns"
   ]
  },
  {
   "cell_type": "code",
   "execution_count": 3,
   "metadata": {},
   "outputs": [
    {
     "data": {
      "text/html": [
       "<div>\n",
       "<table border=\"1\" class=\"dataframe\">\n",
       "  <thead>\n",
       "    <tr style=\"text-align: right;\">\n",
       "      <th></th>\n",
       "      <th>RunName</th>\n",
       "      <th>RunDate</th>\n",
       "      <th>Completed</th>\n",
       "      <th>Description</th>\n",
       "    </tr>\n",
       "  </thead>\n",
       "  <tbody>\n",
       "    <tr>\n",
       "      <th>0</th>\n",
       "      <td>run_0068</td>\n",
       "      <td>2018-03-06</td>\n",
       "      <td>True</td>\n",
       "      <td>Sector 20, version 002</td>\n",
       "    </tr>\n",
       "    <tr>\n",
       "      <th>1</th>\n",
       "      <td>run_0069</td>\n",
       "      <td>2018-03-07</td>\n",
       "      <td>True</td>\n",
       "      <td>Sector 20, version 2 rerun with univ filtering</td>\n",
       "    </tr>\n",
       "    <tr>\n",
       "      <th>2</th>\n",
       "      <td>run_0070</td>\n",
       "      <td>2018-03-19</td>\n",
       "      <td>True</td>\n",
       "      <td>Sector 20, post refactor run</td>\n",
       "    </tr>\n",
       "    <tr>\n",
       "      <th>3</th>\n",
       "      <td>run_0071</td>\n",
       "      <td>2018-03-21</td>\n",
       "      <td>True</td>\n",
       "      <td>Sector 20, 2001 start date, 16cpu comp</td>\n",
       "    </tr>\n",
       "    <tr>\n",
       "      <th>4</th>\n",
       "      <td>run_0072</td>\n",
       "      <td>2018-03-21</td>\n",
       "      <td>True</td>\n",
       "      <td>Sector 20, 2001 start date, 64cpu comp</td>\n",
       "    </tr>\n",
       "    <tr>\n",
       "      <th>5</th>\n",
       "      <td>run_0078</td>\n",
       "      <td>2018-04-18</td>\n",
       "      <td>True</td>\n",
       "      <td>Sector 20, new pricing data</td>\n",
       "    </tr>\n",
       "    <tr>\n",
       "      <th>6</th>\n",
       "      <td>run_0079</td>\n",
       "      <td>2018-04-25</td>\n",
       "      <td>True</td>\n",
       "      <td>Rerun with data since 2004</td>\n",
       "    </tr>\n",
       "    <tr>\n",
       "      <th>7</th>\n",
       "      <td>run_0080</td>\n",
       "      <td>2018-04-26</td>\n",
       "      <td>False</td>\n",
       "      <td>Rerun of version 24 data</td>\n",
       "    </tr>\n",
       "    <tr>\n",
       "      <th>8</th>\n",
       "      <td>run_0081</td>\n",
       "      <td>2018-04-30</td>\n",
       "      <td>True</td>\n",
       "      <td>New hyperparams</td>\n",
       "    </tr>\n",
       "    <tr>\n",
       "      <th>9</th>\n",
       "      <td>run_0085</td>\n",
       "      <td>2018-05-01</td>\n",
       "      <td>True</td>\n",
       "      <td>new params, longer params/hyperparms</td>\n",
       "    </tr>\n",
       "    <tr>\n",
       "      <th>10</th>\n",
       "      <td>run_0087</td>\n",
       "      <td>2018-05-03</td>\n",
       "      <td>True</td>\n",
       "      <td>Sector 20, version 3 long hyperparams first run</td>\n",
       "    </tr>\n",
       "    <tr>\n",
       "      <th>11</th>\n",
       "      <td>run_0090</td>\n",
       "      <td>2018-05-07</td>\n",
       "      <td>True</td>\n",
       "      <td>Sector 20, version 004 run</td>\n",
       "    </tr>\n",
       "    <tr>\n",
       "      <th>12</th>\n",
       "      <td>run_0091</td>\n",
       "      <td>2018-05-07</td>\n",
       "      <td>True</td>\n",
       "      <td>Sector 25, version 004 run</td>\n",
       "    </tr>\n",
       "    <tr>\n",
       "      <th>13</th>\n",
       "      <td>run_0092</td>\n",
       "      <td>2018-05-08</td>\n",
       "      <td>True</td>\n",
       "      <td>Sector 45, version 4, first run</td>\n",
       "    </tr>\n",
       "    <tr>\n",
       "      <th>14</th>\n",
       "      <td>run_0093</td>\n",
       "      <td>2018-05-15</td>\n",
       "      <td>True</td>\n",
       "      <td>Sector 10, version 4</td>\n",
       "    </tr>\n",
       "    <tr>\n",
       "      <th>15</th>\n",
       "      <td>run_0094</td>\n",
       "      <td>2018-05-15</td>\n",
       "      <td>True</td>\n",
       "      <td>Sector 15, version 4</td>\n",
       "    </tr>\n",
       "    <tr>\n",
       "      <th>16</th>\n",
       "      <td>run_0095</td>\n",
       "      <td>2018-05-15</td>\n",
       "      <td>True</td>\n",
       "      <td>Sector 30, version 4</td>\n",
       "    </tr>\n",
       "    <tr>\n",
       "      <th>17</th>\n",
       "      <td>run_0096</td>\n",
       "      <td>2018-05-16</td>\n",
       "      <td>True</td>\n",
       "      <td>Sector 40, version 4</td>\n",
       "    </tr>\n",
       "    <tr>\n",
       "      <th>18</th>\n",
       "      <td>run_0097</td>\n",
       "      <td>2018-05-16</td>\n",
       "      <td>True</td>\n",
       "      <td>Sector 50, version 4</td>\n",
       "    </tr>\n",
       "    <tr>\n",
       "      <th>19</th>\n",
       "      <td>run_0098</td>\n",
       "      <td>2018-05-16</td>\n",
       "      <td>True</td>\n",
       "      <td>Sector 35, version 4</td>\n",
       "    </tr>\n",
       "    <tr>\n",
       "      <th>20</th>\n",
       "      <td>run_0099</td>\n",
       "      <td>2018-05-16</td>\n",
       "      <td>True</td>\n",
       "      <td>Sector 55, version 4</td>\n",
       "    </tr>\n",
       "  </tbody>\n",
       "</table>\n",
       "</div>"
      ],
      "text/plain": [
       "     RunName     RunDate Completed  \\\n",
       "0   run_0068  2018-03-06      True   \n",
       "1   run_0069  2018-03-07      True   \n",
       "2   run_0070  2018-03-19      True   \n",
       "3   run_0071  2018-03-21      True   \n",
       "4   run_0072  2018-03-21      True   \n",
       "5   run_0078  2018-04-18      True   \n",
       "6   run_0079  2018-04-25      True   \n",
       "7   run_0080  2018-04-26     False   \n",
       "8   run_0081  2018-04-30      True   \n",
       "9   run_0085  2018-05-01      True   \n",
       "10  run_0087  2018-05-03      True   \n",
       "11  run_0090  2018-05-07      True   \n",
       "12  run_0091  2018-05-07      True   \n",
       "13  run_0092  2018-05-08      True   \n",
       "14  run_0093  2018-05-15      True   \n",
       "15  run_0094  2018-05-15      True   \n",
       "16  run_0095  2018-05-15      True   \n",
       "17  run_0096  2018-05-16      True   \n",
       "18  run_0097  2018-05-16      True   \n",
       "19  run_0098  2018-05-16      True   \n",
       "20  run_0099  2018-05-16      True   \n",
       "\n",
       "                                        Description  \n",
       "0                            Sector 20, version 002  \n",
       "1    Sector 20, version 2 rerun with univ filtering  \n",
       "2                      Sector 20, post refactor run  \n",
       "3            Sector 20, 2001 start date, 16cpu comp  \n",
       "4            Sector 20, 2001 start date, 64cpu comp  \n",
       "5                       Sector 20, new pricing data  \n",
       "6                        Rerun with data since 2004  \n",
       "7                          Rerun of version 24 data  \n",
       "8                                   New hyperparams  \n",
       "9              new params, longer params/hyperparms  \n",
       "10  Sector 20, version 3 long hyperparams first run  \n",
       "11                       Sector 20, version 004 run  \n",
       "12                       Sector 25, version 004 run  \n",
       "13                  Sector 45, version 4, first run  \n",
       "14                             Sector 10, version 4  \n",
       "15                             Sector 15, version 4  \n",
       "16                             Sector 30, version 4  \n",
       "17                             Sector 40, version 4  \n",
       "18                             Sector 50, version 4  \n",
       "19                             Sector 35, version 4  \n",
       "20                             Sector 55, version 4  "
      ]
     },
     "execution_count": 3,
     "metadata": {},
     "output_type": "execute_result"
    }
   ],
   "source": [
    "RunManager.get_run_names('StatArbStrategy')"
   ]
  },
  {
   "cell_type": "markdown",
   "metadata": {},
   "source": [
    "#### Document last run date"
   ]
  },
  {
   "cell_type": "code",
   "execution_count": 4,
   "metadata": {},
   "outputs": [
    {
     "name": "stdout",
     "output_type": "stream",
     "text": [
      "TIMESTAMP for last run of this script:\n",
      "2018-06-01 17:13:13.267376\n"
     ]
    }
   ],
   "source": [
    "print('TIMESTAMP for last run of this script:')\n",
    "print(dt.datetime.utcnow())"
   ]
  },
  {
   "cell_type": "markdown",
   "metadata": {},
   "source": [
    "#### Current runs for implementation"
   ]
  },
  {
   "cell_type": "code",
   "execution_count": 5,
   "metadata": {
    "collapsed": true
   },
   "outputs": [],
   "source": [
    "runs = [\n",
    "    'run_0090'\n",
    "]"
   ]
  },
  {
   "cell_type": "markdown",
   "metadata": {},
   "source": [
    "#### Check that all run files are up-to-date"
   ]
  },
  {
   "cell_type": "code",
   "execution_count": 6,
   "metadata": {},
   "outputs": [
    {
     "name": "stdout",
     "output_type": "stream",
     "text": [
      "run_0090 - 2018-05-31 00:00:00\n"
     ]
    }
   ],
   "source": [
    "for r in runs:\n",
    "    run = RunManager('StatArbStrategy', r, test_periods=0)\n",
    "    run.import_return_frame()\n",
    "    print('{} - {}'.format(r, run.returns.index[-1]))"
   ]
  },
  {
   "cell_type": "markdown",
   "metadata": {},
   "source": [
    "#### Import"
   ]
  },
  {
   "cell_type": "code",
   "execution_count": 7,
   "metadata": {
    "collapsed": true
   },
   "outputs": [],
   "source": [
    "drop_params = [('model', \"{u'type': u'reg'}\"), ('per_side_count', 5), ('score_var', 'prma_20')]\n",
    "run1 = RunManager('StatArbStrategy', 'run_0090', test_periods=0, start_year=2009, drop_params=drop_params)\n",
    "\n",
    "## Create combo search\n",
    "comb = CombinationSearch(write_flag=True)\n",
    "comb.set_selection_criteria('sharpe')\n",
    "comb.params['training_epochs'] = 20\n",
    "\n",
    "#for r in runs:\n",
    "comb.add_run(run1)"
   ]
  },
  {
   "cell_type": "code",
   "execution_count": 8,
   "metadata": {},
   "outputs": [
    {
     "name": "stdout",
     "output_type": "stream",
     "text": [
      "Reading and aggregating runs...\n",
      "Finished aggregating runs...\n",
      "\n",
      "~~~~~~~~~~~~~~~~~~~~~~~~~~~~~~~~~~~~~\n",
      "Writing run as: CombinationSearch_20180601171351\n",
      "Max date: 2018-05-31\n",
      "~~~~~~~~~~~~~~~~~~~~~~~~~~~~~~~~~~~~~\n",
      "\n"
     ]
    },
    {
     "name": "stderr",
     "output_type": "stream",
     "text": [
      "100%|██████████| 20/20 [04:16<00:00, 12.74s/it]\n"
     ]
    }
   ],
   "source": [
    "comb.start()"
   ]
  },
  {
   "cell_type": "code",
   "execution_count": 9,
   "metadata": {},
   "outputs": [
    {
     "data": {
      "image/png": "[encoded data removed]",
      "text/plain": [
       "<matplotlib.figure.Figure at 0x7fe5b4ccbd50>"
      ]
     },
     "metadata": {},
     "output_type": "display_data"
    }
   ],
   "source": [
    "plt.figure()\n",
    "plt.plot(comb.epoch_stats.Mean)\n",
    "plt.show()"
   ]
  },
  {
   "cell_type": "code",
   "execution_count": 10,
   "metadata": {},
   "outputs": [
    {
     "data": {
      "image/png": "[encoded data removed]",
      "text/plain": [
       "<matplotlib.figure.Figure at 0x7fe5b501b5d0>"
      ]
     },
     "metadata": {},
     "output_type": "display_data"
    }
   ],
   "source": [
    "plt.figure()\n",
    "plt.plot(comb.best_results_returns.cumsum())\n",
    "plt.show()"
   ]
  },
  {
   "cell_type": "code",
   "execution_count": 11,
   "metadata": {},
   "outputs": [
    {
     "data": {
      "text/html": [
       "<div>\n",
       "<table border=\"1\" class=\"dataframe\">\n",
       "  <thead>\n",
       "    <tr style=\"text-align: right;\">\n",
       "      <th>Qtr</th>\n",
       "      <th>1</th>\n",
       "      <th>2</th>\n",
       "      <th>3</th>\n",
       "      <th>4</th>\n",
       "      <th>year</th>\n",
       "    </tr>\n",
       "    <tr>\n",
       "      <th>Year</th>\n",
       "      <th></th>\n",
       "      <th></th>\n",
       "      <th></th>\n",
       "      <th></th>\n",
       "      <th></th>\n",
       "    </tr>\n",
       "  </thead>\n",
       "  <tbody>\n",
       "    <tr>\n",
       "      <th>2009</th>\n",
       "      <td>NaN</td>\n",
       "      <td>NaN</td>\n",
       "      <td>NaN</td>\n",
       "      <td>NaN</td>\n",
       "      <td>NaN</td>\n",
       "    </tr>\n",
       "    <tr>\n",
       "      <th>2010</th>\n",
       "      <td>0.043976</td>\n",
       "      <td>0.002581</td>\n",
       "      <td>0.064172</td>\n",
       "      <td>-0.006542</td>\n",
       "      <td>0.104188</td>\n",
       "    </tr>\n",
       "    <tr>\n",
       "      <th>2011</th>\n",
       "      <td>0.029221</td>\n",
       "      <td>0.025546</td>\n",
       "      <td>-0.016410</td>\n",
       "      <td>0.081577</td>\n",
       "      <td>0.119934</td>\n",
       "    </tr>\n",
       "    <tr>\n",
       "      <th>2012</th>\n",
       "      <td>0.018106</td>\n",
       "      <td>-0.013535</td>\n",
       "      <td>0.032954</td>\n",
       "      <td>0.073728</td>\n",
       "      <td>0.111253</td>\n",
       "    </tr>\n",
       "    <tr>\n",
       "      <th>2013</th>\n",
       "      <td>-0.009397</td>\n",
       "      <td>0.033268</td>\n",
       "      <td>0.054505</td>\n",
       "      <td>0.011807</td>\n",
       "      <td>0.090183</td>\n",
       "    </tr>\n",
       "    <tr>\n",
       "      <th>2014</th>\n",
       "      <td>0.033655</td>\n",
       "      <td>0.003199</td>\n",
       "      <td>-0.019891</td>\n",
       "      <td>0.017517</td>\n",
       "      <td>0.034480</td>\n",
       "    </tr>\n",
       "    <tr>\n",
       "      <th>2015</th>\n",
       "      <td>-0.011930</td>\n",
       "      <td>0.042916</td>\n",
       "      <td>-0.027376</td>\n",
       "      <td>0.037186</td>\n",
       "      <td>0.040797</td>\n",
       "    </tr>\n",
       "    <tr>\n",
       "      <th>2016</th>\n",
       "      <td>0.066200</td>\n",
       "      <td>-0.019487</td>\n",
       "      <td>0.012179</td>\n",
       "      <td>0.040553</td>\n",
       "      <td>0.099445</td>\n",
       "    </tr>\n",
       "    <tr>\n",
       "      <th>2017</th>\n",
       "      <td>0.025625</td>\n",
       "      <td>0.031125</td>\n",
       "      <td>-0.019418</td>\n",
       "      <td>0.004288</td>\n",
       "      <td>0.041620</td>\n",
       "    </tr>\n",
       "    <tr>\n",
       "      <th>2018</th>\n",
       "      <td>0.014374</td>\n",
       "      <td>-0.011144</td>\n",
       "      <td>NaN</td>\n",
       "      <td>NaN</td>\n",
       "      <td>0.003230</td>\n",
       "    </tr>\n",
       "  </tbody>\n",
       "</table>\n",
       "</div>"
      ],
      "text/plain": [
       "Qtr          1         2         3         4      year\n",
       "Year                                                  \n",
       "2009       NaN       NaN       NaN       NaN       NaN\n",
       "2010  0.043976  0.002581  0.064172 -0.006542  0.104188\n",
       "2011  0.029221  0.025546 -0.016410  0.081577  0.119934\n",
       "2012  0.018106 -0.013535  0.032954  0.073728  0.111253\n",
       "2013 -0.009397  0.033268  0.054505  0.011807  0.090183\n",
       "2014  0.033655  0.003199 -0.019891  0.017517  0.034480\n",
       "2015 -0.011930  0.042916 -0.027376  0.037186  0.040797\n",
       "2016  0.066200 -0.019487  0.012179  0.040553  0.099445\n",
       "2017  0.025625  0.031125 -0.019418  0.004288  0.041620\n",
       "2018  0.014374 -0.011144       NaN       NaN  0.003230"
      ]
     },
     "execution_count": 11,
     "metadata": {},
     "output_type": "execute_result"
    }
   ],
   "source": [
    "df = rollup_returns(comb.best_results_returns)\n",
    "df['year'] = df.sum(axis=1)\n",
    "df"
   ]
  },
  {
   "cell_type": "code",
   "execution_count": 12,
   "metadata": {},
   "outputs": [
    {
     "data": {
      "text/plain": [
       "0.080237565015516543"
      ]
     },
     "execution_count": 12,
     "metadata": {},
     "output_type": "execute_result"
    }
   ],
   "source": [
    "df.year.iloc[:-1].mean()"
   ]
  },
  {
   "cell_type": "code",
   "execution_count": null,
   "metadata": {
    "collapsed": true
   },
   "outputs": [],
   "source": []
  }
 ],
 "metadata": {
  "kernelspec": {
   "display_name": "Python 2",
   "language": "python",
   "name": "python2"
  },
  "language_info": {
   "codemirror_mode": {
    "name": "ipython",
    "version": 2
   },
   "file_extension": ".py",
   "mimetype": "text/x-python",
   "name": "python",
   "nbconvert_exporter": "python",
   "pygments_lexer": "ipython2",
   "version": "2.7.13"
  }
 },
 "nbformat": 4,
 "nbformat_minor": 2
}
