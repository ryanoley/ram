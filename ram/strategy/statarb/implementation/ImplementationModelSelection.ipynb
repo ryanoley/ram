{
 "cells": [
  {
   "cell_type": "code",
   "execution_count": 1,
   "metadata": {
    "collapsed": true
   },
   "outputs": [],
   "source": [
    "%matplotlib inline\n",
    "\n",
    "import numpy as np\n",
    "import pandas as pd\n",
    "import datetime as dt\n",
    "import matplotlib.pyplot as plt"
   ]
  },
  {
   "cell_type": "code",
   "execution_count": 2,
   "metadata": {
    "collapsed": true
   },
   "outputs": [],
   "source": [
    "from ram.analysis.run_manager import RunManager\n",
    "from ram.analysis.model_selection.combo_search import CombinationSearch\n",
    "from ram.analysis.statistics import get_stats, rollup_returns"
   ]
  },
  {
   "cell_type": "code",
   "execution_count": 3,
   "metadata": {},
   "outputs": [
    {
     "data": {
      "text/html": [
       "<div>\n",
       "<table border=\"1\" class=\"dataframe\">\n",
       "  <thead>\n",
       "    <tr style=\"text-align: right;\">\n",
       "      <th></th>\n",
       "      <th>RunName</th>\n",
       "      <th>RunDate</th>\n",
       "      <th>Completed</th>\n",
       "      <th>Description</th>\n",
       "    </tr>\n",
       "  </thead>\n",
       "  <tbody>\n",
       "    <tr>\n",
       "      <th>0</th>\n",
       "      <td>run_0068</td>\n",
       "      <td>2018-03-06</td>\n",
       "      <td>True</td>\n",
       "      <td>Sector 20, version 002</td>\n",
       "    </tr>\n",
       "    <tr>\n",
       "      <th>1</th>\n",
       "      <td>run_0069</td>\n",
       "      <td>2018-03-07</td>\n",
       "      <td>True</td>\n",
       "      <td>Sector 20, version 2 rerun with univ filtering</td>\n",
       "    </tr>\n",
       "    <tr>\n",
       "      <th>2</th>\n",
       "      <td>run_0070</td>\n",
       "      <td>2018-03-19</td>\n",
       "      <td>True</td>\n",
       "      <td>Sector 20, post refactor run</td>\n",
       "    </tr>\n",
       "  </tbody>\n",
       "</table>\n",
       "</div>"
      ],
      "text/plain": [
       "    RunName     RunDate Completed  \\\n",
       "0  run_0068  2018-03-06      True   \n",
       "1  run_0069  2018-03-07      True   \n",
       "2  run_0070  2018-03-19      True   \n",
       "\n",
       "                                      Description  \n",
       "0                          Sector 20, version 002  \n",
       "1  Sector 20, version 2 rerun with univ filtering  \n",
       "2                    Sector 20, post refactor run  "
      ]
     },
     "execution_count": 3,
     "metadata": {},
     "output_type": "execute_result"
    }
   ],
   "source": [
    "RunManager.get_run_names('StatArbStrategy')"
   ]
  },
  {
   "cell_type": "markdown",
   "metadata": {},
   "source": [
    "#### Document last run date"
   ]
  },
  {
   "cell_type": "code",
   "execution_count": 4,
   "metadata": {},
   "outputs": [
    {
     "name": "stdout",
     "output_type": "stream",
     "text": [
      "TIMESTAMP for last run of this script:\n",
      "2018-03-20 20:49:59.804110\n"
     ]
    }
   ],
   "source": [
    "print('TIMESTAMP for last run of this script:')\n",
    "print(dt.datetime.utcnow())"
   ]
  },
  {
   "cell_type": "markdown",
   "metadata": {},
   "source": [
    "#### Current runs for implementation"
   ]
  },
  {
   "cell_type": "code",
   "execution_count": 5,
   "metadata": {
    "collapsed": true
   },
   "outputs": [],
   "source": [
    "runs = [\n",
    "    'run_0070'\n",
    "]"
   ]
  },
  {
   "cell_type": "markdown",
   "metadata": {},
   "source": [
    "#### Check that all run files are up-to-date"
   ]
  },
  {
   "cell_type": "code",
   "execution_count": 6,
   "metadata": {},
   "outputs": [
    {
     "name": "stdout",
     "output_type": "stream",
     "text": [
      "run_0070 - 2018-03-16 00:00:00\n"
     ]
    }
   ],
   "source": [
    "for r in runs:\n",
    "    run = RunManager('StatArbStrategy', r, test_periods=0)\n",
    "    run.import_return_frame()\n",
    "    print('{} - {}'.format(r, run.returns.index[-1]))"
   ]
  },
  {
   "cell_type": "markdown",
   "metadata": {},
   "source": [
    "#### Import"
   ]
  },
  {
   "cell_type": "code",
   "execution_count": 7,
   "metadata": {
    "collapsed": true
   },
   "outputs": [],
   "source": [
    "drop_params = []\n",
    "\n",
    "comb = CombinationSearch(write_flag=True)\n",
    "comb.params['training_epochs'] = 20\n",
    "\n",
    "for r in runs:\n",
    "    comb.add_run(RunManager('StatArbStrategy', r, \n",
    "                            test_periods=0, start_year=2009, drop_params=drop_params))"
   ]
  },
  {
   "cell_type": "code",
   "execution_count": 8,
   "metadata": {},
   "outputs": [
    {
     "name": "stdout",
     "output_type": "stream",
     "text": [
      "Reading and aggregating runs...\n",
      "Finished aggregating runs...\n",
      "\n",
      "~~~~~~~~~~~~~~~~~~~~~~~~~~~~~~~~~~~~~\n",
      "Writing run as: CombinationSearch_20180320205022\n",
      "Max date: 2018-03-16\n",
      "~~~~~~~~~~~~~~~~~~~~~~~~~~~~~~~~~~~~~\n",
      "\n"
     ]
    },
    {
     "name": "stderr",
     "output_type": "stream",
     "text": [
      "100%|██████████| 20/20 [03:27<00:00, 10.64s/it]\n"
     ]
    }
   ],
   "source": [
    "comb.start()"
   ]
  },
  {
   "cell_type": "code",
   "execution_count": 9,
   "metadata": {},
   "outputs": [
    {
     "data": {
      "image/png": "[encoded data removed]",
      "text/plain": [
       "<matplotlib.figure.Figure at 0x7f18b3b09d50>"
      ]
     },
     "metadata": {},
     "output_type": "display_data"
    }
   ],
   "source": [
    "plt.figure()\n",
    "plt.plot(comb.epoch_stats.Mean)\n",
    "plt.show()"
   ]
  },
  {
   "cell_type": "code",
   "execution_count": 10,
   "metadata": {},
   "outputs": [
    {
     "data": {
      "image/png": "[encoded data removed]",
      "text/plain": [
       "<matplotlib.figure.Figure at 0x7f18b38b8e10>"
      ]
     },
     "metadata": {},
     "output_type": "display_data"
    }
   ],
   "source": [
    "plt.figure()\n",
    "plt.plot(comb.best_results_returns.cumsum())\n",
    "plt.show()"
   ]
  },
  {
   "cell_type": "code",
   "execution_count": 11,
   "metadata": {},
   "outputs": [
    {
     "data": {
      "text/html": [
       "<div>\n",
       "<table border=\"1\" class=\"dataframe\">\n",
       "  <thead>\n",
       "    <tr style=\"text-align: right;\">\n",
       "      <th>Qtr</th>\n",
       "      <th>1</th>\n",
       "      <th>2</th>\n",
       "      <th>3</th>\n",
       "      <th>4</th>\n",
       "      <th>year</th>\n",
       "    </tr>\n",
       "    <tr>\n",
       "      <th>Year</th>\n",
       "      <th></th>\n",
       "      <th></th>\n",
       "      <th></th>\n",
       "      <th></th>\n",
       "      <th></th>\n",
       "    </tr>\n",
       "  </thead>\n",
       "  <tbody>\n",
       "    <tr>\n",
       "      <th>2009</th>\n",
       "      <td>NaN</td>\n",
       "      <td>NaN</td>\n",
       "      <td>NaN</td>\n",
       "      <td>NaN</td>\n",
       "      <td>NaN</td>\n",
       "    </tr>\n",
       "    <tr>\n",
       "      <th>2010</th>\n",
       "      <td>0.061298</td>\n",
       "      <td>-0.007686</td>\n",
       "      <td>0.082594</td>\n",
       "      <td>0.014600</td>\n",
       "      <td>0.150805</td>\n",
       "    </tr>\n",
       "    <tr>\n",
       "      <th>2011</th>\n",
       "      <td>0.050105</td>\n",
       "      <td>0.003835</td>\n",
       "      <td>-0.003208</td>\n",
       "      <td>0.079134</td>\n",
       "      <td>0.129866</td>\n",
       "    </tr>\n",
       "    <tr>\n",
       "      <th>2012</th>\n",
       "      <td>-0.028774</td>\n",
       "      <td>-0.001213</td>\n",
       "      <td>0.019749</td>\n",
       "      <td>0.069736</td>\n",
       "      <td>0.059497</td>\n",
       "    </tr>\n",
       "    <tr>\n",
       "      <th>2013</th>\n",
       "      <td>-0.003042</td>\n",
       "      <td>0.047604</td>\n",
       "      <td>0.039028</td>\n",
       "      <td>0.006172</td>\n",
       "      <td>0.089762</td>\n",
       "    </tr>\n",
       "    <tr>\n",
       "      <th>2014</th>\n",
       "      <td>0.056339</td>\n",
       "      <td>-0.016690</td>\n",
       "      <td>-0.023133</td>\n",
       "      <td>0.016346</td>\n",
       "      <td>0.032863</td>\n",
       "    </tr>\n",
       "    <tr>\n",
       "      <th>2015</th>\n",
       "      <td>0.028950</td>\n",
       "      <td>0.029038</td>\n",
       "      <td>-0.019436</td>\n",
       "      <td>0.068583</td>\n",
       "      <td>0.107134</td>\n",
       "    </tr>\n",
       "    <tr>\n",
       "      <th>2016</th>\n",
       "      <td>-0.012815</td>\n",
       "      <td>0.016700</td>\n",
       "      <td>0.003883</td>\n",
       "      <td>0.040891</td>\n",
       "      <td>0.048659</td>\n",
       "    </tr>\n",
       "    <tr>\n",
       "      <th>2017</th>\n",
       "      <td>0.022578</td>\n",
       "      <td>0.024026</td>\n",
       "      <td>0.002237</td>\n",
       "      <td>0.025233</td>\n",
       "      <td>0.074074</td>\n",
       "    </tr>\n",
       "    <tr>\n",
       "      <th>2018</th>\n",
       "      <td>0.036405</td>\n",
       "      <td>NaN</td>\n",
       "      <td>NaN</td>\n",
       "      <td>NaN</td>\n",
       "      <td>0.036405</td>\n",
       "    </tr>\n",
       "  </tbody>\n",
       "</table>\n",
       "</div>"
      ],
      "text/plain": [
       "Qtr          1         2         3         4      year\n",
       "Year                                                  \n",
       "2009       NaN       NaN       NaN       NaN       NaN\n",
       "2010  0.061298 -0.007686  0.082594  0.014600  0.150805\n",
       "2011  0.050105  0.003835 -0.003208  0.079134  0.129866\n",
       "2012 -0.028774 -0.001213  0.019749  0.069736  0.059497\n",
       "2013 -0.003042  0.047604  0.039028  0.006172  0.089762\n",
       "2014  0.056339 -0.016690 -0.023133  0.016346  0.032863\n",
       "2015  0.028950  0.029038 -0.019436  0.068583  0.107134\n",
       "2016 -0.012815  0.016700  0.003883  0.040891  0.048659\n",
       "2017  0.022578  0.024026  0.002237  0.025233  0.074074\n",
       "2018  0.036405       NaN       NaN       NaN  0.036405"
      ]
     },
     "execution_count": 11,
     "metadata": {},
     "output_type": "execute_result"
    }
   ],
   "source": [
    "df = rollup_returns(comb.best_results_returns)\n",
    "df['year'] = df.sum(axis=1)\n",
    "df"
   ]
  },
  {
   "cell_type": "code",
   "execution_count": 12,
   "metadata": {},
   "outputs": [
    {
     "data": {
      "text/plain": [
       "0.081007304061122831"
      ]
     },
     "execution_count": 12,
     "metadata": {},
     "output_type": "execute_result"
    }
   ],
   "source": [
    "df.year.mean()"
   ]
  },
  {
   "cell_type": "code",
   "execution_count": null,
   "metadata": {
    "collapsed": true
   },
   "outputs": [],
   "source": []
  }
 ],
 "metadata": {
  "kernelspec": {
   "display_name": "Python 2",
   "language": "python",
   "name": "python2"
  },
  "language_info": {
   "codemirror_mode": {
    "name": "ipython",
    "version": 2
   },
   "file_extension": ".py",
   "mimetype": "text/x-python",
   "name": "python",
   "nbconvert_exporter": "python",
   "pygments_lexer": "ipython2",
   "version": "2.7.13"
  }
 },
 "nbformat": 4,
 "nbformat_minor": 2
}
