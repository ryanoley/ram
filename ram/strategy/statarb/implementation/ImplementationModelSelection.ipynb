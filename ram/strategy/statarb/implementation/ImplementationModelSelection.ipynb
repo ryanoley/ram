{
 "cells": [
  {
   "cell_type": "code",
   "execution_count": 1,
   "metadata": {
    "collapsed": true
   },
   "outputs": [],
   "source": [
    "%matplotlib inline\n",
    "\n",
    "import numpy as np\n",
    "import pandas as pd\n",
    "import datetime as dt\n",
    "import matplotlib.pyplot as plt"
   ]
  },
  {
   "cell_type": "code",
   "execution_count": 2,
   "metadata": {
    "collapsed": true
   },
   "outputs": [],
   "source": [
    "from ram.analysis.run_manager import RunManager\n",
    "from ram.analysis.model_selection.combo_search import CombinationSearch\n",
    "from ram.analysis.statistics import get_stats, rollup_returns"
   ]
  },
  {
   "cell_type": "code",
   "execution_count": 3,
   "metadata": {},
   "outputs": [
    {
     "data": {
      "text/html": [
       "<div>\n",
       "<table border=\"1\" class=\"dataframe\">\n",
       "  <thead>\n",
       "    <tr style=\"text-align: right;\">\n",
       "      <th></th>\n",
       "      <th>RunName</th>\n",
       "      <th>RunDate</th>\n",
       "      <th>Completed</th>\n",
       "      <th>Description</th>\n",
       "    </tr>\n",
       "  </thead>\n",
       "  <tbody>\n",
       "    <tr>\n",
       "      <th>0</th>\n",
       "      <td>run_0068</td>\n",
       "      <td>2018-03-06</td>\n",
       "      <td>True</td>\n",
       "      <td>Sector 20, version 002</td>\n",
       "    </tr>\n",
       "    <tr>\n",
       "      <th>1</th>\n",
       "      <td>run_0069</td>\n",
       "      <td>2018-03-07</td>\n",
       "      <td>True</td>\n",
       "      <td>Sector 20, version 2 rerun with univ filtering</td>\n",
       "    </tr>\n",
       "    <tr>\n",
       "      <th>2</th>\n",
       "      <td>run_0070</td>\n",
       "      <td>2018-03-19</td>\n",
       "      <td>True</td>\n",
       "      <td>Sector 20, post refactor run</td>\n",
       "    </tr>\n",
       "    <tr>\n",
       "      <th>3</th>\n",
       "      <td>run_0071</td>\n",
       "      <td>2018-03-21</td>\n",
       "      <td>True</td>\n",
       "      <td>Sector 20, 2001 start date, 16cpu comp</td>\n",
       "    </tr>\n",
       "    <tr>\n",
       "      <th>4</th>\n",
       "      <td>run_0072</td>\n",
       "      <td>2018-03-21</td>\n",
       "      <td>True</td>\n",
       "      <td>Sector 20, 2001 start date, 64cpu comp</td>\n",
       "    </tr>\n",
       "    <tr>\n",
       "      <th>5</th>\n",
       "      <td>run_0078</td>\n",
       "      <td>2018-04-18</td>\n",
       "      <td>True</td>\n",
       "      <td>Sector 20, new pricing data</td>\n",
       "    </tr>\n",
       "    <tr>\n",
       "      <th>6</th>\n",
       "      <td>run_0079</td>\n",
       "      <td>2018-04-25</td>\n",
       "      <td>True</td>\n",
       "      <td>Rerun with data since 2004</td>\n",
       "    </tr>\n",
       "    <tr>\n",
       "      <th>7</th>\n",
       "      <td>run_0080</td>\n",
       "      <td>2018-04-26</td>\n",
       "      <td>False</td>\n",
       "      <td>Rerun of version 24 data</td>\n",
       "    </tr>\n",
       "    <tr>\n",
       "      <th>8</th>\n",
       "      <td>run_0081</td>\n",
       "      <td>2018-04-30</td>\n",
       "      <td>True</td>\n",
       "      <td>New hyperparams</td>\n",
       "    </tr>\n",
       "    <tr>\n",
       "      <th>9</th>\n",
       "      <td>run_0085</td>\n",
       "      <td>2018-05-01</td>\n",
       "      <td>True</td>\n",
       "      <td>new params, longer params/hyperparms</td>\n",
       "    </tr>\n",
       "    <tr>\n",
       "      <th>10</th>\n",
       "      <td>run_0087</td>\n",
       "      <td>2018-05-03</td>\n",
       "      <td>True</td>\n",
       "      <td>Sector 20, version 3 long hyperparams first run</td>\n",
       "    </tr>\n",
       "    <tr>\n",
       "      <th>11</th>\n",
       "      <td>run_0090</td>\n",
       "      <td>2018-05-07</td>\n",
       "      <td>True</td>\n",
       "      <td>Sector 20, version 004 run</td>\n",
       "    </tr>\n",
       "    <tr>\n",
       "      <th>12</th>\n",
       "      <td>run_0091</td>\n",
       "      <td>2018-05-07</td>\n",
       "      <td>True</td>\n",
       "      <td>Sector 25, version 004 run</td>\n",
       "    </tr>\n",
       "    <tr>\n",
       "      <th>13</th>\n",
       "      <td>run_0092</td>\n",
       "      <td>2018-05-08</td>\n",
       "      <td>False</td>\n",
       "      <td>Sector 45, version 4, first run</td>\n",
       "    </tr>\n",
       "  </tbody>\n",
       "</table>\n",
       "</div>"
      ],
      "text/plain": [
       "     RunName     RunDate Completed  \\\n",
       "0   run_0068  2018-03-06      True   \n",
       "1   run_0069  2018-03-07      True   \n",
       "2   run_0070  2018-03-19      True   \n",
       "3   run_0071  2018-03-21      True   \n",
       "4   run_0072  2018-03-21      True   \n",
       "5   run_0078  2018-04-18      True   \n",
       "6   run_0079  2018-04-25      True   \n",
       "7   run_0080  2018-04-26     False   \n",
       "8   run_0081  2018-04-30      True   \n",
       "9   run_0085  2018-05-01      True   \n",
       "10  run_0087  2018-05-03      True   \n",
       "11  run_0090  2018-05-07      True   \n",
       "12  run_0091  2018-05-07      True   \n",
       "13  run_0092  2018-05-08     False   \n",
       "\n",
       "                                        Description  \n",
       "0                            Sector 20, version 002  \n",
       "1    Sector 20, version 2 rerun with univ filtering  \n",
       "2                      Sector 20, post refactor run  \n",
       "3            Sector 20, 2001 start date, 16cpu comp  \n",
       "4            Sector 20, 2001 start date, 64cpu comp  \n",
       "5                       Sector 20, new pricing data  \n",
       "6                        Rerun with data since 2004  \n",
       "7                          Rerun of version 24 data  \n",
       "8                                   New hyperparams  \n",
       "9              new params, longer params/hyperparms  \n",
       "10  Sector 20, version 3 long hyperparams first run  \n",
       "11                       Sector 20, version 004 run  \n",
       "12                       Sector 25, version 004 run  \n",
       "13                  Sector 45, version 4, first run  "
      ]
     },
     "execution_count": 3,
     "metadata": {},
     "output_type": "execute_result"
    }
   ],
   "source": [
    "RunManager.get_run_names('StatArbStrategy')"
   ]
  },
  {
   "cell_type": "markdown",
   "metadata": {},
   "source": [
    "#### Document last run date"
   ]
  },
  {
   "cell_type": "code",
   "execution_count": 4,
   "metadata": {},
   "outputs": [
    {
     "name": "stdout",
     "output_type": "stream",
     "text": [
      "TIMESTAMP for last run of this script:\n",
      "2018-05-08 19:35:59.451773\n"
     ]
    }
   ],
   "source": [
    "print('TIMESTAMP for last run of this script:')\n",
    "print(dt.datetime.utcnow())"
   ]
  },
  {
   "cell_type": "markdown",
   "metadata": {},
   "source": [
    "#### Current runs for implementation"
   ]
  },
  {
   "cell_type": "code",
   "execution_count": 5,
   "metadata": {
    "collapsed": true
   },
   "outputs": [],
   "source": [
    "runs = [\n",
    "    'run_0090'\n",
    "]"
   ]
  },
  {
   "cell_type": "markdown",
   "metadata": {},
   "source": [
    "#### Check that all run files are up-to-date"
   ]
  },
  {
   "cell_type": "code",
   "execution_count": 6,
   "metadata": {},
   "outputs": [
    {
     "name": "stdout",
     "output_type": "stream",
     "text": [
      "run_0090 - 2018-05-07 00:00:00\n"
     ]
    }
   ],
   "source": [
    "for r in runs:\n",
    "    run = RunManager('StatArbStrategy', r, test_periods=0)\n",
    "    run.import_return_frame()\n",
    "    print('{} - {}'.format(r, run.returns.index[-1]))"
   ]
  },
  {
   "cell_type": "markdown",
   "metadata": {},
   "source": [
    "#### Import"
   ]
  },
  {
   "cell_type": "code",
   "execution_count": 14,
   "metadata": {
    "collapsed": true
   },
   "outputs": [],
   "source": [
    "comb = CombinationSearch(write_flag=True)\n",
    "comb.set_selection_criteria('sharpe')\n",
    "comb.params['training_epochs'] = 20\n",
    "\n",
    "for r in runs:\n",
    "    comb.add_run(RunManager('StatArbStrategy', r, \n",
    "                            test_periods=0, start_year=2009))"
   ]
  },
  {
   "cell_type": "code",
   "execution_count": 15,
   "metadata": {},
   "outputs": [
    {
     "name": "stdout",
     "output_type": "stream",
     "text": [
      "Reading and aggregating runs...\n",
      "Finished aggregating runs...\n",
      "\n",
      "~~~~~~~~~~~~~~~~~~~~~~~~~~~~~~~~~~~~~\n",
      "Writing run as: CombinationSearch_20180508194357\n",
      "Max date: 2018-05-07\n",
      "~~~~~~~~~~~~~~~~~~~~~~~~~~~~~~~~~~~~~\n",
      "\n"
     ]
    },
    {
     "name": "stderr",
     "output_type": "stream",
     "text": [
      "100%|██████████| 20/20 [09:36<00:00, 28.48s/it]\n"
     ]
    }
   ],
   "source": [
    "comb.start()"
   ]
  },
  {
   "cell_type": "code",
   "execution_count": 16,
   "metadata": {},
   "outputs": [
    {
     "data": {
      "image/png": "[encoded data removed]",
      "text/plain": [
       "<matplotlib.figure.Figure at 0x7f40b2d50110>"
      ]
     },
     "metadata": {},
     "output_type": "display_data"
    }
   ],
   "source": [
    "plt.figure()\n",
    "plt.plot(comb.epoch_stats.Mean)\n",
    "plt.show()"
   ]
  },
  {
   "cell_type": "code",
   "execution_count": 17,
   "metadata": {},
   "outputs": [
    {
     "data": {
      "image/png": "[encoded data removed]",
      "text/plain": [
       "<matplotlib.figure.Figure at 0x7f40afe68d10>"
      ]
     },
     "metadata": {},
     "output_type": "display_data"
    }
   ],
   "source": [
    "plt.figure()\n",
    "plt.plot(comb.best_results_returns.cumsum())\n",
    "plt.show()"
   ]
  },
  {
   "cell_type": "code",
   "execution_count": 18,
   "metadata": {},
   "outputs": [
    {
     "data": {
      "text/html": [
       "<div>\n",
       "<table border=\"1\" class=\"dataframe\">\n",
       "  <thead>\n",
       "    <tr style=\"text-align: right;\">\n",
       "      <th>Qtr</th>\n",
       "      <th>1</th>\n",
       "      <th>2</th>\n",
       "      <th>3</th>\n",
       "      <th>4</th>\n",
       "      <th>year</th>\n",
       "    </tr>\n",
       "    <tr>\n",
       "      <th>Year</th>\n",
       "      <th></th>\n",
       "      <th></th>\n",
       "      <th></th>\n",
       "      <th></th>\n",
       "      <th></th>\n",
       "    </tr>\n",
       "  </thead>\n",
       "  <tbody>\n",
       "    <tr>\n",
       "      <th>2009</th>\n",
       "      <td>NaN</td>\n",
       "      <td>NaN</td>\n",
       "      <td>NaN</td>\n",
       "      <td>NaN</td>\n",
       "      <td>NaN</td>\n",
       "    </tr>\n",
       "    <tr>\n",
       "      <th>2010</th>\n",
       "      <td>0.056726</td>\n",
       "      <td>-0.008168</td>\n",
       "      <td>0.075050</td>\n",
       "      <td>-0.042618</td>\n",
       "      <td>0.080990</td>\n",
       "    </tr>\n",
       "    <tr>\n",
       "      <th>2011</th>\n",
       "      <td>0.027899</td>\n",
       "      <td>0.022368</td>\n",
       "      <td>-0.029198</td>\n",
       "      <td>0.097351</td>\n",
       "      <td>0.118420</td>\n",
       "    </tr>\n",
       "    <tr>\n",
       "      <th>2012</th>\n",
       "      <td>0.025058</td>\n",
       "      <td>-0.011794</td>\n",
       "      <td>0.032320</td>\n",
       "      <td>0.074357</td>\n",
       "      <td>0.119941</td>\n",
       "    </tr>\n",
       "    <tr>\n",
       "      <th>2013</th>\n",
       "      <td>-0.004928</td>\n",
       "      <td>0.041700</td>\n",
       "      <td>0.049679</td>\n",
       "      <td>-0.000727</td>\n",
       "      <td>0.085723</td>\n",
       "    </tr>\n",
       "    <tr>\n",
       "      <th>2014</th>\n",
       "      <td>0.014702</td>\n",
       "      <td>0.021325</td>\n",
       "      <td>-0.019860</td>\n",
       "      <td>0.022746</td>\n",
       "      <td>0.038913</td>\n",
       "    </tr>\n",
       "    <tr>\n",
       "      <th>2015</th>\n",
       "      <td>0.005924</td>\n",
       "      <td>0.064162</td>\n",
       "      <td>-0.011866</td>\n",
       "      <td>0.018510</td>\n",
       "      <td>0.076730</td>\n",
       "    </tr>\n",
       "    <tr>\n",
       "      <th>2016</th>\n",
       "      <td>0.054242</td>\n",
       "      <td>-0.038278</td>\n",
       "      <td>-0.004013</td>\n",
       "      <td>0.047928</td>\n",
       "      <td>0.059879</td>\n",
       "    </tr>\n",
       "    <tr>\n",
       "      <th>2017</th>\n",
       "      <td>0.031707</td>\n",
       "      <td>0.086836</td>\n",
       "      <td>0.017514</td>\n",
       "      <td>0.000949</td>\n",
       "      <td>0.137005</td>\n",
       "    </tr>\n",
       "    <tr>\n",
       "      <th>2018</th>\n",
       "      <td>0.029210</td>\n",
       "      <td>-0.036753</td>\n",
       "      <td>NaN</td>\n",
       "      <td>NaN</td>\n",
       "      <td>-0.007544</td>\n",
       "    </tr>\n",
       "  </tbody>\n",
       "</table>\n",
       "</div>"
      ],
      "text/plain": [
       "Qtr          1         2         3         4      year\n",
       "Year                                                  \n",
       "2009       NaN       NaN       NaN       NaN       NaN\n",
       "2010  0.056726 -0.008168  0.075050 -0.042618  0.080990\n",
       "2011  0.027899  0.022368 -0.029198  0.097351  0.118420\n",
       "2012  0.025058 -0.011794  0.032320  0.074357  0.119941\n",
       "2013 -0.004928  0.041700  0.049679 -0.000727  0.085723\n",
       "2014  0.014702  0.021325 -0.019860  0.022746  0.038913\n",
       "2015  0.005924  0.064162 -0.011866  0.018510  0.076730\n",
       "2016  0.054242 -0.038278 -0.004013  0.047928  0.059879\n",
       "2017  0.031707  0.086836  0.017514  0.000949  0.137005\n",
       "2018  0.029210 -0.036753       NaN       NaN -0.007544"
      ]
     },
     "execution_count": 18,
     "metadata": {},
     "output_type": "execute_result"
    }
   ],
   "source": [
    "df = rollup_returns(comb.best_results_returns)\n",
    "df['year'] = df.sum(axis=1)\n",
    "df"
   ]
  },
  {
   "cell_type": "code",
   "execution_count": 19,
   "metadata": {},
   "outputs": [
    {
     "data": {
      "text/plain": [
       "0.089700065186127054"
      ]
     },
     "execution_count": 19,
     "metadata": {},
     "output_type": "execute_result"
    }
   ],
   "source": [
    "df.year.iloc[:-1].mean()"
   ]
  },
  {
   "cell_type": "code",
   "execution_count": null,
   "metadata": {
    "collapsed": true
   },
   "outputs": [],
   "source": []
  }
 ],
 "metadata": {
  "kernelspec": {
   "display_name": "Python 2",
   "language": "python",
   "name": "python2"
  },
  "language_info": {
   "codemirror_mode": {
    "name": "ipython",
    "version": 2
   },
   "file_extension": ".py",
   "mimetype": "text/x-python",
   "name": "python",
   "nbconvert_exporter": "python",
   "pygments_lexer": "ipython2",
   "version": "2.7.13"
  }
 },
 "nbformat": 4,
 "nbformat_minor": 2
}
