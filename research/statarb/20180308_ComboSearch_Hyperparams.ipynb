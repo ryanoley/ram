{
 "cells": [
  {
   "cell_type": "markdown",
   "metadata": {},
   "source": [
    "# ComboSearch Hyperparameter Analysis"
   ]
  },
  {
   "cell_type": "code",
   "execution_count": 1,
   "metadata": {},
   "outputs": [],
   "source": [
    "%matplotlib inline\n",
    "\n",
    "import numpy as np\n",
    "import pandas as pd\n",
    "import datetime as dt\n",
    "import matplotlib.pyplot as plt\n",
    "\n",
    "from ram.analysis.run_manager import RunManagerGCP\n",
    "from ram.analysis.model_selection.combo_search import CombinationSearch\n",
    "from ram.analysis.statistics import get_stats, rollup_returns"
   ]
  },
  {
   "cell_type": "code",
   "execution_count": 2,
   "metadata": {},
   "outputs": [
    {
     "data": {
      "text/html": [
       "<div>\n",
       "<table border=\"1\" class=\"dataframe\">\n",
       "  <thead>\n",
       "    <tr style=\"text-align: right;\">\n",
       "      <th></th>\n",
       "      <th>Run</th>\n",
       "      <th>RunDate</th>\n",
       "      <th>Completed</th>\n",
       "      <th>Description</th>\n",
       "      <th>Starred</th>\n",
       "    </tr>\n",
       "  </thead>\n",
       "  <tbody>\n",
       "    <tr>\n",
       "      <th>0</th>\n",
       "      <td>run_0068</td>\n",
       "      <td>2018-03-07</td>\n",
       "      <td>True</td>\n",
       "      <td>Sector 20, version 002</td>\n",
       "      <td></td>\n",
       "    </tr>\n",
       "    <tr>\n",
       "      <th>1</th>\n",
       "      <td>run_0069</td>\n",
       "      <td>2018-03-08</td>\n",
       "      <td>True</td>\n",
       "      <td>Sector 20, version 2 rerun with univ filtering</td>\n",
       "      <td></td>\n",
       "    </tr>\n",
       "  </tbody>\n",
       "</table>\n",
       "</div>"
      ],
      "text/plain": [
       "        Run     RunDate Completed  \\\n",
       "0  run_0068  2018-03-07      True   \n",
       "1  run_0069  2018-03-08      True   \n",
       "\n",
       "                                      Description Starred  \n",
       "0                          Sector 20, version 002          \n",
       "1  Sector 20, version 2 rerun with univ filtering          "
      ]
     },
     "execution_count": 2,
     "metadata": {},
     "output_type": "execute_result"
    }
   ],
   "source": [
    "RunManagerGCP.get_run_names('StatArbStrategy')"
   ]
  },
  {
   "cell_type": "markdown",
   "metadata": {},
   "source": [
    "## Import and run Model Selection"
   ]
  },
  {
   "cell_type": "code",
   "execution_count": 5,
   "metadata": {},
   "outputs": [
    {
     "name": "stderr",
     "output_type": "stream",
     "text": [
      "\r",
      "  0%|          | 0/1 [00:00<?, ?it/s]"
     ]
    },
    {
     "name": "stdout",
     "output_type": "stream",
     "text": [
      "Reading and aggregating runs...\n"
     ]
    },
    {
     "name": "stderr",
     "output_type": "stream",
     "text": [
      "100%|██████████| 1/1 [00:24<00:00, 24.53s/it]\n"
     ]
    },
    {
     "name": "stdout",
     "output_type": "stream",
     "text": [
      "Finished aggregating runs...\n"
     ]
    },
    {
     "name": "stderr",
     "output_type": "stream",
     "text": [
      "100%|██████████| 20/20 [03:05<00:00,  9.17s/it]\n"
     ]
    }
   ],
   "source": [
    "run = RunManagerGCP('StatArbStrategy', 'run_0069', test_periods=0)\n",
    "\n",
    "comb = CombinationSearch(write_flag=True)\n",
    "comb.add_run(run)\n",
    "comb.params['training_epochs'] = 20\n",
    "\n",
    "comb.start()"
   ]
  },
  {
   "cell_type": "code",
   "execution_count": null,
   "metadata": {
    "collapsed": true
   },
   "outputs": [],
   "source": []
  },
  {
   "cell_type": "code",
   "execution_count": null,
   "metadata": {
    "collapsed": true
   },
   "outputs": [],
   "source": []
  },
  {
   "cell_type": "code",
   "execution_count": 6,
   "metadata": {},
   "outputs": [
    {
     "data": {
      "image/png": "[encoded data removed]",
      "text/plain": [
       "<matplotlib.figure.Figure at 0x7f718146d2d0>"
      ]
     },
     "metadata": {},
     "output_type": "display_data"
    }
   ],
   "source": [
    "plt.figure()\n",
    "plt.plot(comb.epoch_stats.Mean)\n",
    "plt.show()"
   ]
  },
  {
   "cell_type": "code",
   "execution_count": null,
   "metadata": {
    "collapsed": true
   },
   "outputs": [],
   "source": []
  },
  {
   "cell_type": "code",
   "execution_count": null,
   "metadata": {
    "collapsed": true
   },
   "outputs": [],
   "source": []
  },
  {
   "cell_type": "code",
   "execution_count": 21,
   "metadata": {},
   "outputs": [
    {
     "data": {
      "image/png": "[encoded data removed]",
      "text/plain": [
       "<matplotlib.figure.Figure at 0x7f1333ac2dd0>"
      ]
     },
     "metadata": {},
     "output_type": "display_data"
    }
   ],
   "source": [
    "results = comb.best_results_rets.dropna()\n",
    "plt.figure()\n",
    "plt.plot(results.cumsum())\n",
    "plt.show()"
   ]
  },
  {
   "cell_type": "markdown",
   "metadata": {},
   "source": [
    "## Top Selection of Models"
   ]
  },
  {
   "cell_type": "code",
   "execution_count": 23,
   "metadata": {},
   "outputs": [],
   "source": [
    "df = rollup_returns(results)\n",
    "df['Year'] = df.sum(axis=1)"
   ]
  },
  {
   "cell_type": "code",
   "execution_count": 24,
   "metadata": {},
   "outputs": [
    {
     "data": {
      "text/html": [
       "<div>\n",
       "<table border=\"1\" class=\"dataframe\">\n",
       "  <thead>\n",
       "    <tr style=\"text-align: right;\">\n",
       "      <th>Qtr</th>\n",
       "      <th>1</th>\n",
       "      <th>2</th>\n",
       "      <th>3</th>\n",
       "      <th>4</th>\n",
       "      <th>Year</th>\n",
       "    </tr>\n",
       "    <tr>\n",
       "      <th>Year</th>\n",
       "      <th></th>\n",
       "      <th></th>\n",
       "      <th></th>\n",
       "      <th></th>\n",
       "      <th></th>\n",
       "    </tr>\n",
       "  </thead>\n",
       "  <tbody>\n",
       "    <tr>\n",
       "      <th>2010</th>\n",
       "      <td>0.068780</td>\n",
       "      <td>0.005522</td>\n",
       "      <td>0.055217</td>\n",
       "      <td>0.006480</td>\n",
       "      <td>0.135999</td>\n",
       "    </tr>\n",
       "    <tr>\n",
       "      <th>2011</th>\n",
       "      <td>0.046427</td>\n",
       "      <td>0.003442</td>\n",
       "      <td>-0.005388</td>\n",
       "      <td>0.081118</td>\n",
       "      <td>0.125598</td>\n",
       "    </tr>\n",
       "    <tr>\n",
       "      <th>2012</th>\n",
       "      <td>-0.016527</td>\n",
       "      <td>-0.004632</td>\n",
       "      <td>-0.001448</td>\n",
       "      <td>0.063422</td>\n",
       "      <td>0.040815</td>\n",
       "    </tr>\n",
       "    <tr>\n",
       "      <th>2013</th>\n",
       "      <td>0.006087</td>\n",
       "      <td>0.055025</td>\n",
       "      <td>0.022438</td>\n",
       "      <td>0.004003</td>\n",
       "      <td>0.087553</td>\n",
       "    </tr>\n",
       "    <tr>\n",
       "      <th>2014</th>\n",
       "      <td>0.048327</td>\n",
       "      <td>0.003841</td>\n",
       "      <td>-0.020967</td>\n",
       "      <td>-0.003909</td>\n",
       "      <td>0.027293</td>\n",
       "    </tr>\n",
       "    <tr>\n",
       "      <th>2015</th>\n",
       "      <td>0.013731</td>\n",
       "      <td>0.040220</td>\n",
       "      <td>-0.024305</td>\n",
       "      <td>0.068601</td>\n",
       "      <td>0.098248</td>\n",
       "    </tr>\n",
       "    <tr>\n",
       "      <th>2016</th>\n",
       "      <td>-0.003731</td>\n",
       "      <td>0.011156</td>\n",
       "      <td>0.005144</td>\n",
       "      <td>0.042347</td>\n",
       "      <td>0.054916</td>\n",
       "    </tr>\n",
       "    <tr>\n",
       "      <th>2017</th>\n",
       "      <td>0.016877</td>\n",
       "      <td>0.038463</td>\n",
       "      <td>-0.009948</td>\n",
       "      <td>0.025638</td>\n",
       "      <td>0.071030</td>\n",
       "    </tr>\n",
       "    <tr>\n",
       "      <th>2018</th>\n",
       "      <td>0.043970</td>\n",
       "      <td>NaN</td>\n",
       "      <td>NaN</td>\n",
       "      <td>NaN</td>\n",
       "      <td>0.043970</td>\n",
       "    </tr>\n",
       "  </tbody>\n",
       "</table>\n",
       "</div>"
      ],
      "text/plain": [
       "Qtr          1         2         3         4      Year\n",
       "Year                                                  \n",
       "2010  0.068780  0.005522  0.055217  0.006480  0.135999\n",
       "2011  0.046427  0.003442 -0.005388  0.081118  0.125598\n",
       "2012 -0.016527 -0.004632 -0.001448  0.063422  0.040815\n",
       "2013  0.006087  0.055025  0.022438  0.004003  0.087553\n",
       "2014  0.048327  0.003841 -0.020967 -0.003909  0.027293\n",
       "2015  0.013731  0.040220 -0.024305  0.068601  0.098248\n",
       "2016 -0.003731  0.011156  0.005144  0.042347  0.054916\n",
       "2017  0.016877  0.038463 -0.009948  0.025638  0.071030\n",
       "2018  0.043970       NaN       NaN       NaN  0.043970"
      ]
     },
     "execution_count": 24,
     "metadata": {},
     "output_type": "execute_result"
    }
   ],
   "source": [
    "df"
   ]
  },
  {
   "cell_type": "markdown",
   "metadata": {},
   "source": [
    "## Train on Sharpe"
   ]
  },
  {
   "cell_type": "code",
   "execution_count": 25,
   "metadata": {},
   "outputs": [
    {
     "name": "stderr",
     "output_type": "stream",
     "text": [
      "100%|██████████| 1/1 [00:00<00:00, 42.48it/s]"
     ]
    },
    {
     "name": "stdout",
     "output_type": "stream",
     "text": [
      "Reading and aggregating runs...\n",
      "Finished aggregating runs...\n"
     ]
    },
    {
     "name": "stderr",
     "output_type": "stream",
     "text": [
      "\n",
      "100%|██████████| 50/50 [08:07<00:00,  9.69s/it]\n"
     ]
    }
   ],
   "source": [
    "comb = CombinationSearch(write_flag=True)\n",
    "comb.add_run(run)\n",
    "\n",
    "comb.start(50, criteria='sharpe')"
   ]
  },
  {
   "cell_type": "code",
   "execution_count": null,
   "metadata": {
    "collapsed": true
   },
   "outputs": [],
   "source": []
  },
  {
   "cell_type": "code",
   "execution_count": null,
   "metadata": {
    "collapsed": true
   },
   "outputs": [],
   "source": []
  },
  {
   "cell_type": "code",
   "execution_count": null,
   "metadata": {
    "collapsed": true
   },
   "outputs": [],
   "source": []
  },
  {
   "cell_type": "code",
   "execution_count": null,
   "metadata": {
    "collapsed": true
   },
   "outputs": [],
   "source": [
    "self.params = {\n",
    "                'train_freq': 'm',\n",
    "                'n_periods': 12,\n",
    "                'strats_per_port': 5,\n",
    "                'n_best_ports': 5,\n",
    "                'seed_ind': 1234\n",
    "            }"
   ]
  }
 ],
 "metadata": {
  "kernelspec": {
   "display_name": "Python 2",
   "language": "python",
   "name": "python2"
  },
  "language_info": {
   "codemirror_mode": {
    "name": "ipython",
    "version": 2
   },
   "file_extension": ".py",
   "mimetype": "text/x-python",
   "name": "python",
   "nbconvert_exporter": "python",
   "pygments_lexer": "ipython2",
   "version": "2.7.13"
  }
 },
 "nbformat": 4,
 "nbformat_minor": 2
}
