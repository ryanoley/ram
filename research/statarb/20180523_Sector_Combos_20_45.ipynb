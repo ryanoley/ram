{
 "cells": [
  {
   "cell_type": "code",
   "execution_count": 1,
   "metadata": {
    "collapsed": true
   },
   "outputs": [],
   "source": [
    "%matplotlib inline\n",
    "\n",
    "import numpy as np\n",
    "import pandas as pd\n",
    "import datetime as dt\n",
    "import matplotlib.pyplot as plt\n",
    "\n",
    "from ram.analysis.run_manager import RunManager\n",
    "from ram.analysis.model_selection.combo_search import CombinationSearch\n",
    "from ram.analysis.model_selection.pair_search import PairSearch\n",
    "from ram.analysis.statistics import get_stats, rollup_returns"
   ]
  },
  {
   "cell_type": "code",
   "execution_count": 2,
   "metadata": {},
   "outputs": [
    {
     "data": {
      "text/html": [
       "<div>\n",
       "<table border=\"1\" class=\"dataframe\">\n",
       "  <thead>\n",
       "    <tr style=\"text-align: right;\">\n",
       "      <th></th>\n",
       "      <th>RunName</th>\n",
       "      <th>RunDate</th>\n",
       "      <th>Completed</th>\n",
       "      <th>Description</th>\n",
       "    </tr>\n",
       "  </thead>\n",
       "  <tbody>\n",
       "    <tr>\n",
       "      <th>0</th>\n",
       "      <td>run_0068</td>\n",
       "      <td>2018-03-06</td>\n",
       "      <td>True</td>\n",
       "      <td>Sector 20, version 002</td>\n",
       "    </tr>\n",
       "    <tr>\n",
       "      <th>1</th>\n",
       "      <td>run_0069</td>\n",
       "      <td>2018-03-07</td>\n",
       "      <td>True</td>\n",
       "      <td>Sector 20, version 2 rerun with univ filtering</td>\n",
       "    </tr>\n",
       "    <tr>\n",
       "      <th>2</th>\n",
       "      <td>run_0070</td>\n",
       "      <td>2018-03-19</td>\n",
       "      <td>True</td>\n",
       "      <td>Sector 20, post refactor run</td>\n",
       "    </tr>\n",
       "    <tr>\n",
       "      <th>3</th>\n",
       "      <td>run_0071</td>\n",
       "      <td>2018-03-21</td>\n",
       "      <td>True</td>\n",
       "      <td>Sector 20, 2001 start date, 16cpu comp</td>\n",
       "    </tr>\n",
       "    <tr>\n",
       "      <th>4</th>\n",
       "      <td>run_0072</td>\n",
       "      <td>2018-03-21</td>\n",
       "      <td>True</td>\n",
       "      <td>Sector 20, 2001 start date, 64cpu comp</td>\n",
       "    </tr>\n",
       "    <tr>\n",
       "      <th>5</th>\n",
       "      <td>run_0078</td>\n",
       "      <td>2018-04-18</td>\n",
       "      <td>True</td>\n",
       "      <td>Sector 20, new pricing data</td>\n",
       "    </tr>\n",
       "    <tr>\n",
       "      <th>6</th>\n",
       "      <td>run_0079</td>\n",
       "      <td>2018-04-25</td>\n",
       "      <td>True</td>\n",
       "      <td>Rerun with data since 2004</td>\n",
       "    </tr>\n",
       "    <tr>\n",
       "      <th>7</th>\n",
       "      <td>run_0080</td>\n",
       "      <td>2018-04-26</td>\n",
       "      <td>False</td>\n",
       "      <td>Rerun of version 24 data</td>\n",
       "    </tr>\n",
       "    <tr>\n",
       "      <th>8</th>\n",
       "      <td>run_0081</td>\n",
       "      <td>2018-04-30</td>\n",
       "      <td>True</td>\n",
       "      <td>New hyperparams</td>\n",
       "    </tr>\n",
       "    <tr>\n",
       "      <th>9</th>\n",
       "      <td>run_0085</td>\n",
       "      <td>2018-05-01</td>\n",
       "      <td>True</td>\n",
       "      <td>new params, longer params/hyperparms</td>\n",
       "    </tr>\n",
       "    <tr>\n",
       "      <th>10</th>\n",
       "      <td>run_0087</td>\n",
       "      <td>2018-05-03</td>\n",
       "      <td>True</td>\n",
       "      <td>Sector 20, version 3 long hyperparams first run</td>\n",
       "    </tr>\n",
       "    <tr>\n",
       "      <th>11</th>\n",
       "      <td>run_0090</td>\n",
       "      <td>2018-05-07</td>\n",
       "      <td>True</td>\n",
       "      <td>Sector 20, version 004 run</td>\n",
       "    </tr>\n",
       "    <tr>\n",
       "      <th>12</th>\n",
       "      <td>run_0091</td>\n",
       "      <td>2018-05-07</td>\n",
       "      <td>True</td>\n",
       "      <td>Sector 25, version 004 run</td>\n",
       "    </tr>\n",
       "    <tr>\n",
       "      <th>13</th>\n",
       "      <td>run_0092</td>\n",
       "      <td>2018-05-08</td>\n",
       "      <td>True</td>\n",
       "      <td>Sector 45, version 4, first run</td>\n",
       "    </tr>\n",
       "    <tr>\n",
       "      <th>14</th>\n",
       "      <td>run_0093</td>\n",
       "      <td>2018-05-15</td>\n",
       "      <td>True</td>\n",
       "      <td>Sector 10, version 4</td>\n",
       "    </tr>\n",
       "    <tr>\n",
       "      <th>15</th>\n",
       "      <td>run_0094</td>\n",
       "      <td>2018-05-15</td>\n",
       "      <td>True</td>\n",
       "      <td>Sector 15, version 4</td>\n",
       "    </tr>\n",
       "    <tr>\n",
       "      <th>16</th>\n",
       "      <td>run_0095</td>\n",
       "      <td>2018-05-15</td>\n",
       "      <td>True</td>\n",
       "      <td>Sector 30, version 4</td>\n",
       "    </tr>\n",
       "    <tr>\n",
       "      <th>17</th>\n",
       "      <td>run_0096</td>\n",
       "      <td>2018-05-16</td>\n",
       "      <td>True</td>\n",
       "      <td>Sector 40, version 4</td>\n",
       "    </tr>\n",
       "    <tr>\n",
       "      <th>18</th>\n",
       "      <td>run_0097</td>\n",
       "      <td>2018-05-16</td>\n",
       "      <td>True</td>\n",
       "      <td>Sector 50, version 4</td>\n",
       "    </tr>\n",
       "    <tr>\n",
       "      <th>19</th>\n",
       "      <td>run_0098</td>\n",
       "      <td>2018-05-16</td>\n",
       "      <td>True</td>\n",
       "      <td>Sector 35, version 4</td>\n",
       "    </tr>\n",
       "    <tr>\n",
       "      <th>20</th>\n",
       "      <td>run_0099</td>\n",
       "      <td>2018-05-16</td>\n",
       "      <td>True</td>\n",
       "      <td>Sector 55, version 4</td>\n",
       "    </tr>\n",
       "  </tbody>\n",
       "</table>\n",
       "</div>"
      ],
      "text/plain": [
       "     RunName     RunDate Completed  \\\n",
       "0   run_0068  2018-03-06      True   \n",
       "1   run_0069  2018-03-07      True   \n",
       "2   run_0070  2018-03-19      True   \n",
       "3   run_0071  2018-03-21      True   \n",
       "4   run_0072  2018-03-21      True   \n",
       "5   run_0078  2018-04-18      True   \n",
       "6   run_0079  2018-04-25      True   \n",
       "7   run_0080  2018-04-26     False   \n",
       "8   run_0081  2018-04-30      True   \n",
       "9   run_0085  2018-05-01      True   \n",
       "10  run_0087  2018-05-03      True   \n",
       "11  run_0090  2018-05-07      True   \n",
       "12  run_0091  2018-05-07      True   \n",
       "13  run_0092  2018-05-08      True   \n",
       "14  run_0093  2018-05-15      True   \n",
       "15  run_0094  2018-05-15      True   \n",
       "16  run_0095  2018-05-15      True   \n",
       "17  run_0096  2018-05-16      True   \n",
       "18  run_0097  2018-05-16      True   \n",
       "19  run_0098  2018-05-16      True   \n",
       "20  run_0099  2018-05-16      True   \n",
       "\n",
       "                                        Description  \n",
       "0                            Sector 20, version 002  \n",
       "1    Sector 20, version 2 rerun with univ filtering  \n",
       "2                      Sector 20, post refactor run  \n",
       "3            Sector 20, 2001 start date, 16cpu comp  \n",
       "4            Sector 20, 2001 start date, 64cpu comp  \n",
       "5                       Sector 20, new pricing data  \n",
       "6                        Rerun with data since 2004  \n",
       "7                          Rerun of version 24 data  \n",
       "8                                   New hyperparams  \n",
       "9              new params, longer params/hyperparms  \n",
       "10  Sector 20, version 3 long hyperparams first run  \n",
       "11                       Sector 20, version 004 run  \n",
       "12                       Sector 25, version 004 run  \n",
       "13                  Sector 45, version 4, first run  \n",
       "14                             Sector 10, version 4  \n",
       "15                             Sector 15, version 4  \n",
       "16                             Sector 30, version 4  \n",
       "17                             Sector 40, version 4  \n",
       "18                             Sector 50, version 4  \n",
       "19                             Sector 35, version 4  \n",
       "20                             Sector 55, version 4  "
      ]
     },
     "execution_count": 2,
     "metadata": {},
     "output_type": "execute_result"
    }
   ],
   "source": [
    "RunManager.get_run_names('StatArbStrategy')"
   ]
  },
  {
   "cell_type": "code",
   "execution_count": 4,
   "metadata": {
    "collapsed": true
   },
   "outputs": [],
   "source": [
    "drop_params = [('model', \"{u'type': u'reg'}\"), ('per_side_count', 5), ('score_var', 'prma_20')]\n",
    "run1 = RunManager('StatArbStrategy', 'run_0090', test_periods=5, drop_params=drop_params)\n",
    "run2 = RunManager('StatArbStrategy', 'run_0092', test_periods=5)"
   ]
  },
  {
   "cell_type": "code",
   "execution_count": 5,
   "metadata": {},
   "outputs": [
    {
     "name": "stdout",
     "output_type": "stream",
     "text": [
      "Reading and aggregating runs...\n"
     ]
    },
    {
     "name": "stderr",
     "output_type": "stream",
     "text": [
      "\r",
      "  0%|          | 0/10 [00:00<?, ?it/s]"
     ]
    },
    {
     "name": "stdout",
     "output_type": "stream",
     "text": [
      "Finished aggregating runs...\n"
     ]
    },
    {
     "name": "stderr",
     "output_type": "stream",
     "text": [
      "100%|██████████| 10/10 [02:19<00:00, 13.78s/it]\n"
     ]
    }
   ],
   "source": [
    "comb1 = CombinationSearch()\n",
    "comb1.add_run(run1)\n",
    "comb1.params['training_epochs'] = 10\n",
    "comb1.set_selection_criteria('sharpe')\n",
    "comb1.start()"
   ]
  },
  {
   "cell_type": "code",
   "execution_count": 6,
   "metadata": {},
   "outputs": [
    {
     "name": "stderr",
     "output_type": "stream",
     "text": [
      "\r",
      "  0%|          | 0/10 [00:00<?, ?it/s]"
     ]
    },
    {
     "name": "stdout",
     "output_type": "stream",
     "text": [
      "Reading and aggregating runs...\n",
      "Finished aggregating runs...\n"
     ]
    },
    {
     "name": "stderr",
     "output_type": "stream",
     "text": [
      "100%|██████████| 10/10 [24:11<00:00, 146.87s/it]\n"
     ]
    }
   ],
   "source": [
    "pairs = PairSearch()\n",
    "pairs.params['training_periods'] = 0\n",
    "pairs.add_run(run1)\n",
    "pairs.start()"
   ]
  },
  {
   "cell_type": "code",
   "execution_count": 9,
   "metadata": {},
   "outputs": [
    {
     "name": "stderr",
     "output_type": "stream",
     "text": [
      "\n",
      "\r",
      "  0%|          | 0/1 [00:00<?, ?it/s]"
     ]
    },
    {
     "name": "stdout",
     "output_type": "stream",
     "text": [
      "Reading and aggregating runs...\n",
      "Finished aggregating runs...\n"
     ]
    },
    {
     "name": "stderr",
     "output_type": "stream",
     "text": [
      "\u001b[A\n",
      "\n",
      "100%|██████████| 1/1 [36:23<00:00, 2183.66s/it]\u001b[A\n",
      "\u001b[A"
     ]
    }
   ],
   "source": [
    "pairs2 = PairSearch()\n",
    "pairs2.params['training_periods'] = 0\n",
    "pairs2.params['training_epochs'] = 1\n",
    "pairs2.add_run(run2)\n",
    "pairs2.start()"
   ]
  },
  {
   "cell_type": "code",
   "execution_count": 22,
   "metadata": {},
   "outputs": [
    {
     "data": {
      "image/png": "[encoded data removed]",
      "text/plain": [
       "<matplotlib.figure.Figure at 0x7f838d67b590>"
      ]
     },
     "metadata": {},
     "output_type": "display_data"
    }
   ],
   "source": [
    "inds = comb1.best_results_returns.dropna().index\n",
    "\n",
    "plt.figure()\n",
    "plt.plot(pairs.best_results_returns.loc[inds].cumsum(), 'g')\n",
    "plt.plot(comb1.best_results_returns.loc[inds].cumsum(), 'b')\n",
    "plt.show()"
   ]
  },
  {
   "cell_type": "code",
   "execution_count": 36,
   "metadata": {},
   "outputs": [
    {
     "data": {
      "text/html": [
       "<div>\n",
       "<table border=\"1\" class=\"dataframe\">\n",
       "  <thead>\n",
       "    <tr style=\"text-align: right;\">\n",
       "      <th>Qtr</th>\n",
       "      <th>1</th>\n",
       "      <th>2</th>\n",
       "      <th>3</th>\n",
       "      <th>4</th>\n",
       "      <th>yr</th>\n",
       "    </tr>\n",
       "    <tr>\n",
       "      <th>Year</th>\n",
       "      <th></th>\n",
       "      <th></th>\n",
       "      <th></th>\n",
       "      <th></th>\n",
       "      <th></th>\n",
       "    </tr>\n",
       "  </thead>\n",
       "  <tbody>\n",
       "    <tr>\n",
       "      <th>2009</th>\n",
       "      <td>NaN</td>\n",
       "      <td>NaN</td>\n",
       "      <td>NaN</td>\n",
       "      <td>NaN</td>\n",
       "      <td>NaN</td>\n",
       "    </tr>\n",
       "    <tr>\n",
       "      <th>2010</th>\n",
       "      <td>0.044918</td>\n",
       "      <td>-0.007494</td>\n",
       "      <td>0.068775</td>\n",
       "      <td>-0.004585</td>\n",
       "      <td>0.101615</td>\n",
       "    </tr>\n",
       "    <tr>\n",
       "      <th>2011</th>\n",
       "      <td>0.030504</td>\n",
       "      <td>0.025651</td>\n",
       "      <td>-0.013733</td>\n",
       "      <td>0.091716</td>\n",
       "      <td>0.134138</td>\n",
       "    </tr>\n",
       "    <tr>\n",
       "      <th>2012</th>\n",
       "      <td>0.020846</td>\n",
       "      <td>0.006190</td>\n",
       "      <td>0.036244</td>\n",
       "      <td>0.071297</td>\n",
       "      <td>0.134576</td>\n",
       "    </tr>\n",
       "    <tr>\n",
       "      <th>2013</th>\n",
       "      <td>-0.019419</td>\n",
       "      <td>0.037126</td>\n",
       "      <td>0.044774</td>\n",
       "      <td>0.011956</td>\n",
       "      <td>0.074437</td>\n",
       "    </tr>\n",
       "    <tr>\n",
       "      <th>2014</th>\n",
       "      <td>0.019314</td>\n",
       "      <td>0.025895</td>\n",
       "      <td>-0.023944</td>\n",
       "      <td>0.022001</td>\n",
       "      <td>0.043266</td>\n",
       "    </tr>\n",
       "    <tr>\n",
       "      <th>2015</th>\n",
       "      <td>-0.001885</td>\n",
       "      <td>0.051811</td>\n",
       "      <td>-0.027247</td>\n",
       "      <td>0.041245</td>\n",
       "      <td>0.063925</td>\n",
       "    </tr>\n",
       "    <tr>\n",
       "      <th>2016</th>\n",
       "      <td>0.057403</td>\n",
       "      <td>0.015782</td>\n",
       "      <td>0.017566</td>\n",
       "      <td>0.043561</td>\n",
       "      <td>0.134312</td>\n",
       "    </tr>\n",
       "    <tr>\n",
       "      <th>2017</th>\n",
       "      <td>0.032230</td>\n",
       "      <td>0.035731</td>\n",
       "      <td>0.003695</td>\n",
       "      <td>0.015721</td>\n",
       "      <td>0.087377</td>\n",
       "    </tr>\n",
       "  </tbody>\n",
       "</table>\n",
       "</div>"
      ],
      "text/plain": [
       "Qtr          1         2         3         4        yr\n",
       "Year                                                  \n",
       "2009       NaN       NaN       NaN       NaN       NaN\n",
       "2010  0.044918 -0.007494  0.068775 -0.004585  0.101615\n",
       "2011  0.030504  0.025651 -0.013733  0.091716  0.134138\n",
       "2012  0.020846  0.006190  0.036244  0.071297  0.134576\n",
       "2013 -0.019419  0.037126  0.044774  0.011956  0.074437\n",
       "2014  0.019314  0.025895 -0.023944  0.022001  0.043266\n",
       "2015 -0.001885  0.051811 -0.027247  0.041245  0.063925\n",
       "2016  0.057403  0.015782  0.017566  0.043561  0.134312\n",
       "2017  0.032230  0.035731  0.003695  0.015721  0.087377"
      ]
     },
     "execution_count": 36,
     "metadata": {},
     "output_type": "execute_result"
    }
   ],
   "source": [
    "df1 = rollup_returns(comb1.best_results_returns, 7)\n",
    "df1['yr'] = df1.sum(axis=1)\n",
    "df1"
   ]
  },
  {
   "cell_type": "code",
   "execution_count": 32,
   "metadata": {
    "collapsed": true
   },
   "outputs": [],
   "source": [
    "rollup_returns?"
   ]
  },
  {
   "cell_type": "code",
   "execution_count": 52,
   "metadata": {},
   "outputs": [],
   "source": [
    "x = comb1.best_results_returns\n",
    "y = pairs.best_results_returns\n",
    "\n",
    "y.columns = range(x.shape[1], x.shape[1] + y.shape[1])\n",
    "z = x.join(y)"
   ]
  },
  {
   "cell_type": "code",
   "execution_count": 57,
   "metadata": {},
   "outputs": [
    {
     "data": {
      "text/plain": [
       "0    0.621977\n",
       "1    0.680740\n",
       "2    0.657907\n",
       "3    0.666519\n",
       "4    0.646880\n",
       "5    0.626529\n",
       "6    0.650575\n",
       "7    0.773646\n",
       "8    0.613818\n",
       "9    0.647080\n",
       "dtype: float64"
      ]
     },
     "execution_count": 57,
     "metadata": {},
     "output_type": "execute_result"
    }
   ],
   "source": [
    "x.sum()"
   ]
  },
  {
   "cell_type": "code",
   "execution_count": 65,
   "metadata": {},
   "outputs": [],
   "source": [
    "z = pd.DataFrame({'Combo': x[7], 'Pair': y[13]})\n",
    "z['Ret'] = (z.Combo + z.Pair) / 2"
   ]
  },
  {
   "cell_type": "code",
   "execution_count": 66,
   "metadata": {},
   "outputs": [
    {
     "data": {
      "text/html": [
       "<div>\n",
       "<table border=\"1\" class=\"dataframe\">\n",
       "  <thead>\n",
       "    <tr style=\"text-align: right;\">\n",
       "      <th></th>\n",
       "      <th>Combo</th>\n",
       "      <th>Pair</th>\n",
       "      <th>Ret</th>\n",
       "    </tr>\n",
       "  </thead>\n",
       "  <tbody>\n",
       "    <tr>\n",
       "      <th>Total</th>\n",
       "      <td>0.7736</td>\n",
       "      <td>0.9322</td>\n",
       "      <td>0.8529</td>\n",
       "    </tr>\n",
       "    <tr>\n",
       "      <th>Mean</th>\n",
       "      <td>0.0004</td>\n",
       "      <td>0.0005</td>\n",
       "      <td>0.0004</td>\n",
       "    </tr>\n",
       "    <tr>\n",
       "      <th>Std</th>\n",
       "      <td>0.0038</td>\n",
       "      <td>0.0050</td>\n",
       "      <td>0.0043</td>\n",
       "    </tr>\n",
       "    <tr>\n",
       "      <th>Skew</th>\n",
       "      <td>0.1755</td>\n",
       "      <td>0.2555</td>\n",
       "      <td>0.2126</td>\n",
       "    </tr>\n",
       "    <tr>\n",
       "      <th>Kurt</th>\n",
       "      <td>1.6400</td>\n",
       "      <td>1.7300</td>\n",
       "      <td>1.5500</td>\n",
       "    </tr>\n",
       "    <tr>\n",
       "      <th>Sharpe</th>\n",
       "      <td>1.6029</td>\n",
       "      <td>1.4672</td>\n",
       "      <td>1.5719</td>\n",
       "    </tr>\n",
       "    <tr>\n",
       "      <th>Sortino</th>\n",
       "      <td>2.9033</td>\n",
       "      <td>2.6785</td>\n",
       "      <td>2.8707</td>\n",
       "    </tr>\n",
       "    <tr>\n",
       "      <th>MinRet</th>\n",
       "      <td>-0.0177</td>\n",
       "      <td>-0.0208</td>\n",
       "      <td>-0.0187</td>\n",
       "    </tr>\n",
       "    <tr>\n",
       "      <th>WinP</th>\n",
       "      <td>0.5420</td>\n",
       "      <td>0.5430</td>\n",
       "      <td>0.5420</td>\n",
       "    </tr>\n",
       "    <tr>\n",
       "      <th>DD%</th>\n",
       "      <td>-0.0660</td>\n",
       "      <td>-0.0783</td>\n",
       "      <td>-0.0695</td>\n",
       "    </tr>\n",
       "    <tr>\n",
       "      <th>DDDays</th>\n",
       "      <td>120.0000</td>\n",
       "      <td>173.0000</td>\n",
       "      <td>173.0000</td>\n",
       "    </tr>\n",
       "    <tr>\n",
       "      <th>UnderwaterDays</th>\n",
       "      <td>171.0000</td>\n",
       "      <td>173.0000</td>\n",
       "      <td>173.0000</td>\n",
       "    </tr>\n",
       "    <tr>\n",
       "      <th>Underwater%</th>\n",
       "      <td>-0.0609</td>\n",
       "      <td>-0.0783</td>\n",
       "      <td>-0.0695</td>\n",
       "    </tr>\n",
       "    <tr>\n",
       "      <th>TimeAtHighs</th>\n",
       "      <td>0.1600</td>\n",
       "      <td>0.1540</td>\n",
       "      <td>0.1630</td>\n",
       "    </tr>\n",
       "    <tr>\n",
       "      <th>VaR_5perc</th>\n",
       "      <td>-0.0057</td>\n",
       "      <td>-0.0074</td>\n",
       "      <td>-0.0063</td>\n",
       "    </tr>\n",
       "    <tr>\n",
       "      <th>CVaR_5perc</th>\n",
       "      <td>-0.0079</td>\n",
       "      <td>-0.0103</td>\n",
       "      <td>-0.0087</td>\n",
       "    </tr>\n",
       "    <tr>\n",
       "      <th>LPM_2</th>\n",
       "      <td>0.0059</td>\n",
       "      <td>0.0102</td>\n",
       "      <td>0.0074</td>\n",
       "    </tr>\n",
       "  </tbody>\n",
       "</table>\n",
       "</div>"
      ],
      "text/plain": [
       "                   Combo      Pair       Ret\n",
       "Total             0.7736    0.9322    0.8529\n",
       "Mean              0.0004    0.0005    0.0004\n",
       "Std               0.0038    0.0050    0.0043\n",
       "Skew              0.1755    0.2555    0.2126\n",
       "Kurt              1.6400    1.7300    1.5500\n",
       "Sharpe            1.6029    1.4672    1.5719\n",
       "Sortino           2.9033    2.6785    2.8707\n",
       "MinRet           -0.0177   -0.0208   -0.0187\n",
       "WinP              0.5420    0.5430    0.5420\n",
       "DD%              -0.0660   -0.0783   -0.0695\n",
       "DDDays          120.0000  173.0000  173.0000\n",
       "UnderwaterDays  171.0000  173.0000  173.0000\n",
       "Underwater%      -0.0609   -0.0783   -0.0695\n",
       "TimeAtHighs       0.1600    0.1540    0.1630\n",
       "VaR_5perc        -0.0057   -0.0074   -0.0063\n",
       "CVaR_5perc       -0.0079   -0.0103   -0.0087\n",
       "LPM_2             0.0059    0.0102    0.0074"
      ]
     },
     "execution_count": 66,
     "metadata": {},
     "output_type": "execute_result"
    }
   ],
   "source": [
    "get_stats(z.dropna())"
   ]
  },
  {
   "cell_type": "code",
   "execution_count": 68,
   "metadata": {},
   "outputs": [
    {
     "data": {
      "text/html": [
       "<div>\n",
       "<table border=\"1\" class=\"dataframe\">\n",
       "  <thead>\n",
       "    <tr style=\"text-align: right;\">\n",
       "      <th></th>\n",
       "      <th>10</th>\n",
       "      <th>11</th>\n",
       "      <th>12</th>\n",
       "      <th>13</th>\n",
       "      <th>14</th>\n",
       "      <th>15</th>\n",
       "      <th>16</th>\n",
       "      <th>17</th>\n",
       "    </tr>\n",
       "  </thead>\n",
       "  <tbody>\n",
       "    <tr>\n",
       "      <th>Total</th>\n",
       "      <td>0.9656</td>\n",
       "      <td>0.9374</td>\n",
       "      <td>0.8788</td>\n",
       "      <td>1.1755</td>\n",
       "      <td>1.0769</td>\n",
       "      <td>1.0148</td>\n",
       "      <td>1.0409</td>\n",
       "      <td>1.0001</td>\n",
       "    </tr>\n",
       "    <tr>\n",
       "      <th>Mean</th>\n",
       "      <td>0.0004</td>\n",
       "      <td>0.0004</td>\n",
       "      <td>0.0004</td>\n",
       "      <td>0.0005</td>\n",
       "      <td>0.0005</td>\n",
       "      <td>0.0005</td>\n",
       "      <td>0.0005</td>\n",
       "      <td>0.0004</td>\n",
       "    </tr>\n",
       "    <tr>\n",
       "      <th>Std</th>\n",
       "      <td>0.0052</td>\n",
       "      <td>0.0050</td>\n",
       "      <td>0.0050</td>\n",
       "      <td>0.0052</td>\n",
       "      <td>0.0052</td>\n",
       "      <td>0.0057</td>\n",
       "      <td>0.0055</td>\n",
       "      <td>0.0057</td>\n",
       "    </tr>\n",
       "    <tr>\n",
       "      <th>Skew</th>\n",
       "      <td>0.1469</td>\n",
       "      <td>0.2067</td>\n",
       "      <td>0.2256</td>\n",
       "      <td>0.2533</td>\n",
       "      <td>0.1596</td>\n",
       "      <td>0.1412</td>\n",
       "      <td>0.1796</td>\n",
       "      <td>0.1380</td>\n",
       "    </tr>\n",
       "    <tr>\n",
       "      <th>Kurt</th>\n",
       "      <td>2.6600</td>\n",
       "      <td>2.7700</td>\n",
       "      <td>2.2300</td>\n",
       "      <td>1.7300</td>\n",
       "      <td>2.1300</td>\n",
       "      <td>2.8200</td>\n",
       "      <td>2.1900</td>\n",
       "      <td>2.6300</td>\n",
       "    </tr>\n",
       "    <tr>\n",
       "      <th>Sharpe</th>\n",
       "      <td>1.3018</td>\n",
       "      <td>1.3253</td>\n",
       "      <td>1.2356</td>\n",
       "      <td>1.6100</td>\n",
       "      <td>1.4584</td>\n",
       "      <td>1.2678</td>\n",
       "      <td>1.3497</td>\n",
       "      <td>1.2419</td>\n",
       "    </tr>\n",
       "    <tr>\n",
       "      <th>Sortino</th>\n",
       "      <td>2.3027</td>\n",
       "      <td>2.3735</td>\n",
       "      <td>2.2112</td>\n",
       "      <td>2.9543</td>\n",
       "      <td>2.6194</td>\n",
       "      <td>2.2315</td>\n",
       "      <td>2.4168</td>\n",
       "      <td>2.1901</td>\n",
       "    </tr>\n",
       "    <tr>\n",
       "      <th>MinRet</th>\n",
       "      <td>-0.0267</td>\n",
       "      <td>-0.0250</td>\n",
       "      <td>-0.0253</td>\n",
       "      <td>-0.0208</td>\n",
       "      <td>-0.0270</td>\n",
       "      <td>-0.0317</td>\n",
       "      <td>-0.0263</td>\n",
       "      <td>-0.0315</td>\n",
       "    </tr>\n",
       "    <tr>\n",
       "      <th>WinP</th>\n",
       "      <td>0.5238</td>\n",
       "      <td>0.5220</td>\n",
       "      <td>0.5261</td>\n",
       "      <td>0.5443</td>\n",
       "      <td>0.5318</td>\n",
       "      <td>0.5269</td>\n",
       "      <td>0.5323</td>\n",
       "      <td>0.5305</td>\n",
       "    </tr>\n",
       "    <tr>\n",
       "      <th>DD%</th>\n",
       "      <td>-0.1034</td>\n",
       "      <td>-0.0851</td>\n",
       "      <td>-0.0955</td>\n",
       "      <td>-0.0783</td>\n",
       "      <td>-0.0961</td>\n",
       "      <td>-0.1043</td>\n",
       "      <td>-0.0806</td>\n",
       "      <td>-0.1066</td>\n",
       "    </tr>\n",
       "    <tr>\n",
       "      <th>DDDays</th>\n",
       "      <td>191.0000</td>\n",
       "      <td>185.0000</td>\n",
       "      <td>192.0000</td>\n",
       "      <td>173.0000</td>\n",
       "      <td>177.0000</td>\n",
       "      <td>182.0000</td>\n",
       "      <td>173.0000</td>\n",
       "      <td>192.0000</td>\n",
       "    </tr>\n",
       "    <tr>\n",
       "      <th>UnderwaterDays</th>\n",
       "      <td>191.0000</td>\n",
       "      <td>185.0000</td>\n",
       "      <td>192.0000</td>\n",
       "      <td>173.0000</td>\n",
       "      <td>230.0000</td>\n",
       "      <td>230.0000</td>\n",
       "      <td>232.0000</td>\n",
       "      <td>233.0000</td>\n",
       "    </tr>\n",
       "    <tr>\n",
       "      <th>Underwater%</th>\n",
       "      <td>-0.1034</td>\n",
       "      <td>-0.0851</td>\n",
       "      <td>-0.0955</td>\n",
       "      <td>-0.0783</td>\n",
       "      <td>-0.0605</td>\n",
       "      <td>-0.0706</td>\n",
       "      <td>-0.0777</td>\n",
       "      <td>-0.0807</td>\n",
       "    </tr>\n",
       "    <tr>\n",
       "      <th>TimeAtHighs</th>\n",
       "      <td>0.1390</td>\n",
       "      <td>0.1310</td>\n",
       "      <td>0.1260</td>\n",
       "      <td>0.1640</td>\n",
       "      <td>0.1540</td>\n",
       "      <td>0.1380</td>\n",
       "      <td>0.1420</td>\n",
       "      <td>0.1390</td>\n",
       "    </tr>\n",
       "    <tr>\n",
       "      <th>VaR_5perc</th>\n",
       "      <td>-0.0075</td>\n",
       "      <td>-0.0070</td>\n",
       "      <td>-0.0074</td>\n",
       "      <td>-0.0075</td>\n",
       "      <td>-0.0076</td>\n",
       "      <td>-0.0085</td>\n",
       "      <td>-0.0081</td>\n",
       "      <td>-0.0084</td>\n",
       "    </tr>\n",
       "    <tr>\n",
       "      <th>CVaR_5perc</th>\n",
       "      <td>-0.0112</td>\n",
       "      <td>-0.0105</td>\n",
       "      <td>-0.0106</td>\n",
       "      <td>-0.0106</td>\n",
       "      <td>-0.0109</td>\n",
       "      <td>-0.0121</td>\n",
       "      <td>-0.0116</td>\n",
       "      <td>-0.0122</td>\n",
       "    </tr>\n",
       "    <tr>\n",
       "      <th>LPM_2</th>\n",
       "      <td>0.0116</td>\n",
       "      <td>0.0104</td>\n",
       "      <td>0.0106</td>\n",
       "      <td>0.0107</td>\n",
       "      <td>0.0113</td>\n",
       "      <td>0.0137</td>\n",
       "      <td>0.0124</td>\n",
       "      <td>0.0138</td>\n",
       "    </tr>\n",
       "  </tbody>\n",
       "</table>\n",
       "</div>"
      ],
      "text/plain": [
       "                      10        11        12        13        14        15  \\\n",
       "Total             0.9656    0.9374    0.8788    1.1755    1.0769    1.0148   \n",
       "Mean              0.0004    0.0004    0.0004    0.0005    0.0005    0.0005   \n",
       "Std               0.0052    0.0050    0.0050    0.0052    0.0052    0.0057   \n",
       "Skew              0.1469    0.2067    0.2256    0.2533    0.1596    0.1412   \n",
       "Kurt              2.6600    2.7700    2.2300    1.7300    2.1300    2.8200   \n",
       "Sharpe            1.3018    1.3253    1.2356    1.6100    1.4584    1.2678   \n",
       "Sortino           2.3027    2.3735    2.2112    2.9543    2.6194    2.2315   \n",
       "MinRet           -0.0267   -0.0250   -0.0253   -0.0208   -0.0270   -0.0317   \n",
       "WinP              0.5238    0.5220    0.5261    0.5443    0.5318    0.5269   \n",
       "DD%              -0.1034   -0.0851   -0.0955   -0.0783   -0.0961   -0.1043   \n",
       "DDDays          191.0000  185.0000  192.0000  173.0000  177.0000  182.0000   \n",
       "UnderwaterDays  191.0000  185.0000  192.0000  173.0000  230.0000  230.0000   \n",
       "Underwater%      -0.1034   -0.0851   -0.0955   -0.0783   -0.0605   -0.0706   \n",
       "TimeAtHighs       0.1390    0.1310    0.1260    0.1640    0.1540    0.1380   \n",
       "VaR_5perc        -0.0075   -0.0070   -0.0074   -0.0075   -0.0076   -0.0085   \n",
       "CVaR_5perc       -0.0112   -0.0105   -0.0106   -0.0106   -0.0109   -0.0121   \n",
       "LPM_2             0.0116    0.0104    0.0106    0.0107    0.0113    0.0137   \n",
       "\n",
       "                      16        17  \n",
       "Total             1.0409    1.0001  \n",
       "Mean              0.0005    0.0004  \n",
       "Std               0.0055    0.0057  \n",
       "Skew              0.1796    0.1380  \n",
       "Kurt              2.1900    2.6300  \n",
       "Sharpe            1.3497    1.2419  \n",
       "Sortino           2.4168    2.1901  \n",
       "MinRet           -0.0263   -0.0315  \n",
       "WinP              0.5323    0.5305  \n",
       "DD%              -0.0806   -0.1066  \n",
       "DDDays          173.0000  192.0000  \n",
       "UnderwaterDays  232.0000  233.0000  \n",
       "Underwater%      -0.0777   -0.0807  \n",
       "TimeAtHighs       0.1420    0.1390  \n",
       "VaR_5perc        -0.0081   -0.0084  \n",
       "CVaR_5perc       -0.0116   -0.0122  \n",
       "LPM_2             0.0124    0.0138  "
      ]
     },
     "execution_count": 68,
     "metadata": {},
     "output_type": "execute_result"
    }
   ],
   "source": [
    "get_stats(y.dropna())"
   ]
  },
  {
   "cell_type": "code",
   "execution_count": null,
   "metadata": {
    "collapsed": true
   },
   "outputs": [],
   "source": []
  },
  {
   "cell_type": "code",
   "execution_count": null,
   "metadata": {
    "collapsed": true
   },
   "outputs": [],
   "source": []
  },
  {
   "cell_type": "code",
   "execution_count": null,
   "metadata": {
    "collapsed": true
   },
   "outputs": [],
   "source": []
  },
  {
   "cell_type": "code",
   "execution_count": 30,
   "metadata": {},
   "outputs": [
    {
     "data": {
      "text/plain": [
       "0    0.965584\n",
       "1    0.937412\n",
       "2    0.878768\n",
       "3    1.175485\n",
       "4    1.076868\n",
       "5    1.014839\n",
       "6    1.040946\n",
       "7    1.000148\n",
       "dtype: float64"
      ]
     },
     "execution_count": 30,
     "metadata": {},
     "output_type": "execute_result"
    }
   ],
   "source": [
    "pairs.best_results_returns.sum()"
   ]
  },
  {
   "cell_type": "code",
   "execution_count": 35,
   "metadata": {},
   "outputs": [
    {
     "data": {
      "text/plain": [
       "0    0.621977\n",
       "1    0.680740\n",
       "2    0.657907\n",
       "3    0.666519\n",
       "4    0.646880\n",
       "5    0.626529\n",
       "6    0.650575\n",
       "7    0.773646\n",
       "8    0.613818\n",
       "9    0.647080\n",
       "dtype: float64"
      ]
     },
     "execution_count": 35,
     "metadata": {},
     "output_type": "execute_result"
    }
   ],
   "source": [
    "comb1.best_results_returns.sum()"
   ]
  },
  {
   "cell_type": "code",
   "execution_count": null,
   "metadata": {
    "collapsed": true
   },
   "outputs": [],
   "source": []
  },
  {
   "cell_type": "code",
   "execution_count": null,
   "metadata": {
    "collapsed": true
   },
   "outputs": [],
   "source": []
  },
  {
   "cell_type": "code",
   "execution_count": 8,
   "metadata": {},
   "outputs": [
    {
     "name": "stdout",
     "output_type": "stream",
     "text": [
      "Reading and aggregating runs...\n"
     ]
    },
    {
     "name": "stderr",
     "output_type": "stream",
     "text": [
      "\r",
      "  0%|          | 0/10 [00:00<?, ?it/s]"
     ]
    },
    {
     "name": "stdout",
     "output_type": "stream",
     "text": [
      "Finished aggregating runs...\n"
     ]
    },
    {
     "name": "stderr",
     "output_type": "stream",
     "text": [
      "100%|██████████| 10/10 [01:49<00:00, 10.85s/it]\n"
     ]
    }
   ],
   "source": [
    "comb1d = CombinationSearch()\n",
    "comb1d.add_run(run1u)\n",
    "comb1d.params['training_epochs'] = 10\n",
    "comb1d.set_selection_criteria('sharpe')\n",
    "comb1d.start()"
   ]
  },
  {
   "cell_type": "code",
   "execution_count": 29,
   "metadata": {},
   "outputs": [
    {
     "name": "stderr",
     "output_type": "stream",
     "text": [
      "\r",
      "  0%|          | 0/5 [00:00<?, ?it/s]"
     ]
    },
    {
     "name": "stdout",
     "output_type": "stream",
     "text": [
      "Reading and aggregating runs...\n",
      "Finished aggregating runs...\n"
     ]
    },
    {
     "name": "stderr",
     "output_type": "stream",
     "text": [
      "100%|██████████| 5/5 [04:37<00:00, 55.54s/it]\n"
     ]
    }
   ],
   "source": [
    "comb1l = CombinationSearch()\n",
    "comb1l.add_run(run1u)\n",
    "comb1l.params['training_epochs'] = 5\n",
    "comb1l.params['training_periods'] = 0\n",
    "comb1l.set_selection_criteria('sharpe')\n",
    "comb1l.start()"
   ]
  },
  {
   "cell_type": "code",
   "execution_count": 33,
   "metadata": {},
   "outputs": [
    {
     "data": {
      "text/plain": [
       "DatetimeIndex(['2010-01-04', '2010-01-05', '2010-01-06', '2010-01-07',\n",
       "               '2010-01-08', '2010-01-11', '2010-01-12', '2010-01-13',\n",
       "               '2010-01-14', '2010-01-15',\n",
       "               ...\n",
       "               '2017-12-15', '2017-12-18', '2017-12-19', '2017-12-20',\n",
       "               '2017-12-21', '2017-12-22', '2017-12-26', '2017-12-27',\n",
       "               '2017-12-28', '2017-12-29'],\n",
       "              dtype='datetime64[ns]', length=2013, freq=None)"
      ]
     },
     "execution_count": 33,
     "metadata": {},
     "output_type": "execute_result"
    }
   ],
   "source": []
  },
  {
   "cell_type": "code",
   "execution_count": 35,
   "metadata": {},
   "outputs": [
    {
     "ename": "KeyError",
     "evalue": "\"DatetimeIndex(['2010-01-04', '2010-01-05', '2010-01-06', '2010-01-07',\\n               '2010-01-08', '2010-01-11', '2010-01-12', '2010-01-13',\\n               '2010-01-14', '2010-01-15',\\n               ...\\n               '2017-12-15', '2017-12-18', '2017-12-19', '2017-12-20',\\n               '2017-12-21', '2017-12-22', '2017-12-26', '2017-12-27',\\n               '2017-12-28', '2017-12-29'],\\n              dtype='datetime64[ns]', length=2013, freq=None) not in index\"",
     "output_type": "error",
     "traceback": [
      "\u001b[0;31m---------------------------------------------------------------------------\u001b[0m",
      "\u001b[0;31mKeyError\u001b[0m                                  Traceback (most recent call last)",
      "\u001b[0;32m<ipython-input-35-a28909147b35>\u001b[0m in \u001b[0;36m<module>\u001b[0;34m()\u001b[0m\n\u001b[1;32m      2\u001b[0m \u001b[0;34m\u001b[0m\u001b[0m\n\u001b[1;32m      3\u001b[0m \u001b[0mplt\u001b[0m\u001b[0;34m.\u001b[0m\u001b[0mfigure\u001b[0m\u001b[0;34m(\u001b[0m\u001b[0;34m)\u001b[0m\u001b[0;34m\u001b[0m\u001b[0m\n\u001b[0;32m----> 4\u001b[0;31m \u001b[0mplt\u001b[0m\u001b[0;34m.\u001b[0m\u001b[0mplot\u001b[0m\u001b[0;34m(\u001b[0m\u001b[0mcomb1\u001b[0m\u001b[0;34m.\u001b[0m\u001b[0mbest_results_returns\u001b[0m\u001b[0;34m[\u001b[0m\u001b[0minds\u001b[0m\u001b[0;34m]\u001b[0m\u001b[0;34m.\u001b[0m\u001b[0mcumsum\u001b[0m\u001b[0;34m(\u001b[0m\u001b[0;34m)\u001b[0m\u001b[0;34m,\u001b[0m \u001b[0;34m'b'\u001b[0m\u001b[0;34m)\u001b[0m\u001b[0;34m\u001b[0m\u001b[0m\n\u001b[0m\u001b[1;32m      5\u001b[0m \u001b[0mplt\u001b[0m\u001b[0;34m.\u001b[0m\u001b[0mplot\u001b[0m\u001b[0;34m(\u001b[0m\u001b[0mcomb1d\u001b[0m\u001b[0;34m.\u001b[0m\u001b[0mbest_results_returns\u001b[0m\u001b[0;34m[\u001b[0m\u001b[0minds\u001b[0m\u001b[0;34m]\u001b[0m\u001b[0;34m.\u001b[0m\u001b[0mcumsum\u001b[0m\u001b[0;34m(\u001b[0m\u001b[0;34m)\u001b[0m\u001b[0;34m,\u001b[0m \u001b[0;34m'g'\u001b[0m\u001b[0;34m)\u001b[0m\u001b[0;34m\u001b[0m\u001b[0m\n\u001b[1;32m      6\u001b[0m \u001b[0mplt\u001b[0m\u001b[0;34m.\u001b[0m\u001b[0mplot\u001b[0m\u001b[0;34m(\u001b[0m\u001b[0mcomb1l\u001b[0m\u001b[0;34m.\u001b[0m\u001b[0mbest_results_returns\u001b[0m\u001b[0;34m[\u001b[0m\u001b[0minds\u001b[0m\u001b[0;34m]\u001b[0m\u001b[0;34m.\u001b[0m\u001b[0mcumsum\u001b[0m\u001b[0;34m(\u001b[0m\u001b[0;34m)\u001b[0m\u001b[0;34m,\u001b[0m \u001b[0;34m'g'\u001b[0m\u001b[0;34m)\u001b[0m\u001b[0;34m\u001b[0m\u001b[0m\n",
      "\u001b[0;32m/usr/local/lib/python2.7/dist-packages/pandas/core/frame.pyc\u001b[0m in \u001b[0;36m__getitem__\u001b[0;34m(self, key)\u001b[0m\n\u001b[1;32m   2051\u001b[0m         \u001b[0;32mif\u001b[0m \u001b[0misinstance\u001b[0m\u001b[0;34m(\u001b[0m\u001b[0mkey\u001b[0m\u001b[0;34m,\u001b[0m \u001b[0;34m(\u001b[0m\u001b[0mSeries\u001b[0m\u001b[0;34m,\u001b[0m \u001b[0mnp\u001b[0m\u001b[0;34m.\u001b[0m\u001b[0mndarray\u001b[0m\u001b[0;34m,\u001b[0m \u001b[0mIndex\u001b[0m\u001b[0;34m,\u001b[0m \u001b[0mlist\u001b[0m\u001b[0;34m)\u001b[0m\u001b[0;34m)\u001b[0m\u001b[0;34m:\u001b[0m\u001b[0;34m\u001b[0m\u001b[0m\n\u001b[1;32m   2052\u001b[0m             \u001b[0;31m# either boolean or fancy integer index\u001b[0m\u001b[0;34m\u001b[0m\u001b[0;34m\u001b[0m\u001b[0m\n\u001b[0;32m-> 2053\u001b[0;31m             \u001b[0;32mreturn\u001b[0m \u001b[0mself\u001b[0m\u001b[0;34m.\u001b[0m\u001b[0m_getitem_array\u001b[0m\u001b[0;34m(\u001b[0m\u001b[0mkey\u001b[0m\u001b[0;34m)\u001b[0m\u001b[0;34m\u001b[0m\u001b[0m\n\u001b[0m\u001b[1;32m   2054\u001b[0m         \u001b[0;32melif\u001b[0m \u001b[0misinstance\u001b[0m\u001b[0;34m(\u001b[0m\u001b[0mkey\u001b[0m\u001b[0;34m,\u001b[0m \u001b[0mDataFrame\u001b[0m\u001b[0;34m)\u001b[0m\u001b[0;34m:\u001b[0m\u001b[0;34m\u001b[0m\u001b[0m\n\u001b[1;32m   2055\u001b[0m             \u001b[0;32mreturn\u001b[0m \u001b[0mself\u001b[0m\u001b[0;34m.\u001b[0m\u001b[0m_getitem_frame\u001b[0m\u001b[0;34m(\u001b[0m\u001b[0mkey\u001b[0m\u001b[0;34m)\u001b[0m\u001b[0;34m\u001b[0m\u001b[0m\n",
      "\u001b[0;32m/usr/local/lib/python2.7/dist-packages/pandas/core/frame.pyc\u001b[0m in \u001b[0;36m_getitem_array\u001b[0;34m(self, key)\u001b[0m\n\u001b[1;32m   2095\u001b[0m             \u001b[0;32mreturn\u001b[0m \u001b[0mself\u001b[0m\u001b[0;34m.\u001b[0m\u001b[0mtake\u001b[0m\u001b[0;34m(\u001b[0m\u001b[0mindexer\u001b[0m\u001b[0;34m,\u001b[0m \u001b[0maxis\u001b[0m\u001b[0;34m=\u001b[0m\u001b[0;36m0\u001b[0m\u001b[0;34m,\u001b[0m \u001b[0mconvert\u001b[0m\u001b[0;34m=\u001b[0m\u001b[0mFalse\u001b[0m\u001b[0;34m)\u001b[0m\u001b[0;34m\u001b[0m\u001b[0m\n\u001b[1;32m   2096\u001b[0m         \u001b[0;32melse\u001b[0m\u001b[0;34m:\u001b[0m\u001b[0;34m\u001b[0m\u001b[0m\n\u001b[0;32m-> 2097\u001b[0;31m             \u001b[0mindexer\u001b[0m \u001b[0;34m=\u001b[0m \u001b[0mself\u001b[0m\u001b[0;34m.\u001b[0m\u001b[0mix\u001b[0m\u001b[0;34m.\u001b[0m\u001b[0m_convert_to_indexer\u001b[0m\u001b[0;34m(\u001b[0m\u001b[0mkey\u001b[0m\u001b[0;34m,\u001b[0m \u001b[0maxis\u001b[0m\u001b[0;34m=\u001b[0m\u001b[0;36m1\u001b[0m\u001b[0;34m)\u001b[0m\u001b[0;34m\u001b[0m\u001b[0m\n\u001b[0m\u001b[1;32m   2098\u001b[0m             \u001b[0;32mreturn\u001b[0m \u001b[0mself\u001b[0m\u001b[0;34m.\u001b[0m\u001b[0mtake\u001b[0m\u001b[0;34m(\u001b[0m\u001b[0mindexer\u001b[0m\u001b[0;34m,\u001b[0m \u001b[0maxis\u001b[0m\u001b[0;34m=\u001b[0m\u001b[0;36m1\u001b[0m\u001b[0;34m,\u001b[0m \u001b[0mconvert\u001b[0m\u001b[0;34m=\u001b[0m\u001b[0mTrue\u001b[0m\u001b[0;34m)\u001b[0m\u001b[0;34m\u001b[0m\u001b[0m\n\u001b[1;32m   2099\u001b[0m \u001b[0;34m\u001b[0m\u001b[0m\n",
      "\u001b[0;32m/usr/local/lib/python2.7/dist-packages/pandas/core/indexing.pyc\u001b[0m in \u001b[0;36m_convert_to_indexer\u001b[0;34m(self, obj, axis, is_setter)\u001b[0m\n\u001b[1;32m   1228\u001b[0m                 \u001b[0mmask\u001b[0m \u001b[0;34m=\u001b[0m \u001b[0mcheck\u001b[0m \u001b[0;34m==\u001b[0m \u001b[0;34m-\u001b[0m\u001b[0;36m1\u001b[0m\u001b[0;34m\u001b[0m\u001b[0m\n\u001b[1;32m   1229\u001b[0m                 \u001b[0;32mif\u001b[0m \u001b[0mmask\u001b[0m\u001b[0;34m.\u001b[0m\u001b[0many\u001b[0m\u001b[0;34m(\u001b[0m\u001b[0;34m)\u001b[0m\u001b[0;34m:\u001b[0m\u001b[0;34m\u001b[0m\u001b[0m\n\u001b[0;32m-> 1230\u001b[0;31m                     \u001b[0;32mraise\u001b[0m \u001b[0mKeyError\u001b[0m\u001b[0;34m(\u001b[0m\u001b[0;34m'%s not in index'\u001b[0m \u001b[0;34m%\u001b[0m \u001b[0mobjarr\u001b[0m\u001b[0;34m[\u001b[0m\u001b[0mmask\u001b[0m\u001b[0;34m]\u001b[0m\u001b[0;34m)\u001b[0m\u001b[0;34m\u001b[0m\u001b[0m\n\u001b[0m\u001b[1;32m   1231\u001b[0m \u001b[0;34m\u001b[0m\u001b[0m\n\u001b[1;32m   1232\u001b[0m                 \u001b[0;32mreturn\u001b[0m \u001b[0m_values_from_object\u001b[0m\u001b[0;34m(\u001b[0m\u001b[0mindexer\u001b[0m\u001b[0;34m)\u001b[0m\u001b[0;34m\u001b[0m\u001b[0m\n",
      "\u001b[0;31mKeyError\u001b[0m: \"DatetimeIndex(['2010-01-04', '2010-01-05', '2010-01-06', '2010-01-07',\\n               '2010-01-08', '2010-01-11', '2010-01-12', '2010-01-13',\\n               '2010-01-14', '2010-01-15',\\n               ...\\n               '2017-12-15', '2017-12-18', '2017-12-19', '2017-12-20',\\n               '2017-12-21', '2017-12-22', '2017-12-26', '2017-12-27',\\n               '2017-12-28', '2017-12-29'],\\n              dtype='datetime64[ns]', length=2013, freq=None) not in index\""
     ]
    },
    {
     "data": {
      "text/plain": [
       "<matplotlib.figure.Figure at 0x7f8b84a91a90>"
      ]
     },
     "metadata": {},
     "output_type": "display_data"
    }
   ],
   "source": [
    "inds = comb1.best_results_returns.dropna().index\n",
    "\n",
    "plt.figure()\n",
    "plt.plot(comb1.best_results_returns[inds].cumsum(), 'b')\n",
    "plt.plot(comb1d.best_results_returns[inds].cumsum(), 'g')\n",
    "plt.plot(comb1l.best_results_returns[inds].cumsum(), 'r')\n",
    "plt.show()"
   ]
  },
  {
   "cell_type": "code",
   "execution_count": 17,
   "metadata": {
    "collapsed": true
   },
   "outputs": [],
   "source": [
    "stats1 = get_stats(comb1.best_results_returns.dropna())\n",
    "stats2 = get_stats(comb1d.best_results_returns.dropna())"
   ]
  },
  {
   "cell_type": "code",
   "execution_count": 18,
   "metadata": {},
   "outputs": [
    {
     "data": {
      "text/html": [
       "<div>\n",
       "<table border=\"1\" class=\"dataframe\">\n",
       "  <thead>\n",
       "    <tr style=\"text-align: right;\">\n",
       "      <th></th>\n",
       "      <th>0</th>\n",
       "      <th>1</th>\n",
       "      <th>2</th>\n",
       "      <th>3</th>\n",
       "      <th>4</th>\n",
       "      <th>5</th>\n",
       "      <th>6</th>\n",
       "      <th>7</th>\n",
       "      <th>8</th>\n",
       "      <th>9</th>\n",
       "    </tr>\n",
       "  </thead>\n",
       "  <tbody>\n",
       "    <tr>\n",
       "      <th>Total</th>\n",
       "      <td>0.6233</td>\n",
       "      <td>0.6656</td>\n",
       "      <td>0.6460</td>\n",
       "      <td>0.6709</td>\n",
       "      <td>0.7330</td>\n",
       "      <td>0.6809</td>\n",
       "      <td>0.6808</td>\n",
       "      <td>0.7226</td>\n",
       "      <td>0.7355</td>\n",
       "      <td>0.6742</td>\n",
       "    </tr>\n",
       "    <tr>\n",
       "      <th>Mean</th>\n",
       "      <td>0.0003</td>\n",
       "      <td>0.0003</td>\n",
       "      <td>0.0003</td>\n",
       "      <td>0.0003</td>\n",
       "      <td>0.0004</td>\n",
       "      <td>0.0003</td>\n",
       "      <td>0.0003</td>\n",
       "      <td>0.0004</td>\n",
       "      <td>0.0004</td>\n",
       "      <td>0.0003</td>\n",
       "    </tr>\n",
       "    <tr>\n",
       "      <th>Std</th>\n",
       "      <td>0.0044</td>\n",
       "      <td>0.0045</td>\n",
       "      <td>0.0044</td>\n",
       "      <td>0.0045</td>\n",
       "      <td>0.0045</td>\n",
       "      <td>0.0045</td>\n",
       "      <td>0.0046</td>\n",
       "      <td>0.0045</td>\n",
       "      <td>0.0047</td>\n",
       "      <td>0.0046</td>\n",
       "    </tr>\n",
       "    <tr>\n",
       "      <th>Skew</th>\n",
       "      <td>0.0007</td>\n",
       "      <td>0.1887</td>\n",
       "      <td>-0.0373</td>\n",
       "      <td>0.1871</td>\n",
       "      <td>0.1226</td>\n",
       "      <td>0.0927</td>\n",
       "      <td>0.1322</td>\n",
       "      <td>0.0426</td>\n",
       "      <td>0.1244</td>\n",
       "      <td>0.1028</td>\n",
       "    </tr>\n",
       "    <tr>\n",
       "      <th>Kurt</th>\n",
       "      <td>2.3100</td>\n",
       "      <td>2.2300</td>\n",
       "      <td>2.2500</td>\n",
       "      <td>1.9000</td>\n",
       "      <td>2.5500</td>\n",
       "      <td>2.6100</td>\n",
       "      <td>2.7100</td>\n",
       "      <td>2.1600</td>\n",
       "      <td>2.5300</td>\n",
       "      <td>3.3200</td>\n",
       "    </tr>\n",
       "    <tr>\n",
       "      <th>Sharpe</th>\n",
       "      <td>1.1127</td>\n",
       "      <td>1.1673</td>\n",
       "      <td>1.1518</td>\n",
       "      <td>1.1853</td>\n",
       "      <td>1.2854</td>\n",
       "      <td>1.1843</td>\n",
       "      <td>1.1783</td>\n",
       "      <td>1.2554</td>\n",
       "      <td>1.2464</td>\n",
       "      <td>1.1445</td>\n",
       "    </tr>\n",
       "    <tr>\n",
       "      <th>Sortino</th>\n",
       "      <td>1.9184</td>\n",
       "      <td>2.0694</td>\n",
       "      <td>1.9765</td>\n",
       "      <td>2.1025</td>\n",
       "      <td>2.2749</td>\n",
       "      <td>2.0757</td>\n",
       "      <td>2.0745</td>\n",
       "      <td>2.1835</td>\n",
       "      <td>2.2128</td>\n",
       "      <td>1.9854</td>\n",
       "    </tr>\n",
       "    <tr>\n",
       "      <th>MinRet</th>\n",
       "      <td>-0.0229</td>\n",
       "      <td>-0.0223</td>\n",
       "      <td>-0.0252</td>\n",
       "      <td>-0.0204</td>\n",
       "      <td>-0.0236</td>\n",
       "      <td>-0.0229</td>\n",
       "      <td>-0.0253</td>\n",
       "      <td>-0.0232</td>\n",
       "      <td>-0.0281</td>\n",
       "      <td>-0.0264</td>\n",
       "    </tr>\n",
       "    <tr>\n",
       "      <th>WinP</th>\n",
       "      <td>0.5345</td>\n",
       "      <td>0.5310</td>\n",
       "      <td>0.5315</td>\n",
       "      <td>0.5256</td>\n",
       "      <td>0.5281</td>\n",
       "      <td>0.5330</td>\n",
       "      <td>0.5261</td>\n",
       "      <td>0.5335</td>\n",
       "      <td>0.5281</td>\n",
       "      <td>0.5315</td>\n",
       "    </tr>\n",
       "    <tr>\n",
       "      <th>DD%</th>\n",
       "      <td>-0.0881</td>\n",
       "      <td>-0.0747</td>\n",
       "      <td>-0.0704</td>\n",
       "      <td>-0.0722</td>\n",
       "      <td>-0.0700</td>\n",
       "      <td>-0.0742</td>\n",
       "      <td>-0.0719</td>\n",
       "      <td>-0.0822</td>\n",
       "      <td>-0.0844</td>\n",
       "      <td>-0.0938</td>\n",
       "    </tr>\n",
       "    <tr>\n",
       "      <th>DDDays</th>\n",
       "      <td>201.0000</td>\n",
       "      <td>69.0000</td>\n",
       "      <td>142.0000</td>\n",
       "      <td>182.0000</td>\n",
       "      <td>192.0000</td>\n",
       "      <td>76.0000</td>\n",
       "      <td>70.0000</td>\n",
       "      <td>117.0000</td>\n",
       "      <td>114.0000</td>\n",
       "      <td>179.0000</td>\n",
       "    </tr>\n",
       "    <tr>\n",
       "      <th>UnderwaterDays</th>\n",
       "      <td>201.0000</td>\n",
       "      <td>156.0000</td>\n",
       "      <td>254.0000</td>\n",
       "      <td>182.0000</td>\n",
       "      <td>192.0000</td>\n",
       "      <td>255.0000</td>\n",
       "      <td>178.0000</td>\n",
       "      <td>190.0000</td>\n",
       "      <td>186.0000</td>\n",
       "      <td>179.0000</td>\n",
       "    </tr>\n",
       "    <tr>\n",
       "      <th>Underwater%</th>\n",
       "      <td>-0.0881</td>\n",
       "      <td>-0.0357</td>\n",
       "      <td>-0.0647</td>\n",
       "      <td>-0.0722</td>\n",
       "      <td>-0.0700</td>\n",
       "      <td>-0.0707</td>\n",
       "      <td>-0.0687</td>\n",
       "      <td>-0.0713</td>\n",
       "      <td>-0.0632</td>\n",
       "      <td>-0.0938</td>\n",
       "    </tr>\n",
       "    <tr>\n",
       "      <th>TimeAtHighs</th>\n",
       "      <td>0.1160</td>\n",
       "      <td>0.1150</td>\n",
       "      <td>0.1170</td>\n",
       "      <td>0.1240</td>\n",
       "      <td>0.1310</td>\n",
       "      <td>0.1280</td>\n",
       "      <td>0.1260</td>\n",
       "      <td>0.1370</td>\n",
       "      <td>0.1230</td>\n",
       "      <td>0.1370</td>\n",
       "    </tr>\n",
       "    <tr>\n",
       "      <th>VaR_5perc</th>\n",
       "      <td>-0.0067</td>\n",
       "      <td>-0.0067</td>\n",
       "      <td>-0.0069</td>\n",
       "      <td>-0.0068</td>\n",
       "      <td>-0.0067</td>\n",
       "      <td>-0.0067</td>\n",
       "      <td>-0.0067</td>\n",
       "      <td>-0.0069</td>\n",
       "      <td>-0.0069</td>\n",
       "      <td>-0.0068</td>\n",
       "    </tr>\n",
       "    <tr>\n",
       "      <th>CVaR_5perc</th>\n",
       "      <td>-0.0097</td>\n",
       "      <td>-0.0095</td>\n",
       "      <td>-0.0098</td>\n",
       "      <td>-0.0094</td>\n",
       "      <td>-0.0095</td>\n",
       "      <td>-0.0098</td>\n",
       "      <td>-0.0098</td>\n",
       "      <td>-0.0098</td>\n",
       "      <td>-0.0098</td>\n",
       "      <td>-0.0102</td>\n",
       "    </tr>\n",
       "    <tr>\n",
       "      <th>LPM_2</th>\n",
       "      <td>0.0087</td>\n",
       "      <td>0.0087</td>\n",
       "      <td>0.0088</td>\n",
       "      <td>0.0085</td>\n",
       "      <td>0.0086</td>\n",
       "      <td>0.0090</td>\n",
       "      <td>0.0089</td>\n",
       "      <td>0.0090</td>\n",
       "      <td>0.0093</td>\n",
       "      <td>0.0095</td>\n",
       "    </tr>\n",
       "  </tbody>\n",
       "</table>\n",
       "</div>"
      ],
      "text/plain": [
       "                       0         1         2         3         4         5  \\\n",
       "Total             0.6233    0.6656    0.6460    0.6709    0.7330    0.6809   \n",
       "Mean              0.0003    0.0003    0.0003    0.0003    0.0004    0.0003   \n",
       "Std               0.0044    0.0045    0.0044    0.0045    0.0045    0.0045   \n",
       "Skew              0.0007    0.1887   -0.0373    0.1871    0.1226    0.0927   \n",
       "Kurt              2.3100    2.2300    2.2500    1.9000    2.5500    2.6100   \n",
       "Sharpe            1.1127    1.1673    1.1518    1.1853    1.2854    1.1843   \n",
       "Sortino           1.9184    2.0694    1.9765    2.1025    2.2749    2.0757   \n",
       "MinRet           -0.0229   -0.0223   -0.0252   -0.0204   -0.0236   -0.0229   \n",
       "WinP              0.5345    0.5310    0.5315    0.5256    0.5281    0.5330   \n",
       "DD%              -0.0881   -0.0747   -0.0704   -0.0722   -0.0700   -0.0742   \n",
       "DDDays          201.0000   69.0000  142.0000  182.0000  192.0000   76.0000   \n",
       "UnderwaterDays  201.0000  156.0000  254.0000  182.0000  192.0000  255.0000   \n",
       "Underwater%      -0.0881   -0.0357   -0.0647   -0.0722   -0.0700   -0.0707   \n",
       "TimeAtHighs       0.1160    0.1150    0.1170    0.1240    0.1310    0.1280   \n",
       "VaR_5perc        -0.0067   -0.0067   -0.0069   -0.0068   -0.0067   -0.0067   \n",
       "CVaR_5perc       -0.0097   -0.0095   -0.0098   -0.0094   -0.0095   -0.0098   \n",
       "LPM_2             0.0087    0.0087    0.0088    0.0085    0.0086    0.0090   \n",
       "\n",
       "                       6         7         8         9  \n",
       "Total             0.6808    0.7226    0.7355    0.6742  \n",
       "Mean              0.0003    0.0004    0.0004    0.0003  \n",
       "Std               0.0046    0.0045    0.0047    0.0046  \n",
       "Skew              0.1322    0.0426    0.1244    0.1028  \n",
       "Kurt              2.7100    2.1600    2.5300    3.3200  \n",
       "Sharpe            1.1783    1.2554    1.2464    1.1445  \n",
       "Sortino           2.0745    2.1835    2.2128    1.9854  \n",
       "MinRet           -0.0253   -0.0232   -0.0281   -0.0264  \n",
       "WinP              0.5261    0.5335    0.5281    0.5315  \n",
       "DD%              -0.0719   -0.0822   -0.0844   -0.0938  \n",
       "DDDays           70.0000  117.0000  114.0000  179.0000  \n",
       "UnderwaterDays  178.0000  190.0000  186.0000  179.0000  \n",
       "Underwater%      -0.0687   -0.0713   -0.0632   -0.0938  \n",
       "TimeAtHighs       0.1260    0.1370    0.1230    0.1370  \n",
       "VaR_5perc        -0.0067   -0.0069   -0.0069   -0.0068  \n",
       "CVaR_5perc       -0.0098   -0.0098   -0.0098   -0.0102  \n",
       "LPM_2             0.0089    0.0090    0.0093    0.0095  "
      ]
     },
     "execution_count": 18,
     "metadata": {},
     "output_type": "execute_result"
    }
   ],
   "source": [
    "stats1"
   ]
  },
  {
   "cell_type": "code",
   "execution_count": 19,
   "metadata": {},
   "outputs": [
    {
     "name": "stdout",
     "output_type": "stream",
     "text": [
      "1.19114\n",
      "1.35113\n"
     ]
    }
   ],
   "source": [
    "print(stats1.loc['Sharpe'].mean())\n",
    "print(stats2.loc['Sharpe'].mean())"
   ]
  },
  {
   "cell_type": "code",
   "execution_count": 20,
   "metadata": {},
   "outputs": [
    {
     "name": "stdout",
     "output_type": "stream",
     "text": [
      "-0.02403\n",
      "-0.01887\n"
     ]
    }
   ],
   "source": [
    "print(stats1.loc['MinRet'].mean())\n",
    "print(stats2.loc['MinRet'].mean())"
   ]
  },
  {
   "cell_type": "code",
   "execution_count": 21,
   "metadata": {},
   "outputs": [
    {
     "name": "stdout",
     "output_type": "stream",
     "text": [
      "-0.07819\n",
      "-0.06363\n"
     ]
    }
   ],
   "source": [
    "print(stats1.loc['DD%'].mean())\n",
    "print(stats2.loc['DD%'].mean())"
   ]
  },
  {
   "cell_type": "code",
   "execution_count": 22,
   "metadata": {},
   "outputs": [
    {
     "name": "stdout",
     "output_type": "stream",
     "text": [
      "-0.00678\n",
      "-0.00573\n"
     ]
    }
   ],
   "source": [
    "print(stats1.loc['VaR_5perc'].mean())\n",
    "print(stats2.loc['VaR_5perc'].mean())"
   ]
  },
  {
   "cell_type": "code",
   "execution_count": 23,
   "metadata": {},
   "outputs": [
    {
     "name": "stdout",
     "output_type": "stream",
     "text": [
      "197.3\n",
      "168.4\n"
     ]
    }
   ],
   "source": [
    "print(stats1.loc['UnderwaterDays'].mean())\n",
    "print(stats2.loc['UnderwaterDays'].mean())"
   ]
  },
  {
   "cell_type": "code",
   "execution_count": 24,
   "metadata": {},
   "outputs": [
    {
     "name": "stdout",
     "output_type": "stream",
     "text": [
      "2.08736\n",
      "2.42367\n"
     ]
    }
   ],
   "source": [
    "print(stats1.loc['Sortino'].mean())\n",
    "print(stats2.loc['Sortino'].mean())\n"
   ]
  },
  {
   "cell_type": "code",
   "execution_count": 25,
   "metadata": {},
   "outputs": [
    {
     "name": "stdout",
     "output_type": "stream",
     "text": [
      "0.68328\n",
      "0.65856\n"
     ]
    }
   ],
   "source": [
    "print(stats1.loc['Total'].mean())\n",
    "print(stats2.loc['Total'].mean())"
   ]
  },
  {
   "cell_type": "code",
   "execution_count": 26,
   "metadata": {},
   "outputs": [
    {
     "data": {
      "text/html": [
       "<div>\n",
       "<table border=\"1\" class=\"dataframe\">\n",
       "  <thead>\n",
       "    <tr style=\"text-align: right;\">\n",
       "      <th>Qtr</th>\n",
       "      <th>1</th>\n",
       "      <th>2</th>\n",
       "      <th>3</th>\n",
       "      <th>4</th>\n",
       "    </tr>\n",
       "    <tr>\n",
       "      <th>Year</th>\n",
       "      <th></th>\n",
       "      <th></th>\n",
       "      <th></th>\n",
       "      <th></th>\n",
       "    </tr>\n",
       "  </thead>\n",
       "  <tbody>\n",
       "    <tr>\n",
       "      <th>2009</th>\n",
       "      <td>NaN</td>\n",
       "      <td>NaN</td>\n",
       "      <td>NaN</td>\n",
       "      <td>NaN</td>\n",
       "    </tr>\n",
       "    <tr>\n",
       "      <th>2010</th>\n",
       "      <td>0.057261</td>\n",
       "      <td>-0.000202</td>\n",
       "      <td>0.067089</td>\n",
       "      <td>-0.031258</td>\n",
       "    </tr>\n",
       "    <tr>\n",
       "      <th>2011</th>\n",
       "      <td>0.031105</td>\n",
       "      <td>0.017358</td>\n",
       "      <td>-0.025911</td>\n",
       "      <td>0.101493</td>\n",
       "    </tr>\n",
       "    <tr>\n",
       "      <th>2012</th>\n",
       "      <td>0.013509</td>\n",
       "      <td>-0.024647</td>\n",
       "      <td>0.027567</td>\n",
       "      <td>0.081276</td>\n",
       "    </tr>\n",
       "    <tr>\n",
       "      <th>2013</th>\n",
       "      <td>-0.011016</td>\n",
       "      <td>0.033613</td>\n",
       "      <td>0.066958</td>\n",
       "      <td>-0.005371</td>\n",
       "    </tr>\n",
       "    <tr>\n",
       "      <th>2014</th>\n",
       "      <td>0.027396</td>\n",
       "      <td>0.016688</td>\n",
       "      <td>-0.010281</td>\n",
       "      <td>0.014747</td>\n",
       "    </tr>\n",
       "    <tr>\n",
       "      <th>2015</th>\n",
       "      <td>-0.002675</td>\n",
       "      <td>0.057165</td>\n",
       "      <td>-0.038442</td>\n",
       "      <td>0.006631</td>\n",
       "    </tr>\n",
       "    <tr>\n",
       "      <th>2016</th>\n",
       "      <td>0.043003</td>\n",
       "      <td>-0.026721</td>\n",
       "      <td>0.006601</td>\n",
       "      <td>0.030876</td>\n",
       "    </tr>\n",
       "    <tr>\n",
       "      <th>2017</th>\n",
       "      <td>0.023554</td>\n",
       "      <td>0.069845</td>\n",
       "      <td>-0.001417</td>\n",
       "      <td>0.007515</td>\n",
       "    </tr>\n",
       "  </tbody>\n",
       "</table>\n",
       "</div>"
      ],
      "text/plain": [
       "Qtr          1         2         3         4\n",
       "Year                                        \n",
       "2009       NaN       NaN       NaN       NaN\n",
       "2010  0.057261 -0.000202  0.067089 -0.031258\n",
       "2011  0.031105  0.017358 -0.025911  0.101493\n",
       "2012  0.013509 -0.024647  0.027567  0.081276\n",
       "2013 -0.011016  0.033613  0.066958 -0.005371\n",
       "2014  0.027396  0.016688 -0.010281  0.014747\n",
       "2015 -0.002675  0.057165 -0.038442  0.006631\n",
       "2016  0.043003 -0.026721  0.006601  0.030876\n",
       "2017  0.023554  0.069845 -0.001417  0.007515"
      ]
     },
     "execution_count": 26,
     "metadata": {},
     "output_type": "execute_result"
    }
   ],
   "source": [
    "rollup_returns(comb1.best_results_returns)"
   ]
  },
  {
   "cell_type": "code",
   "execution_count": null,
   "metadata": {
    "collapsed": true
   },
   "outputs": [],
   "source": []
  }
 ],
 "metadata": {
  "kernelspec": {
   "display_name": "Python 2",
   "language": "python",
   "name": "python2"
  },
  "language_info": {
   "codemirror_mode": {
    "name": "ipython",
    "version": 2
   },
   "file_extension": ".py",
   "mimetype": "text/x-python",
   "name": "python",
   "nbconvert_exporter": "python",
   "pygments_lexer": "ipython2",
   "version": "2.7.13"
  }
 },
 "nbformat": 4,
 "nbformat_minor": 2
}
