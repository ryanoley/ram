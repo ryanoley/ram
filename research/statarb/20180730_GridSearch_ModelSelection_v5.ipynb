{
 "cells": [
  {
   "cell_type": "code",
   "execution_count": 1,
   "metadata": {
    "collapsed": true
   },
   "outputs": [],
   "source": [
    "%matplotlib inline\n",
    "\n",
    "import itertools\n",
    "import numpy as np\n",
    "import pandas as pd\n",
    "import datetime as dt\n",
    "import matplotlib.pyplot as plt\n",
    "\n",
    "from ram.analysis.run_manager import RunManager\n",
    "from ram.analysis.model_selection.combo_search import CombinationSearch\n",
    "from ram.analysis.model_selection.score_vars import ScoreVariables\n",
    "from ram.analysis.statistics import get_stats, rollup_returns"
   ]
  },
  {
   "cell_type": "code",
   "execution_count": 2,
   "metadata": {},
   "outputs": [
    {
     "data": {
      "text/html": [
       "<div>\n",
       "<style scoped>\n",
       "    .dataframe tbody tr th:only-of-type {\n",
       "        vertical-align: middle;\n",
       "    }\n",
       "\n",
       "    .dataframe tbody tr th {\n",
       "        vertical-align: top;\n",
       "    }\n",
       "\n",
       "    .dataframe thead th {\n",
       "        text-align: right;\n",
       "    }\n",
       "</style>\n",
       "<table border=\"1\" class=\"dataframe\">\n",
       "  <thead>\n",
       "    <tr style=\"text-align: right;\">\n",
       "      <th></th>\n",
       "      <th>RunName</th>\n",
       "      <th>RunDate</th>\n",
       "      <th>Completed</th>\n",
       "      <th>Description</th>\n",
       "    </tr>\n",
       "  </thead>\n",
       "  <tbody>\n",
       "    <tr>\n",
       "      <th>0</th>\n",
       "      <td>run_0068</td>\n",
       "      <td>2018-03-06</td>\n",
       "      <td>True</td>\n",
       "      <td>Sector 20, version 002</td>\n",
       "    </tr>\n",
       "    <tr>\n",
       "      <th>1</th>\n",
       "      <td>run_0069</td>\n",
       "      <td>2018-03-07</td>\n",
       "      <td>True</td>\n",
       "      <td>Sector 20, version 2 rerun with univ filtering</td>\n",
       "    </tr>\n",
       "    <tr>\n",
       "      <th>2</th>\n",
       "      <td>run_0070</td>\n",
       "      <td>2018-03-19</td>\n",
       "      <td>True</td>\n",
       "      <td>Sector 20, post refactor run</td>\n",
       "    </tr>\n",
       "    <tr>\n",
       "      <th>3</th>\n",
       "      <td>run_0071</td>\n",
       "      <td>2018-03-21</td>\n",
       "      <td>True</td>\n",
       "      <td>Sector 20, 2001 start date, 16cpu comp</td>\n",
       "    </tr>\n",
       "    <tr>\n",
       "      <th>4</th>\n",
       "      <td>run_0072</td>\n",
       "      <td>2018-03-21</td>\n",
       "      <td>True</td>\n",
       "      <td>Sector 20, 2001 start date, 64cpu comp</td>\n",
       "    </tr>\n",
       "    <tr>\n",
       "      <th>5</th>\n",
       "      <td>run_0078</td>\n",
       "      <td>2018-04-18</td>\n",
       "      <td>True</td>\n",
       "      <td>Sector 20, new pricing data</td>\n",
       "    </tr>\n",
       "    <tr>\n",
       "      <th>6</th>\n",
       "      <td>run_0079</td>\n",
       "      <td>2018-04-25</td>\n",
       "      <td>True</td>\n",
       "      <td>Rerun with data since 2004</td>\n",
       "    </tr>\n",
       "    <tr>\n",
       "      <th>7</th>\n",
       "      <td>run_0080</td>\n",
       "      <td>2018-04-26</td>\n",
       "      <td>False</td>\n",
       "      <td>Rerun of version 24 data</td>\n",
       "    </tr>\n",
       "    <tr>\n",
       "      <th>8</th>\n",
       "      <td>run_0081</td>\n",
       "      <td>2018-04-30</td>\n",
       "      <td>True</td>\n",
       "      <td>New hyperparams</td>\n",
       "    </tr>\n",
       "    <tr>\n",
       "      <th>9</th>\n",
       "      <td>run_0085</td>\n",
       "      <td>2018-05-01</td>\n",
       "      <td>True</td>\n",
       "      <td>new params, longer params/hyperparms</td>\n",
       "    </tr>\n",
       "    <tr>\n",
       "      <th>10</th>\n",
       "      <td>run_0087</td>\n",
       "      <td>2018-05-03</td>\n",
       "      <td>True</td>\n",
       "      <td>Sector 20, version 3 long hyperparams first run</td>\n",
       "    </tr>\n",
       "    <tr>\n",
       "      <th>11</th>\n",
       "      <td>run_0090</td>\n",
       "      <td>2018-05-07</td>\n",
       "      <td>True</td>\n",
       "      <td>Sector 20, version 004 run</td>\n",
       "    </tr>\n",
       "    <tr>\n",
       "      <th>12</th>\n",
       "      <td>run_0091</td>\n",
       "      <td>2018-05-07</td>\n",
       "      <td>True</td>\n",
       "      <td>Sector 25, version 004 run</td>\n",
       "    </tr>\n",
       "    <tr>\n",
       "      <th>13</th>\n",
       "      <td>run_0092</td>\n",
       "      <td>2018-05-08</td>\n",
       "      <td>True</td>\n",
       "      <td>Sector 45, version 4, first run</td>\n",
       "    </tr>\n",
       "    <tr>\n",
       "      <th>14</th>\n",
       "      <td>run_0093</td>\n",
       "      <td>2018-05-15</td>\n",
       "      <td>True</td>\n",
       "      <td>Sector 10, version 4</td>\n",
       "    </tr>\n",
       "    <tr>\n",
       "      <th>15</th>\n",
       "      <td>run_0094</td>\n",
       "      <td>2018-05-15</td>\n",
       "      <td>True</td>\n",
       "      <td>Sector 15, version 4</td>\n",
       "    </tr>\n",
       "    <tr>\n",
       "      <th>16</th>\n",
       "      <td>run_0095</td>\n",
       "      <td>2018-05-15</td>\n",
       "      <td>True</td>\n",
       "      <td>Sector 30, version 4</td>\n",
       "    </tr>\n",
       "    <tr>\n",
       "      <th>17</th>\n",
       "      <td>run_0096</td>\n",
       "      <td>2018-05-16</td>\n",
       "      <td>True</td>\n",
       "      <td>Sector 40, version 4</td>\n",
       "    </tr>\n",
       "    <tr>\n",
       "      <th>18</th>\n",
       "      <td>run_0097</td>\n",
       "      <td>2018-05-16</td>\n",
       "      <td>True</td>\n",
       "      <td>Sector 50, version 4</td>\n",
       "    </tr>\n",
       "    <tr>\n",
       "      <th>19</th>\n",
       "      <td>run_0098</td>\n",
       "      <td>2018-05-16</td>\n",
       "      <td>True</td>\n",
       "      <td>Sector 35, version 4</td>\n",
       "    </tr>\n",
       "    <tr>\n",
       "      <th>20</th>\n",
       "      <td>run_0099</td>\n",
       "      <td>2018-05-16</td>\n",
       "      <td>True</td>\n",
       "      <td>Sector 55, version 4</td>\n",
       "    </tr>\n",
       "    <tr>\n",
       "      <th>21</th>\n",
       "      <td>run_0100</td>\n",
       "      <td>2018-06-06</td>\n",
       "      <td>True</td>\n",
       "      <td>ReRun sector 20 after refactor of data container</td>\n",
       "    </tr>\n",
       "    <tr>\n",
       "      <th>22</th>\n",
       "      <td>run_0102</td>\n",
       "      <td>2018-07-11</td>\n",
       "      <td>False</td>\n",
       "      <td>sector 20, version 5 nonrank techs</td>\n",
       "    </tr>\n",
       "    <tr>\n",
       "      <th>23</th>\n",
       "      <td>run_0103</td>\n",
       "      <td>2018-07-13</td>\n",
       "      <td>True</td>\n",
       "      <td>sector 20, v5, A/B to v4</td>\n",
       "    </tr>\n",
       "    <tr>\n",
       "      <th>24</th>\n",
       "      <td>run_0104</td>\n",
       "      <td>2018-07-13</td>\n",
       "      <td>False</td>\n",
       "      <td>Sector 20, first run of version 6 binary vars</td>\n",
       "    </tr>\n",
       "    <tr>\n",
       "      <th>25</th>\n",
       "      <td>run_0105</td>\n",
       "      <td>2018-07-13</td>\n",
       "      <td>True</td>\n",
       "      <td>Sector 20, first run of version 7</td>\n",
       "    </tr>\n",
       "    <tr>\n",
       "      <th>26</th>\n",
       "      <td>run_0106</td>\n",
       "      <td>2018-07-16</td>\n",
       "      <td>False</td>\n",
       "      <td>Sector 45, v8, first run</td>\n",
       "    </tr>\n",
       "    <tr>\n",
       "      <th>27</th>\n",
       "      <td>run_0107</td>\n",
       "      <td>2018-07-17</td>\n",
       "      <td>False</td>\n",
       "      <td>Sector 45, non-ranked vars</td>\n",
       "    </tr>\n",
       "    <tr>\n",
       "      <th>28</th>\n",
       "      <td>run_0108</td>\n",
       "      <td>2018-07-17</td>\n",
       "      <td>True</td>\n",
       "      <td>Sector 25, non-ranked vars</td>\n",
       "    </tr>\n",
       "    <tr>\n",
       "      <th>29</th>\n",
       "      <td>run_0112</td>\n",
       "      <td>2018-07-17</td>\n",
       "      <td>True</td>\n",
       "      <td>Sector 20, feature importance test</td>\n",
       "    </tr>\n",
       "    <tr>\n",
       "      <th>30</th>\n",
       "      <td>run_0113</td>\n",
       "      <td>2018-07-17</td>\n",
       "      <td>True</td>\n",
       "      <td>Sector 25, feature importance test</td>\n",
       "    </tr>\n",
       "    <tr>\n",
       "      <th>31</th>\n",
       "      <td>run_0114</td>\n",
       "      <td>2018-07-17</td>\n",
       "      <td>False</td>\n",
       "      <td>Sector 45, feature importance test</td>\n",
       "    </tr>\n",
       "    <tr>\n",
       "      <th>32</th>\n",
       "      <td>run_0119</td>\n",
       "      <td>2018-07-19</td>\n",
       "      <td>False</td>\n",
       "      <td>Sector 20, v5, new sort vars</td>\n",
       "    </tr>\n",
       "    <tr>\n",
       "      <th>33</th>\n",
       "      <td>run_0120</td>\n",
       "      <td>2018-07-19</td>\n",
       "      <td>False</td>\n",
       "      <td>Sector 25, v5, new sort vars</td>\n",
       "    </tr>\n",
       "    <tr>\n",
       "      <th>34</th>\n",
       "      <td>run_0121</td>\n",
       "      <td>2018-07-19</td>\n",
       "      <td>False</td>\n",
       "      <td>Sector 35, v5, new sort vars</td>\n",
       "    </tr>\n",
       "    <tr>\n",
       "      <th>35</th>\n",
       "      <td>run_0122</td>\n",
       "      <td>2018-07-19</td>\n",
       "      <td>False</td>\n",
       "      <td>Sector 45, v5, new sort vars</td>\n",
       "    </tr>\n",
       "    <tr>\n",
       "      <th>36</th>\n",
       "      <td>run_0124</td>\n",
       "      <td>2018-07-23</td>\n",
       "      <td>True</td>\n",
       "      <td>Sector 20, v5 update</td>\n",
       "    </tr>\n",
       "    <tr>\n",
       "      <th>37</th>\n",
       "      <td>run_0125</td>\n",
       "      <td>2018-07-24</td>\n",
       "      <td>True</td>\n",
       "      <td>Sector 25, v5 update</td>\n",
       "    </tr>\n",
       "    <tr>\n",
       "      <th>38</th>\n",
       "      <td>run_0126</td>\n",
       "      <td>2018-07-24</td>\n",
       "      <td>True</td>\n",
       "      <td>Sector 35, v5 update</td>\n",
       "    </tr>\n",
       "    <tr>\n",
       "      <th>39</th>\n",
       "      <td>run_0127</td>\n",
       "      <td>2018-07-24</td>\n",
       "      <td>False</td>\n",
       "      <td>Sector 45, v5 update</td>\n",
       "    </tr>\n",
       "    <tr>\n",
       "      <th>40</th>\n",
       "      <td>run_0130</td>\n",
       "      <td>2018-07-24</td>\n",
       "      <td>True</td>\n",
       "      <td>Sector 20, v6 momentum</td>\n",
       "    </tr>\n",
       "    <tr>\n",
       "      <th>41</th>\n",
       "      <td>run_0131</td>\n",
       "      <td>2018-07-25</td>\n",
       "      <td>True</td>\n",
       "      <td>Sector 25, v6 momentum</td>\n",
       "    </tr>\n",
       "    <tr>\n",
       "      <th>42</th>\n",
       "      <td>run_0132</td>\n",
       "      <td>2018-07-25</td>\n",
       "      <td>True</td>\n",
       "      <td>Sector 35, v6 momentum</td>\n",
       "    </tr>\n",
       "    <tr>\n",
       "      <th>43</th>\n",
       "      <td>run_0133</td>\n",
       "      <td>2018-07-25</td>\n",
       "      <td>False</td>\n",
       "      <td>Sector 45, v6 momentum</td>\n",
       "    </tr>\n",
       "    <tr>\n",
       "      <th>44</th>\n",
       "      <td>run_0134</td>\n",
       "      <td>2018-07-25</td>\n",
       "      <td>True</td>\n",
       "      <td>Sector 20, v6 momentum SWITCH</td>\n",
       "    </tr>\n",
       "    <tr>\n",
       "      <th>45</th>\n",
       "      <td>run_0135</td>\n",
       "      <td>2018-07-25</td>\n",
       "      <td>True</td>\n",
       "      <td>Sector 25, v6 momentum SWITCH</td>\n",
       "    </tr>\n",
       "    <tr>\n",
       "      <th>46</th>\n",
       "      <td>run_0136</td>\n",
       "      <td>2018-07-25</td>\n",
       "      <td>True</td>\n",
       "      <td>Sector 35, v6 momentum SWITCH</td>\n",
       "    </tr>\n",
       "    <tr>\n",
       "      <th>47</th>\n",
       "      <td>run_0137</td>\n",
       "      <td>2018-07-25</td>\n",
       "      <td>False</td>\n",
       "      <td>Sector 45, v6 momentum SWITCH</td>\n",
       "    </tr>\n",
       "  </tbody>\n",
       "</table>\n",
       "</div>"
      ],
      "text/plain": [
       "     RunName     RunDate Completed  \\\n",
       "0   run_0068  2018-03-06      True   \n",
       "1   run_0069  2018-03-07      True   \n",
       "2   run_0070  2018-03-19      True   \n",
       "3   run_0071  2018-03-21      True   \n",
       "4   run_0072  2018-03-21      True   \n",
       "5   run_0078  2018-04-18      True   \n",
       "6   run_0079  2018-04-25      True   \n",
       "7   run_0080  2018-04-26     False   \n",
       "8   run_0081  2018-04-30      True   \n",
       "9   run_0085  2018-05-01      True   \n",
       "10  run_0087  2018-05-03      True   \n",
       "11  run_0090  2018-05-07      True   \n",
       "12  run_0091  2018-05-07      True   \n",
       "13  run_0092  2018-05-08      True   \n",
       "14  run_0093  2018-05-15      True   \n",
       "15  run_0094  2018-05-15      True   \n",
       "16  run_0095  2018-05-15      True   \n",
       "17  run_0096  2018-05-16      True   \n",
       "18  run_0097  2018-05-16      True   \n",
       "19  run_0098  2018-05-16      True   \n",
       "20  run_0099  2018-05-16      True   \n",
       "21  run_0100  2018-06-06      True   \n",
       "22  run_0102  2018-07-11     False   \n",
       "23  run_0103  2018-07-13      True   \n",
       "24  run_0104  2018-07-13     False   \n",
       "25  run_0105  2018-07-13      True   \n",
       "26  run_0106  2018-07-16     False   \n",
       "27  run_0107  2018-07-17     False   \n",
       "28  run_0108  2018-07-17      True   \n",
       "29  run_0112  2018-07-17      True   \n",
       "30  run_0113  2018-07-17      True   \n",
       "31  run_0114  2018-07-17     False   \n",
       "32  run_0119  2018-07-19     False   \n",
       "33  run_0120  2018-07-19     False   \n",
       "34  run_0121  2018-07-19     False   \n",
       "35  run_0122  2018-07-19     False   \n",
       "36  run_0124  2018-07-23      True   \n",
       "37  run_0125  2018-07-24      True   \n",
       "38  run_0126  2018-07-24      True   \n",
       "39  run_0127  2018-07-24     False   \n",
       "40  run_0130  2018-07-24      True   \n",
       "41  run_0131  2018-07-25      True   \n",
       "42  run_0132  2018-07-25      True   \n",
       "43  run_0133  2018-07-25     False   \n",
       "44  run_0134  2018-07-25      True   \n",
       "45  run_0135  2018-07-25      True   \n",
       "46  run_0136  2018-07-25      True   \n",
       "47  run_0137  2018-07-25     False   \n",
       "\n",
       "                                         Description  \n",
       "0                             Sector 20, version 002  \n",
       "1     Sector 20, version 2 rerun with univ filtering  \n",
       "2                       Sector 20, post refactor run  \n",
       "3             Sector 20, 2001 start date, 16cpu comp  \n",
       "4             Sector 20, 2001 start date, 64cpu comp  \n",
       "5                        Sector 20, new pricing data  \n",
       "6                         Rerun with data since 2004  \n",
       "7                           Rerun of version 24 data  \n",
       "8                                    New hyperparams  \n",
       "9               new params, longer params/hyperparms  \n",
       "10   Sector 20, version 3 long hyperparams first run  \n",
       "11                        Sector 20, version 004 run  \n",
       "12                        Sector 25, version 004 run  \n",
       "13                   Sector 45, version 4, first run  \n",
       "14                              Sector 10, version 4  \n",
       "15                              Sector 15, version 4  \n",
       "16                              Sector 30, version 4  \n",
       "17                              Sector 40, version 4  \n",
       "18                              Sector 50, version 4  \n",
       "19                              Sector 35, version 4  \n",
       "20                              Sector 55, version 4  \n",
       "21  ReRun sector 20 after refactor of data container  \n",
       "22                sector 20, version 5 nonrank techs  \n",
       "23                          sector 20, v5, A/B to v4  \n",
       "24     Sector 20, first run of version 6 binary vars  \n",
       "25                 Sector 20, first run of version 7  \n",
       "26                          Sector 45, v8, first run  \n",
       "27                        Sector 45, non-ranked vars  \n",
       "28                        Sector 25, non-ranked vars  \n",
       "29                Sector 20, feature importance test  \n",
       "30                Sector 25, feature importance test  \n",
       "31                Sector 45, feature importance test  \n",
       "32                      Sector 20, v5, new sort vars  \n",
       "33                      Sector 25, v5, new sort vars  \n",
       "34                      Sector 35, v5, new sort vars  \n",
       "35                      Sector 45, v5, new sort vars  \n",
       "36                              Sector 20, v5 update  \n",
       "37                              Sector 25, v5 update  \n",
       "38                              Sector 35, v5 update  \n",
       "39                              Sector 45, v5 update  \n",
       "40                            Sector 20, v6 momentum  \n",
       "41                            Sector 25, v6 momentum  \n",
       "42                            Sector 35, v6 momentum  \n",
       "43                            Sector 45, v6 momentum  \n",
       "44                     Sector 20, v6 momentum SWITCH  \n",
       "45                     Sector 25, v6 momentum SWITCH  \n",
       "46                     Sector 35, v6 momentum SWITCH  \n",
       "47                     Sector 45, v6 momentum SWITCH  "
      ]
     },
     "execution_count": 2,
     "metadata": {},
     "output_type": "execute_result"
    }
   ],
   "source": [
    "RunManager.get_run_names('StatArbStrategy')"
   ]
  },
  {
   "cell_type": "code",
   "execution_count": 21,
   "metadata": {
    "collapsed": true
   },
   "outputs": [],
   "source": [
    "# Baseline\n",
    "#drop_params = [('data_rank_flag', True)]\n",
    "#runB = RunManager('StatArbStrategy', 'run_0124', drop_params=drop_params)\n",
    "\n",
    "runB = RunManager('StatArbStrategy', 'run_0130')"
   ]
  },
  {
   "cell_type": "code",
   "execution_count": 22,
   "metadata": {},
   "outputs": [
    {
     "name": "stdout",
     "output_type": "stream",
     "text": [
      "Reading and aggregating runs...\n"
     ]
    },
    {
     "name": "stderr",
     "output_type": "stream",
     "text": [
      "\r",
      "  0%|          | 0/1 [00:00<?, ?it/s]"
     ]
    },
    {
     "name": "stdout",
     "output_type": "stream",
     "text": [
      "Finished aggregating runs...\n"
     ]
    },
    {
     "name": "stderr",
     "output_type": "stream",
     "text": [
      "100%|██████████| 1/1 [00:09<00:00,  9.84s/it]\n",
      "  0%|          | 0/1 [00:00<?, ?it/s]"
     ]
    },
    {
     "name": "stdout",
     "output_type": "stream",
     "text": [
      "Mean: 0.292830171457, Sharpe: 0.11961627385, P: 6, S: 5, C: min_sharpe\n",
      "Reading and aggregating runs...\n",
      "Finished aggregating runs...\n"
     ]
    },
    {
     "name": "stderr",
     "output_type": "stream",
     "text": [
      "100%|██████████| 1/1 [00:15<00:00, 15.87s/it]\n",
      "  0%|          | 0/1 [00:00<?, ?it/s]"
     ]
    },
    {
     "name": "stdout",
     "output_type": "stream",
     "text": [
      "Mean: 0.304433817218, Sharpe: 0.109648637354, P: 6, S: 5, C: min_mean_sharpe\n",
      "Reading and aggregating runs...\n",
      "Finished aggregating runs...\n"
     ]
    },
    {
     "name": "stderr",
     "output_type": "stream",
     "text": [
      "100%|██████████| 1/1 [00:22<00:00, 22.56s/it]\n",
      "  0%|          | 0/1 [00:00<?, ?it/s]"
     ]
    },
    {
     "name": "stdout",
     "output_type": "stream",
     "text": [
      "Mean: 0.299751269668, Sharpe: 0.112717854861, P: 6, S: 5, C: min_mean_sharpe_dd\n",
      "Reading and aggregating runs...\n",
      "Finished aggregating runs...\n"
     ]
    },
    {
     "name": "stderr",
     "output_type": "stream",
     "text": [
      "100%|██████████| 1/1 [00:10<00:00, 10.76s/it]\n",
      "  0%|          | 0/1 [00:00<?, ?it/s]"
     ]
    },
    {
     "name": "stdout",
     "output_type": "stream",
     "text": [
      "Mean: 0.296941220822, Sharpe: 0.105592003373, P: 6, S: 5, C: mean_min\n",
      "Reading and aggregating runs...\n",
      "Finished aggregating runs...\n"
     ]
    },
    {
     "name": "stderr",
     "output_type": "stream",
     "text": [
      "100%|██████████| 1/1 [00:07<00:00,  7.43s/it]\n",
      "  0%|          | 0/1 [00:00<?, ?it/s]"
     ]
    },
    {
     "name": "stdout",
     "output_type": "stream",
     "text": [
      "Mean: 0.288896240861, Sharpe: 0.100665113171, P: 6, S: 5, C: sharpe\n",
      "Reading and aggregating runs...\n",
      "Finished aggregating runs...\n"
     ]
    },
    {
     "name": "stderr",
     "output_type": "stream",
     "text": [
      "100%|██████████| 1/1 [00:12<00:00, 12.72s/it]\n",
      "  0%|          | 0/1 [00:00<?, ?it/s]"
     ]
    },
    {
     "name": "stdout",
     "output_type": "stream",
     "text": [
      "Mean: 0.300710002764, Sharpe: 0.0994180196146, P: 6, S: 5, C: mean_dd\n",
      "Reading and aggregating runs...\n",
      "Finished aggregating runs...\n"
     ]
    },
    {
     "name": "stderr",
     "output_type": "stream",
     "text": [
      "100%|██████████| 1/1 [00:11<00:00, 11.80s/it]\n",
      "  0%|          | 0/1 [00:00<?, ?it/s]"
     ]
    },
    {
     "name": "stdout",
     "output_type": "stream",
     "text": [
      "Mean: 0.256372240555, Sharpe: 0.099254440182, P: 6, S: 5, C: sharpe_dd\n",
      "Reading and aggregating runs...\n",
      "Finished aggregating runs...\n"
     ]
    },
    {
     "name": "stderr",
     "output_type": "stream",
     "text": [
      "100%|██████████| 1/1 [00:13<00:00, 13.03s/it]\n",
      "  0%|          | 0/1 [00:00<?, ?it/s]"
     ]
    },
    {
     "name": "stdout",
     "output_type": "stream",
     "text": [
      "Mean: 0.292383151458, Sharpe: 0.120690081282, P: 6, S: 10, C: min_sharpe\n",
      "Reading and aggregating runs...\n",
      "Finished aggregating runs...\n"
     ]
    },
    {
     "name": "stderr",
     "output_type": "stream",
     "text": [
      "100%|██████████| 1/1 [00:18<00:00, 18.51s/it]\n",
      "  0%|          | 0/1 [00:00<?, ?it/s]"
     ]
    },
    {
     "name": "stdout",
     "output_type": "stream",
     "text": [
      "Mean: 0.299337091319, Sharpe: 0.113150462484, P: 6, S: 10, C: min_mean_sharpe\n",
      "Reading and aggregating runs...\n",
      "Finished aggregating runs...\n"
     ]
    },
    {
     "name": "stderr",
     "output_type": "stream",
     "text": [
      "100%|██████████| 1/1 [00:27<00:00, 28.00s/it]\n",
      "  0%|          | 0/1 [00:00<?, ?it/s]"
     ]
    },
    {
     "name": "stdout",
     "output_type": "stream",
     "text": [
      "Mean: 0.281343510374, Sharpe: 0.11141603683, P: 6, S: 10, C: min_mean_sharpe_dd\n",
      "Reading and aggregating runs...\n",
      "Finished aggregating runs...\n"
     ]
    },
    {
     "name": "stderr",
     "output_type": "stream",
     "text": [
      "100%|██████████| 1/1 [00:14<00:00, 14.06s/it]\n",
      "  0%|          | 0/1 [00:00<?, ?it/s]"
     ]
    },
    {
     "name": "stdout",
     "output_type": "stream",
     "text": [
      "Mean: 0.307092140655, Sharpe: 0.115442796114, P: 6, S: 10, C: mean_min\n",
      "Reading and aggregating runs...\n",
      "Finished aggregating runs...\n"
     ]
    },
    {
     "name": "stderr",
     "output_type": "stream",
     "text": [
      "100%|██████████| 1/1 [00:08<00:00,  8.16s/it]\n",
      "  0%|          | 0/1 [00:00<?, ?it/s]"
     ]
    },
    {
     "name": "stdout",
     "output_type": "stream",
     "text": [
      "Mean: 0.304158381094, Sharpe: 0.109229534416, P: 6, S: 10, C: sharpe\n",
      "Reading and aggregating runs...\n",
      "Finished aggregating runs...\n"
     ]
    },
    {
     "name": "stderr",
     "output_type": "stream",
     "text": [
      "100%|██████████| 1/1 [00:15<00:00, 15.55s/it]\n",
      "  0%|          | 0/1 [00:00<?, ?it/s]"
     ]
    },
    {
     "name": "stdout",
     "output_type": "stream",
     "text": [
      "Mean: 0.302924840251, Sharpe: 0.109351968474, P: 6, S: 10, C: mean_dd\n",
      "Reading and aggregating runs...\n",
      "Finished aggregating runs...\n"
     ]
    },
    {
     "name": "stderr",
     "output_type": "stream",
     "text": [
      "100%|██████████| 1/1 [00:13<00:00, 13.95s/it]\n",
      "  0%|          | 0/1 [00:00<?, ?it/s]"
     ]
    },
    {
     "name": "stdout",
     "output_type": "stream",
     "text": [
      "Mean: 0.277420842511, Sharpe: 0.112400520258, P: 6, S: 10, C: sharpe_dd\n",
      "Reading and aggregating runs...\n",
      "Finished aggregating runs...\n"
     ]
    },
    {
     "name": "stderr",
     "output_type": "stream",
     "text": [
      "100%|██████████| 1/1 [00:14<00:00, 14.51s/it]\n",
      "  0%|          | 0/1 [00:00<?, ?it/s]"
     ]
    },
    {
     "name": "stdout",
     "output_type": "stream",
     "text": [
      "Mean: 0.277233023992, Sharpe: 0.114534149825, P: 6, S: 15, C: min_sharpe\n",
      "Reading and aggregating runs...\n",
      "Finished aggregating runs...\n"
     ]
    },
    {
     "name": "stderr",
     "output_type": "stream",
     "text": [
      "100%|██████████| 1/1 [00:22<00:00, 22.06s/it]\n",
      "  0%|          | 0/1 [00:00<?, ?it/s]"
     ]
    },
    {
     "name": "stdout",
     "output_type": "stream",
     "text": [
      "Mean: 0.302229483197, Sharpe: 0.117959789078, P: 6, S: 15, C: min_mean_sharpe\n",
      "Reading and aggregating runs...\n",
      "Finished aggregating runs...\n"
     ]
    },
    {
     "name": "stderr",
     "output_type": "stream",
     "text": [
      "100%|██████████| 1/1 [00:28<00:00, 28.84s/it]\n",
      "  0%|          | 0/1 [00:00<?, ?it/s]"
     ]
    },
    {
     "name": "stdout",
     "output_type": "stream",
     "text": [
      "Mean: 0.294566180619, Sharpe: 0.1196605748, P: 6, S: 15, C: min_mean_sharpe_dd\n",
      "Reading and aggregating runs...\n",
      "Finished aggregating runs...\n"
     ]
    },
    {
     "name": "stderr",
     "output_type": "stream",
     "text": [
      "100%|██████████| 1/1 [00:15<00:00, 15.75s/it]\n",
      "  0%|          | 0/1 [00:00<?, ?it/s]"
     ]
    },
    {
     "name": "stdout",
     "output_type": "stream",
     "text": [
      "Mean: 0.302239959437, Sharpe: 0.11724803567, P: 6, S: 15, C: mean_min\n",
      "Reading and aggregating runs...\n",
      "Finished aggregating runs...\n"
     ]
    },
    {
     "name": "stderr",
     "output_type": "stream",
     "text": [
      "100%|██████████| 1/1 [00:09<00:00,  9.77s/it]\n",
      "  0%|          | 0/1 [00:00<?, ?it/s]"
     ]
    },
    {
     "name": "stdout",
     "output_type": "stream",
     "text": [
      "Mean: 0.305049172304, Sharpe: 0.111632447789, P: 6, S: 15, C: sharpe\n",
      "Reading and aggregating runs...\n",
      "Finished aggregating runs...\n"
     ]
    },
    {
     "name": "stderr",
     "output_type": "stream",
     "text": [
      "100%|██████████| 1/1 [00:15<00:00, 15.56s/it]\n",
      "  0%|          | 0/1 [00:00<?, ?it/s]"
     ]
    },
    {
     "name": "stdout",
     "output_type": "stream",
     "text": [
      "Mean: 0.289316133576, Sharpe: 0.108494429113, P: 6, S: 15, C: mean_dd\n",
      "Reading and aggregating runs...\n",
      "Finished aggregating runs...\n"
     ]
    },
    {
     "name": "stderr",
     "output_type": "stream",
     "text": [
      "100%|██████████| 1/1 [00:14<00:00, 14.06s/it]\n",
      "  0%|          | 0/1 [00:00<?, ?it/s]"
     ]
    },
    {
     "name": "stdout",
     "output_type": "stream",
     "text": [
      "Mean: 0.282168283446, Sharpe: 0.114423762794, P: 6, S: 15, C: sharpe_dd\n",
      "Reading and aggregating runs...\n",
      "Finished aggregating runs...\n"
     ]
    },
    {
     "name": "stderr",
     "output_type": "stream",
     "text": [
      "100%|██████████| 1/1 [00:15<00:00, 15.82s/it]\n",
      "  0%|          | 0/1 [00:00<?, ?it/s]"
     ]
    },
    {
     "name": "stdout",
     "output_type": "stream",
     "text": [
      "Mean: 0.293732425316, Sharpe: 0.119593597209, P: 12, S: 5, C: min_sharpe\n",
      "Reading and aggregating runs...\n",
      "Finished aggregating runs...\n"
     ]
    },
    {
     "name": "stderr",
     "output_type": "stream",
     "text": [
      "100%|██████████| 1/1 [00:22<00:00, 22.69s/it]\n",
      "  0%|          | 0/1 [00:00<?, ?it/s]"
     ]
    },
    {
     "name": "stdout",
     "output_type": "stream",
     "text": [
      "Mean: 0.312809821622, Sharpe: 0.110812930426, P: 12, S: 5, C: min_mean_sharpe\n",
      "Reading and aggregating runs...\n",
      "Finished aggregating runs...\n"
     ]
    },
    {
     "name": "stderr",
     "output_type": "stream",
     "text": [
      "100%|██████████| 1/1 [00:35<00:00, 35.80s/it]\n",
      "  0%|          | 0/1 [00:00<?, ?it/s]"
     ]
    },
    {
     "name": "stdout",
     "output_type": "stream",
     "text": [
      "Mean: 0.301227691897, Sharpe: 0.111143170392, P: 12, S: 5, C: min_mean_sharpe_dd\n",
      "Reading and aggregating runs...\n",
      "Finished aggregating runs...\n"
     ]
    },
    {
     "name": "stderr",
     "output_type": "stream",
     "text": [
      "100%|██████████| 1/1 [00:15<00:00, 15.16s/it]\n",
      "  0%|          | 0/1 [00:00<?, ?it/s]"
     ]
    },
    {
     "name": "stdout",
     "output_type": "stream",
     "text": [
      "Mean: 0.311705949311, Sharpe: 0.108684519499, P: 12, S: 5, C: mean_min\n",
      "Reading and aggregating runs...\n",
      "Finished aggregating runs...\n"
     ]
    },
    {
     "name": "stderr",
     "output_type": "stream",
     "text": [
      "100%|██████████| 1/1 [00:09<00:00,  9.30s/it]\n",
      "  0%|          | 0/1 [00:00<?, ?it/s]"
     ]
    },
    {
     "name": "stdout",
     "output_type": "stream",
     "text": [
      "Mean: 0.320166696916, Sharpe: 0.110372180147, P: 12, S: 5, C: sharpe\n",
      "Reading and aggregating runs...\n",
      "Finished aggregating runs...\n"
     ]
    },
    {
     "name": "stderr",
     "output_type": "stream",
     "text": [
      "100%|██████████| 1/1 [00:21<00:00, 21.76s/it]\n",
      "  0%|          | 0/1 [00:00<?, ?it/s]"
     ]
    },
    {
     "name": "stdout",
     "output_type": "stream",
     "text": [
      "Mean: 0.336413084468, Sharpe: 0.111832498903, P: 12, S: 5, C: mean_dd\n",
      "Reading and aggregating runs...\n",
      "Finished aggregating runs...\n"
     ]
    },
    {
     "name": "stderr",
     "output_type": "stream",
     "text": [
      "100%|██████████| 1/1 [00:25<00:00, 25.43s/it]\n",
      "  0%|          | 0/1 [00:00<?, ?it/s]"
     ]
    },
    {
     "name": "stdout",
     "output_type": "stream",
     "text": [
      "Mean: 0.296655021548, Sharpe: 0.116306180806, P: 12, S: 5, C: sharpe_dd\n",
      "Reading and aggregating runs...\n",
      "Finished aggregating runs...\n"
     ]
    },
    {
     "name": "stderr",
     "output_type": "stream",
     "text": [
      "100%|██████████| 1/1 [00:24<00:00, 24.11s/it]\n",
      "  0%|          | 0/1 [00:00<?, ?it/s]"
     ]
    },
    {
     "name": "stdout",
     "output_type": "stream",
     "text": [
      "Mean: 0.305679640988, Sharpe: 0.127938126503, P: 12, S: 10, C: min_sharpe\n",
      "Reading and aggregating runs...\n",
      "Finished aggregating runs...\n"
     ]
    },
    {
     "name": "stderr",
     "output_type": "stream",
     "text": [
      "100%|██████████| 1/1 [00:31<00:00, 31.44s/it]\n",
      "  0%|          | 0/1 [00:00<?, ?it/s]"
     ]
    },
    {
     "name": "stdout",
     "output_type": "stream",
     "text": [
      "Mean: 0.327971069772, Sharpe: 0.126686591447, P: 12, S: 10, C: min_mean_sharpe\n",
      "Reading and aggregating runs...\n",
      "Finished aggregating runs...\n"
     ]
    },
    {
     "name": "stderr",
     "output_type": "stream",
     "text": [
      "100%|██████████| 1/1 [00:44<00:00, 44.03s/it]\n",
      "  0%|          | 0/1 [00:00<?, ?it/s]"
     ]
    },
    {
     "name": "stdout",
     "output_type": "stream",
     "text": [
      "Mean: 0.312465580562, Sharpe: 0.124432780748, P: 12, S: 10, C: min_mean_sharpe_dd\n",
      "Reading and aggregating runs...\n",
      "Finished aggregating runs...\n"
     ]
    },
    {
     "name": "stderr",
     "output_type": "stream",
     "text": [
      "100%|██████████| 1/1 [00:21<00:00, 21.53s/it]\n",
      "  0%|          | 0/1 [00:00<?, ?it/s]"
     ]
    },
    {
     "name": "stdout",
     "output_type": "stream",
     "text": [
      "Mean: 0.325726577317, Sharpe: 0.124180917617, P: 12, S: 10, C: mean_min\n",
      "Reading and aggregating runs...\n",
      "Finished aggregating runs...\n"
     ]
    },
    {
     "name": "stderr",
     "output_type": "stream",
     "text": [
      "100%|██████████| 1/1 [00:12<00:00, 12.65s/it]\n",
      "  0%|          | 0/1 [00:00<?, ?it/s]"
     ]
    },
    {
     "name": "stdout",
     "output_type": "stream",
     "text": [
      "Mean: 0.333559011502, Sharpe: 0.121898652866, P: 12, S: 10, C: sharpe\n",
      "Reading and aggregating runs...\n",
      "Finished aggregating runs...\n"
     ]
    },
    {
     "name": "stderr",
     "output_type": "stream",
     "text": [
      "100%|██████████| 1/1 [00:28<00:00, 28.43s/it]\n",
      "  0%|          | 0/1 [00:00<?, ?it/s]"
     ]
    },
    {
     "name": "stdout",
     "output_type": "stream",
     "text": [
      "Mean: 0.323353706138, Sharpe: 0.11927488862, P: 12, S: 10, C: mean_dd\n",
      "Reading and aggregating runs...\n",
      "Finished aggregating runs...\n"
     ]
    },
    {
     "name": "stderr",
     "output_type": "stream",
     "text": [
      "100%|██████████| 1/1 [00:27<00:00, 27.85s/it]\n",
      "  0%|          | 0/1 [00:00<?, ?it/s]"
     ]
    },
    {
     "name": "stdout",
     "output_type": "stream",
     "text": [
      "Mean: 0.310010286931, Sharpe: 0.126429785382, P: 12, S: 10, C: sharpe_dd\n",
      "Reading and aggregating runs...\n",
      "Finished aggregating runs...\n"
     ]
    },
    {
     "name": "stderr",
     "output_type": "stream",
     "text": [
      "100%|██████████| 1/1 [00:24<00:00, 24.25s/it]\n",
      "  0%|          | 0/1 [00:00<?, ?it/s]"
     ]
    },
    {
     "name": "stdout",
     "output_type": "stream",
     "text": [
      "Mean: 0.304492337776, Sharpe: 0.127467880341, P: 12, S: 15, C: min_sharpe\n",
      "Reading and aggregating runs...\n",
      "Finished aggregating runs...\n"
     ]
    },
    {
     "name": "stderr",
     "output_type": "stream",
     "text": [
      "100%|██████████| 1/1 [00:31<00:00, 31.65s/it]\n",
      "  0%|          | 0/1 [00:00<?, ?it/s]"
     ]
    },
    {
     "name": "stdout",
     "output_type": "stream",
     "text": [
      "Mean: 0.314444821603, Sharpe: 0.124603583177, P: 12, S: 15, C: min_mean_sharpe\n",
      "Reading and aggregating runs...\n",
      "Finished aggregating runs...\n"
     ]
    },
    {
     "name": "stderr",
     "output_type": "stream",
     "text": [
      "100%|██████████| 1/1 [00:43<00:00, 43.94s/it]\n",
      "  0%|          | 0/1 [00:00<?, ?it/s]"
     ]
    },
    {
     "name": "stdout",
     "output_type": "stream",
     "text": [
      "Mean: 0.309685950781, Sharpe: 0.126434721855, P: 12, S: 15, C: min_mean_sharpe_dd\n",
      "Reading and aggregating runs...\n",
      "Finished aggregating runs...\n"
     ]
    },
    {
     "name": "stderr",
     "output_type": "stream",
     "text": [
      "100%|██████████| 1/1 [00:23<00:00, 23.43s/it]\n",
      "  0%|          | 0/1 [00:00<?, ?it/s]"
     ]
    },
    {
     "name": "stdout",
     "output_type": "stream",
     "text": [
      "Mean: 0.323877358285, Sharpe: 0.127200320479, P: 12, S: 15, C: mean_min\n",
      "Reading and aggregating runs...\n",
      "Finished aggregating runs...\n"
     ]
    },
    {
     "name": "stderr",
     "output_type": "stream",
     "text": [
      "100%|██████████| 1/1 [00:13<00:00, 13.88s/it]\n",
      "  0%|          | 0/1 [00:00<?, ?it/s]"
     ]
    },
    {
     "name": "stdout",
     "output_type": "stream",
     "text": [
      "Mean: 0.336793376222, Sharpe: 0.124438018165, P: 12, S: 15, C: sharpe\n",
      "Reading and aggregating runs...\n",
      "Finished aggregating runs...\n"
     ]
    },
    {
     "name": "stderr",
     "output_type": "stream",
     "text": [
      "100%|██████████| 1/1 [00:23<00:00, 23.80s/it]\n",
      "  0%|          | 0/1 [00:00<?, ?it/s]"
     ]
    },
    {
     "name": "stdout",
     "output_type": "stream",
     "text": [
      "Mean: 0.320289552984, Sharpe: 0.121387753209, P: 12, S: 15, C: mean_dd\n",
      "Reading and aggregating runs...\n",
      "Finished aggregating runs...\n"
     ]
    },
    {
     "name": "stderr",
     "output_type": "stream",
     "text": [
      "\r",
      "100%|██████████| 1/1 [00:24<00:00, 24.40s/it]"
     ]
    },
    {
     "name": "stdout",
     "output_type": "stream",
     "text": [
      "Mean: 0.307444468084, Sharpe: 0.127246855909, P: 12, S: 15, C: sharpe_dd\n"
     ]
    },
    {
     "name": "stderr",
     "output_type": "stream",
     "text": [
      "\n"
     ]
    }
   ],
   "source": [
    "d = dt.date(2013, 1, 1)\n",
    "\n",
    "periods = [6, 12]\n",
    "strats = [5, 10, 15]\n",
    "criteria = ['min_sharpe', 'min_mean_sharpe', 'min_mean_sharpe_dd', 'mean_min', 'sharpe', 'mean_dd', 'sharpe_dd']\n",
    "\n",
    "results = pd.DataFrame()\n",
    "\n",
    "i = 0\n",
    "for p, s, c in itertools.product(periods, strats, criteria):\n",
    "    combG = CombinationSearch()\n",
    "    combG.set_selection_criteria(c)\n",
    "    combG.params['training_epochs'] = 1\n",
    "    combG.params['training_periods'] = p\n",
    "    combG.strats_per_port = s\n",
    "    combG.add_run(runB)\n",
    "    combG.start()\n",
    "\n",
    "    rets = combG.best_results_returns.loc[d:].dropna()\n",
    "    sharpe = (rets.mean() / rets.std()).mean()\n",
    "    mean = rets.sum().mean()\n",
    "\n",
    "    print 'Mean: {}, Sharpe: {}, P: {}, S: {}, C: {}'.format(mean, sharpe, p, s, c)\n",
    "    results.loc[i, 'Periods'] = p\n",
    "    results.loc[i, 'Strats'] = s\n",
    "    results.loc[i ,'Criteria'] = c\n",
    "    results.loc[i, 'Mean'] = mean\n",
    "    results.loc[i, 'Sharpe'] = sharpe\n",
    "    results.loc[i, 'DD'] = (rets - rets.cummax()).min().mean()\n",
    "\n",
    "    i += 1"
   ]
  },
  {
   "cell_type": "code",
   "execution_count": 23,
   "metadata": {
    "collapsed": true
   },
   "outputs": [],
   "source": [
    "results130 = results.copy()"
   ]
  },
  {
   "cell_type": "code",
   "execution_count": 24,
   "metadata": {},
   "outputs": [
    {
     "data": {
      "text/html": [
       "<div>\n",
       "<style scoped>\n",
       "    .dataframe tbody tr th:only-of-type {\n",
       "        vertical-align: middle;\n",
       "    }\n",
       "\n",
       "    .dataframe tbody tr th {\n",
       "        vertical-align: top;\n",
       "    }\n",
       "\n",
       "    .dataframe thead th {\n",
       "        text-align: right;\n",
       "    }\n",
       "</style>\n",
       "<table border=\"1\" class=\"dataframe\">\n",
       "  <thead>\n",
       "    <tr style=\"text-align: right;\">\n",
       "      <th></th>\n",
       "      <th>Mean</th>\n",
       "      <th>Sharpe</th>\n",
       "      <th>DD</th>\n",
       "    </tr>\n",
       "    <tr>\n",
       "      <th>Criteria</th>\n",
       "      <th></th>\n",
       "      <th></th>\n",
       "      <th></th>\n",
       "    </tr>\n",
       "  </thead>\n",
       "  <tbody>\n",
       "    <tr>\n",
       "      <th>mean_dd</th>\n",
       "      <td>0.312168</td>\n",
       "      <td>0.111627</td>\n",
       "      <td>-0.017163</td>\n",
       "    </tr>\n",
       "    <tr>\n",
       "      <th>mean_min</th>\n",
       "      <td>0.311264</td>\n",
       "      <td>0.116391</td>\n",
       "      <td>-0.016103</td>\n",
       "    </tr>\n",
       "    <tr>\n",
       "      <th>min_mean_sharpe</th>\n",
       "      <td>0.310204</td>\n",
       "      <td>0.117144</td>\n",
       "      <td>-0.015658</td>\n",
       "    </tr>\n",
       "    <tr>\n",
       "      <th>min_mean_sharpe_dd</th>\n",
       "      <td>0.299840</td>\n",
       "      <td>0.117634</td>\n",
       "      <td>-0.014963</td>\n",
       "    </tr>\n",
       "    <tr>\n",
       "      <th>min_sharpe</th>\n",
       "      <td>0.294392</td>\n",
       "      <td>0.121640</td>\n",
       "      <td>-0.014310</td>\n",
       "    </tr>\n",
       "    <tr>\n",
       "      <th>sharpe</th>\n",
       "      <td>0.314770</td>\n",
       "      <td>0.113039</td>\n",
       "      <td>-0.017286</td>\n",
       "    </tr>\n",
       "    <tr>\n",
       "      <th>sharpe_dd</th>\n",
       "      <td>0.288345</td>\n",
       "      <td>0.116010</td>\n",
       "      <td>-0.014818</td>\n",
       "    </tr>\n",
       "  </tbody>\n",
       "</table>\n",
       "</div>"
      ],
      "text/plain": [
       "                        Mean    Sharpe        DD\n",
       "Criteria                                        \n",
       "mean_dd             0.312168  0.111627 -0.017163\n",
       "mean_min            0.311264  0.116391 -0.016103\n",
       "min_mean_sharpe     0.310204  0.117144 -0.015658\n",
       "min_mean_sharpe_dd  0.299840  0.117634 -0.014963\n",
       "min_sharpe          0.294392  0.121640 -0.014310\n",
       "sharpe              0.314770  0.113039 -0.017286\n",
       "sharpe_dd           0.288345  0.116010 -0.014818"
      ]
     },
     "execution_count": 24,
     "metadata": {},
     "output_type": "execute_result"
    }
   ],
   "source": [
    "results130.groupby('Criteria')[['Mean', 'Sharpe', 'DD']].mean()"
   ]
  },
  {
   "cell_type": "code",
   "execution_count": null,
   "metadata": {
    "collapsed": true
   },
   "outputs": [],
   "source": []
  },
  {
   "cell_type": "code",
   "execution_count": null,
   "metadata": {
    "collapsed": true
   },
   "outputs": [],
   "source": []
  },
  {
   "cell_type": "code",
   "execution_count": 18,
   "metadata": {},
   "outputs": [
    {
     "data": {
      "text/html": [
       "<div>\n",
       "<style scoped>\n",
       "    .dataframe tbody tr th:only-of-type {\n",
       "        vertical-align: middle;\n",
       "    }\n",
       "\n",
       "    .dataframe tbody tr th {\n",
       "        vertical-align: top;\n",
       "    }\n",
       "\n",
       "    .dataframe thead th {\n",
       "        text-align: right;\n",
       "    }\n",
       "</style>\n",
       "<table border=\"1\" class=\"dataframe\">\n",
       "  <thead>\n",
       "    <tr style=\"text-align: right;\">\n",
       "      <th></th>\n",
       "      <th>Mean</th>\n",
       "      <th>Sharpe</th>\n",
       "      <th>DD</th>\n",
       "    </tr>\n",
       "    <tr>\n",
       "      <th>Criteria</th>\n",
       "      <th></th>\n",
       "      <th></th>\n",
       "      <th></th>\n",
       "    </tr>\n",
       "  </thead>\n",
       "  <tbody>\n",
       "    <tr>\n",
       "      <th>mean_dd</th>\n",
       "      <td>0.444938</td>\n",
       "      <td>0.092559</td>\n",
       "      <td>-0.033254</td>\n",
       "    </tr>\n",
       "    <tr>\n",
       "      <th>mean_min</th>\n",
       "      <td>0.461341</td>\n",
       "      <td>0.098230</td>\n",
       "      <td>-0.031376</td>\n",
       "    </tr>\n",
       "    <tr>\n",
       "      <th>min_mean_sharpe</th>\n",
       "      <td>0.455408</td>\n",
       "      <td>0.097576</td>\n",
       "      <td>-0.031247</td>\n",
       "    </tr>\n",
       "    <tr>\n",
       "      <th>min_mean_sharpe_dd</th>\n",
       "      <td>0.447231</td>\n",
       "      <td>0.097471</td>\n",
       "      <td>-0.031260</td>\n",
       "    </tr>\n",
       "    <tr>\n",
       "      <th>min_sharpe</th>\n",
       "      <td>0.429034</td>\n",
       "      <td>0.096610</td>\n",
       "      <td>-0.029864</td>\n",
       "    </tr>\n",
       "    <tr>\n",
       "      <th>sharpe</th>\n",
       "      <td>0.428159</td>\n",
       "      <td>0.090475</td>\n",
       "      <td>-0.032832</td>\n",
       "    </tr>\n",
       "    <tr>\n",
       "      <th>sharpe_dd</th>\n",
       "      <td>0.420864</td>\n",
       "      <td>0.093194</td>\n",
       "      <td>-0.031615</td>\n",
       "    </tr>\n",
       "  </tbody>\n",
       "</table>\n",
       "</div>"
      ],
      "text/plain": [
       "                        Mean    Sharpe        DD\n",
       "Criteria                                        \n",
       "mean_dd             0.444938  0.092559 -0.033254\n",
       "mean_min            0.461341  0.098230 -0.031376\n",
       "min_mean_sharpe     0.455408  0.097576 -0.031247\n",
       "min_mean_sharpe_dd  0.447231  0.097471 -0.031260\n",
       "min_sharpe          0.429034  0.096610 -0.029864\n",
       "sharpe              0.428159  0.090475 -0.032832\n",
       "sharpe_dd           0.420864  0.093194 -0.031615"
      ]
     },
     "execution_count": 18,
     "metadata": {},
     "output_type": "execute_result"
    }
   ],
   "source": [
    "results124.groupby('Criteria')[['Mean', 'Sharpe', 'DD']].mean()"
   ]
  },
  {
   "cell_type": "code",
   "execution_count": null,
   "metadata": {
    "collapsed": true
   },
   "outputs": [],
   "source": []
  },
  {
   "cell_type": "code",
   "execution_count": 25,
   "metadata": {},
   "outputs": [
    {
     "name": "stderr",
     "output_type": "stream",
     "text": [
      "\r",
      "  0%|          | 0/2 [00:00<?, ?it/s]"
     ]
    },
    {
     "name": "stdout",
     "output_type": "stream",
     "text": [
      "Reading and aggregating runs...\n",
      "Finished aggregating runs...\n"
     ]
    },
    {
     "name": "stderr",
     "output_type": "stream",
     "text": [
      "100%|██████████| 2/2 [00:49<00:00, 24.92s/it]\n"
     ]
    }
   ],
   "source": [
    "combG1 = CombinationSearch()\n",
    "combG1.set_selection_criteria('min_sharpe')\n",
    "combG1.params['training_epochs'] = 2\n",
    "combG1.params['training_periods'] = 12\n",
    "combG1.strats_per_port = 10\n",
    "combG1.add_run(runB)\n",
    "combG1.start()"
   ]
  },
  {
   "cell_type": "code",
   "execution_count": null,
   "metadata": {
    "collapsed": true
   },
   "outputs": [],
   "source": []
  },
  {
   "cell_type": "code",
   "execution_count": null,
   "metadata": {
    "collapsed": true
   },
   "outputs": [],
   "source": []
  },
  {
   "cell_type": "code",
   "execution_count": 5,
   "metadata": {},
   "outputs": [
    {
     "name": "stderr",
     "output_type": "stream",
     "text": [
      "\r",
      "  0%|          | 0/2 [00:00<?, ?it/s]"
     ]
    },
    {
     "name": "stdout",
     "output_type": "stream",
     "text": [
      "Reading and aggregating runs...\n",
      "Finished aggregating runs...\n"
     ]
    },
    {
     "name": "stderr",
     "output_type": "stream",
     "text": [
      "100%|██████████| 2/2 [01:12<00:00, 36.02s/it]\n"
     ]
    }
   ],
   "source": [
    "combG = CombinationSearch()\n",
    "combG.set_selection_criteria('min_mean_sharpe')\n",
    "combG.params['training_epochs'] = 2\n",
    "combG.params['training_periods'] = 12\n",
    "combG.strats_per_port = 10\n",
    "combG.add_run(runB)\n",
    "combG.start()"
   ]
  },
  {
   "cell_type": "code",
   "execution_count": 26,
   "metadata": {},
   "outputs": [
    {
     "data": {
      "image/png": "[encoded data removed]",
      "text/plain": [
       "<matplotlib.figure.Figure at 0x7f79ccc08750>"
      ]
     },
     "metadata": {},
     "output_type": "display_data"
    }
   ],
   "source": [
    "plt.figure()\n",
    "plt.plot(combG.best_results_returns.dropna().cumsum(), 'b')\n",
    "plt.plot(combG1.best_results_returns.dropna().cumsum(), 'r')\n",
    "plt.show()"
   ]
  },
  {
   "cell_type": "code",
   "execution_count": 27,
   "metadata": {},
   "outputs": [
    {
     "data": {
      "image/png": "[encoded data removed]",
      "text/plain": [
       "<matplotlib.figure.Figure at 0x7f79ccd42290>"
      ]
     },
     "metadata": {},
     "output_type": "display_data"
    }
   ],
   "source": [
    "t = dt.date(2013, 1, 1)\n",
    "plt.figure()\n",
    "plt.plot(combG.best_results_returns.dropna().loc[t:].cumsum(), 'b')\n",
    "plt.plot(combG1.best_results_returns.dropna().loc[t:].cumsum(), 'r')\n",
    "plt.show()"
   ]
  },
  {
   "cell_type": "code",
   "execution_count": 28,
   "metadata": {},
   "outputs": [
    {
     "data": {
      "text/html": [
       "<div>\n",
       "<style scoped>\n",
       "    .dataframe tbody tr th:only-of-type {\n",
       "        vertical-align: middle;\n",
       "    }\n",
       "\n",
       "    .dataframe tbody tr th {\n",
       "        vertical-align: top;\n",
       "    }\n",
       "\n",
       "    .dataframe thead th {\n",
       "        text-align: right;\n",
       "    }\n",
       "</style>\n",
       "<table border=\"1\" class=\"dataframe\">\n",
       "  <thead>\n",
       "    <tr style=\"text-align: right;\">\n",
       "      <th></th>\n",
       "      <th>MinSharpe</th>\n",
       "      <th>Sharpe</th>\n",
       "    </tr>\n",
       "  </thead>\n",
       "  <tbody>\n",
       "    <tr>\n",
       "      <th>Total</th>\n",
       "      <td>0.49451</td>\n",
       "      <td>0.50380</td>\n",
       "    </tr>\n",
       "    <tr>\n",
       "      <th>Mean</th>\n",
       "      <td>0.00023</td>\n",
       "      <td>0.00026</td>\n",
       "    </tr>\n",
       "    <tr>\n",
       "      <th>Std</th>\n",
       "      <td>0.00203</td>\n",
       "      <td>0.00201</td>\n",
       "    </tr>\n",
       "    <tr>\n",
       "      <th>Skew</th>\n",
       "      <td>0.29807</td>\n",
       "      <td>0.33531</td>\n",
       "    </tr>\n",
       "    <tr>\n",
       "      <th>Kurt</th>\n",
       "      <td>1.73400</td>\n",
       "      <td>2.11600</td>\n",
       "    </tr>\n",
       "    <tr>\n",
       "      <th>Sharpe</th>\n",
       "      <td>1.91423</td>\n",
       "      <td>1.98079</td>\n",
       "    </tr>\n",
       "    <tr>\n",
       "      <th>Sortino</th>\n",
       "      <td>3.59039</td>\n",
       "      <td>3.73372</td>\n",
       "    </tr>\n",
       "    <tr>\n",
       "      <th>MinRet</th>\n",
       "      <td>-0.00750</td>\n",
       "      <td>-0.00800</td>\n",
       "    </tr>\n",
       "    <tr>\n",
       "      <th>WinP</th>\n",
       "      <td>0.54561</td>\n",
       "      <td>0.54794</td>\n",
       "    </tr>\n",
       "    <tr>\n",
       "      <th>DD%</th>\n",
       "      <td>-0.02689</td>\n",
       "      <td>-0.02852</td>\n",
       "    </tr>\n",
       "    <tr>\n",
       "      <th>DDDays</th>\n",
       "      <td>64.20000</td>\n",
       "      <td>85.90000</td>\n",
       "    </tr>\n",
       "    <tr>\n",
       "      <th>UnderwaterDays</th>\n",
       "      <td>94.50000</td>\n",
       "      <td>138.60000</td>\n",
       "    </tr>\n",
       "    <tr>\n",
       "      <th>Underwater%</th>\n",
       "      <td>-0.02014</td>\n",
       "      <td>-0.02207</td>\n",
       "    </tr>\n",
       "    <tr>\n",
       "      <th>TimeAtHighs</th>\n",
       "      <td>0.17500</td>\n",
       "      <td>0.17970</td>\n",
       "    </tr>\n",
       "    <tr>\n",
       "      <th>VaR_5perc</th>\n",
       "      <td>-0.00301</td>\n",
       "      <td>-0.00288</td>\n",
       "    </tr>\n",
       "    <tr>\n",
       "      <th>CVaR_5perc</th>\n",
       "      <td>-0.00400</td>\n",
       "      <td>-0.00391</td>\n",
       "    </tr>\n",
       "    <tr>\n",
       "      <th>LPM_2</th>\n",
       "      <td>0.00160</td>\n",
       "      <td>0.00155</td>\n",
       "    </tr>\n",
       "  </tbody>\n",
       "</table>\n",
       "</div>"
      ],
      "text/plain": [
       "                MinSharpe     Sharpe\n",
       "Total             0.49451    0.50380\n",
       "Mean              0.00023    0.00026\n",
       "Std               0.00203    0.00201\n",
       "Skew              0.29807    0.33531\n",
       "Kurt              1.73400    2.11600\n",
       "Sharpe            1.91423    1.98079\n",
       "Sortino           3.59039    3.73372\n",
       "MinRet           -0.00750   -0.00800\n",
       "WinP              0.54561    0.54794\n",
       "DD%              -0.02689   -0.02852\n",
       "DDDays           64.20000   85.90000\n",
       "UnderwaterDays   94.50000  138.60000\n",
       "Underwater%      -0.02014   -0.02207\n",
       "TimeAtHighs       0.17500    0.17970\n",
       "VaR_5perc        -0.00301   -0.00288\n",
       "CVaR_5perc       -0.00400   -0.00391\n",
       "LPM_2             0.00160    0.00155"
      ]
     },
     "execution_count": 28,
     "metadata": {},
     "output_type": "execute_result"
    }
   ],
   "source": [
    "df = pd.DataFrame()\n",
    "df['MinSharpe'] = get_stats(combG.best_results_returns.dropna()).mean(axis=1)\n",
    "df['Sharpe'] = get_stats(combG1.best_results_returns.dropna()).mean(axis=1)\n",
    "df"
   ]
  },
  {
   "cell_type": "code",
   "execution_count": null,
   "metadata": {
    "collapsed": true
   },
   "outputs": [],
   "source": []
  },
  {
   "cell_type": "code",
   "execution_count": null,
   "metadata": {
    "collapsed": true
   },
   "outputs": [],
   "source": []
  },
  {
   "cell_type": "code",
   "execution_count": null,
   "metadata": {
    "collapsed": true
   },
   "outputs": [],
   "source": []
  },
  {
   "cell_type": "code",
   "execution_count": null,
   "metadata": {
    "collapsed": true
   },
   "outputs": [],
   "source": []
  },
  {
   "cell_type": "code",
   "execution_count": null,
   "metadata": {
    "collapsed": true
   },
   "outputs": [],
   "source": []
  },
  {
   "cell_type": "code",
   "execution_count": 29,
   "metadata": {
    "collapsed": true
   },
   "outputs": [],
   "source": [
    "# Compare\n",
    "drop_params = [('data_rank_flag', True)]\n",
    "runA = RunManager('StatArbStrategy', 'run_0124', drop_params=drop_params)\n",
    "\n",
    "runB = RunManager('StatArbStrategy', 'run_0130')"
   ]
  },
  {
   "cell_type": "code",
   "execution_count": 31,
   "metadata": {},
   "outputs": [
    {
     "name": "stdout",
     "output_type": "stream",
     "text": [
      "Reading and aggregating runs...\n"
     ]
    },
    {
     "name": "stderr",
     "output_type": "stream",
     "text": [
      "\r",
      "  0%|          | 0/2 [00:00<?, ?it/s]"
     ]
    },
    {
     "name": "stdout",
     "output_type": "stream",
     "text": [
      "Finished aggregating runs...\n"
     ]
    },
    {
     "name": "stderr",
     "output_type": "stream",
     "text": [
      "100%|██████████| 2/2 [01:07<00:00, 33.42s/it]\n"
     ]
    }
   ],
   "source": [
    "combA = CombinationSearch()\n",
    "combA.set_selection_criteria('min_mean_sharpe')\n",
    "combA.params['training_epochs'] = 2\n",
    "combA.params['training_periods'] = 12\n",
    "combA.strats_per_port = 10\n",
    "combA.add_run(runA)\n",
    "combA.start()"
   ]
  },
  {
   "cell_type": "code",
   "execution_count": 30,
   "metadata": {},
   "outputs": [
    {
     "name": "stdout",
     "output_type": "stream",
     "text": [
      "Reading and aggregating runs...\n"
     ]
    },
    {
     "name": "stderr",
     "output_type": "stream",
     "text": [
      "\r",
      "  0%|          | 0/2 [00:00<?, ?it/s]"
     ]
    },
    {
     "name": "stdout",
     "output_type": "stream",
     "text": [
      "Finished aggregating runs...\n"
     ]
    },
    {
     "name": "stderr",
     "output_type": "stream",
     "text": [
      "100%|██████████| 2/2 [00:49<00:00, 24.69s/it]\n"
     ]
    }
   ],
   "source": [
    "combB = CombinationSearch()\n",
    "combB.set_selection_criteria('min_sharpe')\n",
    "combB.params['training_epochs'] = 2\n",
    "combB.params['training_periods'] = 12\n",
    "combB.strats_per_port = 10\n",
    "combB.add_run(runB)\n",
    "combB.start()"
   ]
  },
  {
   "cell_type": "code",
   "execution_count": 39,
   "metadata": {},
   "outputs": [
    {
     "data": {
      "text/html": [
       "<div>\n",
       "<style scoped>\n",
       "    .dataframe tbody tr th:only-of-type {\n",
       "        vertical-align: middle;\n",
       "    }\n",
       "\n",
       "    .dataframe tbody tr th {\n",
       "        vertical-align: top;\n",
       "    }\n",
       "\n",
       "    .dataframe thead th {\n",
       "        text-align: right;\n",
       "    }\n",
       "</style>\n",
       "<table border=\"1\" class=\"dataframe\">\n",
       "  <thead>\n",
       "    <tr style=\"text-align: right;\">\n",
       "      <th></th>\n",
       "      <th>NonRank</th>\n",
       "      <th>MomRev</th>\n",
       "      <th>MomRevScaled</th>\n",
       "    </tr>\n",
       "  </thead>\n",
       "  <tbody>\n",
       "    <tr>\n",
       "      <th>Total</th>\n",
       "      <td>0.89379</td>\n",
       "      <td>0.50380</td>\n",
       "      <td>0.88165</td>\n",
       "    </tr>\n",
       "    <tr>\n",
       "      <th>Mean</th>\n",
       "      <td>0.00043</td>\n",
       "      <td>0.00026</td>\n",
       "      <td>0.00043</td>\n",
       "    </tr>\n",
       "    <tr>\n",
       "      <th>Std</th>\n",
       "      <td>0.00402</td>\n",
       "      <td>0.00201</td>\n",
       "      <td>0.00351</td>\n",
       "    </tr>\n",
       "    <tr>\n",
       "      <th>Skew</th>\n",
       "      <td>0.18039</td>\n",
       "      <td>0.33531</td>\n",
       "      <td>0.33531</td>\n",
       "    </tr>\n",
       "    <tr>\n",
       "      <th>Kurt</th>\n",
       "      <td>2.24800</td>\n",
       "      <td>2.11600</td>\n",
       "      <td>2.11600</td>\n",
       "    </tr>\n",
       "    <tr>\n",
       "      <th>Sharpe</th>\n",
       "      <td>1.74861</td>\n",
       "      <td>1.98079</td>\n",
       "      <td>1.98079</td>\n",
       "    </tr>\n",
       "    <tr>\n",
       "      <th>Sortino</th>\n",
       "      <td>3.16246</td>\n",
       "      <td>3.73372</td>\n",
       "      <td>3.73372</td>\n",
       "    </tr>\n",
       "    <tr>\n",
       "      <th>MinRet</th>\n",
       "      <td>-0.01981</td>\n",
       "      <td>-0.00800</td>\n",
       "      <td>-0.01402</td>\n",
       "    </tr>\n",
       "    <tr>\n",
       "      <th>WinP</th>\n",
       "      <td>0.55280</td>\n",
       "      <td>0.54794</td>\n",
       "      <td>0.54794</td>\n",
       "    </tr>\n",
       "    <tr>\n",
       "      <th>DD%</th>\n",
       "      <td>-0.06857</td>\n",
       "      <td>-0.02852</td>\n",
       "      <td>-0.04994</td>\n",
       "    </tr>\n",
       "    <tr>\n",
       "      <th>DDDays</th>\n",
       "      <td>172.30000</td>\n",
       "      <td>85.90000</td>\n",
       "      <td>85.90000</td>\n",
       "    </tr>\n",
       "    <tr>\n",
       "      <th>UnderwaterDays</th>\n",
       "      <td>182.40000</td>\n",
       "      <td>138.60000</td>\n",
       "      <td>138.60000</td>\n",
       "    </tr>\n",
       "    <tr>\n",
       "      <th>Underwater%</th>\n",
       "      <td>-0.06725</td>\n",
       "      <td>-0.02207</td>\n",
       "      <td>-0.03865</td>\n",
       "    </tr>\n",
       "    <tr>\n",
       "      <th>TimeAtHighs</th>\n",
       "      <td>0.17850</td>\n",
       "      <td>0.17970</td>\n",
       "      <td>0.17970</td>\n",
       "    </tr>\n",
       "    <tr>\n",
       "      <th>VaR_5perc</th>\n",
       "      <td>-0.00588</td>\n",
       "      <td>-0.00288</td>\n",
       "      <td>-0.00505</td>\n",
       "    </tr>\n",
       "    <tr>\n",
       "      <th>CVaR_5perc</th>\n",
       "      <td>-0.00837</td>\n",
       "      <td>-0.00391</td>\n",
       "      <td>-0.00686</td>\n",
       "    </tr>\n",
       "    <tr>\n",
       "      <th>LPM_2</th>\n",
       "      <td>0.00655</td>\n",
       "      <td>0.00155</td>\n",
       "      <td>0.00473</td>\n",
       "    </tr>\n",
       "  </tbody>\n",
       "</table>\n",
       "</div>"
      ],
      "text/plain": [
       "                  NonRank     MomRev  MomRevScaled\n",
       "Total             0.89379    0.50380       0.88165\n",
       "Mean              0.00043    0.00026       0.00043\n",
       "Std               0.00402    0.00201       0.00351\n",
       "Skew              0.18039    0.33531       0.33531\n",
       "Kurt              2.24800    2.11600       2.11600\n",
       "Sharpe            1.74861    1.98079       1.98079\n",
       "Sortino           3.16246    3.73372       3.73372\n",
       "MinRet           -0.01981   -0.00800      -0.01402\n",
       "WinP              0.55280    0.54794       0.54794\n",
       "DD%              -0.06857   -0.02852      -0.04994\n",
       "DDDays          172.30000   85.90000      85.90000\n",
       "UnderwaterDays  182.40000  138.60000     138.60000\n",
       "Underwater%      -0.06725   -0.02207      -0.03865\n",
       "TimeAtHighs       0.17850    0.17970       0.17970\n",
       "VaR_5perc        -0.00588   -0.00288      -0.00505\n",
       "CVaR_5perc       -0.00837   -0.00391      -0.00686\n",
       "LPM_2             0.00655    0.00155       0.00473"
      ]
     },
     "execution_count": 39,
     "metadata": {},
     "output_type": "execute_result"
    }
   ],
   "source": [
    "df = pd.DataFrame()\n",
    "df['NonRank'] = get_stats(combA.best_results_returns.dropna()).mean(axis=1)\n",
    "df['MomRev'] = get_stats(combB.best_results_returns.dropna()).mean(axis=1)\n",
    "df['MomRevScaled'] = get_stats(combB.best_results_returns.dropna() * 1.75).mean(axis=1)\n",
    "df"
   ]
  },
  {
   "cell_type": "code",
   "execution_count": 42,
   "metadata": {},
   "outputs": [
    {
     "data": {
      "image/png": "[encoded data removed]",
      "text/plain": [
       "<matplotlib.figure.Figure at 0x7f79ccf24550>"
      ]
     },
     "metadata": {},
     "output_type": "display_data"
    }
   ],
   "source": [
    "t = dt.date(2013, 1, 1)\n",
    "plt.figure()\n",
    "plt.plot(combA.best_results_returns.dropna().loc[t:].cumsum(), 'b')\n",
    "plt.plot(combB.best_results_returns.dropna().loc[t:].cumsum(), 'r')\n",
    "plt.plot(combB.best_results_returns.dropna().loc[t:].cumsum() * 1.75 , 'c')\n",
    "plt.title('Blue: Baseline; Red: MomRev; Cyan: MomRevScaled')\n",
    "plt.show()"
   ]
  },
  {
   "cell_type": "code",
   "execution_count": 34,
   "metadata": {},
   "outputs": [
    {
     "data": {
      "text/html": [
       "<div>\n",
       "<style scoped>\n",
       "    .dataframe tbody tr th:only-of-type {\n",
       "        vertical-align: middle;\n",
       "    }\n",
       "\n",
       "    .dataframe tbody tr th {\n",
       "        vertical-align: top;\n",
       "    }\n",
       "\n",
       "    .dataframe thead th {\n",
       "        text-align: right;\n",
       "    }\n",
       "</style>\n",
       "<table border=\"1\" class=\"dataframe\">\n",
       "  <thead>\n",
       "    <tr style=\"text-align: right;\">\n",
       "      <th>Qtr</th>\n",
       "      <th>1</th>\n",
       "      <th>2</th>\n",
       "      <th>3</th>\n",
       "      <th>4</th>\n",
       "      <th>yr</th>\n",
       "    </tr>\n",
       "    <tr>\n",
       "      <th>Year</th>\n",
       "      <th></th>\n",
       "      <th></th>\n",
       "      <th></th>\n",
       "      <th></th>\n",
       "      <th></th>\n",
       "    </tr>\n",
       "  </thead>\n",
       "  <tbody>\n",
       "    <tr>\n",
       "      <th>2010</th>\n",
       "      <td>0.065519</td>\n",
       "      <td>-0.014103</td>\n",
       "      <td>0.078825</td>\n",
       "      <td>-0.009184</td>\n",
       "      <td>0.121057</td>\n",
       "    </tr>\n",
       "    <tr>\n",
       "      <th>2011</th>\n",
       "      <td>0.032773</td>\n",
       "      <td>0.035714</td>\n",
       "      <td>-0.022720</td>\n",
       "      <td>0.114347</td>\n",
       "      <td>0.160113</td>\n",
       "    </tr>\n",
       "    <tr>\n",
       "      <th>2012</th>\n",
       "      <td>0.025978</td>\n",
       "      <td>0.000721</td>\n",
       "      <td>0.043018</td>\n",
       "      <td>0.061127</td>\n",
       "      <td>0.130843</td>\n",
       "    </tr>\n",
       "    <tr>\n",
       "      <th>2013</th>\n",
       "      <td>-0.005676</td>\n",
       "      <td>0.033560</td>\n",
       "      <td>0.035053</td>\n",
       "      <td>0.023757</td>\n",
       "      <td>0.086695</td>\n",
       "    </tr>\n",
       "    <tr>\n",
       "      <th>2014</th>\n",
       "      <td>0.018000</td>\n",
       "      <td>0.034877</td>\n",
       "      <td>0.014215</td>\n",
       "      <td>-0.003752</td>\n",
       "      <td>0.063340</td>\n",
       "    </tr>\n",
       "    <tr>\n",
       "      <th>2015</th>\n",
       "      <td>0.012327</td>\n",
       "      <td>0.038441</td>\n",
       "      <td>-0.046300</td>\n",
       "      <td>0.055554</td>\n",
       "      <td>0.060022</td>\n",
       "    </tr>\n",
       "    <tr>\n",
       "      <th>2016</th>\n",
       "      <td>0.070806</td>\n",
       "      <td>0.026866</td>\n",
       "      <td>-0.006738</td>\n",
       "      <td>0.056707</td>\n",
       "      <td>0.147640</td>\n",
       "    </tr>\n",
       "    <tr>\n",
       "      <th>2017</th>\n",
       "      <td>0.020483</td>\n",
       "      <td>0.051331</td>\n",
       "      <td>0.020001</td>\n",
       "      <td>0.025730</td>\n",
       "      <td>0.117546</td>\n",
       "    </tr>\n",
       "  </tbody>\n",
       "</table>\n",
       "</div>"
      ],
      "text/plain": [
       "Qtr          1         2         3         4        yr\n",
       "Year                                                  \n",
       "2010  0.065519 -0.014103  0.078825 -0.009184  0.121057\n",
       "2011  0.032773  0.035714 -0.022720  0.114347  0.160113\n",
       "2012  0.025978  0.000721  0.043018  0.061127  0.130843\n",
       "2013 -0.005676  0.033560  0.035053  0.023757  0.086695\n",
       "2014  0.018000  0.034877  0.014215 -0.003752  0.063340\n",
       "2015  0.012327  0.038441 -0.046300  0.055554  0.060022\n",
       "2016  0.070806  0.026866 -0.006738  0.056707  0.147640\n",
       "2017  0.020483  0.051331  0.020001  0.025730  0.117546"
      ]
     },
     "execution_count": 34,
     "metadata": {},
     "output_type": "execute_result"
    }
   ],
   "source": [
    "dfA = rollup_returns(combA.best_results_returns.dropna())\n",
    "dfA['yr'] = dfA.sum(axis=1)\n",
    "dfA"
   ]
  },
  {
   "cell_type": "code",
   "execution_count": 35,
   "metadata": {},
   "outputs": [
    {
     "data": {
      "text/html": [
       "<div>\n",
       "<style scoped>\n",
       "    .dataframe tbody tr th:only-of-type {\n",
       "        vertical-align: middle;\n",
       "    }\n",
       "\n",
       "    .dataframe tbody tr th {\n",
       "        vertical-align: top;\n",
       "    }\n",
       "\n",
       "    .dataframe thead th {\n",
       "        text-align: right;\n",
       "    }\n",
       "</style>\n",
       "<table border=\"1\" class=\"dataframe\">\n",
       "  <thead>\n",
       "    <tr style=\"text-align: right;\">\n",
       "      <th>Qtr</th>\n",
       "      <th>1</th>\n",
       "      <th>2</th>\n",
       "      <th>3</th>\n",
       "      <th>4</th>\n",
       "      <th>yr</th>\n",
       "    </tr>\n",
       "    <tr>\n",
       "      <th>Year</th>\n",
       "      <th></th>\n",
       "      <th></th>\n",
       "      <th></th>\n",
       "      <th></th>\n",
       "      <th></th>\n",
       "    </tr>\n",
       "  </thead>\n",
       "  <tbody>\n",
       "    <tr>\n",
       "      <th>2010</th>\n",
       "      <td>0.037396</td>\n",
       "      <td>-0.009234</td>\n",
       "      <td>0.050271</td>\n",
       "      <td>0.009271</td>\n",
       "      <td>0.087704</td>\n",
       "    </tr>\n",
       "    <tr>\n",
       "      <th>2011</th>\n",
       "      <td>0.017953</td>\n",
       "      <td>0.031935</td>\n",
       "      <td>-0.002425</td>\n",
       "      <td>0.004898</td>\n",
       "      <td>0.052361</td>\n",
       "    </tr>\n",
       "    <tr>\n",
       "      <th>2012</th>\n",
       "      <td>0.009054</td>\n",
       "      <td>0.009311</td>\n",
       "      <td>0.022980</td>\n",
       "      <td>0.022280</td>\n",
       "      <td>0.063625</td>\n",
       "    </tr>\n",
       "    <tr>\n",
       "      <th>2013</th>\n",
       "      <td>0.010098</td>\n",
       "      <td>0.010656</td>\n",
       "      <td>0.016042</td>\n",
       "      <td>0.019767</td>\n",
       "      <td>0.056564</td>\n",
       "    </tr>\n",
       "    <tr>\n",
       "      <th>2014</th>\n",
       "      <td>0.018607</td>\n",
       "      <td>0.025205</td>\n",
       "      <td>0.031674</td>\n",
       "      <td>0.013301</td>\n",
       "      <td>0.088788</td>\n",
       "    </tr>\n",
       "    <tr>\n",
       "      <th>2015</th>\n",
       "      <td>0.008892</td>\n",
       "      <td>0.012105</td>\n",
       "      <td>0.009914</td>\n",
       "      <td>0.022891</td>\n",
       "      <td>0.053802</td>\n",
       "    </tr>\n",
       "    <tr>\n",
       "      <th>2016</th>\n",
       "      <td>0.010245</td>\n",
       "      <td>0.024634</td>\n",
       "      <td>-0.009293</td>\n",
       "      <td>0.016766</td>\n",
       "      <td>0.042351</td>\n",
       "    </tr>\n",
       "    <tr>\n",
       "      <th>2017</th>\n",
       "      <td>0.013361</td>\n",
       "      <td>0.008144</td>\n",
       "      <td>0.036102</td>\n",
       "      <td>0.017304</td>\n",
       "      <td>0.074911</td>\n",
       "    </tr>\n",
       "  </tbody>\n",
       "</table>\n",
       "</div>"
      ],
      "text/plain": [
       "Qtr          1         2         3         4        yr\n",
       "Year                                                  \n",
       "2010  0.037396 -0.009234  0.050271  0.009271  0.087704\n",
       "2011  0.017953  0.031935 -0.002425  0.004898  0.052361\n",
       "2012  0.009054  0.009311  0.022980  0.022280  0.063625\n",
       "2013  0.010098  0.010656  0.016042  0.019767  0.056564\n",
       "2014  0.018607  0.025205  0.031674  0.013301  0.088788\n",
       "2015  0.008892  0.012105  0.009914  0.022891  0.053802\n",
       "2016  0.010245  0.024634 -0.009293  0.016766  0.042351\n",
       "2017  0.013361  0.008144  0.036102  0.017304  0.074911"
      ]
     },
     "execution_count": 35,
     "metadata": {},
     "output_type": "execute_result"
    }
   ],
   "source": [
    "dfB = rollup_returns(combB.best_results_returns.dropna())\n",
    "dfB['yr'] = dfB.sum(axis=1)\n",
    "dfB"
   ]
  },
  {
   "cell_type": "markdown",
   "metadata": {},
   "source": [
    "# Sector 45"
   ]
  },
  {
   "cell_type": "code",
   "execution_count": 3,
   "metadata": {
    "collapsed": true
   },
   "outputs": [],
   "source": [
    "# Compare\n",
    "runC = RunManager('StatArbStrategy', 'run_0133')"
   ]
  },
  {
   "cell_type": "code",
   "execution_count": 4,
   "metadata": {},
   "outputs": [
    {
     "name": "stdout",
     "output_type": "stream",
     "text": [
      "Reading and aggregating runs...\n"
     ]
    },
    {
     "name": "stderr",
     "output_type": "stream",
     "text": [
      "\r",
      "  0%|          | 0/1 [00:00<?, ?it/s]"
     ]
    },
    {
     "name": "stdout",
     "output_type": "stream",
     "text": [
      "Finished aggregating runs...\n"
     ]
    },
    {
     "name": "stderr",
     "output_type": "stream",
     "text": [
      "100%|██████████| 1/1 [00:10<00:00, 10.17s/it]\n",
      "  0%|          | 0/1 [00:00<?, ?it/s]"
     ]
    },
    {
     "name": "stdout",
     "output_type": "stream",
     "text": [
      "Mean: 0.177342522049, Sharpe: 0.0782023144976, P: 6, S: 5, C: min_sharpe\n",
      "Reading and aggregating runs...\n",
      "Finished aggregating runs...\n"
     ]
    },
    {
     "name": "stderr",
     "output_type": "stream",
     "text": [
      "100%|██████████| 1/1 [00:13<00:00, 13.91s/it]\n",
      "  0%|          | 0/1 [00:00<?, ?it/s]"
     ]
    },
    {
     "name": "stdout",
     "output_type": "stream",
     "text": [
      "Mean: 0.182532551272, Sharpe: 0.0711034362877, P: 6, S: 5, C: min_mean_sharpe\n",
      "Reading and aggregating runs...\n",
      "Finished aggregating runs...\n"
     ]
    },
    {
     "name": "stderr",
     "output_type": "stream",
     "text": [
      "100%|██████████| 1/1 [00:20<00:00, 20.08s/it]\n",
      "  0%|          | 0/1 [00:00<?, ?it/s]"
     ]
    },
    {
     "name": "stdout",
     "output_type": "stream",
     "text": [
      "Mean: 0.179235624534, Sharpe: 0.0739783274511, P: 6, S: 5, C: min_mean_sharpe_dd\n",
      "Reading and aggregating runs...\n",
      "Finished aggregating runs...\n"
     ]
    },
    {
     "name": "stderr",
     "output_type": "stream",
     "text": [
      "100%|██████████| 1/1 [00:09<00:00,  9.73s/it]\n",
      "  0%|          | 0/1 [00:00<?, ?it/s]"
     ]
    },
    {
     "name": "stdout",
     "output_type": "stream",
     "text": [
      "Mean: 0.186897123588, Sharpe: 0.0721004835173, P: 6, S: 5, C: mean_min\n",
      "Reading and aggregating runs...\n",
      "Finished aggregating runs...\n"
     ]
    },
    {
     "name": "stderr",
     "output_type": "stream",
     "text": [
      "100%|██████████| 1/1 [00:06<00:00,  6.37s/it]\n",
      "  0%|          | 0/1 [00:00<?, ?it/s]"
     ]
    },
    {
     "name": "stdout",
     "output_type": "stream",
     "text": [
      "Mean: 0.198931321708, Sharpe: 0.0759413263878, P: 6, S: 5, C: sharpe\n",
      "Reading and aggregating runs...\n",
      "Finished aggregating runs...\n"
     ]
    },
    {
     "name": "stderr",
     "output_type": "stream",
     "text": [
      "100%|██████████| 1/1 [00:12<00:00, 12.04s/it]\n",
      "  0%|          | 0/1 [00:00<?, ?it/s]"
     ]
    },
    {
     "name": "stdout",
     "output_type": "stream",
     "text": [
      "Mean: 0.153835381823, Sharpe: 0.0577035202738, P: 6, S: 5, C: mean_dd\n",
      "Reading and aggregating runs...\n",
      "Finished aggregating runs...\n"
     ]
    },
    {
     "name": "stderr",
     "output_type": "stream",
     "text": [
      "100%|██████████| 1/1 [00:12<00:00, 12.41s/it]\n",
      "  0%|          | 0/1 [00:00<?, ?it/s]"
     ]
    },
    {
     "name": "stdout",
     "output_type": "stream",
     "text": [
      "Mean: 0.170135935352, Sharpe: 0.0727262882754, P: 6, S: 5, C: sharpe_dd\n",
      "Reading and aggregating runs...\n",
      "Finished aggregating runs...\n"
     ]
    },
    {
     "name": "stderr",
     "output_type": "stream",
     "text": [
      "100%|██████████| 1/1 [00:14<00:00, 14.44s/it]\n",
      "  0%|          | 0/1 [00:00<?, ?it/s]"
     ]
    },
    {
     "name": "stdout",
     "output_type": "stream",
     "text": [
      "Mean: 0.194138502066, Sharpe: 0.088677082576, P: 6, S: 10, C: min_sharpe\n",
      "Reading and aggregating runs...\n",
      "Finished aggregating runs...\n"
     ]
    },
    {
     "name": "stderr",
     "output_type": "stream",
     "text": [
      "100%|██████████| 1/1 [00:19<00:00, 19.93s/it]\n",
      "  0%|          | 0/1 [00:00<?, ?it/s]"
     ]
    },
    {
     "name": "stdout",
     "output_type": "stream",
     "text": [
      "Mean: 0.1962455896, Sharpe: 0.0837522793415, P: 6, S: 10, C: min_mean_sharpe\n",
      "Reading and aggregating runs...\n",
      "Finished aggregating runs...\n"
     ]
    },
    {
     "name": "stderr",
     "output_type": "stream",
     "text": [
      "100%|██████████| 1/1 [00:25<00:00, 25.94s/it]\n",
      "  0%|          | 0/1 [00:00<?, ?it/s]"
     ]
    },
    {
     "name": "stdout",
     "output_type": "stream",
     "text": [
      "Mean: 0.17841936676, Sharpe: 0.0778520747172, P: 6, S: 10, C: min_mean_sharpe_dd\n",
      "Reading and aggregating runs...\n",
      "Finished aggregating runs...\n"
     ]
    },
    {
     "name": "stderr",
     "output_type": "stream",
     "text": [
      "100%|██████████| 1/1 [00:12<00:00, 12.98s/it]\n",
      "  0%|          | 0/1 [00:00<?, ?it/s]"
     ]
    },
    {
     "name": "stdout",
     "output_type": "stream",
     "text": [
      "Mean: 0.196408837647, Sharpe: 0.0826017200136, P: 6, S: 10, C: mean_min\n",
      "Reading and aggregating runs...\n",
      "Finished aggregating runs...\n"
     ]
    },
    {
     "name": "stderr",
     "output_type": "stream",
     "text": [
      "100%|██████████| 1/1 [00:08<00:00,  8.26s/it]\n",
      "  0%|          | 0/1 [00:00<?, ?it/s]"
     ]
    },
    {
     "name": "stdout",
     "output_type": "stream",
     "text": [
      "Mean: 0.178566159669, Sharpe: 0.0742291952688, P: 6, S: 10, C: sharpe\n",
      "Reading and aggregating runs...\n",
      "Finished aggregating runs...\n"
     ]
    },
    {
     "name": "stderr",
     "output_type": "stream",
     "text": [
      "100%|██████████| 1/1 [00:15<00:00, 15.28s/it]\n",
      "  0%|          | 0/1 [00:00<?, ?it/s]"
     ]
    },
    {
     "name": "stdout",
     "output_type": "stream",
     "text": [
      "Mean: 0.171882886087, Sharpe: 0.0709441931013, P: 6, S: 10, C: mean_dd\n",
      "Reading and aggregating runs...\n",
      "Finished aggregating runs...\n"
     ]
    },
    {
     "name": "stderr",
     "output_type": "stream",
     "text": [
      "100%|██████████| 1/1 [00:15<00:00, 15.16s/it]\n",
      "  0%|          | 0/1 [00:00<?, ?it/s]"
     ]
    },
    {
     "name": "stdout",
     "output_type": "stream",
     "text": [
      "Mean: 0.179382256015, Sharpe: 0.0804149445418, P: 6, S: 10, C: sharpe_dd\n",
      "Reading and aggregating runs...\n",
      "Finished aggregating runs...\n"
     ]
    },
    {
     "name": "stderr",
     "output_type": "stream",
     "text": [
      "100%|██████████| 1/1 [00:13<00:00, 13.21s/it]\n",
      "  0%|          | 0/1 [00:00<?, ?it/s]"
     ]
    },
    {
     "name": "stdout",
     "output_type": "stream",
     "text": [
      "Mean: 0.201267309405, Sharpe: 0.0919743743615, P: 6, S: 15, C: min_sharpe\n",
      "Reading and aggregating runs...\n",
      "Finished aggregating runs...\n"
     ]
    },
    {
     "name": "stderr",
     "output_type": "stream",
     "text": [
      "100%|██████████| 1/1 [00:17<00:00, 17.94s/it]\n",
      "  0%|          | 0/1 [00:00<?, ?it/s]"
     ]
    },
    {
     "name": "stdout",
     "output_type": "stream",
     "text": [
      "Mean: 0.191911531692, Sharpe: 0.0836897727543, P: 6, S: 15, C: min_mean_sharpe\n",
      "Reading and aggregating runs...\n",
      "Finished aggregating runs...\n"
     ]
    },
    {
     "name": "stderr",
     "output_type": "stream",
     "text": [
      "100%|██████████| 1/1 [00:23<00:00, 23.15s/it]\n",
      "  0%|          | 0/1 [00:00<?, ?it/s]"
     ]
    },
    {
     "name": "stdout",
     "output_type": "stream",
     "text": [
      "Mean: 0.195798743859, Sharpe: 0.0880847548535, P: 6, S: 15, C: min_mean_sharpe_dd\n",
      "Reading and aggregating runs...\n",
      "Finished aggregating runs...\n"
     ]
    },
    {
     "name": "stderr",
     "output_type": "stream",
     "text": [
      "100%|██████████| 1/1 [00:12<00:00, 12.70s/it]\n",
      "  0%|          | 0/1 [00:00<?, ?it/s]"
     ]
    },
    {
     "name": "stdout",
     "output_type": "stream",
     "text": [
      "Mean: 0.19582761335, Sharpe: 0.084202820934, P: 6, S: 15, C: mean_min\n",
      "Reading and aggregating runs...\n",
      "Finished aggregating runs...\n"
     ]
    },
    {
     "name": "stderr",
     "output_type": "stream",
     "text": [
      "100%|██████████| 1/1 [00:08<00:00,  8.30s/it]\n",
      "  0%|          | 0/1 [00:00<?, ?it/s]"
     ]
    },
    {
     "name": "stdout",
     "output_type": "stream",
     "text": [
      "Mean: 0.184142766527, Sharpe: 0.0803590471579, P: 6, S: 15, C: sharpe\n",
      "Reading and aggregating runs...\n",
      "Finished aggregating runs...\n"
     ]
    },
    {
     "name": "stderr",
     "output_type": "stream",
     "text": [
      "100%|██████████| 1/1 [00:13<00:00, 13.20s/it]\n",
      "  0%|          | 0/1 [00:00<?, ?it/s]"
     ]
    },
    {
     "name": "stdout",
     "output_type": "stream",
     "text": [
      "Mean: 0.184141915788, Sharpe: 0.0783143291722, P: 6, S: 15, C: mean_dd\n",
      "Reading and aggregating runs...\n",
      "Finished aggregating runs...\n"
     ]
    },
    {
     "name": "stderr",
     "output_type": "stream",
     "text": [
      "100%|██████████| 1/1 [00:13<00:00, 13.51s/it]\n",
      "  0%|          | 0/1 [00:00<?, ?it/s]"
     ]
    },
    {
     "name": "stdout",
     "output_type": "stream",
     "text": [
      "Mean: 0.192485505117, Sharpe: 0.0868982526872, P: 6, S: 15, C: sharpe_dd\n",
      "Reading and aggregating runs...\n",
      "Finished aggregating runs...\n"
     ]
    },
    {
     "name": "stderr",
     "output_type": "stream",
     "text": [
      "100%|██████████| 1/1 [00:15<00:00, 15.73s/it]\n",
      "  0%|          | 0/1 [00:00<?, ?it/s]"
     ]
    },
    {
     "name": "stdout",
     "output_type": "stream",
     "text": [
      "Mean: 0.201024668367, Sharpe: 0.0932993232966, P: 12, S: 5, C: min_sharpe\n",
      "Reading and aggregating runs...\n",
      "Finished aggregating runs...\n"
     ]
    },
    {
     "name": "stderr",
     "output_type": "stream",
     "text": [
      "100%|██████████| 1/1 [00:22<00:00, 22.02s/it]\n",
      "  0%|          | 0/1 [00:00<?, ?it/s]"
     ]
    },
    {
     "name": "stdout",
     "output_type": "stream",
     "text": [
      "Mean: 0.228474151976, Sharpe: 0.0922484435731, P: 12, S: 5, C: min_mean_sharpe\n",
      "Reading and aggregating runs...\n",
      "Finished aggregating runs...\n"
     ]
    },
    {
     "name": "stderr",
     "output_type": "stream",
     "text": [
      "100%|██████████| 1/1 [00:33<00:00, 33.07s/it]\n",
      "  0%|          | 0/1 [00:00<?, ?it/s]"
     ]
    },
    {
     "name": "stdout",
     "output_type": "stream",
     "text": [
      "Mean: 0.216065184248, Sharpe: 0.0915867795673, P: 12, S: 5, C: min_mean_sharpe_dd\n",
      "Reading and aggregating runs...\n",
      "Finished aggregating runs...\n"
     ]
    },
    {
     "name": "stderr",
     "output_type": "stream",
     "text": [
      "100%|██████████| 1/1 [00:14<00:00, 14.67s/it]\n",
      "  0%|          | 0/1 [00:00<?, ?it/s]"
     ]
    },
    {
     "name": "stdout",
     "output_type": "stream",
     "text": [
      "Mean: 0.232902685264, Sharpe: 0.092331235106, P: 12, S: 5, C: mean_min\n",
      "Reading and aggregating runs...\n",
      "Finished aggregating runs...\n"
     ]
    },
    {
     "name": "stderr",
     "output_type": "stream",
     "text": [
      "100%|██████████| 1/1 [00:09<00:00,  9.39s/it]\n",
      "  0%|          | 0/1 [00:00<?, ?it/s]"
     ]
    },
    {
     "name": "stdout",
     "output_type": "stream",
     "text": [
      "Mean: 0.219377022959, Sharpe: 0.0924777465078, P: 12, S: 5, C: sharpe\n",
      "Reading and aggregating runs...\n",
      "Finished aggregating runs...\n"
     ]
    },
    {
     "name": "stderr",
     "output_type": "stream",
     "text": [
      "100%|██████████| 1/1 [00:19<00:00, 19.24s/it]\n",
      "  0%|          | 0/1 [00:00<?, ?it/s]"
     ]
    },
    {
     "name": "stdout",
     "output_type": "stream",
     "text": [
      "Mean: 0.220834068675, Sharpe: 0.0862814391998, P: 12, S: 5, C: mean_dd\n",
      "Reading and aggregating runs...\n",
      "Finished aggregating runs...\n"
     ]
    },
    {
     "name": "stderr",
     "output_type": "stream",
     "text": [
      "100%|██████████| 1/1 [00:20<00:00, 20.42s/it]\n",
      "  0%|          | 0/1 [00:00<?, ?it/s]"
     ]
    },
    {
     "name": "stdout",
     "output_type": "stream",
     "text": [
      "Mean: 0.201496431575, Sharpe: 0.091543190452, P: 12, S: 5, C: sharpe_dd\n",
      "Reading and aggregating runs...\n",
      "Finished aggregating runs...\n"
     ]
    },
    {
     "name": "stderr",
     "output_type": "stream",
     "text": [
      "100%|██████████| 1/1 [00:21<00:00, 21.52s/it]\n",
      "  0%|          | 0/1 [00:00<?, ?it/s]"
     ]
    },
    {
     "name": "stdout",
     "output_type": "stream",
     "text": [
      "Mean: 0.2166562044, Sharpe: 0.102925767189, P: 12, S: 10, C: min_sharpe\n",
      "Reading and aggregating runs...\n",
      "Finished aggregating runs...\n"
     ]
    },
    {
     "name": "stderr",
     "output_type": "stream",
     "text": [
      "100%|██████████| 1/1 [00:30<00:00, 30.01s/it]\n",
      "  0%|          | 0/1 [00:00<?, ?it/s]"
     ]
    },
    {
     "name": "stdout",
     "output_type": "stream",
     "text": [
      "Mean: 0.217372302384, Sharpe: 0.093950301971, P: 12, S: 10, C: min_mean_sharpe\n",
      "Reading and aggregating runs...\n",
      "Finished aggregating runs...\n"
     ]
    },
    {
     "name": "stderr",
     "output_type": "stream",
     "text": [
      "100%|██████████| 1/1 [00:42<00:00, 42.70s/it]\n",
      "  0%|          | 0/1 [00:00<?, ?it/s]"
     ]
    },
    {
     "name": "stdout",
     "output_type": "stream",
     "text": [
      "Mean: 0.212143550832, Sharpe: 0.0943562607243, P: 12, S: 10, C: min_mean_sharpe_dd\n",
      "Reading and aggregating runs...\n",
      "Finished aggregating runs...\n"
     ]
    },
    {
     "name": "stderr",
     "output_type": "stream",
     "text": [
      "100%|██████████| 1/1 [00:20<00:00, 20.25s/it]\n",
      "  0%|          | 0/1 [00:00<?, ?it/s]"
     ]
    },
    {
     "name": "stdout",
     "output_type": "stream",
     "text": [
      "Mean: 0.223465915602, Sharpe: 0.0941521340414, P: 12, S: 10, C: mean_min\n",
      "Reading and aggregating runs...\n",
      "Finished aggregating runs...\n"
     ]
    },
    {
     "name": "stderr",
     "output_type": "stream",
     "text": [
      "100%|██████████| 1/1 [00:12<00:00, 12.04s/it]\n",
      "  0%|          | 0/1 [00:00<?, ?it/s]"
     ]
    },
    {
     "name": "stdout",
     "output_type": "stream",
     "text": [
      "Mean: 0.213592909537, Sharpe: 0.0954649525408, P: 12, S: 10, C: sharpe\n",
      "Reading and aggregating runs...\n",
      "Finished aggregating runs...\n"
     ]
    },
    {
     "name": "stderr",
     "output_type": "stream",
     "text": [
      "100%|██████████| 1/1 [00:24<00:00, 24.01s/it]\n",
      "  0%|          | 0/1 [00:00<?, ?it/s]"
     ]
    },
    {
     "name": "stdout",
     "output_type": "stream",
     "text": [
      "Mean: 0.209706379929, Sharpe: 0.0895568006017, P: 12, S: 10, C: mean_dd\n",
      "Reading and aggregating runs...\n",
      "Finished aggregating runs...\n"
     ]
    },
    {
     "name": "stderr",
     "output_type": "stream",
     "text": [
      "100%|██████████| 1/1 [00:24<00:00, 24.49s/it]\n",
      "  0%|          | 0/1 [00:00<?, ?it/s]"
     ]
    },
    {
     "name": "stdout",
     "output_type": "stream",
     "text": [
      "Mean: 0.195471028141, Sharpe: 0.0918732634207, P: 12, S: 10, C: sharpe_dd\n",
      "Reading and aggregating runs...\n",
      "Finished aggregating runs...\n"
     ]
    },
    {
     "name": "stderr",
     "output_type": "stream",
     "text": [
      "100%|██████████| 1/1 [00:20<00:00, 20.01s/it]\n",
      "  0%|          | 0/1 [00:00<?, ?it/s]"
     ]
    },
    {
     "name": "stdout",
     "output_type": "stream",
     "text": [
      "Mean: 0.203770299463, Sharpe: 0.0966468877805, P: 12, S: 15, C: min_sharpe\n",
      "Reading and aggregating runs...\n",
      "Finished aggregating runs...\n"
     ]
    },
    {
     "name": "stderr",
     "output_type": "stream",
     "text": [
      "100%|██████████| 1/1 [00:28<00:00, 28.46s/it]\n",
      "  0%|          | 0/1 [00:00<?, ?it/s]"
     ]
    },
    {
     "name": "stdout",
     "output_type": "stream",
     "text": [
      "Mean: 0.213168384308, Sharpe: 0.0945424673539, P: 12, S: 15, C: min_mean_sharpe\n",
      "Reading and aggregating runs...\n",
      "Finished aggregating runs...\n"
     ]
    },
    {
     "name": "stderr",
     "output_type": "stream",
     "text": [
      "100%|██████████| 1/1 [00:38<00:00, 38.85s/it]\n",
      "  0%|          | 0/1 [00:00<?, ?it/s]"
     ]
    },
    {
     "name": "stdout",
     "output_type": "stream",
     "text": [
      "Mean: 0.216021714296, Sharpe: 0.0978864721696, P: 12, S: 15, C: min_mean_sharpe_dd\n",
      "Reading and aggregating runs...\n",
      "Finished aggregating runs...\n"
     ]
    },
    {
     "name": "stderr",
     "output_type": "stream",
     "text": [
      "100%|██████████| 1/1 [00:19<00:00, 19.86s/it]\n",
      "  0%|          | 0/1 [00:00<?, ?it/s]"
     ]
    },
    {
     "name": "stdout",
     "output_type": "stream",
     "text": [
      "Mean: 0.220293328632, Sharpe: 0.0955889073355, P: 12, S: 15, C: mean_min\n",
      "Reading and aggregating runs...\n",
      "Finished aggregating runs...\n"
     ]
    },
    {
     "name": "stderr",
     "output_type": "stream",
     "text": [
      "100%|██████████| 1/1 [00:11<00:00, 11.81s/it]\n",
      "  0%|          | 0/1 [00:00<?, ?it/s]"
     ]
    },
    {
     "name": "stdout",
     "output_type": "stream",
     "text": [
      "Mean: 0.203991921438, Sharpe: 0.0941493888187, P: 12, S: 15, C: sharpe\n",
      "Reading and aggregating runs...\n",
      "Finished aggregating runs...\n"
     ]
    },
    {
     "name": "stderr",
     "output_type": "stream",
     "text": [
      "100%|██████████| 1/1 [00:21<00:00, 21.59s/it]\n",
      "  0%|          | 0/1 [00:00<?, ?it/s]"
     ]
    },
    {
     "name": "stdout",
     "output_type": "stream",
     "text": [
      "Mean: 0.206103012999, Sharpe: 0.090207931699, P: 12, S: 15, C: mean_dd\n",
      "Reading and aggregating runs...\n",
      "Finished aggregating runs...\n"
     ]
    },
    {
     "name": "stderr",
     "output_type": "stream",
     "text": [
      "\r",
      "100%|██████████| 1/1 [00:22<00:00, 22.02s/it]"
     ]
    },
    {
     "name": "stdout",
     "output_type": "stream",
     "text": [
      "Mean: 0.201089346199, Sharpe: 0.0949776990478, P: 12, S: 15, C: sharpe_dd\n"
     ]
    },
    {
     "name": "stderr",
     "output_type": "stream",
     "text": [
      "\n"
     ]
    }
   ],
   "source": [
    "d = dt.date(2013, 1, 1)\n",
    "\n",
    "periods = [6, 12]\n",
    "strats = [5, 10, 15]\n",
    "criteria = ['min_sharpe', 'min_mean_sharpe', 'min_mean_sharpe_dd', 'mean_min', 'sharpe', 'mean_dd', 'sharpe_dd']\n",
    "\n",
    "results = pd.DataFrame()\n",
    "\n",
    "i = 0\n",
    "for p, s, c in itertools.product(periods, strats, criteria):\n",
    "    combG = CombinationSearch()\n",
    "    combG.set_selection_criteria(c)\n",
    "    combG.params['training_epochs'] = 1\n",
    "    combG.params['training_periods'] = p\n",
    "    combG.strats_per_port = s\n",
    "    combG.add_run(runC)\n",
    "    combG.start()\n",
    "\n",
    "    rets = combG.best_results_returns.loc[d:].dropna()\n",
    "    sharpe = (rets.mean() / rets.std()).mean()\n",
    "    mean = rets.sum().mean()\n",
    "\n",
    "    print 'Mean: {}, Sharpe: {}, P: {}, S: {}, C: {}'.format(mean, sharpe, p, s, c)\n",
    "    results.loc[i, 'Periods'] = p\n",
    "    results.loc[i, 'Strats'] = s\n",
    "    results.loc[i ,'Criteria'] = c\n",
    "    results.loc[i, 'Mean'] = mean\n",
    "    results.loc[i, 'Sharpe'] = sharpe\n",
    "    results.loc[i, 'DD'] = (rets - rets.cummax()).min().mean()\n",
    "\n",
    "    i += 1"
   ]
  },
  {
   "cell_type": "code",
   "execution_count": 5,
   "metadata": {},
   "outputs": [
    {
     "data": {
      "text/html": [
       "<div>\n",
       "<style scoped>\n",
       "    .dataframe tbody tr th:only-of-type {\n",
       "        vertical-align: middle;\n",
       "    }\n",
       "\n",
       "    .dataframe tbody tr th {\n",
       "        vertical-align: top;\n",
       "    }\n",
       "\n",
       "    .dataframe thead th {\n",
       "        text-align: right;\n",
       "    }\n",
       "</style>\n",
       "<table border=\"1\" class=\"dataframe\">\n",
       "  <thead>\n",
       "    <tr style=\"text-align: right;\">\n",
       "      <th></th>\n",
       "      <th>Mean</th>\n",
       "      <th>Sharpe</th>\n",
       "      <th>DD</th>\n",
       "    </tr>\n",
       "    <tr>\n",
       "      <th>Criteria</th>\n",
       "      <th></th>\n",
       "      <th></th>\n",
       "      <th></th>\n",
       "    </tr>\n",
       "  </thead>\n",
       "  <tbody>\n",
       "    <tr>\n",
       "      <th>mean_dd</th>\n",
       "      <td>0.191084</td>\n",
       "      <td>0.078835</td>\n",
       "      <td>-0.025048</td>\n",
       "    </tr>\n",
       "    <tr>\n",
       "      <th>mean_min</th>\n",
       "      <td>0.209299</td>\n",
       "      <td>0.086830</td>\n",
       "      <td>-0.024746</td>\n",
       "    </tr>\n",
       "    <tr>\n",
       "      <th>min_mean_sharpe</th>\n",
       "      <td>0.204951</td>\n",
       "      <td>0.086548</td>\n",
       "      <td>-0.023961</td>\n",
       "    </tr>\n",
       "    <tr>\n",
       "      <th>min_mean_sharpe_dd</th>\n",
       "      <td>0.199614</td>\n",
       "      <td>0.087291</td>\n",
       "      <td>-0.023180</td>\n",
       "    </tr>\n",
       "    <tr>\n",
       "      <th>min_sharpe</th>\n",
       "      <td>0.199033</td>\n",
       "      <td>0.091954</td>\n",
       "      <td>-0.021562</td>\n",
       "    </tr>\n",
       "    <tr>\n",
       "      <th>sharpe</th>\n",
       "      <td>0.199767</td>\n",
       "      <td>0.085437</td>\n",
       "      <td>-0.025899</td>\n",
       "    </tr>\n",
       "    <tr>\n",
       "      <th>sharpe_dd</th>\n",
       "      <td>0.190010</td>\n",
       "      <td>0.086406</td>\n",
       "      <td>-0.022341</td>\n",
       "    </tr>\n",
       "  </tbody>\n",
       "</table>\n",
       "</div>"
      ],
      "text/plain": [
       "                        Mean    Sharpe        DD\n",
       "Criteria                                        \n",
       "mean_dd             0.191084  0.078835 -0.025048\n",
       "mean_min            0.209299  0.086830 -0.024746\n",
       "min_mean_sharpe     0.204951  0.086548 -0.023961\n",
       "min_mean_sharpe_dd  0.199614  0.087291 -0.023180\n",
       "min_sharpe          0.199033  0.091954 -0.021562\n",
       "sharpe              0.199767  0.085437 -0.025899\n",
       "sharpe_dd           0.190010  0.086406 -0.022341"
      ]
     },
     "execution_count": 5,
     "metadata": {},
     "output_type": "execute_result"
    }
   ],
   "source": [
    "results.groupby('Criteria')[['Mean', 'Sharpe', 'DD']].mean()"
   ]
  },
  {
   "cell_type": "code",
   "execution_count": 6,
   "metadata": {},
   "outputs": [
    {
     "name": "stderr",
     "output_type": "stream",
     "text": [
      "\r",
      "  0%|          | 0/1 [00:00<?, ?it/s]"
     ]
    },
    {
     "name": "stdout",
     "output_type": "stream",
     "text": [
      "Reading and aggregating runs...\n",
      "Finished aggregating runs...\n"
     ]
    },
    {
     "name": "stderr",
     "output_type": "stream",
     "text": [
      "100%|██████████| 1/1 [00:29<00:00, 29.77s/it]\n"
     ]
    }
   ],
   "source": [
    "combG = CombinationSearch()\n",
    "combG.set_selection_criteria('min_mean_sharpe')\n",
    "combG.params['training_epochs'] = 1\n",
    "combG.params['training_periods'] = 12\n",
    "combG.strats_per_port = 10\n",
    "combG.add_run(runC)\n",
    "combG.start()"
   ]
  },
  {
   "cell_type": "code",
   "execution_count": 7,
   "metadata": {},
   "outputs": [
    {
     "data": {
      "image/png": "[encoded data removed]",
      "text/plain": [
       "<matplotlib.figure.Figure at 0x7fd766d28b50>"
      ]
     },
     "metadata": {},
     "output_type": "display_data"
    }
   ],
   "source": [
    "plt.figure()\n",
    "plt.plot(combG.best_results_returns.cumsum())\n",
    "plt.show()"
   ]
  },
  {
   "cell_type": "code",
   "execution_count": 9,
   "metadata": {},
   "outputs": [
    {
     "data": {
      "text/html": [
       "<div>\n",
       "<style scoped>\n",
       "    .dataframe tbody tr th:only-of-type {\n",
       "        vertical-align: middle;\n",
       "    }\n",
       "\n",
       "    .dataframe tbody tr th {\n",
       "        vertical-align: top;\n",
       "    }\n",
       "\n",
       "    .dataframe thead th {\n",
       "        text-align: right;\n",
       "    }\n",
       "</style>\n",
       "<table border=\"1\" class=\"dataframe\">\n",
       "  <thead>\n",
       "    <tr style=\"text-align: right;\">\n",
       "      <th>Qtr</th>\n",
       "      <th>1</th>\n",
       "      <th>2</th>\n",
       "      <th>3</th>\n",
       "      <th>4</th>\n",
       "      <th>year</th>\n",
       "    </tr>\n",
       "    <tr>\n",
       "      <th>Year</th>\n",
       "      <th></th>\n",
       "      <th></th>\n",
       "      <th></th>\n",
       "      <th></th>\n",
       "      <th></th>\n",
       "    </tr>\n",
       "  </thead>\n",
       "  <tbody>\n",
       "    <tr>\n",
       "      <th>2009</th>\n",
       "      <td>0.000000</td>\n",
       "      <td>0.000000</td>\n",
       "      <td>0.000000</td>\n",
       "      <td>0.000000</td>\n",
       "      <td>0.000000</td>\n",
       "    </tr>\n",
       "    <tr>\n",
       "      <th>2010</th>\n",
       "      <td>-0.019015</td>\n",
       "      <td>0.018243</td>\n",
       "      <td>0.003335</td>\n",
       "      <td>0.010224</td>\n",
       "      <td>0.012787</td>\n",
       "    </tr>\n",
       "    <tr>\n",
       "      <th>2011</th>\n",
       "      <td>0.017542</td>\n",
       "      <td>0.005751</td>\n",
       "      <td>0.013151</td>\n",
       "      <td>0.008162</td>\n",
       "      <td>0.044606</td>\n",
       "    </tr>\n",
       "    <tr>\n",
       "      <th>2012</th>\n",
       "      <td>0.012116</td>\n",
       "      <td>0.015583</td>\n",
       "      <td>0.005259</td>\n",
       "      <td>0.024065</td>\n",
       "      <td>0.057023</td>\n",
       "    </tr>\n",
       "    <tr>\n",
       "      <th>2013</th>\n",
       "      <td>0.010542</td>\n",
       "      <td>0.004651</td>\n",
       "      <td>0.020452</td>\n",
       "      <td>0.039345</td>\n",
       "      <td>0.074990</td>\n",
       "    </tr>\n",
       "    <tr>\n",
       "      <th>2014</th>\n",
       "      <td>0.024213</td>\n",
       "      <td>0.037975</td>\n",
       "      <td>-0.009288</td>\n",
       "      <td>0.009098</td>\n",
       "      <td>0.061999</td>\n",
       "    </tr>\n",
       "    <tr>\n",
       "      <th>2015</th>\n",
       "      <td>0.018920</td>\n",
       "      <td>0.011350</td>\n",
       "      <td>0.002414</td>\n",
       "      <td>-0.001477</td>\n",
       "      <td>0.031208</td>\n",
       "    </tr>\n",
       "    <tr>\n",
       "      <th>2016</th>\n",
       "      <td>0.026504</td>\n",
       "      <td>-0.008087</td>\n",
       "      <td>0.013018</td>\n",
       "      <td>0.005872</td>\n",
       "      <td>0.037307</td>\n",
       "    </tr>\n",
       "    <tr>\n",
       "      <th>2017</th>\n",
       "      <td>0.003311</td>\n",
       "      <td>NaN</td>\n",
       "      <td>NaN</td>\n",
       "      <td>NaN</td>\n",
       "      <td>0.003311</td>\n",
       "    </tr>\n",
       "  </tbody>\n",
       "</table>\n",
       "</div>"
      ],
      "text/plain": [
       "Qtr          1         2         3         4      year\n",
       "Year                                                  \n",
       "2009  0.000000  0.000000  0.000000  0.000000  0.000000\n",
       "2010 -0.019015  0.018243  0.003335  0.010224  0.012787\n",
       "2011  0.017542  0.005751  0.013151  0.008162  0.044606\n",
       "2012  0.012116  0.015583  0.005259  0.024065  0.057023\n",
       "2013  0.010542  0.004651  0.020452  0.039345  0.074990\n",
       "2014  0.024213  0.037975 -0.009288  0.009098  0.061999\n",
       "2015  0.018920  0.011350  0.002414 -0.001477  0.031208\n",
       "2016  0.026504 -0.008087  0.013018  0.005872  0.037307\n",
       "2017  0.003311       NaN       NaN       NaN  0.003311"
      ]
     },
     "execution_count": 9,
     "metadata": {},
     "output_type": "execute_result"
    }
   ],
   "source": [
    "df = rollup_returns(combG.best_results_returns)\n",
    "df['year'] = df.sum(axis=1)\n",
    "df"
   ]
  },
  {
   "cell_type": "code",
   "execution_count": null,
   "metadata": {
    "collapsed": true
   },
   "outputs": [],
   "source": []
  }
 ],
 "metadata": {
  "kernelspec": {
   "display_name": "Python 2",
   "language": "python",
   "name": "python2"
  },
  "language_info": {
   "codemirror_mode": {
    "name": "ipython",
    "version": 2
   },
   "file_extension": ".py",
   "mimetype": "text/x-python",
   "name": "python",
   "nbconvert_exporter": "python",
   "pygments_lexer": "ipython2",
   "version": "2.7.13"
  }
 },
 "nbformat": 4,
 "nbformat_minor": 2
}
