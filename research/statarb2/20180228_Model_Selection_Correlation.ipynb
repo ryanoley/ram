{
 "cells": [
  {
   "cell_type": "markdown",
   "metadata": {},
   "source": [
    "# Description\n",
    "\n",
    "After all the simulation has been completed, the idea is to do model selection by first sorting on the correlation between two columns (lower correlation is better), and then sorting based on returns (high returns are better). This is to promote feature/routine/random seed diversity, while also not sacrificing returns.\n",
    "\n",
    "It is benchmarked against the ComboSearch method."
   ]
  },
  {
   "cell_type": "code",
   "execution_count": 3,
   "metadata": {},
   "outputs": [],
   "source": [
    "%matplotlib inline\n",
    "\n",
    "import numpy as np\n",
    "import pandas as pd\n",
    "import datetime as dt\n",
    "import matplotlib.pyplot as plt\n",
    "\n",
    "from ram.analysis.run_manager import RunManagerGCP\n",
    "from ram.analysis.combo_search import CombinationSearch\n",
    "from ram.analysis.statistics import get_stats, rollup_returns"
   ]
  },
  {
   "cell_type": "code",
   "execution_count": 4,
   "metadata": {},
   "outputs": [
    {
     "data": {
      "text/html": [
       "<div>\n",
       "<table border=\"1\" class=\"dataframe\">\n",
       "  <thead>\n",
       "    <tr style=\"text-align: right;\">\n",
       "      <th></th>\n",
       "      <th>Run</th>\n",
       "      <th>RunDate</th>\n",
       "      <th>Completed</th>\n",
       "      <th>Description</th>\n",
       "      <th>Starred</th>\n",
       "    </tr>\n",
       "  </thead>\n",
       "  <tbody>\n",
       "    <tr>\n",
       "      <th>0</th>\n",
       "      <td>run_0001</td>\n",
       "      <td>2018-02-15</td>\n",
       "      <td>True</td>\n",
       "      <td>Smart factor, sector 20</td>\n",
       "      <td></td>\n",
       "    </tr>\n",
       "    <tr>\n",
       "      <th>1</th>\n",
       "      <td>run_0002</td>\n",
       "      <td>2018-02-15</td>\n",
       "      <td>True</td>\n",
       "      <td>Smart factor, all sectors</td>\n",
       "      <td></td>\n",
       "    </tr>\n",
       "    <tr>\n",
       "      <th>2</th>\n",
       "      <td>run_0003</td>\n",
       "      <td>2018-02-22</td>\n",
       "      <td>True</td>\n",
       "      <td>New run with smart factor, sector 20</td>\n",
       "      <td></td>\n",
       "    </tr>\n",
       "    <tr>\n",
       "      <th>3</th>\n",
       "      <td>run_0004</td>\n",
       "      <td>2018-02-20</td>\n",
       "      <td>False</td>\n",
       "      <td>New run with smart factor, sector 25</td>\n",
       "      <td></td>\n",
       "    </tr>\n",
       "    <tr>\n",
       "      <th>4</th>\n",
       "      <td>run_0005</td>\n",
       "      <td>2018-02-20</td>\n",
       "      <td>False</td>\n",
       "      <td>New run with smart factor, sector 45</td>\n",
       "      <td></td>\n",
       "    </tr>\n",
       "    <tr>\n",
       "      <th>5</th>\n",
       "      <td>run_0007</td>\n",
       "      <td>2018-02-23</td>\n",
       "      <td>True</td>\n",
       "      <td>Sector 20, new params, more features for sort</td>\n",
       "      <td></td>\n",
       "    </tr>\n",
       "    <tr>\n",
       "      <th>6</th>\n",
       "      <td>run_0009</td>\n",
       "      <td>2018-02-24</td>\n",
       "      <td>True</td>\n",
       "      <td>Bayes, Sector 20</td>\n",
       "      <td></td>\n",
       "    </tr>\n",
       "    <tr>\n",
       "      <th>7</th>\n",
       "      <td>run_0012</td>\n",
       "      <td>2018-02-28</td>\n",
       "      <td>True</td>\n",
       "      <td>Sector20, mult</td>\n",
       "      <td></td>\n",
       "    </tr>\n",
       "  </tbody>\n",
       "</table>\n",
       "</div>"
      ],
      "text/plain": [
       "        Run     RunDate Completed  \\\n",
       "0  run_0001  2018-02-15      True   \n",
       "1  run_0002  2018-02-15      True   \n",
       "2  run_0003  2018-02-22      True   \n",
       "3  run_0004  2018-02-20     False   \n",
       "4  run_0005  2018-02-20     False   \n",
       "5  run_0007  2018-02-23      True   \n",
       "6  run_0009  2018-02-24      True   \n",
       "7  run_0012  2018-02-28      True   \n",
       "\n",
       "                                     Description Starred  \n",
       "0                        Smart factor, sector 20          \n",
       "1                      Smart factor, all sectors          \n",
       "2           New run with smart factor, sector 20          \n",
       "3           New run with smart factor, sector 25          \n",
       "4           New run with smart factor, sector 45          \n",
       "5  Sector 20, new params, more features for sort          \n",
       "6                               Bayes, Sector 20          \n",
       "7                                 Sector20, mult          "
      ]
     },
     "execution_count": 4,
     "metadata": {},
     "output_type": "execute_result"
    }
   ],
   "source": [
    "RunManagerGCP.get_run_names('StatArbStrategy2')"
   ]
  },
  {
   "cell_type": "code",
   "execution_count": 5,
   "metadata": {},
   "outputs": [
    {
     "name": "stderr",
     "output_type": "stream",
     "text": [
      "\r",
      "  0%|          | 0/1 [00:00<?, ?it/s]"
     ]
    },
    {
     "name": "stdout",
     "output_type": "stream",
     "text": [
      "Reading and aggregating runs...\n"
     ]
    },
    {
     "name": "stderr",
     "output_type": "stream",
     "text": [
      "100%|██████████| 1/1 [00:32<00:00, 32.55s/it]\n",
      "  0%|          | 0/10 [00:00<?, ?it/s]"
     ]
    },
    {
     "name": "stdout",
     "output_type": "stream",
     "text": [
      "Finished aggregating runs...\n"
     ]
    },
    {
     "name": "stderr",
     "output_type": "stream",
     "text": [
      "100%|██████████| 10/10 [01:23<00:00,  8.38s/it]\n"
     ]
    }
   ],
   "source": [
    "run1 = RunManagerGCP('StatArbStrategy2', 'run_0007')\n",
    "\n",
    "comb1 = CombinationSearch()\n",
    "comb1.add_run(run1)\n",
    "comb1.start(10, 'mean')"
   ]
  },
  {
   "cell_type": "code",
   "execution_count": 6,
   "metadata": {},
   "outputs": [
    {
     "data": {
      "image/png": "[encoded data removed]",
      "text/plain": [
       "<matplotlib.figure.Figure at 0x7f85586dd8d0>"
      ]
     },
     "metadata": {},
     "output_type": "display_data"
    }
   ],
   "source": [
    "plt.figure()\n",
    "plt.plot(comb1.best_results_rets.dropna().cumsum())\n",
    "plt.show()"
   ]
  },
  {
   "cell_type": "markdown",
   "metadata": {},
   "source": [
    "#### Correlation Implementation"
   ]
  },
  {
   "cell_type": "code",
   "execution_count": 9,
   "metadata": {
    "collapsed": true
   },
   "outputs": [],
   "source": [
    "def create_uncorrelated_portfolio_returns(train_dates, test_dates, returns, corr_filter_val=0.05):\n",
    "    \"\"\"\n",
    "    Parameters\n",
    "    ----------\n",
    "    train_dates/test_dates : list/array\n",
    "        Dates for specific period. Dates should not overlap\n",
    "    returns : pd.DataFrame\n",
    "        This has dates in the index, and models in the columns. Data should be returns\n",
    "    corr_filter_val : float\n",
    "        Percentage of the combinations of columns should be kept\n",
    "\n",
    "    Returns\n",
    "    -------\n",
    "    test_returns : pd.Series\n",
    "    \"\"\"\n",
    "    train = returns.loc[train_dates]\n",
    "    test = returns.loc[test_dates]\n",
    "\n",
    "    # Get ABS correlations and filter redundant information\n",
    "    correlations = train.corr().abs().unstack().reset_index()\n",
    "    correlations.columns = ['ColA', 'ColB', 'Correlation']\n",
    "    correlations.ColA = correlations.ColA.astype(int)\n",
    "    correlations.ColB = correlations.ColB.astype(int)\n",
    "    correlations = correlations[correlations.ColA < correlations.ColB]\n",
    "\n",
    "    # Filter by correlation rank (from hyperparameter)\n",
    "    correlations['CorrRank'] = correlations.Correlation.rank(pct=True)\n",
    "    correlations = correlations.sort_values('CorrRank')\n",
    "    correlations = correlations[correlations.CorrRank < corr_filter_val]\n",
    "\n",
    "    # Create combined returns by taking simple average for every day\n",
    "    R1 = train.iloc[:, correlations.ColA].values\n",
    "    R2 = train.iloc[:, correlations.ColB].values\n",
    "    correlations.loc[:, 'Rets'] = ((R1 + R2) / 2.).sum(axis=0)\n",
    "\n",
    "    # Rank and sort by return\n",
    "    correlations['RetsRank'] = correlations.Rets.rank(pct=True)\n",
    "    correlations = correlations.sort_values('RetsRank', ascending=False)\n",
    "\n",
    "    # Get a set of the top 5 (avoids doubling up on a single strategy)\n",
    "    n_cols = 5\n",
    "    top_columns = set(correlations.ColA.iloc[:n_cols]).union(correlations.ColB.iloc[:n_cols])\n",
    "\n",
    "    # Combines all the selected columns into pd.Series\n",
    "    return test.iloc[:, list(top_columns)].mean(axis=1)"
   ]
  },
  {
   "cell_type": "code",
   "execution_count": 10,
   "metadata": {
    "collapsed": true
   },
   "outputs": [],
   "source": [
    "def iterate_portfolio_selection(returns, start_index=300, test_period_len=10, growing_training_set=True,\n",
    "                                corr_filter_val=0.05):\n",
    "    \"\"\"\n",
    "    Parameters\n",
    "    ----------\n",
    "    returns : pd.DataFrame\n",
    "        This has dates in the index, and models in the columns. Data should be returns\n",
    "    start_index : int\n",
    "        Number of trading days in initial optimization\n",
    "    test_period_len : int\n",
    "        Number of trading days until re-optimization\n",
    "    growing_training_set : bool\n",
    "        If false, the training set will be of length `start_index`\n",
    "    corr_filter_val : float\n",
    "        Percentage of the combinations of columns should be kept\n",
    "    \"\"\"\n",
    "    all_dates = returns.index\n",
    "\n",
    "    output = pd.Series()\n",
    "\n",
    "    # Indexes for getting dates\n",
    "    i1 = start_index\n",
    "    i2 = i1 + test_period_len\n",
    "\n",
    "    while True:\n",
    "        # Get dates for function\n",
    "        train_dates = all_dates[:i1]\n",
    "        test_dates = all_dates[i1:i2]\n",
    "\n",
    "        # Trim training date length if specified\n",
    "        if not growing_training_set:\n",
    "            train_dates = train_dates[-start_index:]\n",
    "\n",
    "        period_rets = create_uncorrelated_portfolio_returns(train_dates, \n",
    "                                                            test_dates, \n",
    "                                                            returns, \n",
    "                                                            corr_filter_val=corr_filter_val)\n",
    "\n",
    "        output = output.append(period_rets)\n",
    "\n",
    "        i1 = int(i2)\n",
    "        i2 = i2 + test_period_len\n",
    "\n",
    "        if x1 >= len(all_dates):\n",
    "            break\n",
    "\n",
    "    return output"
   ]
  },
  {
   "cell_type": "code",
   "execution_count": 11,
   "metadata": {},
   "outputs": [
    {
     "ename": "NameError",
     "evalue": "global name 'x1' is not defined",
     "output_type": "error",
     "traceback": [
      "\u001b[0;31m---------------------------------------------------------------------------\u001b[0m",
      "\u001b[0;31mNameError\u001b[0m                                 Traceback (most recent call last)",
      "\u001b[0;32m<ipython-input-11-5ae0276ecb3a>\u001b[0m in \u001b[0;36m<module>\u001b[0;34m()\u001b[0m\n\u001b[1;32m      2\u001b[0m \u001b[0;34m\u001b[0m\u001b[0m\n\u001b[1;32m      3\u001b[0m rets1 = iterate_portfolio_selection(returns, start_index=300, test_period_len=10, \n\u001b[0;32m----> 4\u001b[0;31m                                     growing_training_set=True, corr_filter_val=0.05)\n\u001b[0m",
      "\u001b[0;32m<ipython-input-10-0c4288a3e9b0>\u001b[0m in \u001b[0;36miterate_portfolio_selection\u001b[0;34m(returns, start_index, test_period_len, growing_training_set, corr_filter_val)\u001b[0m\n\u001b[1;32m     42\u001b[0m         \u001b[0mi2\u001b[0m \u001b[0;34m=\u001b[0m \u001b[0mi2\u001b[0m \u001b[0;34m+\u001b[0m \u001b[0mtest_period_len\u001b[0m\u001b[0;34m\u001b[0m\u001b[0m\n\u001b[1;32m     43\u001b[0m \u001b[0;34m\u001b[0m\u001b[0m\n\u001b[0;32m---> 44\u001b[0;31m         \u001b[0;32mif\u001b[0m \u001b[0mx1\u001b[0m \u001b[0;34m>=\u001b[0m \u001b[0mlen\u001b[0m\u001b[0;34m(\u001b[0m\u001b[0mall_dates\u001b[0m\u001b[0;34m)\u001b[0m\u001b[0;34m:\u001b[0m\u001b[0;34m\u001b[0m\u001b[0m\n\u001b[0m\u001b[1;32m     45\u001b[0m             \u001b[0;32mbreak\u001b[0m\u001b[0;34m\u001b[0m\u001b[0m\n\u001b[1;32m     46\u001b[0m \u001b[0;34m\u001b[0m\u001b[0m\n",
      "\u001b[0;31mNameError\u001b[0m: global name 'x1' is not defined"
     ]
    }
   ],
   "source": [
    "returns = run1.returns.copy()\n",
    "\n",
    "rets1 = iterate_portfolio_selection(returns, start_index=300, test_period_len=10, \n",
    "                                    growing_training_set=True, corr_filter_val=0.05)"
   ]
  },
  {
   "cell_type": "code",
   "execution_count": null,
   "metadata": {
    "collapsed": true
   },
   "outputs": [],
   "source": []
  },
  {
   "cell_type": "code",
   "execution_count": null,
   "metadata": {
    "collapsed": true
   },
   "outputs": [],
   "source": []
  },
  {
   "cell_type": "markdown",
   "metadata": {},
   "source": [
    "# Conclusion"
   ]
  },
  {
   "cell_type": "code",
   "execution_count": null,
   "metadata": {
    "collapsed": true
   },
   "outputs": [],
   "source": []
  }
 ],
 "metadata": {
  "kernelspec": {
   "display_name": "Python 2",
   "language": "python",
   "name": "python2"
  },
  "language_info": {
   "codemirror_mode": {
    "name": "ipython",
    "version": 2
   },
   "file_extension": ".py",
   "mimetype": "text/x-python",
   "name": "python",
   "nbconvert_exporter": "python",
   "pygments_lexer": "ipython2",
   "version": "2.7.13"
  }
 },
 "nbformat": 4,
 "nbformat_minor": 2
}
